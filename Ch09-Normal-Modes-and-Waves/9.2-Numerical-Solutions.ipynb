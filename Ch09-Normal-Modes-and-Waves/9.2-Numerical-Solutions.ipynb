{
 "cells": [
  {
   "cell_type": "code",
   "execution_count": 236,
   "metadata": {},
   "outputs": [],
   "source": [
    "import numpy as np\n",
    "import matplotlib.pyplot as plt\n",
    "import pandas as pd\n",
    "from ipywidgets import interact"
   ]
  },
  {
   "cell_type": "markdown",
   "metadata": {},
   "source": [
    "## 9.1 Coupled Oscillators and Normal Modes"
   ]
  },
  {
   "cell_type": "markdown",
   "metadata": {},
   "source": [
    "One-dimensional chain of $N$ particles each of mass $m$. Particles coupled with massless springs with force constant $k$. The equilibrium separation between particles is $a$."
   ]
  },
  {
   "cell_type": "markdown",
   "metadata": {},
   "source": [
    "$$ m \\frac{d^2u_j(t)}{dt^2} = -k \\left[ 2 u_j(t) - u_{j+1}(t) - u_{j-1}(t) \\right]$$"
   ]
  },
  {
   "cell_type": "markdown",
   "metadata": {},
   "source": [
    "See textbook to understand how this model is derived and review analytical solution in terms of normal modes."
   ]
  },
  {
   "cell_type": "markdown",
   "metadata": {},
   "source": []
  },
  {
   "cell_type": "code",
   "execution_count": 457,
   "metadata": {},
   "outputs": [],
   "source": [
    "k = 1\n",
    "m = 1"
   ]
  },
  {
   "cell_type": "code",
   "execution_count": 458,
   "metadata": {},
   "outputs": [],
   "source": [
    "N = 2\n",
    "L = 1\n",
    "a = L/(N+1)\n",
    "\n",
    "q = lambda n: (np.pi * n) / (a *(N+1))\n",
    "ω = lambda n: 2 * np.sqrt(k/m) * np.abs(np.sin(q(n)*a/2))\n",
    "C = np.sqrt(2 / (N+1))"
   ]
  },
  {
   "cell_type": "code",
   "execution_count": 459,
   "metadata": {},
   "outputs": [],
   "source": [
    "u0 = np.zeros(N+2)\n",
    "v0 = np.zeros(N+2)\n",
    "\n",
    "u0[1] = 1\n",
    "u0[2] = -1\n",
    "v0[1] = 0"
   ]
  },
  {
   "cell_type": "code",
   "execution_count": 460,
   "metadata": {},
   "outputs": [],
   "source": [
    "def A(n):\n",
    "    sum = 0\n",
    "    for j in range(1,N+1):\n",
    "        sum += u0[j]*np.sin(q(n)*j*a)\n",
    "    return C*sum\n",
    "\n",
    "def B(n):\n",
    "    sum = 0\n",
    "    for j in range(1,N+1):\n",
    "        sum += v0[j]/ω(n)*np.sin(q(n)*j*a)\n",
    "    return C*sum\n",
    "\n",
    "def u(j, t):\n",
    "    sum = 0\n",
    "    for n in range(1, N+1):\n",
    "        sum += (A(n)*np.cos(ω(n)*t) + B(n)*np.sin(ω(n)*t))*np.sin(q(n)*j*a)\n",
    "    return C*sum"
   ]
  },
  {
   "cell_type": "code",
   "execution_count": 461,
   "metadata": {},
   "outputs": [],
   "source": [
    "J = np.arange(N+2)\n",
    "x = a*J"
   ]
  },
  {
   "cell_type": "code",
   "execution_count": 463,
   "metadata": {},
   "outputs": [
    {
     "data": {
      "application/vnd.jupyter.widget-view+json": {
       "model_id": "cec7014296a44a49b4707fe19328641d",
       "version_major": 2,
       "version_minor": 0
      },
      "text/plain": [
       "interactive(children=(FloatSlider(value=0.0, description='t', max=10.0), Output()), _dom_classes=('widget-inte…"
      ]
     },
     "metadata": {},
     "output_type": "display_data"
    }
   ],
   "source": [
    "@interact(t=(0, 10, 0.1))\n",
    "def plot(t=0):\n",
    "    plt.plot(x, u(J, t), 'o-')\n",
    "    plt.plot(x, u0, '--')\n",
    "\n",
    "    plt.ylim(-1, 1)"
   ]
  },
  {
   "cell_type": "markdown",
   "metadata": {},
   "source": [
    "## 9.2 Numerical Solutions"
   ]
  },
  {
   "cell_type": "markdown",
   "metadata": {},
   "source": [
    "Recall that a generic form for an initial value problem (IVP) can be written as:\n",
    "\n",
    "$$\\begin{align}\n",
    "\\frac{d y}{dt} &= f(t, y) \\\\\n",
    "y(t_0) &= y_0\n",
    "\\end{align}\n",
    "$$"
   ]
  },
  {
   "cell_type": "markdown",
   "metadata": {},
   "source": [
    "## Example 1"
   ]
  },
  {
   "cell_type": "markdown",
   "metadata": {},
   "source": [
    "As a basic example, suppose\n",
    "\n",
    "$$\\begin{align}\n",
    "\\frac{d y}{dt} &= y \\\\\n",
    "y(0) &= 1\n",
    "\\end{align}\n",
    "$$\n",
    "\n",
    "that is, $f(t, y) = y$ and $t_0 = 0$, then we may recognize that the analytical solution is\n",
    "\n",
    "\n",
    "$$ y(t) = e^t$$"
   ]
  },
  {
   "cell_type": "markdown",
   "metadata": {},
   "source": [
    "The Python library `scipy` comes with a suite of numerical solvers.\n",
    "\n",
    "> See SciPy Reference for `scipy.integrate.solve_ivp()`"
   ]
  },
  {
   "cell_type": "code",
   "execution_count": 464,
   "metadata": {},
   "outputs": [],
   "source": [
    "from scipy.integrate import solve_ivp"
   ]
  },
  {
   "cell_type": "code",
   "execution_count": 465,
   "metadata": {},
   "outputs": [],
   "source": [
    "def f(t, y):\n",
    "    return y\n",
    "\n",
    "t = np.arange(0, 3.0, 0.1)\n",
    "\n",
    "sol = solve_ivp(f,        # fun: callable\n",
    "                [0, 3],   # t_span: 2-tuple of floats\n",
    "                [1],      # y0: array_like, shape (n,)\n",
    "                t_eval=t,        # t_eval: array_like or None, optional        \n",
    "               )"
   ]
  },
  {
   "cell_type": "code",
   "execution_count": 466,
   "metadata": {},
   "outputs": [
    {
     "data": {
      "text/plain": [
       "  message: 'The solver successfully reached the end of the integration interval.'\n",
       "     nfev: 26\n",
       "     njev: 0\n",
       "      nlu: 0\n",
       "      sol: None\n",
       "   status: 0\n",
       "  success: True\n",
       "        t: array([0. , 0.1, 0.2, 0.3, 0.4, 0.5, 0.6, 0.7, 0.8, 0.9, 1. , 1.1, 1.2,\n",
       "       1.3, 1.4, 1.5, 1.6, 1.7, 1.8, 1.9, 2. , 2.1, 2.2, 2.3, 2.4, 2.5,\n",
       "       2.6, 2.7, 2.8, 2.9])\n",
       " t_events: None\n",
       "        y: array([[ 1.        ,  1.10517092,  1.22143377,  1.34992484,  1.49188296,\n",
       "         1.64872543,  1.82204806,  2.01362513,  2.2254094 ,  2.45953214,\n",
       "         2.71830307,  3.00424885,  3.32044662,  3.66982068,  4.05565203,\n",
       "         4.48175534,  4.95247897,  5.47270492,  6.04784884,  6.68386009,\n",
       "         7.38722166,  8.16495021,  9.02459606,  9.97424321, 11.02334191,\n",
       "        12.18275049, 13.46393845, 14.87980129, 16.44466191, 18.1742707 ]])\n",
       " y_events: None"
      ]
     },
     "execution_count": 466,
     "metadata": {},
     "output_type": "execute_result"
    }
   ],
   "source": [
    "sol"
   ]
  },
  {
   "cell_type": "code",
   "execution_count": 467,
   "metadata": {},
   "outputs": [
    {
     "data": {
      "image/png": "[encoded data removed]",
      "text/plain": [
       "<Figure size 432x288 with 1 Axes>"
      ]
     },
     "metadata": {
      "needs_background": "light"
     },
     "output_type": "display_data"
    }
   ],
   "source": [
    "plt.plot(sol.t, sol.y[0], 'o')\n",
    "plt.plot(t, np.exp(t))\n",
    "plt.xlabel('t')\n",
    "plt.ylabel('y')\n",
    "plt.show()"
   ]
  },
  {
   "cell_type": "markdown",
   "metadata": {},
   "source": [
    "### Example 2"
   ]
  },
  {
   "cell_type": "markdown",
   "metadata": {},
   "source": [
    "We an also solve a system of ordinary differential equations.  For example the Lotka-Volerra equations (a model predator-prey population dynamics),\n",
    "\n",
    "$$ \\begin{align}\n",
    "\\frac{d x}{dt} &= a x - b x y \\\\\n",
    "\\frac{d y}{dt} &= -c x + d x y\n",
    "\\end{align} $$\n",
    "\n",
    "where $a=1.5$, $b=1$, $c=3$, and $d=1$.\n",
    "\n",
    "Here, the *state* is the vector $\\vec{z} = (x, y)$.\n"
   ]
  },
  {
   "cell_type": "code",
   "execution_count": 468,
   "metadata": {},
   "outputs": [],
   "source": [
    "def lotkavolterra(t, z, a, b, c, d):\n",
    "    \n",
    "    x, y = z  # unpacking state vector\n",
    "    \n",
    "    dxdt = a*x - b*x*y\n",
    "    dydt = -c*y + d*x*y\n",
    "    \n",
    "    return [dxdt, dydt]"
   ]
  },
  {
   "cell_type": "code",
   "execution_count": 469,
   "metadata": {},
   "outputs": [],
   "source": [
    "sol = solve_ivp(lotkavolterra,         # fun\n",
    "                [0, 15],               # t_span\n",
    "                [10, 5],               # y0 \n",
    "                args=(1.5, 1, 3, 1),   # arguments\n",
    "                dense_output=True      # return a continuous function\n",
    "               )    "
   ]
  },
  {
   "cell_type": "code",
   "execution_count": 470,
   "metadata": {},
   "outputs": [
    {
     "data": {
      "text/plain": [
       "  message: 'The solver successfully reached the end of the integration interval.'\n",
       "     nfev: 470\n",
       "     njev: 0\n",
       "      nlu: 0\n",
       "      sol: <scipy.integrate._ivp.common.OdeSolution object at 0x11afbbf10>\n",
       "   status: 0\n",
       "  success: True\n",
       "        t: array([ 0.        ,  0.05573717,  0.20079817,  0.34290464,  0.49324333,\n",
       "        0.71327321,  0.96769484,  1.3310762 ,  1.66297332,  2.01584196,\n",
       "        2.39785934,  2.86334175,  3.42577701,  3.75497984,  3.99154881,\n",
       "        4.21914842,  4.31236716,  4.4055859 ,  4.58646786,  4.75225717,\n",
       "        4.91203619,  5.15218572,  5.4826018 ,  5.81145913,  6.15484299,\n",
       "        6.51826717,  6.92707802,  7.47819674,  7.90122886,  8.21339516,\n",
       "        8.43659215,  8.64507275,  8.79867076,  8.95226876,  9.10838041,\n",
       "        9.3028147 ,  9.54701784,  9.87311478, 10.19921173, 10.54490389,\n",
       "       10.91207689, 11.33136536, 11.89933709, 12.30230554, 12.56778348,\n",
       "       12.79738185, 12.96717881, 13.13697577, 13.21014924, 13.2833227 ,\n",
       "       13.43978039, 13.61928959, 13.85955589, 14.21677409, 14.54206405,\n",
       "       14.88741625, 15.        ])\n",
       " t_events: None\n",
       "        y: array([[10.        ,  7.78740606,  2.76135968,  0.97774261,  0.45238182,\n",
       "         0.25237031,  0.21257877,  0.26101804,  0.38093759,  0.61383111,\n",
       "         1.06323728,  2.10960342,  4.85115451,  7.84624237, 10.79533468,\n",
       "        12.17813512, 10.04264376,  6.19849376,  1.58426536,  0.56158338,\n",
       "         0.31265069,  0.21614665,  0.22415298,  0.30530179,  0.47259043,\n",
       "         0.78789331,  1.43098172,  3.23447624,  6.04363437,  9.44909467,\n",
       "        12.1687609 ,  9.9052604 ,  3.81247415,  1.16366956,  0.48173446,\n",
       "         0.26379531,  0.20483401,  0.22897256,  0.32021683,  0.50317388,\n",
       "         0.84768843,  1.5670597 ,  3.63528484,  6.58932958,  9.6179843 ,\n",
       "        12.37117738, 10.79483895,  4.04769057,  2.25728794,  1.30108528,\n",
       "         0.51369391,  0.27961758,  0.20574488,  0.22718664,  0.3169509 ,\n",
       "         0.49745866,  0.58202137],\n",
       "       [ 5.        ,  6.95805318,  9.33337999,  7.76818002,  5.46932195,\n",
       "         3.03810621,  1.49921506,  0.54780242,  0.22473381,  0.09260487,\n",
       "         0.04023557,  0.02028578,  0.02393048,  0.06948287,  0.30729993,\n",
       "         2.32248121,  5.04238887,  8.16116221,  8.77689983,  6.27972257,\n",
       "         4.15403048,  2.14629019,  0.85417392,  0.34690143,  0.14117848,\n",
       "         0.05937241,  0.02706037,  0.01757086,  0.0330887 ,  0.14096229,\n",
       "         0.81806012,  5.25166647,  9.35144737,  8.31036109,  5.85641916,\n",
       "         3.49753101,  1.77580838,  0.71504193,  0.29355731,  0.11966497,\n",
       "         0.05068583,  0.02354473,  0.01735231,  0.03839595,  0.14587697,\n",
       "         0.93465637,  4.43674233,  9.35472253,  9.40060225,  8.56444993,\n",
       "         6.10239604,  3.80764913,  1.95775378,  0.72199668,  0.29682811,\n",
       "         0.12092229,  0.09165412]])\n",
       " y_events: None"
      ]
     },
     "execution_count": 470,
     "metadata": {},
     "output_type": "execute_result"
    }
   ],
   "source": [
    "sol"
   ]
  },
  {
   "cell_type": "code",
   "execution_count": 471,
   "metadata": {},
   "outputs": [
    {
     "data": {
      "image/png": "[encoded data removed]",
      "text/plain": [
       "<Figure size 432x288 with 1 Axes>"
      ]
     },
     "metadata": {
      "needs_background": "light"
     },
     "output_type": "display_data"
    }
   ],
   "source": [
    "t = np.linspace(0, 15, 300)\n",
    "\n",
    "z = sol.sol(t)\n",
    "\n",
    "plt.plot(t, z.T)\n",
    "\n",
    "plt.xlabel('t')\n",
    "plt.legend(['x', 'y'], shadow=True)\n",
    "plt.title('Lotka-Volterra System')\n",
    "plt.show()"
   ]
  },
  {
   "cell_type": "markdown",
   "metadata": {},
   "source": [
    "### Numerical solution"
   ]
  },
  {
   "cell_type": "markdown",
   "metadata": {},
   "source": [
    "Let's use `solve_ivp` to solve"
   ]
  },
  {
   "cell_type": "markdown",
   "metadata": {},
   "source": [
    "$$ m \\frac{d^2u_j(t)}{dt^2} = -k \\left[ 2 u_j(t) - u_{j+1}(t) - u_{j-1}(t) \\right]$$"
   ]
  },
  {
   "cell_type": "markdown",
   "metadata": {},
   "source": [
    "The state vector is composed of the displace of each particle $u_j$ and the derivatives (velocity) of each particle $v_j = \\frac{du_j}{dt}$."
   ]
  },
  {
   "cell_type": "markdown",
   "metadata": {},
   "source": [
    "Let the state vector of $N$ oscillators be ordered as $\\{u_0, v_0, u_1, v_1, \\ldots, u_N, v_N, u_{N+1},v_{N+1}\\}$. This include the \"particles\" attached to the walls so  $v_0 = 0$ and $v_{N+1} = 0$ always."
   ]
  },
  {
   "cell_type": "code",
   "execution_count": 526,
   "metadata": {},
   "outputs": [],
   "source": [
    "def oscillator(t, state, k, m):\n",
    "    \n",
    "    N = int(len(state)/2-2)\n",
    "\n",
    "    rate = np.zeros_like(state)\n",
    "    \n",
    "    for i in range(1, N+1):\n",
    "        rate[2*i]   = state[2*i+1]\n",
    "        rate[2*i+1] = -k/m *(2 * state[2*i] - state[2*i - 2] - state[2*i+2] )\n",
    "        \n",
    "    return rate"
   ]
  },
  {
   "cell_type": "code",
   "execution_count": 527,
   "metadata": {},
   "outputs": [],
   "source": [
    "N = 2\n",
    "L = 1"
   ]
  },
  {
   "cell_type": "code",
   "execution_count": 528,
   "metadata": {},
   "outputs": [],
   "source": [
    "a = L / (N+1)"
   ]
  },
  {
   "cell_type": "code",
   "execution_count": 529,
   "metadata": {},
   "outputs": [],
   "source": [
    "J = np.arange(N+2)\n",
    "x = a*J"
   ]
  },
  {
   "cell_type": "code",
   "execution_count": 530,
   "metadata": {},
   "outputs": [],
   "source": [
    "u0 = np.zeros(N+2)\n",
    "v0 = np.zeros(N+2)"
   ]
  },
  {
   "cell_type": "code",
   "execution_count": 539,
   "metadata": {},
   "outputs": [],
   "source": [
    "u0[1] = 1\n",
    "u0[2] = -1\n"
   ]
  },
  {
   "cell_type": "code",
   "execution_count": 532,
   "metadata": {},
   "outputs": [],
   "source": [
    "u0 = np.sin(3*np.pi/L*x)\n",
    "v0 = np.zeros(N+2)"
   ]
  },
  {
   "cell_type": "code",
   "execution_count": 540,
   "metadata": {},
   "outputs": [
    {
     "data": {
      "text/plain": [
       "array([ 0.0000000e+00,  1.0000000e+00, -1.0000000e+00,  3.6739404e-16])"
      ]
     },
     "execution_count": 540,
     "metadata": {},
     "output_type": "execute_result"
    }
   ],
   "source": [
    "u0"
   ]
  },
  {
   "cell_type": "code",
   "execution_count": 541,
   "metadata": {},
   "outputs": [
    {
     "data": {
      "text/plain": [
       "array([0., 0., 0., 0.])"
      ]
     },
     "execution_count": 541,
     "metadata": {},
     "output_type": "execute_result"
    }
   ],
   "source": [
    "v0"
   ]
  },
  {
   "cell_type": "code",
   "execution_count": 542,
   "metadata": {},
   "outputs": [],
   "source": [
    "z0 = np.ravel([u0, v0], order='F')"
   ]
  },
  {
   "cell_type": "code",
   "execution_count": 543,
   "metadata": {},
   "outputs": [],
   "source": [
    "sol = solve_ivp(oscillator,         # fun\n",
    "                [0, 20],               # t_span\n",
    "                z0,               # y0 \n",
    "                args=(1, 1),   # arguments\n",
    "                dense_output=True # return a continuous function\n",
    "               ) "
   ]
  },
  {
   "cell_type": "code",
   "execution_count": 544,
   "metadata": {},
   "outputs": [],
   "source": [
    "z = sol.sol(1)\n",
    "u = z[::2]\n",
    "v = z[1::2]"
   ]
  },
  {
   "cell_type": "code",
   "execution_count": 545,
   "metadata": {},
   "outputs": [
    {
     "data": {
      "application/vnd.jupyter.widget-view+json": {
       "model_id": "238d5d5d9c254662b75a74936b81edf8",
       "version_major": 2,
       "version_minor": 0
      },
      "text/plain": [
       "interactive(children=(FloatSlider(value=0.0, description='t', max=20.0), Output()), _dom_classes=('widget-inte…"
      ]
     },
     "metadata": {},
     "output_type": "display_data"
    }
   ],
   "source": [
    "@interact(t=(0, 20, 0.1))\n",
    "def plot(t=0):\n",
    "    z = sol.sol(t)\n",
    "    u = z[::2]\n",
    "    v = z[1::2]\n",
    "    plt.plot(x, u, 'o-')\n",
    "    plt.plot(x, u0, '--')\n",
    "    plt.xlabel('x')\n",
    "    plt.ylim(-1, 1)\n",
    "    plt.title('Oscillator')\n"
   ]
  },
  {
   "cell_type": "code",
   "execution_count": null,
   "metadata": {},
   "outputs": [],
   "source": []
  },
  {
   "cell_type": "code",
   "execution_count": 546,
   "metadata": {},
   "outputs": [],
   "source": [
    "def forced_oscillator(t, state, k, m):\n",
    "    \n",
    "    N = int(len(state)/2-2)\n",
    "\n",
    "    rate = np.zeros_like(state)\n",
    "    \n",
    "    for i in range(1, N+1):\n",
    "        rate[2*i]   = state[2*i+1]\n",
    "        rate[2*i+1] = -k/m *(2 * state[2*i] - state[2*i-2] - state[2*i+2] )\n",
    "    \n",
    "    rate[0] = 0.1*np.cos(.5*t)\n",
    "    rate[1] = -.05*np.sin(.4*t)\n",
    "    \n",
    "    return rate"
   ]
  },
  {
   "cell_type": "code",
   "execution_count": 547,
   "metadata": {},
   "outputs": [],
   "source": [
    "N=60\n",
    "a = L / (N+1)\n",
    "\n",
    "z0 = np.zeros(2*(N+2))\n",
    "J = np.arange(N+2)\n",
    "x = a*J"
   ]
  },
  {
   "cell_type": "code",
   "execution_count": 548,
   "metadata": {},
   "outputs": [],
   "source": [
    "sol = solve_ivp(forced_oscillator,         # fun\n",
    "                [0, 200],               # t_span\n",
    "                z0,               # y0 \n",
    "                args=(1, 1),   # arguments\n",
    "                dense_output=True # return a continuous function\n",
    "               ) "
   ]
  },
  {
   "cell_type": "code",
   "execution_count": 549,
   "metadata": {},
   "outputs": [
    {
     "data": {
      "application/vnd.jupyter.widget-view+json": {
       "model_id": "a289fb2e359948439f649f01a4396223",
       "version_major": 2,
       "version_minor": 0
      },
      "text/plain": [
       "interactive(children=(FloatSlider(value=0.0, description='t', max=200.0, step=0.5), Output()), _dom_classes=('…"
      ]
     },
     "metadata": {},
     "output_type": "display_data"
    }
   ],
   "source": [
    "@interact(t=(0, 200, 0.5))\n",
    "def plot(t=0):\n",
    "    z = sol.sol(t)\n",
    "    u = z[::2]\n",
    "    v = z[1::2]\n",
    "    plt.plot(x, u, 'o-')\n",
    "    plt.xlabel('x')\n",
    "    plt.ylim(-1, 1)\n",
    "    plt.title('Forced Oscillator')\n"
   ]
  },
  {
   "cell_type": "code",
   "execution_count": null,
   "metadata": {},
   "outputs": [],
   "source": []
  }
 ],
 "metadata": {
  "kernelspec": {
   "display_name": "Python 3",
   "language": "python",
   "name": "python3"
  },
  "language_info": {
   "codemirror_mode": {
    "name": "ipython",
    "version": 3
   },
   "file_extension": ".py",
   "mimetype": "text/x-python",
   "name": "python",
   "nbconvert_exporter": "python",
   "pygments_lexer": "ipython3",
   "version": "3.8.1"
  }
 },
 "nbformat": 4,
 "nbformat_minor": 4
}
