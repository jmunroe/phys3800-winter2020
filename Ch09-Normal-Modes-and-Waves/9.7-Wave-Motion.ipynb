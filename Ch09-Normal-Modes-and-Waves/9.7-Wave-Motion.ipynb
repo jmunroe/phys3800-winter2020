{
 "cells": [
  {
   "cell_type": "code",
   "execution_count": 3,
   "metadata": {},
   "outputs": [],
   "source": [
    "import numpy as np\n",
    "import matplotlib.pyplot as plt\n",
    "from scipy.integrate import solve_ivp\n",
    "from ipywidgets import interact"
   ]
  },
  {
   "cell_type": "markdown",
   "metadata": {},
   "source": [
    "One-dimensional chain of $N$ particles each of mass $m$. Particles coupled with massless springs with force constant $k$. The equilibrium separation between particles is $a$."
   ]
  },
  {
   "cell_type": "markdown",
   "metadata": {},
   "source": [
    "$$ m \\frac{d^2u_j(t)}{dt^2} = - k \\left[ 2 u_j(t) - u_{j+1}(t) - u_{j-1}(t) \\right]$$"
   ]
  },
  {
   "cell_type": "markdown",
   "metadata": {},
   "source": [
    "## Normal modes and fixed boundary conditions\n"
   ]
  },
  {
   "cell_type": "markdown",
   "metadata": {},
   "source": [
    "$$\\begin{align}\n",
    "u_0(t) &= 0\\\\\n",
    "u_{N+1}(t) &= 0\n",
    "\\end{align}$$"
   ]
  },
  {
   "cell_type": "code",
   "execution_count": 198,
   "metadata": {},
   "outputs": [],
   "source": [
    "N = 10          # number of particles\n",
    "L = 1           # distance between end points\n",
    "a = L/(N+1)     # distance between particles\n",
    "k = 1           # spring constant\n",
    "m = 1           # particle mass\n",
    "tmax = 200"
   ]
  },
  {
   "cell_type": "markdown",
   "metadata": {},
   "source": [
    "Coordinate system for the particles (including end points)"
   ]
  },
  {
   "cell_type": "code",
   "execution_count": 199,
   "metadata": {},
   "outputs": [],
   "source": [
    "J = np.arange(N+2)\n",
    "x = a*J"
   ]
  },
  {
   "cell_type": "markdown",
   "metadata": {},
   "source": [
    "Initial condition\n",
    "\n",
    "$$ u(t=0) = \\sin(n \\pi x / L) $$\n",
    "\n",
    "for a normal mode of order $n$"
   ]
  },
  {
   "cell_type": "code",
   "execution_count": 200,
   "metadata": {},
   "outputs": [],
   "source": [
    "n = 2\n",
    "u0 = np.sin(n*np.pi * x / L)\n",
    "v0 = np.zeros(N+2)"
   ]
  },
  {
   "cell_type": "code",
   "execution_count": 201,
   "metadata": {},
   "outputs": [],
   "source": [
    "y0 = np.hstack([u0, v0])"
   ]
  },
  {
   "cell_type": "code",
   "execution_count": 202,
   "metadata": {},
   "outputs": [],
   "source": [
    "def fixed_bc(t, y, k, m):\n",
    "    \n",
    "    N = len(y)//2 - 2\n",
    "    \n",
    "    u = y[:N+2]\n",
    "    v = y[N+2:]\n",
    "\n",
    "    dudt = np.zeros(N+2)\n",
    "    dvdt = np.zeros(N+2)\n",
    "    \n",
    "    for j in range(1, N+1):\n",
    "        dudt[j] = v[j]\n",
    "        dvdt[j] = -k/m * (2*u[j] - u[j-1] - u[j+1])\n",
    "    \n",
    "    return np.hstack([dudt, dvdt])"
   ]
  },
  {
   "cell_type": "markdown",
   "metadata": {},
   "source": [
    "Solve numerically"
   ]
  },
  {
   "cell_type": "code",
   "execution_count": 203,
   "metadata": {},
   "outputs": [],
   "source": [
    "sol = solve_ivp(fixed_bc,         # fun\n",
    "            [0, tmax],           # t_span\n",
    "            y0,               # y0 \n",
    "            args=(k, m),   # arguments\n",
    "            dense_output=True # return a continuous function\n",
    "           ) "
   ]
  },
  {
   "cell_type": "code",
   "execution_count": 204,
   "metadata": {},
   "outputs": [
    {
     "data": {
      "application/vnd.jupyter.widget-view+json": {
       "model_id": "7e786517f88d4c46ba5dbf081a39a28a",
       "version_major": 2,
       "version_minor": 0
      },
      "text/plain": [
       "interactive(children=(IntSlider(value=0, description='t', max=200), IntSlider(value=1, description='n', max=20…"
      ]
     },
     "metadata": {},
     "output_type": "display_data"
    }
   ],
   "source": [
    "@interact(t=(0, tmax, 1), n=(1, 20))\n",
    "def plot(t=0, n = 1):\n",
    "    \n",
    "    y = sol.sol(t)\n",
    "    u = y[:N+2]\n",
    "    v = y[N+2:]\n",
    "\n",
    "    plt.plot(x, u, 'o-')\n",
    "    plt.xlabel('x')\n",
    "    \n",
    "    plt.ylim(-1, 1)"
   ]
  },
  {
   "cell_type": "markdown",
   "metadata": {},
   "source": [
    "Investigate modes and number of particles"
   ]
  },
  {
   "cell_type": "code",
   "execution_count": 205,
   "metadata": {},
   "outputs": [
    {
     "data": {
      "application/vnd.jupyter.widget-view+json": {
       "model_id": "1619eccdab74488da36c2a2c4f8e5c01",
       "version_major": 2,
       "version_minor": 0
      },
      "text/plain": [
       "interactive(children=(IntSlider(value=0, description='t', max=200), IntSlider(value=1, description='n', max=20…"
      ]
     },
     "metadata": {},
     "output_type": "display_data"
    }
   ],
   "source": [
    "@interact(t=(0, tmax, 1), n=(1, 20), N=(1, 50))\n",
    "def simulate(t=0, n=1, N=10):\n",
    "    \n",
    "    L = 1           # distance between end points\n",
    "    a = L/(N+1)     # distance between particles\n",
    "    k = 1           # spring constant\n",
    "    m = 1           # particle mass\n",
    "    \n",
    "    J = np.arange(N+2)\n",
    "    x = a*J\n",
    "    \n",
    "    u0 = np.sin(n*np.pi * x / L)\n",
    "    v0 = np.zeros(N+2)\n",
    "    y0 = np.hstack([u0, v0])\n",
    "    \n",
    "    sol = solve_ivp(fixed_bc,         # fun\n",
    "            [0, tmax],           # t_span\n",
    "            y0,               # y0 \n",
    "            args=(k, m),   # arguments\n",
    "            dense_output=True # return a continuous function\n",
    "           ) \n",
    "    \n",
    "    y = sol.sol(t)\n",
    "    u = y[:N+2]\n",
    "    v = y[N+2:]\n",
    "\n",
    "    plt.plot(x, u, 'o-')\n",
    "    plt.xlabel('x')\n",
    "    \n",
    "    plt.ylim(-1, 1)"
   ]
  },
  {
   "cell_type": "markdown",
   "metadata": {},
   "source": [
    "## Periodic boundary conditions\n",
    "\n"
   ]
  },
  {
   "cell_type": "markdown",
   "metadata": {},
   "source": [
    "$$\\begin{align}\n",
    "u_0 &= u_N \\\\\n",
    "u_1 &= u_{N+1}\n",
    "\\end{align}$$"
   ]
  },
  {
   "cell_type": "code",
   "execution_count": 206,
   "metadata": {},
   "outputs": [],
   "source": [
    "def periodic_bc(t, y, k, m):\n",
    "    \n",
    "    N = len(y)//2 - 2\n",
    "    \n",
    "    u = y[:N+2]\n",
    "    v = y[N+2:]\n",
    "\n",
    "    dudt = np.zeros(N+2)\n",
    "    dvdt = np.zeros(N+2)\n",
    "    \n",
    "    for j in range(1, N+1):\n",
    "        dudt[j] = v[j]\n",
    "        dvdt[j] = -k/m * (2*u[j] - u[j-1] - u[j+1])\n",
    "        \n",
    "    dudt[0] = dudt[N]\n",
    "    dvdt[0] = dvdt[N]\n",
    "    dudt[N+1] = dudt[1]\n",
    "    dvdt[N+1] = dvdt[1]\n",
    "    \n",
    "    return np.hstack([dudt, dvdt])"
   ]
  },
  {
   "cell_type": "code",
   "execution_count": 207,
   "metadata": {},
   "outputs": [
    {
     "data": {
      "application/vnd.jupyter.widget-view+json": {
       "model_id": "dfc600f027114548a7c34c7158c57ab7",
       "version_major": 2,
       "version_minor": 0
      },
      "text/plain": [
       "interactive(children=(IntSlider(value=0, description='t', max=200), IntSlider(value=2, description='n', max=20…"
      ]
     },
     "metadata": {},
     "output_type": "display_data"
    }
   ],
   "source": [
    "@interact(t=(0, tmax, 1), n=(1, 20), N=(1, 50))\n",
    "def simulate(t=0, n=2, N=10):\n",
    "    \n",
    "    L = 1           # distance between end points\n",
    "    a = L/(N)       # distance between particles\n",
    "    k = 1           # spring constant\n",
    "    m = 1           # particle mass\n",
    "    tmax = 100\n",
    "    \n",
    "    J = np.arange(N+2)\n",
    "    x = a*J\n",
    "    \n",
    "    u0 = np.cos(n*np.pi * x / L)\n",
    "    v0 = np.zeros(N+2)\n",
    "    y0 = np.hstack([u0, v0])\n",
    "    \n",
    "    sol = solve_ivp(periodic_bc,         # fun\n",
    "            [0, tmax],           # t_span\n",
    "            y0,               # y0 \n",
    "            args=(k, m),   # arguments\n",
    "            dense_output=True # return a continuous function\n",
    "           ) \n",
    "    \n",
    "    y = sol.sol(t)\n",
    "    u = y[:N+2]\n",
    "    v = y[N+2:]\n",
    "\n",
    "    plt.plot(x, u, 'o-')\n",
    "    plt.plot(x[-2:], u[-2:], 'o-')\n",
    "    plt.xlabel('x')\n",
    "    \n",
    "    plt.ylim(-1, 1)"
   ]
  },
  {
   "cell_type": "markdown",
   "metadata": {},
   "source": [
    "## Free boundary conditions"
   ]
  },
  {
   "cell_type": "code",
   "execution_count": 213,
   "metadata": {},
   "outputs": [],
   "source": [
    "def free_bc(t, y, k, m):\n",
    "    \n",
    "    N = len(y)//2 - 2\n",
    "    \n",
    "    u = y[:N+2]\n",
    "    v = y[N+2:]\n",
    "\n",
    "    dudt = np.zeros(N+2)\n",
    "    dvdt = np.zeros(N+2)\n",
    "    \n",
    "    for j in range(1, N+1):\n",
    "        dudt[j] = v[j]\n",
    "        dvdt[j] = -k/m * (2*u[j] - u[j-1] - u[j+1])\n",
    "        \n",
    "    dudt[0] = dudt[1]\n",
    "    dvdt[0] = dvdt[1]\n",
    "    dudt[N+1] = dudt[N]\n",
    "    dvdt[N+1] = dvdt[N]\n",
    "    \n",
    "    return np.hstack([dudt, dvdt])"
   ]
  },
  {
   "cell_type": "code",
   "execution_count": 214,
   "metadata": {},
   "outputs": [
    {
     "data": {
      "application/vnd.jupyter.widget-view+json": {
       "model_id": "a186106ae3c94249baebd1321f19f98a",
       "version_major": 2,
       "version_minor": 0
      },
      "text/plain": [
       "interactive(children=(IntSlider(value=0, description='t', max=200), IntSlider(value=2, description='n', max=20…"
      ]
     },
     "metadata": {},
     "output_type": "display_data"
    }
   ],
   "source": [
    "@interact(t=(0, tmax, 1), n=(1, 20), N=(9, 100, 2))\n",
    "def simulate(t=0, n=2, N=50, pulse=False):\n",
    "    \n",
    "    L = 1           # distance between end points\n",
    "    a = L/(N+1)       # distance between particles\n",
    "    k = 1           # spring constant\n",
    "    m = 1           # particle mass\n",
    "    \n",
    "    J = np.arange(N+2)\n",
    "    x = a*J\n",
    "    \n",
    "    u0 = np.zeros(N+2)\n",
    "    v0 = np.zeros(N+2)\n",
    "    \n",
    "    if pulse:\n",
    "\n",
    "        u0[N//2-1] = 0.2\n",
    "        u0[N//2+0] = 0.6\n",
    "        u0[N//2+1] = 1.0\n",
    "        u0[N//2+2] = 0.6\n",
    "        u0[N//2+3] = 0.2\n",
    "        \n",
    "     ##   for i in range(N//2-2, N//2+3):\n",
    "     #       v0[i] = -a**2*(u0[i+1] - u0[i-1])/(2*a)\n",
    "    else:\n",
    "        u0 = np.cos(n*np.pi * x / L)\n",
    "        u0[0] = u0[1]\n",
    "        u0[N+1] = u0[N]\n",
    "    \n",
    "    y0 = np.hstack([u0, v0])\n",
    "    \n",
    "    sol = solve_ivp(free_bc,         # fun\n",
    "            [0, tmax],           # t_span\n",
    "            y0,               # y0 \n",
    "            args=(k, m),   # arguments\n",
    "            dense_output=True # return a continuous function\n",
    "           ) \n",
    "    \n",
    "    y = sol.sol(t)\n",
    "    u = y[:N+2]\n",
    "    v = y[N+2:]\n",
    "\n",
    "    plt.plot(x, u, 'o-')\n",
    "    plt.xlabel('x')\n",
    "    \n",
    "    plt.ylim(-1, 1)"
   ]
  },
  {
   "cell_type": "markdown",
   "metadata": {},
   "source": [
    "## Forced boundary condition"
   ]
  },
  {
   "cell_type": "code",
   "execution_count": 250,
   "metadata": {},
   "outputs": [],
   "source": [
    "def forced_bc(t, y, k, m, A, ω):\n",
    "    \n",
    "    N = len(y)//2 - 2\n",
    "    \n",
    "    u = y[:N+2]\n",
    "    v = y[N+2:]\n",
    "\n",
    "    dudt = np.zeros(N+2)\n",
    "    dvdt = np.zeros(N+2)\n",
    "    \n",
    "    for j in range(1, N+1):\n",
    "        dudt[j] = v[j]\n",
    "        dvdt[j] = -k/m * (2*u[j] - u[j-1] - u[j+1])\n",
    "        \n",
    "    dudt[0] = ω*A*np.cos(ω*t)\n",
    "    dvdt[0] = -ω**2*A*np.sin(ω*t)\n",
    "    \n",
    "    return np.hstack([dudt, dvdt])"
   ]
  },
  {
   "cell_type": "code",
   "execution_count": 257,
   "metadata": {},
   "outputs": [
    {
     "data": {
      "application/vnd.jupyter.widget-view+json": {
       "model_id": "76f7e88cd732487584fa362a10f7debf",
       "version_major": 2,
       "version_minor": 0
      },
      "text/plain": [
       "interactive(children=(IntSlider(value=0, description='t'), FloatSlider(value=1.0, description='ω', max=3.0, st…"
      ]
     },
     "metadata": {},
     "output_type": "display_data"
    }
   ],
   "source": [
    "tmax=100\n",
    "\n",
    "@interact(t=(0, tmax, 1), ω=(0, 3, 0.05))\n",
    "def simulate(t=0, ω=1.0):\n",
    "    \n",
    "    N = 500\n",
    "    A = 1\n",
    "    L = 0.2           # distance between end points\n",
    "    a = L/(N+1)       # distance between particles\n",
    "    k = 1         # spring constant\n",
    "    m = 1           # particle mass\n",
    "\n",
    "    J = np.arange(N+2)\n",
    "    x = a*J\n",
    "    \n",
    "    u0 = np.zeros(N+2)\n",
    "    v0 = np.zeros(N+2)\n",
    "    y0 = np.hstack([u0, v0])\n",
    "    \n",
    "    sol = solve_ivp(forced_bc,         # fun\n",
    "            [0, tmax],           # t_span\n",
    "            y0,               # y0 \n",
    "            args=(k, m, A, ω),   # arguments\n",
    "            dense_output=True # return a continuous function\n",
    "           ) \n",
    "    \n",
    "    y = sol.sol(t)\n",
    "    u = y[:N+2]\n",
    "    v = y[N+2:]\n",
    "\n",
    "    plt.plot(x, u, '-')\n",
    "    plt.xlabel('x')\n",
    "    \n",
    "    plt.ylim(-1, 1)"
   ]
  },
  {
   "cell_type": "markdown",
   "metadata": {},
   "source": [
    "# 9.7 Wave Motion"
   ]
  },
  {
   "cell_type": "markdown",
   "metadata": {},
   "source": [
    "$$ m \\frac{d^2u_j(t)}{dt^2} = - k \\left[ 2 u_j(t) - u_{j+1}(t) - u_{j-1}(t) \\right]$$"
   ]
  },
  {
   "cell_type": "markdown",
   "metadata": {},
   "source": [
    "Take the limit as $N \\rightarrow \\infty$ and $a \\rightarrow 0$. This will lead to the *wave equation*"
   ]
  },
  {
   "cell_type": "markdown",
   "metadata": {},
   "source": [
    "$$ \\frac{\\partial^2 u(x, t)}{\\partial t^2} = - c^2 \\frac{\\partial^2 u(x,t)}{\\partial x^2}$$\n",
    "\n",
    "where $c$ has the dimension of velocity.\n",
    "\n",
    "See textbook for derivation."
   ]
  },
  {
   "cell_type": "markdown",
   "metadata": {},
   "source": [
    "We can solve the wave equation numerically by converting the PDE into a finite difference equation."
   ]
  },
  {
   "cell_type": "markdown",
   "metadata": {},
   "source": [
    "$$\\frac{1}{(\\Delta t)^2} [ u(x, t+\\Delta t) - 2 u(x, t) + u(t, t-\\Delta t)] = \\frac{c^2}{(\\Delta x)^2} [u(x+\\Delta x, t) - 2u(x,t) + u(x-\\Delta x, t)] $$"
   ]
  },
  {
   "cell_type": "markdown",
   "metadata": {},
   "source": [
    "Solving for $u(x, t+\\Delta t)$ gives"
   ]
  },
  {
   "cell_type": "markdown",
   "metadata": {},
   "source": [
    "$$u(x, t+\\Delta t) = 2(1-b) u(x, t) + b[u(x-\\Delta x, t) + u(x+\\Delta x, t)] - u(x, t-\\Delta t)$$\n",
    "\n",
    "where $b = (c \\Delta t / \\Delta x)^2$."
   ]
  },
  {
   "cell_type": "markdown",
   "metadata": {},
   "source": [
    "We will need to store the values of $u(x)$ at three different times: $t + \\Delta t$, $t$, and $t-\\Delta t$."
   ]
  },
  {
   "cell_type": "code",
   "execution_count": 261,
   "metadata": {},
   "outputs": [
    {
     "data": {
      "text/plain": [
       "array([0, 1, 2, 3, 4])"
      ]
     },
     "execution_count": 261,
     "metadata": {},
     "output_type": "execute_result"
    }
   ],
   "source": [
    "u = np.arange(5)\n",
    "u"
   ]
  },
  {
   "cell_type": "code",
   "execution_count": 266,
   "metadata": {},
   "outputs": [
    {
     "data": {
      "text/plain": [
       "array([1, 2, 3, 4, 0])"
      ]
     },
     "execution_count": 266,
     "metadata": {},
     "output_type": "execute_result"
    }
   ],
   "source": [
    "np.roll(u, -1)"
   ]
  },
  {
   "cell_type": "code",
   "execution_count": 348,
   "metadata": {},
   "outputs": [],
   "source": [
    "N = 200\n",
    "\n",
    "dx = 1\n",
    "dt = 1\n",
    "c = 1\n",
    "b = (c*dt/dx)**2\n",
    "\n",
    "x = np.arange(0, N*dx, dx)\n",
    "\n",
    "u_old = np.exp(-(x - 10 + c*dt)**2)\n",
    "u = np.exp(-(x - 10)**2)"
   ]
  },
  {
   "cell_type": "code",
   "execution_count": 349,
   "metadata": {},
   "outputs": [
    {
     "data": {
      "image/png": "[encoded data removed]",
      "text/plain": [
       "<Figure size 432x288 with 1 Axes>"
      ]
     },
     "metadata": {
      "needs_background": "light"
     },
     "output_type": "display_data"
    }
   ],
   "source": [
    "plt.plot(x, u_old, alpha=0.5, label='u_old')\n",
    "plt.plot(x, u, label='u')\n",
    "\n",
    "plt.legend()\n",
    "plt.ylabel('u')\n",
    "plt.xlabel('x')\n",
    "plt.xlim(0, 25)\n",
    "plt.show()"
   ]
  },
  {
   "cell_type": "code",
   "execution_count": 354,
   "metadata": {},
   "outputs": [
    {
     "data": {
      "image/png": "[encoded data removed]",
      "text/plain": [
       "<Figure size 432x288 with 1 Axes>"
      ]
     },
     "metadata": {
      "needs_background": "light"
     },
     "output_type": "display_data"
    }
   ],
   "source": [
    "tmax = 10\n",
    "t = 0\n",
    "while t < tmax:\n",
    "    u_new = 2*(1-b)*u + b*(np.roll(u, 1) + np.roll(u, -1)) - u_old\n",
    "    \n",
    "    u_old = u\n",
    "    u = u_new\n",
    "    \n",
    "    t += dt\n",
    "\n",
    "plt.plot(x, u, label='u')\n",
    "\n",
    "plt.legend()\n",
    "plt.ylabel('u')\n",
    "plt.xlabel('x')\n",
    "plt.show()"
   ]
  },
  {
   "cell_type": "code",
   "execution_count": 360,
   "metadata": {},
   "outputs": [
    {
     "data": {
      "application/vnd.jupyter.widget-view+json": {
       "model_id": "b0faaf859e004a178b3de03cadaca933",
       "version_major": 2,
       "version_minor": 0
      },
      "text/plain": [
       "interactive(children=(IntSlider(value=0, description='tmax', max=200), Output()), _dom_classes=('widget-intera…"
      ]
     },
     "metadata": {},
     "output_type": "display_data"
    }
   ],
   "source": [
    "@interact(tmax=(0, 200))\n",
    "def simulate(tmax=0):\n",
    "    N = 50\n",
    "\n",
    "    dx = 1\n",
    "    dt = 1\n",
    "    c = 1\n",
    "    b = (c*dt/dx)**2\n",
    "\n",
    "    x = np.arange(0, N*dx, dx)\n",
    "    u0 = np.exp(-(x - 10)**2)\n",
    "\n",
    "    u_old = np.exp(-(x - 10 + c*dt)**2)\n",
    "    u = np.exp(-(x - 10)**2)\n",
    "\n",
    "    t = 0\n",
    "    while t < tmax:\n",
    "        u_new = 2*(1-b)*u + b*(np.roll(u, 1) + np.roll(u, -1)) - u_old\n",
    "\n",
    "        u_old = u\n",
    "        u = u_new\n",
    "\n",
    "        t += dt\n",
    "\n",
    "    plt.plot(x, u0, '--', label='u')\n",
    "    plt.plot(x, u, label='u')\n",
    "\n",
    "    plt.legend()\n",
    "    plt.ylabel('u')\n",
    "    plt.xlabel('x')\n"
   ]
  },
  {
   "cell_type": "code",
   "execution_count": 379,
   "metadata": {},
   "outputs": [
    {
     "data": {
      "application/vnd.jupyter.widget-view+json": {
       "model_id": "82c7600946d64907bdfbaa1dde1a5de1",
       "version_major": 2,
       "version_minor": 0
      },
      "text/plain": [
       "interactive(children=(IntSlider(value=0, description='tmax', max=200), Output()), _dom_classes=('widget-intera…"
      ]
     },
     "metadata": {},
     "output_type": "display_data"
    }
   ],
   "source": [
    "@interact(tmax=(0, 200))\n",
    "def simulate(tmax=0):\n",
    "    N = 50\n",
    "\n",
    "    dx = 1\n",
    "    dt = 1\n",
    "    c = 1\n",
    "    b = (c*dt/dx)**2\n",
    "\n",
    "    x = np.arange(0, N*dx, dx)\n",
    "    q = 2*np.pi/(N)\n",
    "    ω = 1\n",
    "    \n",
    "    t = 0\n",
    "    \n",
    "    u0 = np.sin(q*x-ω*t)\n",
    "\n",
    "    u_old = np.sin(q*(x+c*dt)-ω*t )\n",
    "    u = np.sin(q*x-ω*t)\n",
    "\n",
    "    while t < tmax:\n",
    "        u_new = (np.roll(u, 1) + np.roll(u, -1)) - u_old\n",
    "\n",
    "        u_old = u\n",
    "        u = u_new\n",
    "\n",
    "        t += dt\n",
    "\n",
    "    plt.plot(x, u0, '--', label='u')\n",
    "    plt.plot(x, u, '.-', label='u')\n",
    "    plt.plot([x[-1], 50], [u[-1], u[0]], '.-',)\n",
    "    \n",
    "    plt.legend()\n",
    "    plt.ylabel('u')\n",
    "    plt.xlabel('x')"
   ]
  },
  {
   "cell_type": "code",
   "execution_count": 386,
   "metadata": {},
   "outputs": [
    {
     "data": {
      "application/vnd.jupyter.widget-view+json": {
       "model_id": "eb08e28f8a7049c9aa6a0149e1a449af",
       "version_major": 2,
       "version_minor": 0
      },
      "text/plain": [
       "interactive(children=(IntSlider(value=0, description='tmax', max=200), Output()), _dom_classes=('widget-intera…"
      ]
     },
     "metadata": {},
     "output_type": "display_data"
    }
   ],
   "source": [
    "@interact(tmax=(0, 200))\n",
    "def simulate(tmax=0):\n",
    "    N = 50\n",
    "\n",
    "    dx = 1\n",
    "    dt = 1\n",
    "    c = 1\n",
    "    b = (c*dt/dx)**2\n",
    "\n",
    "    x = np.arange(0, N*dx, dx)\n",
    "    q = 2*np.pi/(N)\n",
    "    ω = 1\n",
    "    \n",
    "    t = 0\n",
    "\n",
    "    u_old = np.exp(-(x - 10 + c*dt)**2) + 0.5*np.exp(-(x - 30 - c*dt)**2)\n",
    "    u = np.exp(-(x - 10)**2) + 0.5*np.exp(-(x - 30)**2)\n",
    "\n",
    "    while t < tmax:\n",
    "        u_new = (np.roll(u, 1) + np.roll(u, -1)) - u_old\n",
    "\n",
    "        u_old = u\n",
    "        u = u_new\n",
    "\n",
    "        t += dt\n",
    "\n",
    "    plt.plot(x, u, '.-', label='u')\n",
    "    plt.plot([x[-1], 50], [u[-1], u[0]], '.-',)\n",
    "    \n",
    "    plt.legend()\n",
    "    plt.ylabel('u')\n",
    "    plt.xlabel('x')\n",
    "    plt.ylim(-0.1, 1.5)"
   ]
  },
  {
   "cell_type": "code",
   "execution_count": null,
   "metadata": {},
   "outputs": [],
   "source": []
  },
  {
   "cell_type": "code",
   "execution_count": null,
   "metadata": {},
   "outputs": [],
   "source": []
  }
 ],
 "metadata": {
  "kernelspec": {
   "display_name": "Python 3",
   "language": "python",
   "name": "python3"
  },
  "language_info": {
   "codemirror_mode": {
    "name": "ipython",
    "version": 3
   },
   "file_extension": ".py",
   "mimetype": "text/x-python",
   "name": "python",
   "nbconvert_exporter": "python",
   "pygments_lexer": "ipython3",
   "version": "3.8.1"
  }
 },
 "nbformat": 4,
 "nbformat_minor": 4
}
