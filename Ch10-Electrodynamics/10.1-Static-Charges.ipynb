{
 "cells": [
  {
   "cell_type": "markdown",
   "metadata": {},
   "source": [
    "# Chapter 10 Electrodynamics"
   ]
  },
  {
   "cell_type": "code",
   "execution_count": 1,
   "metadata": {},
   "outputs": [],
   "source": [
    "import numpy as np\n",
    "import matplotlib.pyplot as plt"
   ]
  },
  {
   "cell_type": "markdown",
   "metadata": {},
   "source": [
    "## 10.1 Static Charges"
   ]
  },
  {
   "cell_type": "markdown",
   "metadata": {},
   "source": [
    "Electric field is given by the superpositions of $N$ point charges $q_1, q_2, \\ldots, q_N$\n",
    "\n",
    "$${\\bf E}({\\bf r}) = K \\sum_i^N \\frac{q_i}{|{\\bf r} - {\\bf r}_i|^3} ({\\bf r} - {\\bf r}_i)$$"
   ]
  },
  {
   "cell_type": "markdown",
   "metadata": {},
   "source": [
    "We will use Gaussian units so that $K=1$ (unitless). This is system, the unit of charge is in electrostatic units (or esu)."
   ]
  },
  {
   "cell_type": "markdown",
   "metadata": {},
   "source": [
    "## 10.2 Electric Fields"
   ]
  },
  {
   "cell_type": "markdown",
   "metadata": {},
   "source": [
    "meshgrids and pcolormesh"
   ]
  },
  {
   "cell_type": "code",
   "execution_count": 3,
   "metadata": {},
   "outputs": [],
   "source": [
    "# see https://github.com/matplotlib/jupyter-matplotlib for install instructions\n",
    "%matplotlib widget"
   ]
  },
  {
   "cell_type": "code",
   "execution_count": 294,
   "metadata": {},
   "outputs": [
    {
     "data": {
      "application/vnd.jupyter.widget-view+json": {
       "model_id": "f463918ec17646e1846940ab169c81b2",
       "version_major": 2,
       "version_minor": 0
      },
      "text/plain": [
       "Canvas(toolbar=Toolbar(toolitems=[('Home', 'Reset original view', 'home', 'home'), ('Back', 'Back to previous …"
      ]
     },
     "metadata": {},
     "output_type": "display_data"
    },
    {
     "name": "stderr",
     "output_type": "stream",
     "text": [
      "<ipython-input-294-c6bbb0ee4744>:29: RuntimeWarning: divide by zero encountered in true_divide\n",
      "  Ex += q / dr**3 * dr_x\n",
      "<ipython-input-294-c6bbb0ee4744>:29: RuntimeWarning: invalid value encountered in multiply\n",
      "  Ex += q / dr**3 * dr_x\n",
      "<ipython-input-294-c6bbb0ee4744>:30: RuntimeWarning: divide by zero encountered in true_divide\n",
      "  Ey += q / dr**3 * dr_y\n",
      "<ipython-input-294-c6bbb0ee4744>:30: RuntimeWarning: invalid value encountered in multiply\n",
      "  Ey += q / dr**3 * dr_y\n"
     ]
    }
   ],
   "source": [
    "plt.close()  # if we don't close first, we will keep on creating new figures\n",
    "\n",
    "fig = plt.figure()\n",
    "\n",
    "dx = dy = 1.0\n",
    "xmax = ymax = 10+dx\n",
    "xmin = ymin = -10\n",
    "Y, X = np.mgrid[xmin:xmax:dx, ymin:ymax:dy]\n",
    "Yedges, Xedges = np.mgrid[xmin-dx/2:xmax+dx/2:dx, ymin-dy/2:ymax+dy/2:dy]\n",
    "\n",
    "charges = [ {'q': 1, 'x': 5, 'y': 3},\n",
    "            {'q': -1, 'x': -5, 'y': -5},\n",
    "            {'q': 1, 'x': 0, 'y': 3},\n",
    "          ]\n",
    "\n",
    "Ex = np.zeros_like(X)\n",
    "Ey = np.zeros_like(X)\n",
    "\n",
    "for charge in charges:\n",
    "    x = charge['x']\n",
    "    y = charge['y']\n",
    "    q = charge['q']\n",
    "    \n",
    "    dr_x = X - x\n",
    "    dr_y = Y - y\n",
    "\n",
    "    dr = np.sqrt(dr_x**2 + dr_y**2)\n",
    "\n",
    "    Ex += q / dr**3 * dr_x\n",
    "    Ey += q / dr**3 * dr_y\n",
    "    \n",
    "    plt.plot(x, y, 'ro')\n",
    "\n",
    "E = np.sqrt(Ex**2 + Ey**2)\n",
    "\n",
    "plt.pcolormesh(Xedges, Yedges, E)\n",
    "#plt.contourf(X, Y, E, [0.1 , 0.2,0.3, 1, 2, 3])\n",
    "#plt.plot(X, Y, 'k.')\n",
    "#plt.quiver(X, Y, (Ex/E), (Ey/E))\n",
    "plt.colorbar()\n",
    "\n",
    "plt.streamplot(X, Y, Ex, Ey, density=0.7)\n",
    "\n",
    "plt.xlim(xmin, xmax)\n",
    "plt.ylim(ymin, ymax)\n",
    "\n",
    "plt.axis('equal')\n",
    "plt.show()"
   ]
  },
  {
   "cell_type": "code",
   "execution_count": 165,
   "metadata": {},
   "outputs": [
    {
     "data": {
      "text/plain": [
       "[{'q': 1, 'x': 5, 'y': 3},\n",
       " {'q': -1, 'x': -5, 'y': -5},\n",
       " {'q': 1, 'x': 0, 'y': 3},\n",
       " {'q': 1, 'x': 2, 'y': 3}]"
      ]
     },
     "execution_count": 165,
     "metadata": {},
     "output_type": "execute_result"
    }
   ],
   "source": [
    "charges"
   ]
  },
  {
   "cell_type": "code",
   "execution_count": 163,
   "metadata": {},
   "outputs": [],
   "source": []
  },
  {
   "cell_type": "code",
   "execution_count": 164,
   "metadata": {},
   "outputs": [],
   "source": [
    "add_charge(1, 2, 3)"
   ]
  },
  {
   "cell_type": "code",
   "execution_count": 293,
   "metadata": {},
   "outputs": [
    {
     "data": {
      "application/vnd.jupyter.widget-view+json": {
       "model_id": "",
       "version_major": 2,
       "version_minor": 0
      },
      "text/plain": [
       "Canvas(toolbar=Toolbar(toolitems=[('Home', 'Reset original view', 'home', 'home'), ('Back', 'Back to previous …"
      ]
     },
     "metadata": {},
     "output_type": "display_data"
    },
    {
     "name": "stderr",
     "output_type": "stream",
     "text": [
      "<ipython-input-293-2d18f33c5bda>:58: RuntimeWarning: divide by zero encountered in true_divide\n",
      "  Ex += q / dr**3 * dr_x\n",
      "<ipython-input-293-2d18f33c5bda>:58: RuntimeWarning: invalid value encountered in multiply\n",
      "  Ex += q / dr**3 * dr_x\n",
      "<ipython-input-293-2d18f33c5bda>:59: RuntimeWarning: divide by zero encountered in true_divide\n",
      "  Ey += q / dr**3 * dr_y\n",
      "<ipython-input-293-2d18f33c5bda>:59: RuntimeWarning: invalid value encountered in multiply\n",
      "  Ey += q / dr**3 * dr_y\n"
     ]
    }
   ],
   "source": [
    "\n",
    "from matplotlib.backend_bases import MouseButton\n",
    "\n",
    "plt.close()  # if we don't close first, we will keep on creating new figures\n",
    "\n",
    "fig, ax = plt.subplots()\n",
    "\n",
    "dx = dy = 0.1\n",
    "xmax = ymax = 10+dx\n",
    "xmin = ymin = -10\n",
    "Y, X = np.mgrid[xmin:xmax:dx, ymin:ymax:dy]\n",
    "Yedges, Xedges = np.mgrid[xmin-dx/2:xmax+dx/2:dx, ymin-dy/2:ymax+dy/2:dy]\n",
    "\n",
    "charges = [ ]\n",
    "\n",
    "def add_charge(q, x, y):\n",
    "    charge = {'q': q, 'x': x, 'y': y}\n",
    "    charges.append(charge)\n",
    "    \n",
    "add_charge(1, 5, 3)\n",
    "add_charge(-1, -5, -5)\n",
    "add_charge(1, 0, 3)\n",
    "\n",
    "def get_ind(e):\n",
    "    epsilon = 0.1\n",
    "    if len(charges) == 0:\n",
    "        return None\n",
    "    \n",
    "    xs = [charge['x'] for charge in charges]\n",
    "    ys = [charge['y'] for charge in charges]\n",
    "    \n",
    "    d = np.hypot(np.asarray(xs) - e.xdata,\n",
    "                np.asarray(ys) - e.ydata,\n",
    "                    )\n",
    "    indseq, = np.nonzero(d == d.min())\n",
    "    ind = indseq[0]\n",
    "        \n",
    "    if d[ind] >= epsilon:\n",
    "        ind = None\n",
    "        \n",
    "    return ind\n",
    "\n",
    "def calculate_electric_field():\n",
    "    global Ex, Ey, E\n",
    "    \n",
    "    Ex = np.zeros_like(X)\n",
    "    Ey = np.zeros_like(X)\n",
    "\n",
    "    for charge in charges:\n",
    "        x = charge['x']\n",
    "        y = charge['y']\n",
    "        q = charge['q']\n",
    "\n",
    "        dr_x = X - x\n",
    "        dr_y = Y - y\n",
    "\n",
    "        dr = np.sqrt(dr_x**2 + dr_y**2)\n",
    "\n",
    "        Ex += q / dr**3 * dr_x\n",
    "        Ey += q / dr**3 * dr_y\n",
    "\n",
    "\n",
    "    E = np.sqrt(Ex**2 + Ey**2)\n",
    "\n",
    "calculate_electric_field()\n",
    "\n",
    "xs = [charge['x'] for charge in charges]\n",
    "ys = [charge['y'] for charge in charges]\n",
    "\n",
    "line, = plt.plot(xs, ys, 'ro')\n",
    "\n",
    "#plt.pcolormesh(Xedges, Yedges, E)\n",
    "contours = plt.contour(X, Y, E, [0.1 , 0.2, 0.3, 1, 2, 3])\n",
    "#plt.plot(X, Y, 'k.')\n",
    "i = (slice(None, None, 10), slice(None, None, 10))\n",
    "#quiver = plt.quiver(X[i], Y[i], (Ex/E)[i], (Ey/E)[i])\n",
    "fieldlines = plt.streamplot(X, Y, Ex, Ey, color='k', linewidth=1, density=0.7)\n",
    "\n",
    "plt.xlim(xmin, xmax)\n",
    "plt.ylim(ymin, ymax)\n",
    "\n",
    "plt.axis('equal')\n",
    "\n",
    "def onClick(e):\n",
    "    global contours, quiver, fieldlines\n",
    "    \n",
    "    if e.inaxes is None:\n",
    "        return\n",
    "\n",
    "    if e.button == MouseButton.LEFT:\n",
    "        ind = get_ind(e)\n",
    "       \n",
    "        add_charge(1, e.xdata, e.ydata)\n",
    "        \n",
    "    elif e.button == MouseButton.RIGHT:\n",
    "        ind = get_ind(e)\n",
    "       \n",
    "        add_charge(-1, e.xdata, e.ydata)\n",
    "            \n",
    "    calculate_electric_field()\n",
    "    \n",
    "    xs = [charge['x'] for charge in charges]\n",
    "    ys = [charge['y'] for charge in charges]\n",
    "        \n",
    "    line.set_data(xs, ys)\n",
    "    \n",
    "    for c in contours.collections:\n",
    "        c.remove()\n",
    "    \n",
    "    while len(ax.patches) > 0:\n",
    "        ax.patches[0].remove()\n",
    "    fieldlines.lines.remove()\n",
    "    \n",
    "    #quiver.remove()\n",
    "    #quiver = plt.quiver(X[i], Y[i], (Ex/E)[i], (Ey/E)[i])\n",
    "    \n",
    "    fieldlines = plt.streamplot(X, Y, Ex, Ey, color='k', linewidth=1, density=0.7)\n",
    "    contours = plt.contour(X, Y, E,  [0.1 , 0.2, 0.3, 1, 2, 3])\n",
    "\n",
    "fig.canvas.mpl_connect('button_press_event', onClick)\n",
    "\n",
    "plt.show()"
   ]
  },
  {
   "cell_type": "code",
   "execution_count": 18,
   "metadata": {},
   "outputs": [],
   "source": [
    "plt.close(fig)"
   ]
  },
  {
   "cell_type": "code",
   "execution_count": 295,
   "metadata": {},
   "outputs": [
    {
     "data": {
      "text/plain": [
       "[1, 2, 3]"
      ]
     },
     "execution_count": 295,
     "metadata": {},
     "output_type": "execute_result"
    }
   ],
   "source": [
    "plt.get_fignums()"
   ]
  },
  {
   "cell_type": "markdown",
   "metadata": {},
   "source": [
    "$${\\bf E}({\\bf r}) = K \\sum_i^N \\frac{q_i}{|{\\bf r} - {\\bf r}_i|^3} ({\\bf r} - {\\bf r}_i)$$"
   ]
  }
 ],
 "metadata": {
  "kernelspec": {
   "display_name": "Python 3",
   "language": "python",
   "name": "python3"
  },
  "language_info": {
   "codemirror_mode": {
    "name": "ipython",
    "version": 3
   },
   "file_extension": ".py",
   "mimetype": "text/x-python",
   "name": "python",
   "nbconvert_exporter": "python",
   "pygments_lexer": "ipython3",
   "version": "3.8.1"
  }
 },
 "nbformat": 4,
 "nbformat_minor": 4
}
