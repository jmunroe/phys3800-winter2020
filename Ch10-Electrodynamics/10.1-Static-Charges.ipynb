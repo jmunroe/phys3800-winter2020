{
 "cells": [
  {
   "cell_type": "markdown",
   "metadata": {},
   "source": [
    "# Chapter 10 Electrodynamics"
   ]
  },
  {
   "cell_type": "code",
   "execution_count": 8,
   "metadata": {},
   "outputs": [],
   "source": [
    "import numpy as np\n",
    "import matplotlib.pyplot as plt"
   ]
  },
  {
   "cell_type": "markdown",
   "metadata": {},
   "source": [
    "## 10.1 Static Charges"
   ]
  },
  {
   "cell_type": "markdown",
   "metadata": {},
   "source": [
    "Electric field is given by the superpositions of $N$ point charges $q_1, q_2, \\ldots, q_N$\n",
    "\n",
    "$${\\bf E}({\\bf r}) = K \\sum_i^N \\frac{q_i}{|{\\bf r} - {\\bf r}_i|^3} ({\\bf r} - {\\bf r}_i)$$"
   ]
  },
  {
   "cell_type": "markdown",
   "metadata": {},
   "source": [
    "We will use Gaussian units so that $K=1$ (unitless). This is system, the unit of charge is in electrostatic units (or esu)."
   ]
  },
  {
   "cell_type": "code",
   "execution_count": 23,
   "metadata": {},
   "outputs": [],
   "source": [
    "%matplotlib widget\n",
    "\n",
    "from matplotlib.backend_bases import MouseButton"
   ]
  },
  {
   "cell_type": "code",
   "execution_count": 74,
   "metadata": {},
   "outputs": [
    {
     "name": "stderr",
     "output_type": "stream",
     "text": [
      "<ipython-input-74-37e5b6d61c77>:4: RuntimeWarning: More than 20 figures have been opened. Figures created through the pyplot interface (`matplotlib.pyplot.figure`) are retained until explicitly closed and may consume too much memory. (To control this warning, see the rcParam `figure.max_open_warning`).\n",
      "  fig, ax = plt.subplots()\n"
     ]
    },
    {
     "data": {
      "application/vnd.jupyter.widget-view+json": {
       "model_id": "a3d913c28d154c8cbf7e4e12172b8386",
       "version_major": 2,
       "version_minor": 0
      },
      "text/plain": [
       "Canvas(toolbar=Toolbar(toolitems=[('Home', 'Reset original view', 'home', 'home'), ('Back', 'Back to previous …"
      ]
     },
     "metadata": {},
     "output_type": "display_data"
    }
   ],
   "source": [
    "xs = np.array([2,8,])\n",
    "ys = np.array([3,8])\n",
    "\n",
    "fig, ax = plt.subplots()\n",
    "line, = ax.plot(xs, ys, 'ko', markersize=10,)\n",
    "\n",
    "X, Y = np.mgrid[0:10, 0:10]\n",
    "\n",
    "# loop over charges\n",
    "\n",
    "dx = X - xs[0]\n",
    "dy = Y - ys[0]\n",
    "Ex = np.sqrt(dx**2 + dy**2)**3*dx\n",
    "Ey = np.sqrt(dx**2 + dy**2)**3*dy\n",
    "E = np.sqrt(Ex**2 + Ey**2)\n",
    "plt.pcolor(X, Y, E)\n",
    "\n",
    "def get_ind(e):\n",
    "    epsilon = 0.1\n",
    "    if len(xs) == 0:\n",
    "        return None\n",
    "    \n",
    "    d = np.hypot(np.asarray(xs) - e.xdata,\n",
    "                np.asarray(ys) - e.ydata,\n",
    "                    )\n",
    "    indseq, = np.nonzero(d == d.min())\n",
    "    ind = indseq[0]\n",
    "        \n",
    "    if d[ind] >= epsilon:\n",
    "        ind = None\n",
    "        \n",
    "    return ind\n",
    "            \n",
    "def onClick(e):\n",
    "    global xs, ys\n",
    "    \n",
    "    if e.inaxes is None:\n",
    "        return\n",
    "\n",
    "    if e.button == MouseButton.LEFT:\n",
    "        ind = get_ind(e)\n",
    "        \n",
    "        if ind is None:\n",
    "            xs = np.append(xs, e.xdata)\n",
    "            ys = np.append(ys, e.ydata)\n",
    "    elif e.button == MouseButton.RIGHT:\n",
    "        \n",
    "        ind = get_ind(e)\n",
    "        \n",
    "        if ind is not None:\n",
    "            xs = np.delete(xs, ind)\n",
    "            ys = np.delete(ys, ind)\n",
    "            \n",
    "    line.set_data(xs, ys)\n",
    "\n",
    "fig.canvas.mpl_connect('button_press_event', onClick)\n",
    "plt.xlim(0, 10)\n",
    "plt.ylim(0, 10)\n",
    "\n",
    "plt.show()\n"
   ]
  },
  {
   "cell_type": "code",
   "execution_count": 6,
   "metadata": {},
   "outputs": [
    {
     "data": {
      "application/vnd.jupyter.widget-view+json": {
       "model_id": "1f90679ef5954047b915894fa591f40c",
       "version_major": 2,
       "version_minor": 0
      },
      "text/plain": [
       "HBox(children=(FloatSlider(value=1.0, max=2.0, min=0.02, orientation='vertical'), Canvas(toolbar=Toolbar(tooli…"
      ]
     },
     "metadata": {},
     "output_type": "display_data"
    }
   ],
   "source": [
    "# When using the `widget` backend from ipympl,\n",
    "# fig.canvas is a proper Jupyter interactive widget, which can be embedded in\n",
    "# Layout classes like HBox and Vbox.\n",
    "\n",
    "# One can bound figure attributes to other widget values.\n",
    "\n",
    "from ipywidgets import HBox, FloatSlider\n",
    "\n",
    "plt.ioff()\n",
    "plt.clf()\n",
    "\n",
    "slider = FloatSlider(\n",
    "    orientation='vertical',\n",
    "    value=1.0,\n",
    "    min=0.02,\n",
    "    max=2.0\n",
    ")\n",
    "\n",
    "fig = plt.figure(3)\n",
    "\n",
    "x = np.linspace(0, 20, 500)\n",
    "\n",
    "lines = plt.plot(x, np.sin(slider.value  * x))\n",
    "\n",
    "def update_lines(change):\n",
    "    lines[0].set_data(x, np.sin(change.new * x))\n",
    "    fig.canvas.draw()\n",
    "    fig.canvas.flush_events()\n",
    "\n",
    "slider.observe(update_lines, names='value')\n",
    "\n",
    "HBox([slider, fig.canvas])"
   ]
  },
  {
   "cell_type": "code",
   "execution_count": null,
   "metadata": {},
   "outputs": [],
   "source": []
  }
 ],
 "metadata": {
  "kernelspec": {
   "display_name": "Python 3",
   "language": "python",
   "name": "python3"
  },
  "language_info": {
   "codemirror_mode": {
    "name": "ipython",
    "version": 3
   },
   "file_extension": ".py",
   "mimetype": "text/x-python",
   "name": "python",
   "nbconvert_exporter": "python",
   "pygments_lexer": "ipython3",
   "version": "3.8.1"
  }
 },
 "nbformat": 4,
 "nbformat_minor": 4
}
