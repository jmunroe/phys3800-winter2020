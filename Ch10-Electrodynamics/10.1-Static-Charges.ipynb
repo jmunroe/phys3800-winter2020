{
 "cells": [
  {
   "cell_type": "markdown",
   "metadata": {},
   "source": [
    "# Chapter 10 Electrodynamics"
   ]
  },
  {
   "cell_type": "code",
   "execution_count": 73,
   "metadata": {},
   "outputs": [],
   "source": [
    "import numpy as np\n",
    "import matplotlib.pyplot as plt\n",
    "%matplotlib widget"
   ]
  },
  {
   "cell_type": "markdown",
   "metadata": {},
   "source": [
    "## 10.1 Static Charges"
   ]
  },
  {
   "cell_type": "markdown",
   "metadata": {},
   "source": [
    "Electric field is given by the superpositions of $N$ point charges $q_1, q_2, \\ldots, q_N$\n",
    "\n",
    "$${\\bf E}({\\bf r}) = K \\sum_i^N \\frac{q_i}{|{\\bf r} - {\\bf r}_i|^3} ({\\bf r} - {\\bf r}_i)$$"
   ]
  },
  {
   "cell_type": "markdown",
   "metadata": {},
   "source": [
    "We will use Gaussian units so that $K=1$ (unitless). This is system, the unit of charge is in electrostatic units (or esu)."
   ]
  },
  {
   "cell_type": "markdown",
   "metadata": {},
   "source": [
    "## 10.2 Electric Fields"
   ]
  },
  {
   "cell_type": "code",
   "execution_count": 74,
   "metadata": {},
   "outputs": [
    {
     "data": {
      "application/vnd.jupyter.widget-view+json": {
       "model_id": "",
       "version_major": 2,
       "version_minor": 0
      },
      "text/plain": [
       "Canvas(toolbar=Toolbar(toolitems=[('Home', 'Reset original view', 'home', 'home'), ('Back', 'Back to previous …"
      ]
     },
     "metadata": {},
     "output_type": "display_data"
    },
    {
     "data": {
      "text/plain": [
       "[<matplotlib.lines.Line2D at 0x7f7e68d7f9a0>]"
      ]
     },
     "execution_count": 74,
     "metadata": {},
     "output_type": "execute_result"
    }
   ],
   "source": [
    "x = 5\n",
    "y = 2\n",
    "q = 1\n",
    "\n",
    "plt.plot(x, y, 'o')"
   ]
  },
  {
   "cell_type": "code",
   "execution_count": 58,
   "metadata": {},
   "outputs": [
    {
     "data": {
      "text/plain": [
       "array([[ 0,  2,  4,  6,  8],\n",
       "       [20, 22, 24, 26, 28],\n",
       "       [40, 42, 44, 46, 48],\n",
       "       [60, 62, 64, 66, 68],\n",
       "       [80, 82, 84, 86, 88]])"
      ]
     },
     "execution_count": 58,
     "metadata": {},
     "output_type": "execute_result"
    }
   ],
   "source": [
    "A = np.arange(100).reshape(10,10)\n",
    "A[::2, ::2]"
   ]
  },
  {
   "cell_type": "code",
   "execution_count": 128,
   "metadata": {},
   "outputs": [],
   "source": [
    "%matplotlib widget\n",
    "\n",
    "from matplotlib.backend_bases import MouseButton\n",
    "## need to install extension first: https://github.com/matplotlib/jupyter-matplotlib"
   ]
  },
  {
   "cell_type": "code",
   "execution_count": 130,
   "metadata": {},
   "outputs": [
    {
     "data": {
      "application/vnd.jupyter.widget-view+json": {
       "model_id": "",
       "version_major": 2,
       "version_minor": 0
      },
      "text/plain": [
       "Canvas(toolbar=Toolbar(toolitems=[('Home', 'Reset original view', 'home', 'home'), ('Back', 'Back to previous …"
      ]
     },
     "metadata": {},
     "output_type": "display_data"
    },
    {
     "name": "stderr",
     "output_type": "stream",
     "text": [
      "<ipython-input-130-702dbd5b2ccf>:32: RuntimeWarning: divide by zero encountered in true_divide\n",
      "  Ex += q / (distance**3) * dr_x\n",
      "<ipython-input-130-702dbd5b2ccf>:32: RuntimeWarning: invalid value encountered in multiply\n",
      "  Ex += q / (distance**3) * dr_x\n",
      "<ipython-input-130-702dbd5b2ccf>:33: RuntimeWarning: divide by zero encountered in true_divide\n",
      "  Ey += q / (distance**3) * dr_y\n",
      "<ipython-input-130-702dbd5b2ccf>:33: RuntimeWarning: invalid value encountered in multiply\n",
      "  Ey += q / (distance**3) * dr_y\n"
     ]
    }
   ],
   "source": [
    "plt.close()\n",
    "\n",
    "fig = plt.figure()\n",
    "\n",
    "dx = dy = 0.1\n",
    "xmax = ymax = 10\n",
    "Y, X = np.mgrid[0:xmax+dx:dx, \n",
    "                0:ymax+dy:dy]\n",
    "Yedge, Xedge = np.mgrid[-dx/2:xmax+dx/2:dx, \n",
    "                        -dy/2:ymax+dy/2:dy]\n",
    "\n",
    "charges = [{'x': 7, 'y': 7, 'q': 1},\n",
    "           {'x': 3, 'y': 3, 'q': -1},\n",
    "           {'x': 7, 'y': 3, 'q': 1} ] \n",
    "\n",
    "\n",
    "def calculate_E():\n",
    "    global E, Ex, Ey\n",
    "    \n",
    "    Ex = np.zeros_like(X)\n",
    "    Ey = np.zeros_like(X)\n",
    "\n",
    "    for charge in charges:\n",
    "        x = charge['x']\n",
    "        y = charge['y']\n",
    "        q = charge['q']\n",
    "\n",
    "\n",
    "        dr_x = X - x\n",
    "        dr_y = Y - y\n",
    "        distance = np.sqrt(dr_x**2 + dr_y**2)\n",
    "        Ex += q / (distance**3) * dr_x\n",
    "        Ey += q / (distance**3) * dr_y\n",
    "    E = np.sqrt(Ex**2 + Ey**2)\n",
    "\n",
    "calculate_E()\n",
    "\n",
    "xs = [charge['x'] for charge in charges]\n",
    "ys = [charge['y'] for charge in charges]\n",
    "line, = plt.plot(xs, ys, 'ro')\n",
    "\n",
    "\n",
    "#plt.pcolormesh(Xedge, Yedge, E)\n",
    "#plt.colorbar()\n",
    "#plt.contour(X, Y, E, [0.1, 0.2, 0.3, 1, 2, 3])\n",
    "#plt.contour(X, Y, E, [0.1, 0.2, 0.3, 1, 2, 3])\n",
    "contours = plt.contour(X, Y, E, [0.1, 0.2, 0.3, 1, 2, 3])\n",
    "plt.colorbar()\n",
    "\n",
    "skip_arrows = 6\n",
    "i = slice(None, None, skip_arrows), slice(None, None, skip_arrows) ## equiv to ::4, ::4\n",
    "quiver = plt.quiver(X[i], Y[i], (Ex/E)[i], (Ey/E)[i])\n",
    "\n",
    "plt.streamplot(X, Y, Ex, Ey, color='w', linewidth=0.5, density=1)\n",
    "\n",
    "plt.axis('equal')\n",
    "plt.ylim(2, 8)\n",
    "plt.xlim(2, 8)\n",
    "plt.xlabel('x')\n",
    "plt.ylabel('y')\n",
    "plt.title('Electric Field of Point Charges')\n",
    "\n",
    "def onClick(event):\n",
    "    global contours, quiver\n",
    "    \n",
    "    if event.button == MouseButton.LEFT:\n",
    "        q = +1\n",
    "    elif event.button == MouseButton.RIGHT:\n",
    "        q = -1\n",
    "        \n",
    "    ## add a new charge\n",
    "    charge = {'x': event.xdata, 'y': event.ydata, 'q': q}\n",
    "    charges.append(charge)\n",
    "    \n",
    "    calculate_E()\n",
    "    \n",
    "    xs = [charge['x'] for charge in charges]\n",
    "    ys = [charge['y'] for charge in charges]\n",
    "    line.set_data(xs, ys)\n",
    "    \n",
    "    for c in contours.collections:\n",
    "        c.remove()\n",
    "    contours = plt.contour(X, Y, E, [0.1, 0.2, 0.3, 1, 2, 3])\n",
    "    \n",
    "    quiver.remove()\n",
    "    quiver = plt.quiver(X[i], Y[i], (Ex/E)[i], (Ey/E)[i])\n",
    "    \n",
    "    \n",
    "fig.canvas.mpl_connect('button_press_event', onClick)\n",
    "\n",
    "plt.show()\n",
    "\n"
   ]
  },
  {
   "cell_type": "code",
   "execution_count": 117,
   "metadata": {},
   "outputs": [
    {
     "data": {
      "text/plain": [
       "[{'x': 7, 'y': 7, 'q': 1},\n",
       " {'x': 3, 'y': 3, 'q': -1},\n",
       " {'x': 7, 'y': 3, 'q': 1},\n",
       " {'x': 4.100649350649349, 'y': 6.0974025478610745, 'q': 1}]"
      ]
     },
     "execution_count": 117,
     "metadata": {},
     "output_type": "execute_result"
    }
   ],
   "source": [
    "charges"
   ]
  },
  {
   "cell_type": "code",
   "execution_count": 16,
   "metadata": {},
   "outputs": [
    {
     "data": {
      "text/plain": [
       "array([[5.38516481, 4.47213595, 3.60555128, 2.82842712, 2.23606798,\n",
       "        2.        , 2.23606798, 2.82842712, 3.60555128, 4.47213595],\n",
       "       [5.09901951, 4.12310563, 3.16227766, 2.23606798, 1.41421356,\n",
       "        1.        , 1.41421356, 2.23606798, 3.16227766, 4.12310563],\n",
       "       [5.        , 4.        , 3.        , 2.        , 1.        ,\n",
       "        0.        , 1.        , 2.        , 3.        , 4.        ],\n",
       "       [5.09901951, 4.12310563, 3.16227766, 2.23606798, 1.41421356,\n",
       "        1.        , 1.41421356, 2.23606798, 3.16227766, 4.12310563],\n",
       "       [5.38516481, 4.47213595, 3.60555128, 2.82842712, 2.23606798,\n",
       "        2.        , 2.23606798, 2.82842712, 3.60555128, 4.47213595],\n",
       "       [5.83095189, 5.        , 4.24264069, 3.60555128, 3.16227766,\n",
       "        3.        , 3.16227766, 3.60555128, 4.24264069, 5.        ],\n",
       "       [6.40312424, 5.65685425, 5.        , 4.47213595, 4.12310563,\n",
       "        4.        , 4.12310563, 4.47213595, 5.        , 5.65685425],\n",
       "       [7.07106781, 6.40312424, 5.83095189, 5.38516481, 5.09901951,\n",
       "        5.        , 5.09901951, 5.38516481, 5.83095189, 6.40312424],\n",
       "       [7.81024968, 7.21110255, 6.70820393, 6.32455532, 6.08276253,\n",
       "        6.        , 6.08276253, 6.32455532, 6.70820393, 7.21110255],\n",
       "       [8.60232527, 8.06225775, 7.61577311, 7.28010989, 7.07106781,\n",
       "        7.        , 7.07106781, 7.28010989, 7.61577311, 8.06225775]])"
      ]
     },
     "execution_count": 16,
     "metadata": {},
     "output_type": "execute_result"
    }
   ],
   "source": [
    "distance"
   ]
  },
  {
   "cell_type": "markdown",
   "metadata": {},
   "source": [
    "meshgrids and pcolormesh"
   ]
  },
  {
   "cell_type": "code",
   "execution_count": 3,
   "metadata": {},
   "outputs": [],
   "source": [
    "# see https://github.com/matplotlib/jupyter-matplotlib for install instructions\n",
    "%matplotlib widget"
   ]
  },
  {
   "cell_type": "code",
   "execution_count": 112,
   "metadata": {},
   "outputs": [
    {
     "data": {
      "application/vnd.jupyter.widget-view+json": {
       "model_id": "",
       "version_major": 2,
       "version_minor": 0
      },
      "text/plain": [
       "Canvas(toolbar=Toolbar(toolitems=[('Home', 'Reset original view', 'home', 'home'), ('Back', 'Back to previous …"
      ]
     },
     "metadata": {},
     "output_type": "display_data"
    },
    {
     "name": "stderr",
     "output_type": "stream",
     "text": [
      "<ipython-input-112-c6bbb0ee4744>:29: RuntimeWarning: divide by zero encountered in true_divide\n",
      "  Ex += q / dr**3 * dr_x\n",
      "<ipython-input-112-c6bbb0ee4744>:29: RuntimeWarning: invalid value encountered in multiply\n",
      "  Ex += q / dr**3 * dr_x\n",
      "<ipython-input-112-c6bbb0ee4744>:30: RuntimeWarning: divide by zero encountered in true_divide\n",
      "  Ey += q / dr**3 * dr_y\n",
      "<ipython-input-112-c6bbb0ee4744>:30: RuntimeWarning: invalid value encountered in multiply\n",
      "  Ey += q / dr**3 * dr_y\n"
     ]
    }
   ],
   "source": [
    "plt.close()  # if we don't close first, we will keep on creating new figures\n",
    "\n",
    "fig = plt.figure()\n",
    "\n",
    "dx = dy = 1.0\n",
    "xmax = ymax = 10+dx\n",
    "xmin = ymin = -10\n",
    "Y, X = np.mgrid[xmin:xmax:dx, ymin:ymax:dy]\n",
    "Yedges, Xedges = np.mgrid[xmin-dx/2:xmax+dx/2:dx, ymin-dy/2:ymax+dy/2:dy]\n",
    "\n",
    "charges = [ {'q': 1, 'x': 5, 'y': 3},\n",
    "            {'q': -1, 'x': -5, 'y': -5},\n",
    "            {'q': 1, 'x': 0, 'y': 3},\n",
    "          ]\n",
    "\n",
    "Ex = np.zeros_like(X)\n",
    "Ey = np.zeros_like(X)\n",
    "\n",
    "for charge in charges:\n",
    "    x = charge['x']\n",
    "    y = charge['y']\n",
    "    q = charge['q']\n",
    "    \n",
    "    dr_x = X - x\n",
    "    dr_y = Y - y\n",
    "\n",
    "    dr = np.sqrt(dr_x**2 + dr_y**2)\n",
    "\n",
    "    Ex += q / dr**3 * dr_x\n",
    "    Ey += q / dr**3 * dr_y\n",
    "    \n",
    "    plt.plot(x, y, 'ro')\n",
    "\n",
    "E = np.sqrt(Ex**2 + Ey**2)\n",
    "\n",
    "plt.pcolormesh(Xedges, Yedges, E)\n",
    "#plt.contourf(X, Y, E, [0.1 , 0.2,0.3, 1, 2, 3])\n",
    "#plt.plot(X, Y, 'k.')\n",
    "#plt.quiver(X, Y, (Ex/E), (Ey/E))\n",
    "plt.colorbar()\n",
    "\n",
    "plt.streamplot(X, Y, Ex, Ey, density=0.7)\n",
    "\n",
    "plt.xlim(xmin, xmax)\n",
    "plt.ylim(ymin, ymax)\n",
    "\n",
    "plt.axis('equal')\n",
    "plt.show()"
   ]
  },
  {
   "cell_type": "code",
   "execution_count": 165,
   "metadata": {},
   "outputs": [
    {
     "data": {
      "text/plain": [
       "[{'q': 1, 'x': 5, 'y': 3},\n",
       " {'q': -1, 'x': -5, 'y': -5},\n",
       " {'q': 1, 'x': 0, 'y': 3},\n",
       " {'q': 1, 'x': 2, 'y': 3}]"
      ]
     },
     "execution_count": 165,
     "metadata": {},
     "output_type": "execute_result"
    }
   ],
   "source": [
    "charges"
   ]
  },
  {
   "cell_type": "code",
   "execution_count": 163,
   "metadata": {},
   "outputs": [],
   "source": []
  },
  {
   "cell_type": "code",
   "execution_count": 164,
   "metadata": {},
   "outputs": [],
   "source": [
    "add_charge(1, 2, 3)"
   ]
  },
  {
   "cell_type": "code",
   "execution_count": 136,
   "metadata": {},
   "outputs": [
    {
     "data": {
      "application/vnd.jupyter.widget-view+json": {
       "model_id": "138af2b60647415182a8810f8be756ac",
       "version_major": 2,
       "version_minor": 0
      },
      "text/plain": [
       "Canvas(toolbar=Toolbar(toolitems=[('Home', 'Reset original view', 'home', 'home'), ('Back', 'Back to previous …"
      ]
     },
     "metadata": {},
     "output_type": "display_data"
    },
    {
     "name": "stderr",
     "output_type": "stream",
     "text": [
      "<ipython-input-136-3d2250d6737a>:72: UserWarning: No contour levels were found within the data range.\n",
      "  contours = plt.contour(X, Y, E, [0.1 , 0.2, 0.3, 1, 2, 3])\n"
     ]
    }
   ],
   "source": [
    "\n",
    "from matplotlib.backend_bases import MouseButton\n",
    "\n",
    "plt.close()  # if we don't close first, we will keep on creating new figures\n",
    "\n",
    "fig, ax = plt.subplots()\n",
    "\n",
    "dx = dy = 0.1\n",
    "xmax = ymax = 10+dx\n",
    "xmin = ymin = -10\n",
    "Y, X = np.mgrid[xmin:xmax:dx, ymin:ymax:dy]\n",
    "Yedges, Xedges = np.mgrid[xmin-dx/2:xmax+dx/2:dx, ymin-dy/2:ymax+dy/2:dy]\n",
    "\n",
    "charges = [ ]\n",
    "\n",
    "def add_charge(q, x, y):\n",
    "    charge = {'q': q, 'x': x, 'y': y}\n",
    "    charges.append(charge)\n",
    "    \n",
    "#add_charge(1, 5, 3)\n",
    "#add_charge(-1, -5, -5)\n",
    "#add_charge(1, 0, 3)\n",
    "\n",
    "def get_ind(e):\n",
    "    epsilon = 0.1\n",
    "    if len(charges) == 0:\n",
    "        return None\n",
    "    \n",
    "    xs = [charge['x'] for charge in charges]\n",
    "    ys = [charge['y'] for charge in charges]\n",
    "    \n",
    "    d = np.hypot(np.asarray(xs) - e.xdata,\n",
    "                np.asarray(ys) - e.ydata,\n",
    "                    )\n",
    "    indseq, = np.nonzero(d == d.min())\n",
    "    ind = indseq[0]\n",
    "        \n",
    "    if d[ind] >= epsilon:\n",
    "        ind = None\n",
    "        \n",
    "    return ind\n",
    "\n",
    "def calculate_electric_field():\n",
    "    global Ex, Ey, E\n",
    "    \n",
    "    Ex = np.zeros_like(X)\n",
    "    Ey = np.zeros_like(X)\n",
    "\n",
    "    for charge in charges:\n",
    "        x = charge['x']\n",
    "        y = charge['y']\n",
    "        q = charge['q']\n",
    "\n",
    "        dr_x = X - x\n",
    "        dr_y = Y - y\n",
    "\n",
    "        dr = np.sqrt(dr_x**2 + dr_y**2)\n",
    "\n",
    "        Ex += q / dr**3 * dr_x\n",
    "        Ey += q / dr**3 * dr_y\n",
    "\n",
    "\n",
    "    E = np.sqrt(Ex**2 + Ey**2)\n",
    "\n",
    "calculate_electric_field()\n",
    "\n",
    "xs = [charge['x'] for charge in charges]\n",
    "ys = [charge['y'] for charge in charges]\n",
    "\n",
    "line, = plt.plot(xs, ys, 'ro')\n",
    "\n",
    "#plt.pcolormesh(Xedges, Yedges, E)\n",
    "contours = plt.contour(X, Y, E, [0.1 , 0.2, 0.3, 1, 2, 3])\n",
    "#plt.plot(X, Y, 'k.')\n",
    "i = (slice(None, None, 10), slice(None, None, 10))\n",
    "#quiver = plt.quiver(X[i], Y[i], (Ex/E)[i], (Ey/E)[i])\n",
    "fieldlines = plt.streamplot(X, Y, Ex, Ey, color='k', linewidth=1, density=0.7)\n",
    "\n",
    "plt.xlim(xmin, xmax)\n",
    "plt.ylim(ymin, ymax)\n",
    "\n",
    "plt.axis('equal')\n",
    "\n",
    "def onClick(e):\n",
    "    global contours, quiver, fieldlines\n",
    "    \n",
    "    if e.inaxes is None:\n",
    "        return\n",
    "\n",
    "    if e.button == MouseButton.LEFT:\n",
    "        ind = get_ind(e)\n",
    "       \n",
    "        add_charge(1, e.xdata, e.ydata)\n",
    "        \n",
    "    elif e.button == MouseButton.RIGHT:\n",
    "        ind = get_ind(e)\n",
    "       \n",
    "        add_charge(-1, e.xdata, e.ydata)\n",
    "            \n",
    "    calculate_electric_field()\n",
    "    \n",
    "    xs = [charge['x'] for charge in charges]\n",
    "    ys = [charge['y'] for charge in charges]\n",
    "        \n",
    "    line.set_data(xs, ys)\n",
    "    \n",
    "    for c in contours.collections:\n",
    "        c.remove()\n",
    "    \n",
    "    while len(ax.patches) > 0:\n",
    "        ax.patches[0].remove()\n",
    "    fieldlines.lines.remove()\n",
    "    \n",
    "    #quiver.remove()\n",
    "    #quiver = plt.quiver(X[i], Y[i], (Ex/E)[i], (Ey/E)[i])\n",
    "    \n",
    "    fieldlines = plt.streamplot(X, Y, Ex, Ey, color='k', linewidth=1, density=0.7)\n",
    "    contours = plt.contour(X, Y, E,  [0.1 , 0.2, 0.3, 1, 2, 3])\n",
    "\n",
    "def onMove(event):\n",
    "    print(event)\n",
    "    \n",
    "fig.canvas.mpl_connect('button_press_event', onClick)\n",
    "fig.canvas.mpl_connect('motion_notify_event', onMove)\n",
    "\n",
    "\n",
    "plt.show()"
   ]
  },
  {
   "cell_type": "code",
   "execution_count": 18,
   "metadata": {},
   "outputs": [],
   "source": [
    "plt.close(fig)"
   ]
  },
  {
   "cell_type": "code",
   "execution_count": 295,
   "metadata": {},
   "outputs": [
    {
     "data": {
      "text/plain": [
       "[1, 2, 3]"
      ]
     },
     "execution_count": 295,
     "metadata": {},
     "output_type": "execute_result"
    }
   ],
   "source": [
    "plt.get_fignums()"
   ]
  },
  {
   "cell_type": "markdown",
   "metadata": {},
   "source": [
    "$${\\bf E}({\\bf r}) = K \\sum_i^N \\frac{q_i}{|{\\bf r} - {\\bf r}_i|^3} ({\\bf r} - {\\bf r}_i)$$"
   ]
  }
 ],
 "metadata": {
  "kernelspec": {
   "display_name": "Python 3",
   "language": "python",
   "name": "python3"
  },
  "language_info": {
   "codemirror_mode": {
    "name": "ipython",
    "version": 3
   },
   "file_extension": ".py",
   "mimetype": "text/x-python",
   "name": "python",
   "nbconvert_exporter": "python",
   "pygments_lexer": "ipython3",
   "version": "3.8.1"
  }
 },
 "nbformat": 4,
 "nbformat_minor": 4
}
