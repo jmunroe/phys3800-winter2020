{
 "cells": [
  {
   "cell_type": "markdown",
   "metadata": {
    "colab_type": "text",
    "id": "kAEYobc6Ywu3"
   },
   "source": [
    "# Multigrid Method for solving Laplace's Equation\n",
    "\n",
    "Physics 3800 Project 2\n",
    "\n",
    "Author: StudentName - StudentId\n",
    "\n",
    "Date: February 2020\n"
   ]
  },
  {
   "cell_type": "markdown",
   "metadata": {
    "colab_type": "text",
    "id": "uNh6zziCYwu-"
   },
   "source": [
    "## 1. Introduction"
   ]
  },
  {
   "cell_type": "markdown",
   "metadata": {
    "colab_type": "text",
    "id": "gMWOl_-0YwvC"
   },
   "source": [
    "Solving partial differential equations (PDEs) is a important mathematical problem in many areas of physics.  In the context determine the electric potential we encounter a boundary value problem which involves solving Laplace's equation\n",
    "\n",
    "$$ \\nabla^2 V({\\textbf r}) = \\frac{\\partial ^2 V}{\\partial x^2} + \\frac{\\partial ^2 V}{\\partial y^2} = 0.$$\n",
    "\n",
    "In the course we have considered a few iterative methods for numerically solving this problem including Gauss-Seidel Relaxation and Successive Over Relaxation. The textbook (Gould et al. 2016) introduces the multigrid method as another approach with the following project:"
   ]
  },
  {
   "cell_type": "markdown",
   "metadata": {
    "colab_type": "text",
    "id": "f5ctpPq0YwvG"
   },
   "source": [
    "> Project 10.26. Multigrid method\n",
    ">\n",
    "> In general, the relaxation method for solving Laplace’s equation is very slow even using overrelaxation. The reason is that the local updates of the relaxation method cannot quickly take into account effects at very large length scales. The *multigrid method* greatly improves performance by using relaxation at many length scales. The important idea is to use a relaxation method to find the values of the potential on coarser and coarser grids, and then use the coarse grid values to determine the fine grid values. The fine grid relaxation updates take into account effects atshort length scales. If we define the initial grid by a lattice spacing $b= 1$, then the coarser gridsare characterized by $b= 2^n$, where $n$ determines the coarseness of the grid and is known as thegrid level. We need to decide how to use the fine grid values of the potential to assign values to a coarser grid, and then how to use a coarse grid to assign values to a finer grid. The first step is called *restriction*  and the second step is called *prolongation*. There is some flexibility on how todo these two operations. We discuss one approach. \n",
    ">\n",
    ">We define the centers of the sites of the coarse grid to be located at the centers of every other site of the fine grid. That is, if the set ${i, j}$ represents the positions of the sites of the fine grid,then ${2i,2j}$ represents the positions of the coarse grid sites. The fine grid sites that are at thesame position as a coarse grid point are assigned the value of the potential of the correspondingcoarse grid point. The fine grid sites that have two coarse grid points as nearest neighbors areassigned the average value of these two coarse grid sites. The other fine grid sites have four coarse grid sites as next nearest neighbors and are assigned the average value of these four coarse grid sites. This prescription specifies how values on the fine grid are computed using the values on the coarse grid.\n",
    ">\n",
    ">In the full weighting prolongation method, each coarse grid site receives one fourth of the potential of the fine grid site at the same position, one eighth of the potential for the four nearestneighbor sites of the fine grid, and one sixteenth of the potential for the four next nearest neighborpoints of the fine grid. The sum of these fractions, $1/4 + 4(1/8) + 4(1/16)$, adds up to unity. An alternative procedure, known as half weighting, ignores the next nearest neighbors and uses one half of the potential of the fine grid site at the same position as the coarse grid site.\n",
    ">\n",
    "> a. Write a program that implements the multigrid method using Gauss-Seidel relaxation on a checkerboard lattice (see Problem 10.11b). In its simplest form the program should allow the user to intervene and decide whether to go to a finer or coarser grid, or to remain at the same level for the next relaxation step.  Have the program print the potential at each site of the current level after each relaxation step. Test your program on a 4×4 grid whose boundary sites are all equal to unity, and whose initial internal sites are set to zero. Make sure that the boundary sites of the coarser grids also are set to unity.\n",
    ">\n",
    "> b.The exact solution for part (a) gives a potential of unity at each point. How many relaxation steps does it take to reach unity within 0.1% at every site by simply using the 4×4 grid? How many steps does it take if you use one coarse grid and continue until the coarse grid values are within 0.1% of unity? Is it necessary to carry out any fine grid relaxation steps to reach the desired accuracy on the fine grid? Next start with the coarsest scale, which is just one site. How many relaxation steps does it take now?\n",
    "> \n",
    "> c. Repeat part (b), but change the boundary so that one side of the boundary is held at a potential of 0.5. Experiment with different sequences of prolongation, restriction, and relaxation.\n",
    "> \n",
    "> d. Assume that the boundary points alternate between zero and unity, and repeat part (b). Does the multigrid method work? Should one go up and down in levels many times instead of staying at the coarsest level and then going down to the finest level?"
   ]
  },
  {
   "cell_type": "markdown",
   "metadata": {
    "colab_type": "text",
    "id": "liDNCPAyYwvI"
   },
   "source": [
    "According to the errata \"Updates and Corrections to the Third Edition\" for (Gould et. al, 2016) it notes that that *the word \"prolongation\" should be replaced by \"restriction\" and the word \"restriction\" should be replaced by \"prolongation\".* We will use those corrected terms for the rest of this project report."
   ]
  },
  {
   "cell_type": "markdown",
   "metadata": {
    "colab_type": "text",
    "id": "kakfQ669YwvR"
   },
   "source": [
    "In this project we will ..."
   ]
  },
  {
   "cell_type": "markdown",
   "metadata": {
    "colab_type": "text",
    "id": "O0LxXwFjYwvS"
   },
   "source": [
    "## 2. Method"
   ]
  },
  {
   "cell_type": "markdown",
   "metadata": {
    "colab_type": "text",
    "id": "Qc1uaVLqYwvU"
   },
   "source": [
    "## 3. Verification of Program"
   ]
  },
  {
   "cell_type": "markdown",
   "metadata": {
    "colab_type": "text",
    "id": "7vMjyTVuYwvX"
   },
   "source": [
    "## 4. Data"
   ]
  },
  {
   "cell_type": "markdown",
   "metadata": {
    "colab_type": "text",
    "id": "-CBLFkAOYwvZ"
   },
   "source": [
    "## 5. Analysis\n",
    "\n"
   ]
  },
  {
   "cell_type": "markdown",
   "metadata": {
    "colab_type": "text",
    "id": "nelf0YUpYwvd"
   },
   "source": [
    "## 6. Interpretation\n"
   ]
  },
  {
   "cell_type": "markdown",
   "metadata": {
    "colab_type": "text",
    "id": "m56iE5dDYwvh"
   },
   "source": [
    "## 7. Critique\n"
   ]
  },
  {
   "cell_type": "markdown",
   "metadata": {
    "colab_type": "text",
    "id": "A4vI8Qg2Ywvj"
   },
   "source": [
    "## 8. References\n"
   ]
  },
  {
   "cell_type": "markdown",
   "metadata": {
    "colab_type": "text",
    "id": "h3zfPe2oYwvl"
   },
   "source": [
    "Gould H., Tobochnik J., Christian W. An Introduction to Computer Simulation Methods Third Edition (revised), 2016."
   ]
  },
  {
   "cell_type": "markdown",
   "metadata": {
    "colab_type": "text",
    "id": "C4xBUwF9Ywvp"
   },
   "source": [
    "## Appendix"
   ]
  },
  {
   "cell_type": "code",
   "execution_count": null,
   "metadata": {
    "colab": {},
    "colab_type": "code",
    "id": "lU0cPqGCYwvu"
   },
   "outputs": [],
   "source": [
    "import numpy as np\n",
    "import matplotlib.pyplot as plt\n",
    "import pandas as pd"
   ]
  },
  {
   "cell_type": "markdown",
   "metadata": {
    "colab_type": "text",
    "id": "E7Y_dS0kYwv4"
   },
   "source": [
    "As motivating problem, solve Laplace's equation on a $N \\times N$ square grid with boundary values of unity. Use an initial value for $V=0$ for the interior sites. We know that the exact solution to this problem is $V = 1$ everywhere so the error at any step in an iterative method is\n",
    "\n",
    "$$ error = 1 - V$$"
   ]
  },
  {
   "cell_type": "markdown",
   "metadata": {
    "colab_type": "text",
    "id": "9IBtJe3yYwv5"
   },
   "source": [
    "For visualization we will need a grid. Here we use `Xc, Yc` to represent the grid centres and `Xe, Ye` to represent the grid edges. Note that the size of the edge grid is one larger than the size of the centre grid."
   ]
  },
  {
   "cell_type": "code",
   "execution_count": null,
   "metadata": {
    "colab": {},
    "colab_type": "code",
    "id": "bI9RTY2hYwv7"
   },
   "outputs": [],
   "source": [
    "N = 8\n",
    "Xc, Yc = np.mgrid[0:N, 0:N]\n",
    "Xe, Ye = np.mgrid[-0.5:N+0.5, -0.5:N+0.5]"
   ]
  },
  {
   "cell_type": "markdown",
   "metadata": {
    "colab_type": "text",
    "id": "NdCDs2PDYwwN"
   },
   "source": [
    "We initialize the problem by creating an array `V` to store the values of the potential.  The boundary values are set to be unity ($V=1$) and the interior points are initialized to be zero.  "
   ]
  },
  {
   "cell_type": "code",
   "execution_count": null,
   "metadata": {
    "colab": {},
    "colab_type": "code",
    "id": "uqanx-HFYwwP"
   },
   "outputs": [],
   "source": [
    "def initializeV(N = 8, top=1, right=1, left=1, bottom=1):\n",
    "  \"initialize a potential V on a NxN grid with given boundary conditions\"\n",
    "\n",
    "  V = np.zeros((N, N), dtype=float)\n",
    "\n",
    "  V[0, :] = bottom\n",
    "  V[-1, :] = top\n",
    "  V[:, 0] = left\n",
    "  V[:, -1] = right\n",
    "\n",
    "  return V"
   ]
  },
  {
   "cell_type": "code",
   "execution_count": 16,
   "metadata": {
    "colab": {
     "base_uri": "https://localhost:8080/",
     "height": 164
    },
    "colab_type": "code",
    "id": "9Q3K5IWmhRdt",
    "outputId": "4b9f2170-f7ae-4fc8-ea80-6f503edfd66b"
   },
   "outputs": [
    {
     "data": {
      "text/plain": [
       "array([[1., 1., 1., 1., 1., 1., 1., 1.],\n",
       "       [1., 0., 0., 0., 0., 0., 0., 0.],\n",
       "       [1., 0., 0., 0., 0., 0., 0., 1.],\n",
       "       [1., 0., 0., 0., 0., 0., 0., 0.],\n",
       "       [1., 0., 0., 0., 0., 0., 0., 1.],\n",
       "       [1., 0., 0., 0., 0., 0., 0., 0.],\n",
       "       [1., 0., 0., 0., 0., 0., 0., 1.],\n",
       "       [1., 1., 1., 1., 1., 1., 1., 0.]])"
      ]
     },
     "execution_count": 16,
     "metadata": {
      "tags": []
     },
     "output_type": "execute_result"
    }
   ],
   "source": [
    "V = initializeV(8, right=[1,0,1,0,1,0,1,0])\n",
    "V"
   ]
  },
  {
   "cell_type": "code",
   "execution_count": 17,
   "metadata": {
    "colab": {
     "base_uri": "https://localhost:8080/",
     "height": 287
    },
    "colab_type": "code",
    "id": "I40RdICPheln",
    "outputId": "dff12092-e305-4a09-da67-c3c2f6060e4d"
   },
   "outputs": [
    {
     "data": {
      "text/plain": [
       "<matplotlib.collections.QuadMesh at 0x7f4e9f37c780>"
      ]
     },
     "execution_count": 17,
     "metadata": {
      "tags": []
     },
     "output_type": "execute_result"
    },
    {
     "data": {
      "image/png": "[encoded data removed]",
      "text/plain": [
       "<Figure size 432x288 with 1 Axes>"
      ]
     },
     "metadata": {
      "tags": []
     },
     "output_type": "display_data"
    }
   ],
   "source": [
    "plt.pcolormesh(V)"
   ]
  },
  {
   "cell_type": "code",
   "execution_count": 24,
   "metadata": {
    "colab": {
     "base_uri": "https://localhost:8080/",
     "height": 324
    },
    "colab_type": "code",
    "id": "JpdH8AnZYwwa",
    "outputId": "5b61135b-b822-4ed5-c815-076987626d9b"
   },
   "outputs": [
    {
     "data": {
      "image/png": "[encoded data removed]",
      "text/plain": [
       "<Figure size 432x360 with 2 Axes>"
      ]
     },
     "metadata": {
      "tags": []
     },
     "output_type": "display_data"
    }
   ],
   "source": [
    "def plotV(V, showgridpoints=False):\n",
    "    N, _ = V.shape\n",
    "\n",
    "    Xc, Yc = np.mgrid[0:N, 0:N]\n",
    "    Xe, Ye = np.mgrid[-0.5:N+0.5, -0.5:N+0.5]\n",
    "    \n",
    "    plt.figure(figsize=(6, 5))\n",
    "    \n",
    "    plt.pcolormesh(Xe, Ye, V, \n",
    "                   edgecolor='w', vmin=0, vmax=1)\n",
    "    plt.colorbar(orientation='vertical')\n",
    "\n",
    "    if showgridpoints:\n",
    "      plt.scatter(Xc[1:-1, 1:-1], Yc[1:-1, 1:-1], \n",
    "                  edgecolor='k', color='w', alpha=0.8)\n",
    "\n",
    "      for i in [ (0, slice(1, -1)),\n",
    "                (-1, slice(1, -1)),\n",
    "                (slice(1, -1), 0),\n",
    "                (slice(1, -1), -1)]:\n",
    "          plt.scatter(Xc[i], Yc[i],  color='k', alpha=0.8)\n",
    "\n",
    "    plt.axis('equal')\n",
    "\n",
    "plotV(V)"
   ]
  },
  {
   "cell_type": "code",
   "execution_count": null,
   "metadata": {
    "colab": {},
    "colab_type": "code",
    "id": "_jq-OGiXYwwj"
   },
   "outputs": [],
   "source": [
    "def GaussSeidelStep(V):\n",
    "    N, _ = V.shape\n",
    "    \n",
    "    for i in range(1, N-1):\n",
    "        for j in range(1, N-1):\n",
    "            V[i, j] = (V[i-1, j] + V[i+1, j] + V[i, j-1] + V[i, j+1])/4\n",
    "\n",
    "    return V"
   ]
  },
  {
   "cell_type": "code",
   "execution_count": null,
   "metadata": {
    "colab": {},
    "colab_type": "code",
    "id": "KdIoXZi1Yww0"
   },
   "outputs": [],
   "source": [
    "V = GaussSeidelStep(V)"
   ]
  },
  {
   "cell_type": "code",
   "execution_count": 30,
   "metadata": {
    "colab": {
     "base_uri": "https://localhost:8080/",
     "height": 324
    },
    "colab_type": "code",
    "id": "rghEMPVbYww6",
    "outputId": "33f14750-53af-4230-cd99-2fa19b237609"
   },
   "outputs": [
    {
     "data": {
      "image/png": "[encoded data removed]",
      "text/plain": [
       "<Figure size 432x360 with 2 Axes>"
      ]
     },
     "metadata": {
      "tags": []
     },
     "output_type": "display_data"
    }
   ],
   "source": [
    "plotV(V)"
   ]
  },
  {
   "cell_type": "code",
   "execution_count": null,
   "metadata": {
    "colab": {},
    "colab_type": "code",
    "id": "GVmw-FmOYwxC"
   },
   "outputs": [],
   "source": [
    "import ipywidgets"
   ]
  },
  {
   "cell_type": "code",
   "execution_count": null,
   "metadata": {
    "colab": {},
    "colab_type": "code",
    "id": "MLT8JjPijksB"
   },
   "outputs": [],
   "source": [
    "Nwidget = ipywidgets.IntSlider()"
   ]
  },
  {
   "cell_type": "code",
   "execution_count": 33,
   "metadata": {
    "colab": {
     "base_uri": "https://localhost:8080/",
     "height": 49,
     "referenced_widgets": [
      "f67cabd53adc40afa44b739fbfd9138d",
      "8706f4e31a8149a695f65dcb34b5434f",
      "9bc6295a866b472e90c99f6c1812154a"
     ]
    },
    "colab_type": "code",
    "id": "JhC504ScjpdD",
    "outputId": "3b229646-6553-4694-859d-2c2f0660fd57"
   },
   "outputs": [
    {
     "data": {
      "application/vnd.jupyter.widget-view+json": {
       "model_id": "f67cabd53adc40afa44b739fbfd9138d",
       "version_major": 2,
       "version_minor": 0
      },
      "text/plain": [
       "IntSlider(value=0)"
      ]
     },
     "metadata": {
      "tags": []
     },
     "output_type": "display_data"
    }
   ],
   "source": [
    "display(Nwidget)"
   ]
  },
  {
   "cell_type": "code",
   "execution_count": 35,
   "metadata": {
    "colab": {
     "base_uri": "https://localhost:8080/",
     "height": 35
    },
    "colab_type": "code",
    "id": "3AxeEhY0jrLB",
    "outputId": "165b0a36-5bc2-4d62-add5-931b2aadfe34"
   },
   "outputs": [
    {
     "data": {
      "text/plain": [
       "26"
      ]
     },
     "execution_count": 35,
     "metadata": {
      "tags": []
     },
     "output_type": "execute_result"
    }
   ],
   "source": [
    "Nwidget.value"
   ]
  },
  {
   "cell_type": "code",
   "execution_count": null,
   "metadata": {
    "colab": {},
    "colab_type": "code",
    "id": "yJU_wJ95jttE"
   },
   "outputs": [],
   "source": [
    "button = ipywidgets.Button(description='Click Me')"
   ]
  },
  {
   "cell_type": "code",
   "execution_count": 46,
   "metadata": {
    "colab": {
     "base_uri": "https://localhost:8080/",
     "height": 970,
     "referenced_widgets": [
      "68b30cb3df7842d1be8b8fd115b56bc6",
      "6e8acaa5d8cb405ea8b89b268eed9e96",
      "0ab47290ec5949c58f3b4ded0b79253c"
     ]
    },
    "colab_type": "code",
    "id": "geTCA85AjzYF",
    "outputId": "9ab29c62-9ecd-404d-cbe2-f1d4a26584aa"
   },
   "outputs": [
    {
     "data": {
      "application/vnd.jupyter.widget-view+json": {
       "model_id": "68b30cb3df7842d1be8b8fd115b56bc6",
       "version_major": 2,
       "version_minor": 0
      },
      "text/plain": [
       "Button(description='Click Me', style=ButtonStyle())"
      ]
     },
     "metadata": {
      "tags": []
     },
     "output_type": "display_data"
    },
    {
     "data": {
      "image/png": "[encoded data removed]",
      "text/plain": [
       "<Figure size 432x360 with 2 Axes>"
      ]
     },
     "metadata": {
      "tags": []
     },
     "output_type": "display_data"
    },
    {
     "data": {
      "image/png": "[encoded data removed]",
      "text/plain": [
       "<Figure size 432x360 with 2 Axes>"
      ]
     },
     "metadata": {
      "tags": []
     },
     "output_type": "display_data"
    },
    {
     "data": {
      "image/png": "[encoded data removed]",
      "text/plain": [
       "<Figure size 432x360 with 2 Axes>"
      ]
     },
     "metadata": {
      "tags": []
     },
     "output_type": "display_data"
    }
   ],
   "source": [
    "display(button)"
   ]
  },
  {
   "cell_type": "code",
   "execution_count": null,
   "metadata": {
    "colab": {},
    "colab_type": "code",
    "id": "DhcdXvn2j-Ax"
   },
   "outputs": [],
   "source": [
    "def doStep(b):\n",
    "  global V\n",
    "  V = GaussSeidelStep(V)\n",
    "  plotV(V)\n",
    "  plt.show()"
   ]
  },
  {
   "cell_type": "code",
   "execution_count": null,
   "metadata": {
    "colab": {},
    "colab_type": "code",
    "id": "TzztrjLmkJgE"
   },
   "outputs": [],
   "source": [
    "button.on_click(doStep)"
   ]
  },
  {
   "cell_type": "markdown",
   "metadata": {
    "colab_type": "text",
    "id": "FYy_MXSClvUO"
   },
   "source": [
    "### Restriction \n",
    "Each coarse grid site receives one fourth of the potential of the fine grid site at the same position, one eighth of the potential for the four nearest neighbor sites of the fine grid, and one sixteenth of the potential for the four next nearest neighborpoints of the fine grid."
   ]
  },
  {
   "cell_type": "code",
   "execution_count": null,
   "metadata": {
    "colab": {},
    "colab_type": "code",
    "id": "ecXaixjRkNC6"
   },
   "outputs": [],
   "source": [
    "def restriction(V):\n",
    "  \"\"\"project V on to a corser grid\"\"\"\n",
    "\n",
    "  N, _ = V.shape\n",
    "\n",
    "  corseN = N // 2\n",
    "  corseV = np.zeros( (corseN, corseN))\n",
    "\n",
    "  # loop through all point of the corse grid\n",
    "  for i  in ...\n",
    "    for j in ...\n",
    "       \n",
    "\n",
    "  return corseV\n"
   ]
  },
  {
   "cell_type": "code",
   "execution_count": 60,
   "metadata": {
    "colab": {
     "base_uri": "https://localhost:8080/",
     "height": 631
    },
    "colab_type": "code",
    "id": "pQUCwDR1lQjQ",
    "outputId": "0dc141a8-18a6-4af2-c36b-4476d64a72b6"
   },
   "outputs": [
    {
     "data": {
      "image/png": "[encoded data removed]",
      "text/plain": [
       "<Figure size 432x360 with 2 Axes>"
      ]
     },
     "metadata": {
      "tags": []
     },
     "output_type": "display_data"
    },
    {
     "data": {
      "image/png": "[encoded data removed]",
      "text/plain": [
       "<Figure size 432x360 with 2 Axes>"
      ]
     },
     "metadata": {
      "tags": []
     },
     "output_type": "display_data"
    }
   ],
   "source": [
    "corseV = restriction(V)\n",
    "plotV(V, showgridpoints=True)\n",
    "plotV(corseV, showgridpoints=True)"
   ]
  },
  {
   "cell_type": "code",
   "execution_count": null,
   "metadata": {
    "colab": {},
    "colab_type": "code",
    "id": "jekidSMKkeBU"
   },
   "outputs": [],
   "source": [
    "def prolongation(V):\n",
    "  \"\"\"interpolate V on to a finer grid\"\"\"\n",
    "  pass"
   ]
  },
  {
   "cell_type": "code",
   "execution_count": null,
   "metadata": {
    "colab": {},
    "colab_type": "code",
    "id": "wmZsJVyckfou"
   },
   "outputs": [],
   "source": []
  }
 ],
 "metadata": {
  "colab": {
   "name": "Copy of Project2.ipynb",
   "provenance": []
  },
  "kernelspec": {
   "display_name": "Python 3",
   "language": "python",
   "name": "python3"
  },
  "language_info": {
   "codemirror_mode": {
    "name": "ipython",
    "version": 3
   },
   "file_extension": ".py",
   "mimetype": "text/x-python",
   "name": "python",
   "nbconvert_exporter": "python",
   "pygments_lexer": "ipython3",
   "version": "3.8.1"
  },
  "widgets": {
   "application/vnd.jupyter.widget-state+json": {
    "0ab47290ec5949c58f3b4ded0b79253c": {
     "model_module": "@jupyter-widgets/base",
     "model_name": "LayoutModel",
     "state": {
      "_model_module": "@jupyter-widgets/base",
      "_model_module_version": "1.2.0",
      "_model_name": "LayoutModel",
      "_view_count": null,
      "_view_module": "@jupyter-widgets/base",
      "_view_module_version": "1.2.0",
      "_view_name": "LayoutView",
      "align_content": null,
      "align_items": null,
      "align_self": null,
      "border": null,
      "bottom": null,
      "display": null,
      "flex": null,
      "flex_flow": null,
      "grid_area": null,
      "grid_auto_columns": null,
      "grid_auto_flow": null,
      "grid_auto_rows": null,
      "grid_column": null,
      "grid_gap": null,
      "grid_row": null,
      "grid_template_areas": null,
      "grid_template_columns": null,
      "grid_template_rows": null,
      "height": null,
      "justify_content": null,
      "justify_items": null,
      "left": null,
      "margin": null,
      "max_height": null,
      "max_width": null,
      "min_height": null,
      "min_width": null,
      "object_fit": null,
      "object_position": null,
      "order": null,
      "overflow": null,
      "overflow_x": null,
      "overflow_y": null,
      "padding": null,
      "right": null,
      "top": null,
      "visibility": null,
      "width": null
     }
    },
    "68b30cb3df7842d1be8b8fd115b56bc6": {
     "model_module": "@jupyter-widgets/controls",
     "model_name": "ButtonModel",
     "state": {
      "_dom_classes": [],
      "_model_module": "@jupyter-widgets/controls",
      "_model_module_version": "1.5.0",
      "_model_name": "ButtonModel",
      "_view_count": null,
      "_view_module": "@jupyter-widgets/controls",
      "_view_module_version": "1.5.0",
      "_view_name": "ButtonView",
      "button_style": "",
      "description": "Click Me",
      "disabled": false,
      "icon": "",
      "layout": "IPY_MODEL_0ab47290ec5949c58f3b4ded0b79253c",
      "style": "IPY_MODEL_6e8acaa5d8cb405ea8b89b268eed9e96",
      "tooltip": ""
     }
    },
    "6e8acaa5d8cb405ea8b89b268eed9e96": {
     "model_module": "@jupyter-widgets/controls",
     "model_name": "ButtonStyleModel",
     "state": {
      "_model_module": "@jupyter-widgets/controls",
      "_model_module_version": "1.5.0",
      "_model_name": "ButtonStyleModel",
      "_view_count": null,
      "_view_module": "@jupyter-widgets/base",
      "_view_module_version": "1.2.0",
      "_view_name": "StyleView",
      "button_color": null,
      "font_weight": ""
     }
    },
    "8706f4e31a8149a695f65dcb34b5434f": {
     "model_module": "@jupyter-widgets/controls",
     "model_name": "SliderStyleModel",
     "state": {
      "_model_module": "@jupyter-widgets/controls",
      "_model_module_version": "1.5.0",
      "_model_name": "SliderStyleModel",
      "_view_count": null,
      "_view_module": "@jupyter-widgets/base",
      "_view_module_version": "1.2.0",
      "_view_name": "StyleView",
      "description_width": "",
      "handle_color": null
     }
    },
    "9bc6295a866b472e90c99f6c1812154a": {
     "model_module": "@jupyter-widgets/base",
     "model_name": "LayoutModel",
     "state": {
      "_model_module": "@jupyter-widgets/base",
      "_model_module_version": "1.2.0",
      "_model_name": "LayoutModel",
      "_view_count": null,
      "_view_module": "@jupyter-widgets/base",
      "_view_module_version": "1.2.0",
      "_view_name": "LayoutView",
      "align_content": null,
      "align_items": null,
      "align_self": null,
      "border": null,
      "bottom": null,
      "display": null,
      "flex": null,
      "flex_flow": null,
      "grid_area": null,
      "grid_auto_columns": null,
      "grid_auto_flow": null,
      "grid_auto_rows": null,
      "grid_column": null,
      "grid_gap": null,
      "grid_row": null,
      "grid_template_areas": null,
      "grid_template_columns": null,
      "grid_template_rows": null,
      "height": null,
      "justify_content": null,
      "justify_items": null,
      "left": null,
      "margin": null,
      "max_height": null,
      "max_width": null,
      "min_height": null,
      "min_width": null,
      "object_fit": null,
      "object_position": null,
      "order": null,
      "overflow": null,
      "overflow_x": null,
      "overflow_y": null,
      "padding": null,
      "right": null,
      "top": null,
      "visibility": null,
      "width": null
     }
    },
    "f67cabd53adc40afa44b739fbfd9138d": {
     "model_module": "@jupyter-widgets/controls",
     "model_name": "IntSliderModel",
     "state": {
      "_dom_classes": [],
      "_model_module": "@jupyter-widgets/controls",
      "_model_module_version": "1.5.0",
      "_model_name": "IntSliderModel",
      "_view_count": null,
      "_view_module": "@jupyter-widgets/controls",
      "_view_module_version": "1.5.0",
      "_view_name": "IntSliderView",
      "continuous_update": true,
      "description": "",
      "description_tooltip": null,
      "disabled": false,
      "layout": "IPY_MODEL_9bc6295a866b472e90c99f6c1812154a",
      "max": 100,
      "min": 0,
      "orientation": "horizontal",
      "readout": true,
      "readout_format": "d",
      "step": 1,
      "style": "IPY_MODEL_8706f4e31a8149a695f65dcb34b5434f",
      "value": 26
     }
    }
   }
  }
 },
 "nbformat": 4,
 "nbformat_minor": 4
}
