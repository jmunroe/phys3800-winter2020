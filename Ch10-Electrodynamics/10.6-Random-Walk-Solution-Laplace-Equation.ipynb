{
 "cells": [
  {
   "cell_type": "code",
   "execution_count": 7,
   "metadata": {},
   "outputs": [],
   "source": [
    "import numpy as np\n",
    "import matplotlib.pyplot as plt\n",
    "import pandas as pd\n",
    "\n",
    "%matplotlib inline"
   ]
  },
  {
   "cell_type": "markdown",
   "metadata": {},
   "source": [
    "## Laplace's equation\n",
    "\n",
    "$$ \\nabla ^2 V (x, y, z) = \\frac{\\partial^2V}{\\partial x^2}+\\frac{\\partial^2V}{\\partial y^2}+\\frac{\\partial^2V}{\\partial z^2} = 0$$"
   ]
  },
  {
   "cell_type": "markdown",
   "metadata": {},
   "source": [
    "See Figure 10.1"
   ]
  },
  {
   "cell_type": "code",
   "execution_count": 8,
   "metadata": {},
   "outputs": [],
   "source": [
    "def SOR(N=11, w=1.54, maxError=1e-6):\n",
    "\n",
    "    # setup\n",
    "    isConductor = np.zeros((N, N), dtype=bool)\n",
    "    V = np.zeros((N, N), dtype=float)\n",
    "\n",
    "    isConductor[0, :] = True\n",
    "    V[0, :] = 5\n",
    "    isConductor[-1, :] = True\n",
    "    V[-1, :] = 5\n",
    "    isConductor[:, 0] = True\n",
    "    V[:, 0] = 10\n",
    "    isConductor[:, -1] = True\n",
    "    V[:, -1] = 10\n",
    "    \n",
    "    V[0, 0] = V[0, -1] = np.nan\n",
    "    V[-1, 0] = V[-1, -1] = np.nan\n",
    "    step = 0\n",
    "    \n",
    "    rows = []\n",
    "    while True:\n",
    "        # relax\n",
    "        error = 0\n",
    "        for i in range(1, N-1):\n",
    "            for j in range(1, N-1):\n",
    "                if not isConductor[i, j]:\n",
    "                    v = (V[i-1, j] + V[i+1, j] + V[i, j-1] + V[i, j+1])/4\n",
    "                    dv = V[i, j] - v\n",
    "                    error = max(error, abs(dv))\n",
    "                    V[i, j] = w * v + (1 - w)*V[i, j]\n",
    "        step += 1\n",
    "        \n",
    "        rows.append({'step': step, 'error': error})\n",
    "        \n",
    "        if error < maxError:\n",
    "            break\n",
    "    \n",
    "    return { 'errors': pd.DataFrame(rows),\n",
    "             'soln': V}      "
   ]
  },
  {
   "cell_type": "code",
   "execution_count": 9,
   "metadata": {},
   "outputs": [],
   "source": [
    "rows = []\n",
    "maxError = 1e-4\n",
    "\n",
    "for w in np.arange(1, 1.95, 0.01):\n",
    "    \n",
    "    N = 11\n",
    "    row = {'w': w}\n",
    "    \n",
    "    results = SOR(w=w, N=N, maxError=maxError)\n",
    "    SOR_steps = len(results['errors'])\n",
    "\n",
    "    row[f'steps'] = SOR_steps \n",
    "        \n",
    "    rows.append(row)\n",
    "                \n",
    "df = pd.DataFrame(rows)"
   ]
  },
  {
   "cell_type": "code",
   "execution_count": 10,
   "metadata": {},
   "outputs": [
    {
     "data": {
      "text/plain": [
       "w         1.54\n",
       "steps    23.00\n",
       "Name: 54, dtype: float64"
      ]
     },
     "execution_count": 10,
     "metadata": {},
     "output_type": "execute_result"
    }
   ],
   "source": [
    "idx = df.steps.idxmin()\n",
    "df.iloc[idx]      "
   ]
  },
  {
   "cell_type": "code",
   "execution_count": 11,
   "metadata": {},
   "outputs": [
    {
     "data": {
      "image/png": "[encoded data removed]",
      "text/plain": [
       "<Figure size 432x288 with 1 Axes>"
      ]
     },
     "metadata": {
      "needs_background": "light"
     },
     "output_type": "display_data"
    }
   ],
   "source": [
    "plt.plot(df.w, df.steps)\n",
    "idx = df.steps.idxmin()\n",
    "w, steps = df.iloc[idx]\n",
    "plt.plot(w, steps, 'o')\n",
    "plt.text(w, steps-10, f'Minimum at w = {w:.2f}')\n",
    "plt.ylim(0, 160)\n",
    "plt.show()"
   ]
  },
  {
   "cell_type": "code",
   "execution_count": 27,
   "metadata": {},
   "outputs": [],
   "source": [
    "results = SOR(N=11, w=1.54, maxError=1e-14)\n",
    "V = results['soln']"
   ]
  },
  {
   "cell_type": "code",
   "execution_count": 28,
   "metadata": {},
   "outputs": [
    {
     "data": {
      "text/html": [
       "<div>\n",
       "<style scoped>\n",
       "    .dataframe tbody tr th:only-of-type {\n",
       "        vertical-align: middle;\n",
       "    }\n",
       "\n",
       "    .dataframe tbody tr th {\n",
       "        vertical-align: top;\n",
       "    }\n",
       "\n",
       "    .dataframe thead th {\n",
       "        text-align: right;\n",
       "    }\n",
       "</style>\n",
       "<table border=\"1\" class=\"dataframe\">\n",
       "  <thead>\n",
       "    <tr style=\"text-align: right;\">\n",
       "      <th></th>\n",
       "      <th>step</th>\n",
       "      <th>error</th>\n",
       "    </tr>\n",
       "  </thead>\n",
       "  <tbody>\n",
       "    <tr>\n",
       "      <th>0</th>\n",
       "      <td>1</td>\n",
       "      <td>6.216574e+00</td>\n",
       "    </tr>\n",
       "    <tr>\n",
       "      <th>1</th>\n",
       "      <td>2</td>\n",
       "      <td>4.030814e+00</td>\n",
       "    </tr>\n",
       "    <tr>\n",
       "      <th>2</th>\n",
       "      <td>3</td>\n",
       "      <td>2.627112e+00</td>\n",
       "    </tr>\n",
       "    <tr>\n",
       "      <th>3</th>\n",
       "      <td>4</td>\n",
       "      <td>1.672393e+00</td>\n",
       "    </tr>\n",
       "    <tr>\n",
       "      <th>4</th>\n",
       "      <td>5</td>\n",
       "      <td>9.868590e-01</td>\n",
       "    </tr>\n",
       "    <tr>\n",
       "      <th>...</th>\n",
       "      <td>...</td>\n",
       "      <td>...</td>\n",
       "    </tr>\n",
       "    <tr>\n",
       "      <th>57</th>\n",
       "      <td>58</td>\n",
       "      <td>1.874056e-13</td>\n",
       "    </tr>\n",
       "    <tr>\n",
       "      <th>58</th>\n",
       "      <td>59</td>\n",
       "      <td>7.194245e-14</td>\n",
       "    </tr>\n",
       "    <tr>\n",
       "      <th>59</th>\n",
       "      <td>60</td>\n",
       "      <td>1.598721e-14</td>\n",
       "    </tr>\n",
       "    <tr>\n",
       "      <th>60</th>\n",
       "      <td>61</td>\n",
       "      <td>1.332268e-14</td>\n",
       "    </tr>\n",
       "    <tr>\n",
       "      <th>61</th>\n",
       "      <td>62</td>\n",
       "      <td>5.329071e-15</td>\n",
       "    </tr>\n",
       "  </tbody>\n",
       "</table>\n",
       "<p>62 rows × 2 columns</p>\n",
       "</div>"
      ],
      "text/plain": [
       "    step         error\n",
       "0      1  6.216574e+00\n",
       "1      2  4.030814e+00\n",
       "2      3  2.627112e+00\n",
       "3      4  1.672393e+00\n",
       "4      5  9.868590e-01\n",
       "..   ...           ...\n",
       "57    58  1.874056e-13\n",
       "58    59  7.194245e-14\n",
       "59    60  1.598721e-14\n",
       "60    61  1.332268e-14\n",
       "61    62  5.329071e-15\n",
       "\n",
       "[62 rows x 2 columns]"
      ]
     },
     "execution_count": 28,
     "metadata": {},
     "output_type": "execute_result"
    }
   ],
   "source": [
    "results['errors']"
   ]
  },
  {
   "cell_type": "code",
   "execution_count": 29,
   "metadata": {},
   "outputs": [],
   "source": [
    "X, Y = np.mgrid[0:N, 0:N]\n",
    "Xedge, Yedge = np.mgrid[-0.5:N+0.5, -0.5:N+0.5]"
   ]
  },
  {
   "cell_type": "code",
   "execution_count": 30,
   "metadata": {},
   "outputs": [
    {
     "data": {
      "image/png": "[encoded data removed]",
      "text/plain": [
       "<Figure size 432x288 with 2 Axes>"
      ]
     },
     "metadata": {
      "needs_background": "light"
     },
     "output_type": "display_data"
    }
   ],
   "source": [
    "plt.pcolormesh(Xedge, Yedge, V, \n",
    "               edgecolor='w', vmin=0, vmax=10)\n",
    "plt.colorbar()\n",
    "\n",
    "plt.scatter(X[1:-1, 1:-1], Y[1:-1, 1:-1], \n",
    "            edgecolor='k', color='w', alpha=0.5)\n",
    "\n",
    "for i in [ (0, slice(1, -1)),\n",
    "           (-1, slice(1, -1)),\n",
    "           (slice(1, -1), 0),\n",
    "           (slice(1, -1), -1)]:\n",
    "    plt.scatter(X[i], Y[i],  color='k', alpha=0.5)\n",
    "\n",
    "\n",
    "plt.show()"
   ]
  },
  {
   "cell_type": "code",
   "execution_count": 31,
   "metadata": {},
   "outputs": [
    {
     "data": {
      "text/plain": [
       "7.500000000000004"
      ]
     },
     "execution_count": 31,
     "metadata": {},
     "output_type": "execute_result"
    }
   ],
   "source": [
    "V[5,5]"
   ]
  },
  {
   "cell_type": "code",
   "execution_count": 32,
   "metadata": {},
   "outputs": [],
   "source": [
    "V_SOR = V"
   ]
  },
  {
   "cell_type": "markdown",
   "metadata": {},
   "source": [
    "## 10.6 Random Walk Solution of Laplace's Equation"
   ]
  },
  {
   "cell_type": "markdown",
   "metadata": {},
   "source": [
    "$$ V(x, y) = \\frac{1}{4} \\sum_{i=1}^4 V(i)$$"
   ]
  },
  {
   "cell_type": "markdown",
   "metadata": {},
   "source": [
    "This can also be interpreted probalistically by considering random walkers."
   ]
  },
  {
   "cell_type": "markdown",
   "metadata": {},
   "source": [
    "See algorithm in section 10.6"
   ]
  },
  {
   "cell_type": "code",
   "execution_count": 63,
   "metadata": {},
   "outputs": [],
   "source": [
    "@jit\n",
    "def randomWalkSolver():\n",
    "    \n",
    "    N = 11\n",
    "    \n",
    "    # setup\n",
    "    isConductor = np.zeros((N, N), dtype=np.bool8)\n",
    "    V = np.zeros((N, N), dtype=np.float32)\n",
    "\n",
    "    isConductor[0, :] = True\n",
    "    V[0, :] = 5\n",
    "    isConductor[-1, :] = True\n",
    "    V[-1, :] = 5\n",
    "    isConductor[:, 0] = True\n",
    "    V[:, 0] = 10\n",
    "    isConductor[:, -1] = True\n",
    "    V[:, -1] = 10\n",
    "    \n",
    "    V[0, 0] = V[0, -1] = np.nan\n",
    "    V[-1, 0] = V[-1, -1] = np.nan\n",
    "    V[1:N-1, 1:N-1] = np.nan\n",
    "    \n",
    "    directions = [(0,1), (0,-1), (1,0), (-1,0)]\n",
    "    \n",
    "    for x0 in range(1, N-1):\n",
    "        for y0 in range(1, N-1):\n",
    "\n",
    "            n = 1000\n",
    "\n",
    "            Vsum = 0\n",
    "            for k in range(n):\n",
    "                x = x0\n",
    "                y = y0\n",
    "                while not isConductor[x, y]:\n",
    "                    i = np.random.randint(4)\n",
    "                    dx, dy = directions[i]\n",
    "                    x += dx\n",
    "                    y += dy\n",
    "\n",
    "                    \n",
    "                Vsum += V[x, y]\n",
    "\n",
    "            V[x0, y0] = Vsum/n\n",
    "            \n",
    "    return V\n",
    "        "
   ]
  },
  {
   "cell_type": "code",
   "execution_count": 64,
   "metadata": {},
   "outputs": [
    {
     "data": {
      "text/plain": [
       "CPUDispatcher(<function randomWalkSolver at 0x12adbcf70>)"
      ]
     },
     "execution_count": 64,
     "metadata": {},
     "output_type": "execute_result"
    }
   ],
   "source": [
    "randomWalkSolver"
   ]
  },
  {
   "cell_type": "code",
   "execution_count": 70,
   "metadata": {},
   "outputs": [
    {
     "name": "stdout",
     "output_type": "stream",
     "text": [
      "CPU times: user 12.5 ms, sys: 1.16 ms, total: 13.6 ms\n",
      "Wall time: 22.4 ms\n"
     ]
    }
   ],
   "source": [
    "%%time\n",
    "V_RW = randomWalkSolver()"
   ]
  },
  {
   "cell_type": "code",
   "execution_count": 51,
   "metadata": {},
   "outputs": [
    {
     "data": {
      "text/plain": [
       "<matplotlib.colorbar.Colorbar at 0x12950f3d0>"
      ]
     },
     "execution_count": 51,
     "metadata": {},
     "output_type": "execute_result"
    },
    {
     "data": {
      "image/png": "[encoded data removed]",
      "text/plain": [
       "<Figure size 432x288 with 2 Axes>"
      ]
     },
     "metadata": {
      "needs_background": "light"
     },
     "output_type": "display_data"
    }
   ],
   "source": [
    "plt.pcolormesh(Xedge, Yedge, V_RW, \n",
    "               edgecolor='w', vmin=0, vmax=10)\n",
    "plt.colorbar()"
   ]
  },
  {
   "cell_type": "code",
   "execution_count": 52,
   "metadata": {},
   "outputs": [
    {
     "data": {
      "text/plain": [
       "<matplotlib.colorbar.Colorbar at 0x1295fda60>"
      ]
     },
     "execution_count": 52,
     "metadata": {},
     "output_type": "execute_result"
    },
    {
     "data": {
      "image/png": "[encoded data removed]",
      "text/plain": [
       "<Figure size 432x288 with 2 Axes>"
      ]
     },
     "metadata": {
      "needs_background": "light"
     },
     "output_type": "display_data"
    }
   ],
   "source": [
    "plt.pcolormesh(Xedge, Yedge, abs(V_RW - V_SOR)/V_SOR, \n",
    "               edgecolor='w', vmin=0, vmax=0.10)\n",
    "plt.colorbar()"
   ]
  },
  {
   "cell_type": "code",
   "execution_count": 42,
   "metadata": {},
   "outputs": [],
   "source": [
    "from numba import jit"
   ]
  },
  {
   "cell_type": "code",
   "execution_count": 71,
   "metadata": {},
   "outputs": [],
   "source": [
    "@jit\n",
    "def randomWalkSolver():\n",
    "    \n",
    "    N = 11\n",
    "    \n",
    "    # setup\n",
    "    isConductor = np.zeros((N, N), dtype=np.bool8)\n",
    "    V = np.zeros((N, N))\n",
    "\n",
    "    isConductor[0, :] = True\n",
    "    V[0, :] = 5\n",
    "    isConductor[-1, :] = True\n",
    "    V[-1, :] = 5\n",
    "    isConductor[:, 0] = True\n",
    "    V[:, 0] = 10\n",
    "    isConductor[:, -1] = True\n",
    "    V[:, -1] = 10\n",
    "    \n",
    "    V[0, 0] = V[0, -1] = np.nan\n",
    "    V[-1, 0] = V[-1, -1] = np.nan\n",
    "    V[1:N-1, 1:N-1] = np.nan\n",
    "    \n",
    "    num_walkers = np.zeros((N, N))\n",
    "    \n",
    "    directions = [(0,1), (0,-1), (1,0), (-1,0)]\n",
    "    \n",
    "    for x0 in range(1,N-1):\n",
    "        for y0 in range(1,N-1):\n",
    "            V[x0, y0] = 0 # initial guess\n",
    "\n",
    "            n = 0\n",
    "\n",
    "            Vsum = 0\n",
    "            Vsum_sqr = 0\n",
    "            while True:\n",
    "                x = x0\n",
    "                y = y0\n",
    "                while not isConductor[x, y]:\n",
    "                    i = np.random.randint(4)\n",
    "                    dx, dy = directions[i]\n",
    "                    x += dx\n",
    "                    y += dy\n",
    "                \n",
    "                n += 1\n",
    "                Vsum += V[x, y]\n",
    "                Vsum_sqr += V[x, y]**2\n",
    "                \n",
    "                if n > 1000:\n",
    "                    σ = np.sqrt((Vsum_sqr - (Vsum**2)/n)/(n-1))\n",
    "                    ##print(f\"{n}, {Vsum/n:.2f}, {σ/np.sqrt(n):.3f}\")\n",
    "                    if σ/np.sqrt(n) < 0.005:\n",
    "                        break\n",
    "\n",
    "            V[x0, y0] = Vsum/n\n",
    "            num_walkers[x0, y0] = n\n",
    "            \n",
    "    return V, num_walkers"
   ]
  },
  {
   "cell_type": "code",
   "execution_count": null,
   "metadata": {},
   "outputs": [],
   "source": []
  },
  {
   "cell_type": "code",
   "execution_count": 73,
   "metadata": {},
   "outputs": [
    {
     "name": "stdout",
     "output_type": "stream",
     "text": [
      "CPU times: user 2.94 s, sys: 77.8 ms, total: 3.02 s\n",
      "Wall time: 4.11 s\n"
     ]
    }
   ],
   "source": [
    "%%time\n",
    "V_RW, num_walkers = randomWalkSolver()"
   ]
  },
  {
   "cell_type": "code",
   "execution_count": 74,
   "metadata": {},
   "outputs": [
    {
     "data": {
      "text/plain": [
       "<matplotlib.colorbar.Colorbar at 0x12ad89940>"
      ]
     },
     "execution_count": 74,
     "metadata": {},
     "output_type": "execute_result"
    },
    {
     "data": {
      "image/png": "[encoded data removed]",
      "text/plain": [
       "<Figure size 432x288 with 2 Axes>"
      ]
     },
     "metadata": {
      "needs_background": "light"
     },
     "output_type": "display_data"
    }
   ],
   "source": [
    "plt.pcolormesh(Xedge, Yedge, V_RW, \n",
    "               edgecolor='w', vmin=0, vmax=10)\n",
    "plt.colorbar()"
   ]
  },
  {
   "cell_type": "code",
   "execution_count": 75,
   "metadata": {},
   "outputs": [
    {
     "data": {
      "text/plain": [
       "<matplotlib.colorbar.Colorbar at 0x12b1cb460>"
      ]
     },
     "execution_count": 75,
     "metadata": {},
     "output_type": "execute_result"
    },
    {
     "data": {
      "image/png": "[encoded data removed]",
      "text/plain": [
       "<Figure size 432x288 with 2 Axes>"
      ]
     },
     "metadata": {
      "needs_background": "light"
     },
     "output_type": "display_data"
    }
   ],
   "source": [
    "plt.pcolormesh(Xedge, Yedge, abs(V_RW - V_SOR), \n",
    "               edgecolor='w', vmin=0, vmax=0.02)\n",
    "plt.colorbar()"
   ]
  },
  {
   "cell_type": "code",
   "execution_count": 76,
   "metadata": {},
   "outputs": [
    {
     "data": {
      "text/plain": [
       "<matplotlib.colorbar.Colorbar at 0x12ad6c4f0>"
      ]
     },
     "execution_count": 76,
     "metadata": {},
     "output_type": "execute_result"
    },
    {
     "data": {
      "image/png": "[encoded data removed]",
      "text/plain": [
       "<Figure size 432x288 with 2 Axes>"
      ]
     },
     "metadata": {
      "needs_background": "light"
     },
     "output_type": "display_data"
    }
   ],
   "source": [
    "plt.pcolormesh(Xedge, Yedge, num_walkers,\n",
    "               edgecolor='w')\n",
    "plt.colorbar()"
   ]
  },
  {
   "cell_type": "markdown",
   "metadata": {},
   "source": [
    "## Green's Function"
   ]
  },
  {
   "cell_type": "markdown",
   "metadata": {},
   "source": [
    "$$ V(x, y) = \\frac{1}{n} \\sum_{x_b, y_b} G(x, y, x_b, y_b) V(x_b, y_b)$$"
   ]
  },
  {
   "cell_type": "code",
   "execution_count": 77,
   "metadata": {},
   "outputs": [],
   "source": [
    "@jit\n",
    "def calcGreenFunction(n=200):\n",
    "    \n",
    "    N = 11\n",
    "    \n",
    "    # setup\n",
    "    isConductor = np.zeros((N, N), dtype=np.bool8)\n",
    "\n",
    "    isConductor[0, :] = True\n",
    "    isConductor[-1, :] = True\n",
    "    isConductor[:, 0] = True\n",
    "    isConductor[:, -1] = True\n",
    "\n",
    "    G = np.zeros((N, N, N, N))\n",
    "    \n",
    "    directions = [(0,1), (0,-1), (1,0), (-1,0)]\n",
    "    \n",
    "    for x0 in range(1,N-1):\n",
    "        for y0 in range(1,N-1):\n",
    "\n",
    "            for i in range(n):\n",
    "                x = x0\n",
    "                y = y0\n",
    "                while not isConductor[x, y]:\n",
    "                    i = np.random.randint(4)\n",
    "                    dx, dy = directions[i]\n",
    "                    x += dx\n",
    "                    y += dy\n",
    "                \n",
    "                G[x0, y0, x, y] += 1\n",
    "    G /= n\n",
    "    return G"
   ]
  },
  {
   "cell_type": "code",
   "execution_count": 84,
   "metadata": {},
   "outputs": [
    {
     "name": "stdout",
     "output_type": "stream",
     "text": [
      "CPU times: user 217 ms, sys: 6.94 ms, total: 224 ms\n",
      "Wall time: 379 ms\n"
     ]
    }
   ],
   "source": [
    "%%time\n",
    "G = calcGreenFunction(20000)"
   ]
  },
  {
   "cell_type": "code",
   "execution_count": 85,
   "metadata": {},
   "outputs": [],
   "source": [
    "N = 11\n",
    "X, Y = np.mgrid[0:N, 0:N]\n",
    "Xedge, Yedge = np.mgrid[-0.5:N+0.5, -0.5:N+0.5]"
   ]
  },
  {
   "cell_type": "code",
   "execution_count": 86,
   "metadata": {},
   "outputs": [
    {
     "data": {
      "image/png": "[encoded data removed]",
      "text/plain": [
       "<Figure size 432x288 with 2 Axes>"
      ]
     },
     "metadata": {
      "needs_background": "light"
     },
     "output_type": "display_data"
    }
   ],
   "source": [
    "plt.close()\n",
    "plt.figure()\n",
    "x = 2\n",
    "y = 5\n",
    "\n",
    "plt.pcolormesh(Xedge, Yedge, G[x, y, :, :], \n",
    "               edgecolor='k')\n",
    "plt.colorbar()\n",
    "plt.plot(x, y, 'o', color='w')\n",
    "plt.show()"
   ]
  },
  {
   "cell_type": "code",
   "execution_count": 88,
   "metadata": {},
   "outputs": [],
   "source": [
    "%matplotlib widget"
   ]
  },
  {
   "cell_type": "code",
   "execution_count": 94,
   "metadata": {},
   "outputs": [
    {
     "data": {
      "application/vnd.jupyter.widget-view+json": {
       "model_id": "",
       "version_major": 2,
       "version_minor": 0
      },
      "text/plain": [
       "Canvas(toolbar=Toolbar(toolitems=[('Home', 'Reset original view', 'home', 'home'), ('Back', 'Back to previous …"
      ]
     },
     "metadata": {},
     "output_type": "display_data"
    },
    {
     "data": {
      "image/png": "[encoded data removed]",
      "text/plain": [
       "<Figure size 432x288 with 1 Axes>"
      ]
     },
     "metadata": {
      "needs_background": "light"
     },
     "output_type": "display_data"
    }
   ],
   "source": [
    "plt.close()\n",
    "plt.figure()\n",
    "plt.plot([1,2,3])\n",
    "plt.show()"
   ]
  },
  {
   "cell_type": "code",
   "execution_count": 97,
   "metadata": {},
   "outputs": [
    {
     "data": {
      "application/vnd.jupyter.widget-view+json": {
       "model_id": "",
       "version_major": 2,
       "version_minor": 0
      },
      "text/plain": [
       "Canvas(toolbar=Toolbar(toolitems=[('Home', 'Reset original view', 'home', 'home'), ('Back', 'Back to previous …"
      ]
     },
     "metadata": {},
     "output_type": "display_data"
    },
    {
     "data": {
      "image/png": "[encoded data removed]",
      "text/plain": [
       "<Figure size 432x288 with 2 Axes>"
      ]
     },
     "metadata": {
      "needs_background": "light"
     },
     "output_type": "display_data"
    }
   ],
   "source": [
    "plt.close()\n",
    "fig = plt.figure()\n",
    "\n",
    "x = 8\n",
    "y = 8\n",
    "\n",
    "mesh = plt.pcolormesh(Xedge, Yedge, G[x, y, :, :], \n",
    "               edgecolor='k')\n",
    "plt.colorbar()\n",
    "point, = plt.plot(x, y, 'o', color='w')\n",
    "\n",
    "def onClick(event):\n",
    "    global mesh, point\n",
    "    \n",
    "    xs = int(round(event.xdata))\n",
    "    ys = int(round(event.ydata))\n",
    "    point.set_data([xs], [ys])\n",
    "    \n",
    "    mesh.remove()\n",
    "    mesh = plt.pcolormesh(Xedge, Yedge, G[xs, ys, :, :], \n",
    "               edgecolor='k')\n",
    "\n",
    "    \n",
    "fig.canvas.mpl_connect('button_press_event', onClick)\n",
    "\n",
    "plt.show()"
   ]
  },
  {
   "cell_type": "code",
   "execution_count": 98,
   "metadata": {},
   "outputs": [],
   "source": [
    "@jit\n",
    "def evalGreenFunction(G, Vb):\n",
    "    \n",
    "    N = 11\n",
    "    \n",
    "    V = np.zeros((N, N))\n",
    "\n",
    "    V[0, :] = Vb[0, :]\n",
    "    V[-1, :] = Vb[-1, :]\n",
    "    V[:, 0] = Vb[:, 0]\n",
    "    V[:, -1] = Vb[:, -1]\n",
    "    \n",
    "    # evaluate interior points\n",
    "    for x in range(1,N-1):\n",
    "        for y in range(1,N-1):\n",
    "            \n",
    "            # integrate around the boundary\n",
    "            for xb in range(1,N-1):\n",
    "                yb = 0\n",
    "                V[x, y] += G[x, y, xb, yb]*Vb[xb,yb]\n",
    "            for xb in range(1,N-1):\n",
    "                yb = -1\n",
    "                V[x, y] += G[x, y, xb, yb]*Vb[xb,yb]\n",
    "            for yb in range(1,N-1):\n",
    "                xb = 0\n",
    "                V[x, y] += G[x, y, xb, yb]*Vb[xb,yb]\n",
    "            for yb in range(1,N-1):\n",
    "                xb = -1\n",
    "                V[x, y] += G[x, y, xb, yb]*Vb[xb,yb]\n",
    "    return V\n",
    "    "
   ]
  },
  {
   "cell_type": "code",
   "execution_count": 113,
   "metadata": {},
   "outputs": [],
   "source": [
    "N = 11\n",
    "\n",
    "Vb = np.zeros((N, N))\n",
    "\n",
    "Vb[0, :] = 0\n",
    "Vb[-1, :] = 0\n",
    "Vb[:, 0] = 0\n",
    "Vb[:, -1] = 0\n",
    "Vb[5,0] = 80\n",
    "\n",
    "Vb[0, 0] = Vb[0, -1] = np.nan\n",
    "Vb[-1, 0] = Vb[-1, -1] = np.nan"
   ]
  },
  {
   "cell_type": "code",
   "execution_count": 114,
   "metadata": {},
   "outputs": [
    {
     "name": "stdout",
     "output_type": "stream",
     "text": [
      "CPU times: user 31 µs, sys: 1e+03 ns, total: 32 µs\n",
      "Wall time: 37.2 µs\n"
     ]
    }
   ],
   "source": [
    "%%time\n",
    "V_green = evalGreenFunction(G, Vb)"
   ]
  },
  {
   "cell_type": "code",
   "execution_count": 115,
   "metadata": {},
   "outputs": [
    {
     "data": {
      "application/vnd.jupyter.widget-view+json": {
       "model_id": "",
       "version_major": 2,
       "version_minor": 0
      },
      "text/plain": [
       "Canvas(toolbar=Toolbar(toolitems=[('Home', 'Reset original view', 'home', 'home'), ('Back', 'Back to previous …"
      ]
     },
     "metadata": {},
     "output_type": "display_data"
    },
    {
     "data": {
      "image/png": "[encoded data removed]",
      "text/plain": [
       "<Figure size 432x288 with 2 Axes>"
      ]
     },
     "metadata": {
      "needs_background": "light"
     },
     "output_type": "display_data"
    }
   ],
   "source": [
    "plt.close()\n",
    "plt.figure()\n",
    "\n",
    "plt.pcolormesh(Xedge, Yedge, V_green, \n",
    "               edgecolor='w', vmin=0, vmax=10)\n",
    "plt.colorbar()\n",
    "plt.show()"
   ]
  },
  {
   "cell_type": "code",
   "execution_count": 118,
   "metadata": {},
   "outputs": [
    {
     "data": {
      "text/plain": [
       "(11, 11, 11, 11)"
      ]
     },
     "execution_count": 118,
     "metadata": {},
     "output_type": "execute_result"
    }
   ],
   "source": [
    "G.shape"
   ]
  },
  {
   "cell_type": "code",
   "execution_count": 119,
   "metadata": {},
   "outputs": [],
   "source": [
    "np.save('G.npy', G)"
   ]
  },
  {
   "cell_type": "code",
   "execution_count": 120,
   "metadata": {},
   "outputs": [],
   "source": [
    "G = np.load('G.npy')\n"
   ]
  },
  {
   "cell_type": "code",
   "execution_count": 121,
   "metadata": {},
   "outputs": [],
   "source": [
    "np.savez('Gz.npz', G=G)"
   ]
  },
  {
   "cell_type": "code",
   "execution_count": 122,
   "metadata": {},
   "outputs": [
    {
     "data": {
      "text/plain": [
       "['G']"
      ]
     },
     "execution_count": 122,
     "metadata": {},
     "output_type": "execute_result"
    }
   ],
   "source": [
    "data = np.load('Gz.npz')\n",
    "list(data)"
   ]
  },
  {
   "cell_type": "code",
   "execution_count": 123,
   "metadata": {},
   "outputs": [],
   "source": [
    "G = data['G']"
   ]
  },
  {
   "cell_type": "code",
   "execution_count": 124,
   "metadata": {},
   "outputs": [],
   "source": [
    "np.savez_compressed('Gz_compressed.npz', G=G)"
   ]
  },
  {
   "cell_type": "code",
   "execution_count": 125,
   "metadata": {},
   "outputs": [],
   "source": [
    "data = np.load('Gz_compressed.npz')\n",
    "G = data['G']"
   ]
  },
  {
   "cell_type": "code",
   "execution_count": 126,
   "metadata": {},
   "outputs": [],
   "source": [
    "np.savetxt('myarrray.txt', np.random.rand(5,5))"
   ]
  },
  {
   "cell_type": "markdown",
   "metadata": {},
   "source": [
    "## Project 10.26 Multirgrid method"
   ]
  },
  {
   "cell_type": "code",
   "execution_count": 127,
   "metadata": {},
   "outputs": [],
   "source": [
    "np.save('myarray.npy', np.random.rand(5,5\n",
    "                                     ))\n"
   ]
  },
  {
   "cell_type": "code",
   "execution_count": null,
   "metadata": {},
   "outputs": [],
   "source": []
  }
 ],
 "metadata": {
  "kernelspec": {
   "display_name": "Python 3",
   "language": "python",
   "name": "python3"
  },
  "language_info": {
   "codemirror_mode": {
    "name": "ipython",
    "version": 3
   },
   "file_extension": ".py",
   "mimetype": "text/x-python",
   "name": "python",
   "nbconvert_exporter": "python",
   "pygments_lexer": "ipython3",
   "version": "3.8.1"
  }
 },
 "nbformat": 4,
 "nbformat_minor": 4
}
