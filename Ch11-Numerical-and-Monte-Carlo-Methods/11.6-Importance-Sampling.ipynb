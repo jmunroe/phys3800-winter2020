{
 "cells": [
  {
   "cell_type": "markdown",
   "metadata": {},
   "source": [
    "## 11.6 Importance Sampling"
   ]
  },
  {
   "cell_type": "code",
   "execution_count": 193,
   "metadata": {},
   "outputs": [],
   "source": [
    "import matplotlib.pyplot as plt\n",
    "import numpy as np\n",
    "import pandas as pd\n",
    "import sympy as sp"
   ]
  },
  {
   "cell_type": "markdown",
   "metadata": {},
   "source": [
    "We want to numerically evaluted integrals\n",
    "\n",
    "$$ F = \\int_a^b f(x) dx$$"
   ]
  },
  {
   "cell_type": "markdown",
   "metadata": {},
   "source": [
    "The error associated with a Monte Carlo estimate is proportional to\n",
    "\n",
    "$$ \\frac{\\sigma}{\\sqrt{n}}$$\n",
    "\n",
    "So there are two ways to reduce the error - either increase the number of samples or reduce the variance."
   ]
  },
  {
   "cell_type": "markdown",
   "metadata": {},
   "source": [
    "*Importance sampling* techniques reduce $\\sigma$ and improve the efficiency of each sample."
   ]
  },
  {
   "cell_type": "markdown",
   "metadata": {},
   "source": [
    "Introduce a positive function $p(x)$ such that\n",
    "\n",
    "$$\\int_a^b p(x) dx = 1$$\n",
    "\n",
    "and rewrite the integral as \n",
    "\n",
    "$$ F = \\int_a^b \\left[ \\frac{f(x)}{p(x)} \\right] p(x) dx$$"
   ]
  },
  {
   "cell_type": "markdown",
   "metadata": {},
   "source": [
    "We evaluate the intergral by sampling according to the probability distribution $p(x)$ and constructing the sum\n",
    "\n",
    "$$ F_n = \\frac {1}{n} \\sum_{i=1}^{n} \\frac{f(x_i)}{p(x_i)} $$"
   ]
  },
  {
   "cell_type": "markdown",
   "metadata": {},
   "source": [
    "The idea is to choose a form for $p(x)$ that mimics $f(x)$ as much as possible especially where $f(x)$ is large."
   ]
  },
  {
   "cell_type": "markdown",
   "metadata": {},
   "source": [
    "### Example"
   ]
  },
  {
   "cell_type": "markdown",
   "metadata": {},
   "source": [
    "Evaluate the integral (same one as Problem 11.10d, Assignment 3)\n",
    "\n",
    "$$F = \\int_0^1 e^{-x^2} dx$$"
   ]
  },
  {
   "cell_type": "code",
   "execution_count": 194,
   "metadata": {},
   "outputs": [],
   "source": [
    "f = lambda x: np.exp(-x**2)"
   ]
  },
  {
   "cell_type": "markdown",
   "metadata": {},
   "source": [
    "Monte Carlo with uniform sampling:"
   ]
  },
  {
   "cell_type": "code",
   "execution_count": 195,
   "metadata": {},
   "outputs": [],
   "source": [
    "def mc_uniform(n):\n",
    "\n",
    "    xi = np.random.random_sample(int(n))\n",
    "    yi = f(xi)\n",
    "    Fn = np.mean(yi)\n",
    "    σ = np.std(yi)\n",
    "    return {'method': 'Uniform distribution',\n",
    "            '$n$' : n,\n",
    "           '$F_n$' : Fn, \n",
    "           '$\\sigma$' : σ,\n",
    "           '$\\sigma/\\sqrt{n}$' : σ/np.sqrt(n)}"
   ]
  },
  {
   "cell_type": "code",
   "execution_count": 196,
   "metadata": {},
   "outputs": [
    {
     "data": {
      "text/html": [
       "<div>\n",
       "<style scoped>\n",
       "    .dataframe tbody tr th:only-of-type {\n",
       "        vertical-align: middle;\n",
       "    }\n",
       "\n",
       "    .dataframe tbody tr th {\n",
       "        vertical-align: top;\n",
       "    }\n",
       "\n",
       "    .dataframe thead th {\n",
       "        text-align: right;\n",
       "    }\n",
       "</style>\n",
       "<table border=\"1\" class=\"dataframe\">\n",
       "  <thead>\n",
       "    <tr style=\"text-align: right;\">\n",
       "      <th></th>\n",
       "      <th>method</th>\n",
       "      <th>$n$</th>\n",
       "      <th>$F_n$</th>\n",
       "      <th>$\\sigma$</th>\n",
       "      <th>$\\sigma/\\sqrt{n}$</th>\n",
       "    </tr>\n",
       "  </thead>\n",
       "  <tbody>\n",
       "    <tr>\n",
       "      <th>0</th>\n",
       "      <td>Uniform distribution</td>\n",
       "      <td>5000000.0</td>\n",
       "      <td>0.746671</td>\n",
       "      <td>0.201049</td>\n",
       "      <td>0.00009</td>\n",
       "    </tr>\n",
       "  </tbody>\n",
       "</table>\n",
       "</div>"
      ],
      "text/plain": [
       "                 method        $n$     $F_n$  $\\sigma$  $\\sigma/\\sqrt{n}$\n",
       "0  Uniform distribution  5000000.0  0.746671  0.201049            0.00009"
      ]
     },
     "execution_count": 196,
     "metadata": {},
     "output_type": "execute_result"
    }
   ],
   "source": [
    "uniform_row = mc_uniform(5e6)\n",
    "pd.DataFrame([uniform_row])"
   ]
  },
  {
   "cell_type": "markdown",
   "metadata": {},
   "source": [
    "Use importance sampling to choose values where $f(x)$ is large more often.  One choice would be use $p(x) = A e^{-x}$ where $A$ is chosen for normalization.\n",
    "\n",
    "The choice of $p(x)$ is not unique. It just needs to be qualitatively similar."
   ]
  },
  {
   "cell_type": "code",
   "execution_count": 197,
   "metadata": {},
   "outputs": [
    {
     "data": {
      "image/png": "[encoded data removed]",
      "text/plain": [
       "<Figure size 432x288 with 1 Axes>"
      ]
     },
     "metadata": {
      "needs_background": "light"
     },
     "output_type": "display_data"
    }
   ],
   "source": [
    "x = np.linspace(0, 1, 20)\n",
    "plt.plot(x, np.exp(-x**2), label='$e^{-x^2}$')\n",
    "plt.plot(x, np.exp(-x), label='$e^{-x}$')\n",
    "plt.xlabel('x')\n",
    "plt.legend()\n",
    "plt.show()"
   ]
  },
  {
   "cell_type": "markdown",
   "metadata": {},
   "source": [
    "$A$ is chosen so that\n",
    "\n",
    "$$\\int_0^1 p(x) dx = \\int_0^1 A e^{-x} dx = 1$$"
   ]
  },
  {
   "cell_type": "code",
   "execution_count": 198,
   "metadata": {},
   "outputs": [
    {
     "data": {
      "text/latex": [
       "$\\displaystyle \\frac{e}{-1 + e}$"
      ],
      "text/plain": [
       "E/(-1 + E)"
      ]
     },
     "execution_count": 198,
     "metadata": {},
     "output_type": "execute_result"
    }
   ],
   "source": [
    "A, x = sp.symbols('A, x')\n",
    "sp.solve( sp.integrate(A*sp.exp(-x), (x, 0, 1)) - 1, A)[0]"
   ]
  },
  {
   "cell_type": "code",
   "execution_count": 199,
   "metadata": {},
   "outputs": [
    {
     "data": {
      "text/plain": [
       "1.5819767068693265"
      ]
     },
     "execution_count": 199,
     "metadata": {},
     "output_type": "execute_result"
    }
   ],
   "source": [
    "A = np.e / (np.e-1)\n",
    "A"
   ]
  },
  {
   "cell_type": "markdown",
   "metadata": {},
   "source": [
    "From Section 11.5, we learned how to transform a uniform random distribution into a nonuniform random distribution."
   ]
  },
  {
   "cell_type": "code",
   "execution_count": 200,
   "metadata": {},
   "outputs": [
    {
     "data": {
      "text/latex": [
       "$\\displaystyle \\int\\limits_{0}^{x} A e^{- x}\\, dx$"
      ],
      "text/plain": [
       "Integral(A*exp(-x), (x, 0, x))"
      ]
     },
     "execution_count": 200,
     "metadata": {},
     "output_type": "execute_result"
    }
   ],
   "source": [
    "x, A,  r = sp.symbols('x, A, r')\n",
    "p = A*sp.exp(-x)\n",
    "I = sp.Integral(p, (x, 0, x))\n",
    "I"
   ]
  },
  {
   "cell_type": "code",
   "execution_count": 201,
   "metadata": {},
   "outputs": [
    {
     "data": {
      "text/latex": [
       "$\\displaystyle A - A e^{- x}$"
      ],
      "text/plain": [
       "A - A*exp(-x)"
      ]
     },
     "execution_count": 201,
     "metadata": {},
     "output_type": "execute_result"
    }
   ],
   "source": [
    "P = I.doit()\n",
    "P"
   ]
  },
  {
   "cell_type": "code",
   "execution_count": 202,
   "metadata": {},
   "outputs": [
    {
     "data": {
      "text/latex": [
       "$\\displaystyle \\log{\\left(\\frac{A}{A - r} \\right)}$"
      ],
      "text/plain": [
       "log(A/(A - r))"
      ]
     },
     "execution_count": 202,
     "metadata": {},
     "output_type": "execute_result"
    }
   ],
   "source": [
    "soln = sp.solve(sp.Eq(P, r), x)\n",
    "soln[0]"
   ]
  },
  {
   "cell_type": "markdown",
   "metadata": {},
   "source": [
    "So the tranformation\n",
    "\n",
    "$$ x = \\ln\\left( \\frac{A}{A -r}\\right) $$\n",
    "\n",
    "gives samples from a the nonuuniform distribution $p(x) = A e^{-x}$"
   ]
  },
  {
   "cell_type": "markdown",
   "metadata": {},
   "source": [
    "as a valid transformation"
   ]
  },
  {
   "cell_type": "code",
   "execution_count": 215,
   "metadata": {},
   "outputs": [
    {
     "data": {
      "image/png": "[encoded data removed]",
      "text/plain": [
       "<Figure size 432x288 with 1 Axes>"
      ]
     },
     "metadata": {
      "needs_background": "light"
     },
     "output_type": "display_data"
    }
   ],
   "source": [
    "N = 100000\n",
    "r = np.random.random_sample(N)\n",
    "A = np.e / (np.e-1)\n",
    "xi = np.log(A/(A - r)) \n",
    "plt.hist(xi, density=True, bins=50)\n",
    "x = np.linspace(0, 1, 20)\n",
    "plt.plot(x, A*np.exp(-x), 'k--')\n",
    "plt.show()"
   ]
  },
  {
   "cell_type": "code",
   "execution_count": 206,
   "metadata": {},
   "outputs": [],
   "source": [
    "def mc_nonuniform(n):\n",
    "\n",
    "    # uniform distribution\n",
    "    r = np.random.random_sample(int(n))\n",
    "\n",
    "    # normalization constant\n",
    "    A = np.e / (np.e-1)\n",
    "    \n",
    "    # transform to nonuniform distribution\n",
    "    p = lambda x: A*np.exp(-x)\n",
    "    xi = np.log(A/(A -r)) \n",
    "    \n",
    "    yi = f(xi)/p(xi)\n",
    "    \n",
    "    Fn = np.mean(yi)\n",
    "    σ = np.std(yi)\n",
    "    return {'method': 'Non-uniform distribution',\n",
    "            '$n$' : n,\n",
    "           '$F_n$' : Fn, \n",
    "           '$\\sigma$' : σ,\n",
    "           '$\\sigma/\\sqrt{n}$' : σ/np.sqrt(n)}"
   ]
  },
  {
   "cell_type": "code",
   "execution_count": 207,
   "metadata": {},
   "outputs": [
    {
     "data": {
      "text/html": [
       "<div>\n",
       "<style scoped>\n",
       "    .dataframe tbody tr th:only-of-type {\n",
       "        vertical-align: middle;\n",
       "    }\n",
       "\n",
       "    .dataframe tbody tr th {\n",
       "        vertical-align: top;\n",
       "    }\n",
       "\n",
       "    .dataframe thead th {\n",
       "        text-align: right;\n",
       "    }\n",
       "</style>\n",
       "<table border=\"1\" class=\"dataframe\">\n",
       "  <thead>\n",
       "    <tr style=\"text-align: right;\">\n",
       "      <th></th>\n",
       "      <th>method</th>\n",
       "      <th>$n$</th>\n",
       "      <th>$F_n$</th>\n",
       "      <th>$\\sigma$</th>\n",
       "      <th>$\\sigma/\\sqrt{n}$</th>\n",
       "    </tr>\n",
       "  </thead>\n",
       "  <tbody>\n",
       "    <tr>\n",
       "      <th>0</th>\n",
       "      <td>Uniform distribution</td>\n",
       "      <td>5000000.0</td>\n",
       "      <td>0.746671</td>\n",
       "      <td>0.201049</td>\n",
       "      <td>0.000090</td>\n",
       "    </tr>\n",
       "    <tr>\n",
       "      <th>1</th>\n",
       "      <td>Non-uniform distribution</td>\n",
       "      <td>400000.0</td>\n",
       "      <td>0.746849</td>\n",
       "      <td>0.054998</td>\n",
       "      <td>0.000087</td>\n",
       "    </tr>\n",
       "  </tbody>\n",
       "</table>\n",
       "</div>"
      ],
      "text/plain": [
       "                     method        $n$     $F_n$  $\\sigma$  $\\sigma/\\sqrt{n}$\n",
       "0      Uniform distribution  5000000.0  0.746671  0.201049           0.000090\n",
       "1  Non-uniform distribution   400000.0  0.746849  0.054998           0.000087"
      ]
     },
     "execution_count": 207,
     "metadata": {},
     "output_type": "execute_result"
    }
   ],
   "source": [
    "nonuniform_row = mc_nonuniform(4e5)\n",
    "pd.DataFrame([uniform_row, nonuniform_row])"
   ]
  },
  {
   "cell_type": "markdown",
   "metadata": {},
   "source": [
    "$n$ chosen to maintain the same sample mean error."
   ]
  },
  {
   "cell_type": "code",
   "execution_count": 212,
   "metadata": {},
   "outputs": [
    {
     "name": "stdout",
     "output_type": "stream",
     "text": [
      "CPU times: user 115 ms, sys: 13.5 ms, total: 129 ms\n",
      "Wall time: 132 ms\n"
     ]
    }
   ],
   "source": [
    "%%time\n",
    "row = mc_uniform(5e6)"
   ]
  },
  {
   "cell_type": "code",
   "execution_count": 213,
   "metadata": {},
   "outputs": [
    {
     "name": "stdout",
     "output_type": "stream",
     "text": [
      "CPU times: user 21.1 ms, sys: 3.59 ms, total: 24.6 ms\n",
      "Wall time: 25.3 ms\n"
     ]
    }
   ],
   "source": [
    "%%time\n",
    "row = mc_nonuniform(4e5)"
   ]
  },
  {
   "cell_type": "code",
   "execution_count": 210,
   "metadata": {},
   "outputs": [
    {
     "name": "stdout",
     "output_type": "stream",
     "text": [
      "128 ms ± 9.03 ms per loop (mean ± std. dev. of 7 runs, 10 loops each)\n"
     ]
    }
   ],
   "source": [
    "%%timeit\n",
    "row = mc_uniform(5e6)"
   ]
  },
  {
   "cell_type": "code",
   "execution_count": 211,
   "metadata": {},
   "outputs": [
    {
     "name": "stdout",
     "output_type": "stream",
     "text": [
      "19.9 ms ± 2.82 ms per loop (mean ± std. dev. of 7 runs, 10 loops each)\n"
     ]
    }
   ],
   "source": [
    "%%timeit\n",
    "row = mc_nonuniform(4e5)"
   ]
  },
  {
   "cell_type": "markdown",
   "metadata": {},
   "source": [
    "> **Problem 11.15** Importance samplin\n",
    ">\n",
    "> a. Choosef(x) =√1−x2and considerp(x) =A(1−x) forx≥0.  What is the value of A that normalizesp(x) in the unit interval [0,1]? What is the relation for the random variablexin terms ofrfor this form ofp(x)? What is the variance off(x)/p(x) in the unit interval?Evaluate the integral∫10f(x)dxusingn= 106and estimate the probable error of your result.\n",
    "> \n",
    "> b. Choosep(x) =Ae−λx and evaluate the integral ∫π01x2+ cos2xdx.(11.47) Determine the value ofλthat minimizes the variance of the integrand."
   ]
  },
  {
   "cell_type": "code",
   "execution_count": null,
   "metadata": {},
   "outputs": [],
   "source": []
  }
 ],
 "metadata": {
  "kernelspec": {
   "display_name": "Python 3",
   "language": "python",
   "name": "python3"
  },
  "language_info": {
   "codemirror_mode": {
    "name": "ipython",
    "version": 3
   },
   "file_extension": ".py",
   "mimetype": "text/x-python",
   "name": "python",
   "nbconvert_exporter": "python",
   "pygments_lexer": "ipython3",
   "version": "3.8.1"
  }
 },
 "nbformat": 4,
 "nbformat_minor": 4
}
