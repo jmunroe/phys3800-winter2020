{
 "cells": [
  {
   "cell_type": "markdown",
   "metadata": {},
   "source": [
    "## 11.2 Simple Monte Carlo Evalution of Integrals\n"
   ]
  },
  {
   "cell_type": "markdown",
   "metadata": {},
   "source": [
    "![AndNowForSomethingCompletelyDifferent](https://media.giphy.com/media/1MclE9Kaw3996/giphy.gif)"
   ]
  },
  {
   "cell_type": "code",
   "execution_count": 2,
   "metadata": {},
   "outputs": [],
   "source": [
    "import matplotlib.pyplot as plt\n",
    "import numpy as np\n",
    "import pandas as pd\n",
    "import ipywidgets"
   ]
  },
  {
   "cell_type": "markdown",
   "metadata": {},
   "source": [
    "Consider\n",
    "\n",
    "$$ f(x) = 4\\sqrt{1-x^2}$$\n",
    "\n",
    "over the interval [0,1] and so\n",
    "\n",
    "$$ \\int_a^b f(x) dx = \\int_0^1 4\\sqrt{1-x^2} dx = \\pi $$"
   ]
  },
  {
   "cell_type": "code",
   "execution_count": 18,
   "metadata": {},
   "outputs": [],
   "source": [
    "f = lambda x: 4*np.sqrt(1-x**2)"
   ]
  },
  {
   "cell_type": "code",
   "execution_count": 37,
   "metadata": {},
   "outputs": [
    {
     "data": {
      "image/png": "[encoded data removed]",
      "text/plain": [
       "<Figure size 432x288 with 1 Axes>"
      ]
     },
     "metadata": {
      "needs_background": "light"
     },
     "output_type": "display_data"
    }
   ],
   "source": [
    "a = 0\n",
    "b = 1\n",
    "h = 4\n",
    "x = np.linspace(a, b, 100)\n",
    "plt.plot(x, f(x), 'k-')\n",
    "plt.axis([a, b, 0, h])\n",
    "plt.show()"
   ]
  },
  {
   "cell_type": "markdown",
   "metadata": {},
   "source": [
    "Imagine choosing points at random in the domain [a, b] x [0, h]."
   ]
  },
  {
   "cell_type": "code",
   "execution_count": 59,
   "metadata": {},
   "outputs": [
    {
     "data": {
      "image/png": "[encoded data removed]",
      "text/plain": [
       "<Figure size 432x288 with 1 Axes>"
      ]
     },
     "metadata": {
      "needs_background": "light"
     },
     "output_type": "display_data"
    }
   ],
   "source": [
    "a = 0\n",
    "b = 1\n",
    "h = 4\n",
    "x = np.linspace(a, b, 100)\n",
    "plt.plot(x, f(x), 'k-')\n",
    "\n",
    "n = 50\n",
    "for i in range(n):\n",
    "    xi = np.random.rand()*(b-a) + a\n",
    "    yi = np.random.rand()*h\n",
    "    if yi <= f(xi):\n",
    "        color = 'g'\n",
    "    else:\n",
    "        color = 'r'\n",
    "    plt.plot(xi, yi, 'x', color=color)\n",
    "\n",
    "plt.axis([a, b, 0, h])\n",
    "plt.show()"
   ]
  },
  {
   "cell_type": "markdown",
   "metadata": {},
   "source": [
    "Some points will randomly be with in the boundary and other outside of the boundary of the curve."
   ]
  },
  {
   "cell_type": "markdown",
   "metadata": {},
   "source": [
    "### Hit or miss method"
   ]
  },
  {
   "cell_type": "markdown",
   "metadata": {},
   "source": [
    "The area of the domain is \n",
    "\n",
    "$$ A = h (b - a) $$\n",
    "\n",
    "and the fraction of points $x_i, y_u$ that satisfy $ y_i \\le f(x_i) $ is an estimate of the ratio of the integral of $f(x)$ to the area of the rectangle.  So we can estimate the integrand as \n",
    "\n",
    "$$ F_n = A \\frac{n_s}{n} $$\n",
    "\n",
    "where $n_s$ is the number of \"hits\" and $n$ is the total number of points."
   ]
  },
  {
   "cell_type": "code",
   "execution_count": 64,
   "metadata": {},
   "outputs": [
    {
     "data": {
      "application/vnd.jupyter.widget-view+json": {
       "model_id": "6ba0a169409a4a948c9da81280f47469",
       "version_major": 2,
       "version_minor": 0
      },
      "text/plain": [
       "interactive(children=(IntSlider(value=50, description='n', max=1000, min=1), Output()), _dom_classes=('widget-…"
      ]
     },
     "metadata": {},
     "output_type": "display_data"
    }
   ],
   "source": [
    "@ipywidgets.interact(n=(1, 1000))\n",
    "def plot_hitormiss(n = 50):\n",
    "    a = 0\n",
    "    b = 1\n",
    "    h = 4\n",
    "    x = np.linspace(a, b, 100)\n",
    "    plt.plot(x, f(x), 'k-')\n",
    "\n",
    "    ns = 0\n",
    "    for i in range(n):\n",
    "        xi = np.random.rand()*(b-a) + a\n",
    "        yi = np.random.rand()*h\n",
    "        if yi <= f(xi):\n",
    "            ns += 1\n",
    "            color = 'g'\n",
    "        else:\n",
    "            color = 'r'\n",
    "        plt.plot(xi, yi, 'x', color=color)\n",
    "        \n",
    "    ## hit-or-miss method\n",
    "    A = h*(b-a)\n",
    "    F = A*ns/n\n",
    "    \n",
    "    plt.text(0.1, 1.0, \n",
    "             '$\\\\int_0^1 4 \\\\sqrt{{1 - x^2}} dx \\\\approx {:.4f}$'.format(F), \n",
    "             bbox=dict(facecolor='white'),\n",
    "             fontsize=12)\n",
    "    \n",
    "    plt.axis([a, b, 0, h])\n",
    "    plt.show()"
   ]
  },
  {
   "cell_type": "markdown",
   "metadata": {},
   "source": [
    "### Sample mean method"
   ]
  },
  {
   "cell_type": "markdown",
   "metadata": {},
   "source": [
    "Consider the average value of $f(x)$ in the range $ a \\le x \\le b$:\n",
    "\n",
    "$$ F = \\int_a^b f(x) dx = (b-a) \\langle f \\rangle $$"
   ]
  },
  {
   "cell_type": "markdown",
   "metadata": {},
   "source": [
    "To determine $\\langle f \\rangle$, choose $x_i$ at random and *sample* the values of $f(x)$\n",
    "\n",
    "$$ F_n = (b-a) \\frac{1}{n}\\sum_{i=1}^n f(x_i) \\approx (b-a) \\langle f \\rangle$$"
   ]
  },
  {
   "cell_type": "markdown",
   "metadata": {},
   "source": [
    "(Notice that this is similar to rectangle rule, except that the points $x_i$ are chosen at random and rather than with equal spacing.)\n"
   ]
  },
  {
   "cell_type": "code",
   "execution_count": 88,
   "metadata": {},
   "outputs": [
    {
     "data": {
      "application/vnd.jupyter.widget-view+json": {
       "model_id": "e73184457e1d4610b34ade7b2b3f60d2",
       "version_major": 2,
       "version_minor": 0
      },
      "text/plain": [
       "interactive(children=(IntSlider(value=50, description='n', max=1000, min=1), Output()), _dom_classes=('widget-…"
      ]
     },
     "metadata": {},
     "output_type": "display_data"
    }
   ],
   "source": [
    "@ipywidgets.interact(n=(1, 1000))\n",
    "def plot_samplemean(n = 50):\n",
    "    a = 0\n",
    "    b = 1\n",
    "    h = 4\n",
    "    x = np.linspace(a, b, 100)\n",
    "    plt.plot(x, f(x), 'k-')\n",
    "\n",
    "\n",
    "    ## sample mean method\n",
    "    xi = np.random.rand(n)*(b-a) + a\n",
    "    yi = f(xi)\n",
    "    sum = np.sum(yi)\n",
    "    F = (b - a)/n * sum\n",
    "    \n",
    "    plt.plot(xi, yi, 'o', color='white', mec='b')\n",
    "    plt.plot(xi, np.zeros(n), 'k|', markersize=20)\n",
    "    \n",
    "    plt.text(0.1, 1.0, \n",
    "             '$\\\\int_0^1 4 \\\\sqrt{{1 - x^2}} dx \\\\approx {:.4f}$'.format(F), \n",
    "             bbox=dict(facecolor='white'),\n",
    "             fontsize=12)\n",
    "    \n",
    "    plt.axis([a, b, 0, h])\n",
    "    plt.show()"
   ]
  },
  {
   "cell_type": "code",
   "execution_count": 99,
   "metadata": {},
   "outputs": [],
   "source": [
    "def hitormiss(n = 50):\n",
    "\n",
    "    ## hit-or-miss method\n",
    "    xi = np.random.rand(n)*(b-a) + a\n",
    "    yi = np.random.rand(n)*h\n",
    "    ns = np.sum(yi <= f(xi))\n",
    "    A = h*(b-a)\n",
    "    F = A*ns/n\n",
    "    \n",
    "    return F"
   ]
  },
  {
   "cell_type": "code",
   "execution_count": 89,
   "metadata": {},
   "outputs": [],
   "source": [
    "def samplemean(n = 50):\n",
    "\n",
    "    ## sample mean method\n",
    "    xi = np.random.rand(n)*(b-a) + a\n",
    "    yi = f(xi)\n",
    "    sum = np.sum(yi)\n",
    "    F = (b - a)/n * sum\n",
    "    \n",
    "    return F"
   ]
  },
  {
   "cell_type": "code",
   "execution_count": 116,
   "metadata": {},
   "outputs": [],
   "source": [
    "N = 2**np.arange(1, 20)\n",
    "\n",
    "Δhitormiss = []\n",
    "Δsamplemean = []\n",
    "for n in N:\n",
    "    F = hitormiss(n)\n",
    "    error = abs(F - np.pi)\n",
    "    Δhitormiss.append(error)\n",
    "    \n",
    "    F = samplemean(n)\n",
    "    error = abs(F - np.pi)\n",
    "    Δsamplemean.append(error)"
   ]
  },
  {
   "cell_type": "code",
   "execution_count": 117,
   "metadata": {},
   "outputs": [
    {
     "data": {
      "image/png": "[encoded data removed]",
      "text/plain": [
       "<Figure size 432x288 with 1 Axes>"
      ]
     },
     "metadata": {
      "needs_background": "light"
     },
     "output_type": "display_data"
    }
   ],
   "source": [
    "plt.loglog(N, Δhitormiss, 'o-', label='hit-or-miss')\n",
    "plt.loglog(N, Δsamplemean, 'o-', label='sample mean')\n",
    "plt.xlabel('n')\n",
    "plt.ylabel('Error')\n",
    "plt.legend()\n",
    "plt.show()"
   ]
  },
  {
   "cell_type": "code",
   "execution_count": null,
   "metadata": {},
   "outputs": [],
   "source": []
  }
 ],
 "metadata": {
  "kernelspec": {
   "display_name": "Python 3",
   "language": "python",
   "name": "python3"
  },
  "language_info": {
   "codemirror_mode": {
    "name": "ipython",
    "version": 3
   },
   "file_extension": ".py",
   "mimetype": "text/x-python",
   "name": "python",
   "nbconvert_exporter": "python",
   "pygments_lexer": "ipython3",
   "version": "3.8.1"
  }
 },
 "nbformat": 4,
 "nbformat_minor": 4
}
