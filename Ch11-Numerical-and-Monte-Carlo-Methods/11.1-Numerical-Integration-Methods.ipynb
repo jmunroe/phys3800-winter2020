{
 "cells": [
  {
   "cell_type": "markdown",
   "metadata": {},
   "source": [
    "# Chapter 11: Numerical and Monte Carlo Methods"
   ]
  },
  {
   "cell_type": "code",
   "execution_count": 82,
   "metadata": {},
   "outputs": [],
   "source": [
    "import matplotlib.pyplot as plt\n",
    "import numpy as np\n",
    "import pandas as pd\n",
    "import ipywidgets"
   ]
  },
  {
   "cell_type": "markdown",
   "metadata": {},
   "source": [
    "## 11.1 Numerical Integration Methods in One Dimension"
   ]
  },
  {
   "cell_type": "markdown",
   "metadata": {},
   "source": [
    "Evaluate\n",
    "\n",
    "$$ F = \\int_a^b f(x) dx$$"
   ]
  },
  {
   "cell_type": "markdown",
   "metadata": {},
   "source": [
    "Only a few integrals can be done analytically; most functions must be integrated numerically."
   ]
  },
  {
   "cell_type": "markdown",
   "metadata": {},
   "source": [
    "Assume we have  a function $f_i = f(x_i)$ which can be evaluated at the points $x_i$ for $ i = 0 \\dots n$ where \n",
    "\n",
    "$$\\Delta x = \\frac{b-a}{n}$$"
   ]
  },
  {
   "cell_type": "markdown",
   "metadata": {},
   "source": [
    "and\n",
    "\n",
    "$$x_i=a + i \\Delta x.$$"
   ]
  },
  {
   "cell_type": "markdown",
   "metadata": {},
   "source": [
    "As an example, consider\n",
    "\n",
    "$$ f(x) = \\cos(x) $$ \n",
    "\n",
    "on the interval $[0, \\pi/2]$"
   ]
  },
  {
   "cell_type": "markdown",
   "metadata": {},
   "source": [
    "Analytically, we know that\n",
    "\n",
    "$$ \\int_0^{\\pi/2} \\cos(x) dx = \\sin(\\pi/2) - \\sin(0) = 1$$"
   ]
  },
  {
   "cell_type": "markdown",
   "metadata": {},
   "source": [
    "### Rectangle rule"
   ]
  },
  {
   "cell_type": "code",
   "execution_count": 131,
   "metadata": {},
   "outputs": [
    {
     "data": {
      "application/vnd.jupyter.widget-view+json": {
       "model_id": "789de0d37d1249dc889e5b7f65853c1f",
       "version_major": 2,
       "version_minor": 0
      },
      "text/plain": [
       "interactive(children=(IntSlider(value=8, description='n', max=200, min=1), Output()), _dom_classes=('widget-in…"
      ]
     },
     "metadata": {},
     "output_type": "display_data"
    }
   ],
   "source": [
    "@ipywidgets.interact(n=(1, 200))\n",
    "def plot_rect_rule(n=8):\n",
    "    \n",
    "    a = 0\n",
    "    b = np.pi/2\n",
    "    \n",
    "    dx = (b-a) / n\n",
    "\n",
    "    x = np.linspace(a, b, 100)\n",
    "    f = lambda x: np.cos(x)\n",
    "\n",
    "    fig, ax = plt.subplots(figsize=(10,4))\n",
    "    plt.plot(x, f(x), 'k')\n",
    "    plt.xlabel('x')\n",
    "    plt.ylabel('f(x)')\n",
    "    plt.xticks([0, np.pi/4, np.pi/2], ['0', '$\\pi/4$', '$\\pi/2$'])\n",
    "    plt.ylim(0, 1.1)\n",
    "    plt.xlim(xmin=0)\n",
    "\n",
    "    for i in range(n):\n",
    "        x = i*dx\n",
    "\n",
    "        xi = np.linspace(x, x+dx, 20)\n",
    "        ax.fill(np.hstack([xi, x+dx]), \n",
    "                np.hstack([f(xi), f(x)]))\n",
    "        plt.plot([x, x], [0, f(x)], 'k', linewidth=0.5)\n",
    "\n",
    "    ### rectangle rule ###    \n",
    "    sum = 0\n",
    "    for i in range(n):\n",
    "        sum += f(a+i*dx) * dx\n",
    "    \n",
    "    plt.text(0.1, 0.2, \n",
    "             '$\\\\int_0^{{\\pi/2}}\\\\cos(x) dx \\\\approx {:.4f}$'.format(sum), \n",
    "             bbox=dict(facecolor='white'),\n",
    "             fontsize=12)\n",
    "    plt.show()"
   ]
  },
  {
   "cell_type": "markdown",
   "metadata": {},
   "source": [
    "Rectangle rule:\n",
    "\n",
    "$$ \\int_a^b f(x) dx \\approx  \\sum_{i=0}^{n-1} f(x_i)\\Delta x $$"
   ]
  },
  {
   "cell_type": "markdown",
   "metadata": {},
   "source": [
    "### Trapezoid Rule"
   ]
  },
  {
   "cell_type": "code",
   "execution_count": 133,
   "metadata": {},
   "outputs": [
    {
     "data": {
      "application/vnd.jupyter.widget-view+json": {
       "model_id": "9aca6d93cfa24e6fb640bfc313db6909",
       "version_major": 2,
       "version_minor": 0
      },
      "text/plain": [
       "interactive(children=(IntSlider(value=8, description='n', max=200, min=1), Output()), _dom_classes=('widget-in…"
      ]
     },
     "metadata": {},
     "output_type": "display_data"
    }
   ],
   "source": [
    "@ipywidgets.interact(n=(1, 200))\n",
    "def plot_trap_rule(n=8):\n",
    "    \n",
    "    a = 0\n",
    "    b = np.pi/2\n",
    "    \n",
    "    dx = (b-a) / n\n",
    "\n",
    "    x = np.linspace(0, np.pi/2, 100)\n",
    "    f = lambda x: np.cos(x)\n",
    "\n",
    "    fig, ax = plt.subplots(figsize=(10,4))\n",
    "    plt.plot(x, f(x), 'k')\n",
    "    plt.xlabel('x')\n",
    "    plt.ylabel('f(x)')\n",
    "    plt.xticks([0, np.pi/4, np.pi/2], ['0', '$\\pi/4$', '$\\pi/2$'])\n",
    "    plt.ylim(0, 1.1)\n",
    "    plt.xlim(xmin=0)\n",
    "\n",
    "    for i in range(n):\n",
    "        x = i*dx\n",
    "\n",
    "        xi = np.linspace(x, x+dx, 20)\n",
    "        ax.fill(np.hstack([xi, x+dx]), \n",
    "                np.hstack([f(xi), f(x+dx)]), \n",
    "                )\n",
    "        plt.plot([x, x], [0, f(x)], 'k', linewidth=0.5)\n",
    "\n",
    "    ### trapezoid rule ###\n",
    "    sum = (f(a) + f(b))/2\n",
    "    for i in range(1, n):\n",
    "        sum += f(a+i*dx)\n",
    "    sum *= dx\n",
    "    \n",
    "    plt.text(0.1, 0.2, \n",
    "             '$\\\\int_0^{{\\pi/2}}\\\\cos(x) dx \\\\approx {:.4f}$'.format(sum), \n",
    "             bbox=dict(facecolor='white'),\n",
    "             fontsize=12)\n",
    "    plt.show()"
   ]
  },
  {
   "cell_type": "markdown",
   "metadata": {},
   "source": [
    "Trapezoid rule:\n",
    "\n",
    "$$\\int_a^b f(x) dx \\approx \\Delta x \\left (\\frac{1}{2} f(x_0) + \\frac{1}{2} f(x_{n})+ \\sum_{i=1}^{n-1} f(x_i) \\right) $$\n",
    "\n",
    "Notice that we have $n$ rectangles or trapezoids but $n+1$ points in total."
   ]
  },
  {
   "cell_type": "code",
   "execution_count": 134,
   "metadata": {},
   "outputs": [],
   "source": [
    "def compute_rect(n):\n",
    "    f = lambda x: np.cos(x)\n",
    "        \n",
    "    a = 0\n",
    "    b = np.pi/2\n",
    "    \n",
    "    dx = (b-a) / n\n",
    "    \n",
    "    sum = 0\n",
    "    for i in range(n):\n",
    "        sum += f(a+i*dx) * dx\n",
    "        \n",
    "    return sum\n",
    "\n",
    "def compute_trap(n):\n",
    "    f = lambda x: np.cos(x)\n",
    "        \n",
    "    a = 0\n",
    "    b = np.pi/2\n",
    "    \n",
    "    dx = (b-a) / n\n",
    "    \n",
    "    sum = (f(a) + f(b))/2\n",
    "    for i in range(1, n):\n",
    "        sum += f(a+i*dx)\n",
    "    sum *= dx\n",
    "        \n",
    "    return sum"
   ]
  },
  {
   "cell_type": "code",
   "execution_count": 138,
   "metadata": {},
   "outputs": [],
   "source": [
    "N = 2**np.arange(1, 11)\n",
    "\n",
    "Δrect = []\n",
    "Δtrap = []\n",
    "for n in N:\n",
    "    rect = compute_rect(n)\n",
    "    error_rect = abs(rect - 1.0)\n",
    "    Δrect.append(error_rect)\n",
    "    \n",
    "    trap = compute_trap(n)\n",
    "    error_trap = abs(trap - 1.0)\n",
    "    Δtrap.append(error_trap)"
   ]
  },
  {
   "cell_type": "code",
   "execution_count": 142,
   "metadata": {},
   "outputs": [
    {
     "data": {
      "image/png": "[encoded data removed]",
      "text/plain": [
       "<Figure size 432x288 with 1 Axes>"
      ]
     },
     "metadata": {
      "needs_background": "light"
     },
     "output_type": "display_data"
    }
   ],
   "source": [
    "plt.loglog(N, Δrect, 'o-', label='rect')\n",
    "plt.loglog(N, Δtrap, 'o-', label='trap')\n",
    "plt.xlabel('n')\n",
    "plt.ylabel('Error')\n",
    "plt.legend()\n",
    "plt.show()"
   ]
  },
  {
   "cell_type": "markdown",
   "metadata": {},
   "source": [
    "### Simpson's Rule"
   ]
  },
  {
   "cell_type": "markdown",
   "metadata": {},
   "source": [
    "<a title=\"Popletibus This W3C-unspecified vector image was created with Inkscape. [CC BY-SA 4.0 (https://creativecommons.org/licenses/by-sa/4.0)], via Wikimedia Commons\" href=\"https://commons.wikimedia.org/wiki/File:Simpsons_method_illustration.svg\"><img width=\"256\" alt=\"Simpsons method illustration\" src=\"https://upload.wikimedia.org/wikipedia/commons/thumb/c/ca/Simpsons_method_illustration.svg/256px-Simpsons_method_illustration.svg.png\"></a>"
   ]
  },
  {
   "cell_type": "markdown",
   "metadata": {},
   "source": [
    "Idea: fit a parabola through three points\n",
    "- work with consecutive triplets\n",
    "- need an odd number of points"
   ]
  },
  {
   "cell_type": "markdown",
   "metadata": {},
   "source": [
    "Consider \n",
    "\n",
    "$$ \\int_{-1}^{1} f(x) dx $$"
   ]
  },
  {
   "cell_type": "markdown",
   "metadata": {},
   "source": [
    "approximate  $ f(x) \\approx \\alpha x^2 + \\beta x + \\gamma $ (like a 2$^\\text{nd}$ order Taylor series)\n",
    "\n",
    "$$\\begin{align}\n",
    "\\int_{-1}^{1} f(x) dx & = \\int_{-1}^{1}\\alpha x^2 + \\beta x + \\gamma  dx \\\\\n",
    "&= \\frac{2}{3} \\alpha + 2 \\gamma \n",
    "\\end{align}$$\n"
   ]
  },
  {
   "cell_type": "markdown",
   "metadata": {},
   "source": [
    "Now, \n",
    "\n",
    "$$\\begin{align}\n",
    "f(-1) &= \\alpha - \\beta + \\gamma \\\\\n",
    "f(0) &= \\gamma  \\quad\\quad\\quad\\quad \\rightarrow \\gamma = f(0) \\\\\n",
    "f(1) &= \\alpha + \\beta + \\gamma\n",
    "\\end{align}$$"
   ]
  },
  {
   "cell_type": "markdown",
   "metadata": {},
   "source": [
    "solve for $\\alpha$\n",
    "\n",
    "$$\n",
    "\\begin{align}\n",
    "f(-1) + f(1) &= 2\\alpha + 2\\gamma \\\\\n",
    "\\alpha &= \\frac{f(-1) + f(1)}{2} -f(0)\n",
    "\\end{align}\n",
    "$$\n"
   ]
  },
  {
   "cell_type": "markdown",
   "metadata": {},
   "source": [
    "so\n",
    "\n",
    "$$\\begin{align}\n",
    "\\int_{-1}^{1} f(x) dx & \\approx \\frac{2}{3} \\alpha + 2 \\gamma  \\\\\n",
    "& = \\frac{2}{3} \\left( \\frac{f_{-1} + f_{1}}{2} - f_0\\right) + 2 f_0 \\\\\n",
    "& = \\frac{1}{3}f_{-1} + \\frac{4 }{3}f_0 + \\frac{1}{3}f_1\n",
    "\\end{align}$$"
   ]
  },
  {
   "cell_type": "markdown",
   "metadata": {},
   "source": [
    "Approximating the intergal with three function calls with these weights is equivalent to approximating curve with a parabola."
   ]
  },
  {
   "cell_type": "markdown",
   "metadata": {},
   "source": [
    "This generalizes to\n",
    "\n",
    "$$\n",
    "\\int_{x_i -h }^{x_i + h} f(x) dx \\approx  \\frac{h}{3}f_{i-1} + \\frac{4h }{3}f_i + \\frac{h}{3}f_{i+1}$$"
   ]
  },
  {
   "cell_type": "markdown",
   "metadata": {},
   "source": [
    "where $f_i = f(x_i)$ and $f_{i\\pm1} = f(x_{i\\pm 1}) = f(x_i \\pm h)$."
   ]
  },
  {
   "cell_type": "markdown",
   "metadata": {},
   "source": [
    "#### Example"
   ]
  },
  {
   "cell_type": "code",
   "execution_count": 143,
   "metadata": {},
   "outputs": [
    {
     "data": {
      "image/png": "[encoded data removed]",
      "text/plain": [
       "<Figure size 432x288 with 1 Axes>"
      ]
     },
     "metadata": {
      "needs_background": "light"
     },
     "output_type": "display_data"
    }
   ],
   "source": [
    "fig, ax = plt.subplots()\n",
    "plt.axhline(0, color='k')\n",
    "##plt.axis(False)\n",
    "x = [0, 1, 2, 3, 4, 5, 6]\n",
    "y = [2, 2.8, 3, 2.8, 2.2, 1.8, 1.5]\n",
    "plt.plot(x, y, 'ko-')\n",
    "for x0, y0 in zip(x, y):\n",
    "    if x0 % 2 == 0:\n",
    "        style = 'k-'\n",
    "        alpha = 1\n",
    "    else:\n",
    "        style = 'k--'\n",
    "        alpha = 0.4\n",
    "    plt.plot([x0, x0], [0, y0], style, alpha=alpha)\n",
    "\n",
    "ax.axes.get_yaxis().set_visible(False)\n",
    "plt.xticks(x, \n",
    "           ['$a = x_0$','$x_1$', '$x_2$', '$x_3$', '$x_4$', '$x_5$', '$b=x_6$'])\n",
    "plt.box(False)\n",
    "plt.text(1, .8, '$A_1$', size=24, horizontalalignment='center')\n",
    "plt.text(3, .8, '$A_2$', size=24, horizontalalignment='center')\n",
    "plt.text(5, .8, '$A_3$', size=24, horizontalalignment='center')\n",
    "plt.show()"
   ]
  },
  {
   "cell_type": "markdown",
   "metadata": {},
   "source": [
    "7 points, $n = 6$ slabs, 3 areas."
   ]
  },
  {
   "cell_type": "markdown",
   "metadata": {},
   "source": [
    "$$\\begin{align}\n",
    "\\int_a^b f(x) dx &=  A_1 \\quad\\quad + \\quad\\quad A_2 \\quad\\quad+\\quad\\quad A_3 \\\\\n",
    " &= \\int_{x_1 - h}^{x_1+h} f(x) dx + \\int_{x_3 - h}^{x_3+h} f(x) dx + \\int_{x_5 - h}^{x_5+h} f(x) dx \\\\\n",
    "\\end{align}$$\n",
    "\n",
    "\n",
    "$$\\begin{align}\n",
    "&= \\left( \\frac{h}{3}f_0 + \\frac{4h }{3}f_1 + \\frac{h}{3}f_2 \\right) + \n",
    "\\left( \\frac{h}{3}f_2 + \\frac{4h }{3}f_3 + \\frac{h}{3}f_4 \\right) + \n",
    "\\left( \\frac{h}{3}f_4 + \\frac{4h }{3}f_5 + \\frac{h}{3}f_6 \\right) \\\\\n",
    "&= \\frac{h}{3} \\left( f_0 + 4 f_1 + 2 f_2 + 4 f_3 + 2 f_4 + 4 f_5 + f_6\\right)\n",
    "\\end{align}$$"
   ]
  },
  {
   "cell_type": "markdown",
   "metadata": {},
   "source": [
    "In general, with $n+1$ points ($n$ even),\n",
    "\n",
    "$$ \\int_a^b f(x) dx = \\frac{h}{3} \\left( f_0 + 4 f_1 + 2 f_2 + \\ldots + 2 f_{n-2} + 4 f_{n-1} + f_n\\right) $$\n",
    "\n",
    "Odd points multiplied by 4, even interior points multipled by 2.\n",
    "\n",
    "$$ = \\frac{h}{3} \\left ( f_0 + 4 \\sum_{i\\;\\text{odd}} f_i + 2 \\sum_{i\\;\\text{even}} f_i + f_n \\right) $$\n",
    "\n",
    "There are $\\frac{n}{2}$ odd points and $\\frac{n}{2} - 1$ even interior points."
   ]
  },
  {
   "cell_type": "markdown",
   "metadata": {},
   "source": [
    "From *Wikipedia*: An animation showing how Simpson's rule approximation improves with more strips.\n",
    "<a title=\"Mkwadee [CC BY-SA 4.0 (https://creativecommons.org/licenses/by-sa/4.0)], via Wikimedia Commons\" href=\"https://commons.wikimedia.org/wiki/File:Simpsonsrule2.gif\"><img width=\"512\" alt=\"Simpsonsrule2\" src=\"https://upload.wikimedia.org/wikipedia/commons/6/67/Simpsonsrule2.gif\"></a>"
   ]
  },
  {
   "cell_type": "code",
   "execution_count": 144,
   "metadata": {},
   "outputs": [],
   "source": [
    "def compute_simpson(n):\n",
    "    f = lambda x: np.cos(x)\n",
    "        \n",
    "    a = 0\n",
    "    b = np.pi/2\n",
    "    \n",
    "    dx = (b-a) / n\n",
    "    \n",
    "    x_0 = a + 0*dx # a\n",
    "    x_n = a + n*dx # b\n",
    "    sum = f(x_0) + f(x_n)\n",
    "\n",
    "    for i in range(1, n):\n",
    "        x_i = a + i*dx\n",
    "        f_i = f(x_i)\n",
    "        if i%2==0:\n",
    "            sum += 2*f_i\n",
    "        else:\n",
    "            sum += 4*f_i\n",
    "            \n",
    "    sum = sum * dx/3\n",
    "    return sum"
   ]
  },
  {
   "cell_type": "code",
   "execution_count": 150,
   "metadata": {},
   "outputs": [],
   "source": [
    "N = 2**np.arange(1, 11)\n",
    "\n",
    "Δsimpson = []\n",
    "for n in N:\n",
    "    simpson = compute_simpson(n)\n",
    "    error_simpson = abs(simpson - 1.0)\n",
    "    Δsimpson.append(error_simpson)"
   ]
  },
  {
   "cell_type": "code",
   "execution_count": 151,
   "metadata": {},
   "outputs": [
    {
     "data": {
      "image/png": "[encoded data removed]",
      "text/plain": [
       "<Figure size 432x288 with 1 Axes>"
      ]
     },
     "metadata": {
      "needs_background": "light"
     },
     "output_type": "display_data"
    }
   ],
   "source": [
    "plt.loglog(N, Δrect, 'o-', label='rect')\n",
    "plt.loglog(N, Δtrap, 'o-', label='trap')\n",
    "plt.loglog(N, Δsimpson, 'o-', label=\"Simpson's Rule\")\n",
    "plt.xlabel('n')\n",
    "plt.ylabel('Error')\n",
    "plt.legend()\n",
    "plt.show()"
   ]
  },
  {
   "cell_type": "markdown",
   "metadata": {},
   "source": [
    "See Appendix 11A: Error Estimates for Numerical Integration for a derivation of the errors of these three methods based on Taylor series."
   ]
  },
  {
   "cell_type": "code",
   "execution_count": null,
   "metadata": {},
   "outputs": [],
   "source": []
  }
 ],
 "metadata": {
  "kernelspec": {
   "display_name": "Python 3",
   "language": "python",
   "name": "python3"
  },
  "language_info": {
   "codemirror_mode": {
    "name": "ipython",
    "version": 3
   },
   "file_extension": ".py",
   "mimetype": "text/x-python",
   "name": "python",
   "nbconvert_exporter": "python",
   "pygments_lexer": "ipython3",
   "version": "3.8.1"
  }
 },
 "nbformat": 4,
 "nbformat_minor": 4
}
