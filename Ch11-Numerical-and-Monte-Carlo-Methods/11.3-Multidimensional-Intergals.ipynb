{
 "cells": [
  {
   "cell_type": "markdown",
   "metadata": {},
   "source": [
    "## 11.3 Multidimensional Integrals"
   ]
  },
  {
   "cell_type": "code",
   "execution_count": 1,
   "metadata": {},
   "outputs": [],
   "source": [
    "import matplotlib.pyplot as plt\n",
    "import numpy as np\n",
    "import pandas as pd\n",
    "import ipywidgets"
   ]
  },
  {
   "cell_type": "markdown",
   "metadata": {},
   "source": [
    "Many problems in physics involve average over many variables. For example:\n",
    "\n",
    "- compute total energy (kinetic and potential) for ten interacting particles\n",
    "- three velocity components and three position components\n",
    "- *calculate* the average energy per particle\n",
    "  - requires a $d=60$ dimensional integral\n",
    "  - dividing each coordinate into $p$ intervals gives $p^{60}$ points to sum\n",
    "  \n",
    "Standard numerical method such as Simpson's rule are impractical for this example."
   ]
  },
  {
   "cell_type": "markdown",
   "metadata": {},
   "source": [
    "In Appendix 11A, it is shown for standard numerical techniques that if the error decreases as $n^{-a}$ for $d=1$, then the error decreases  as $n^{-a/d}$ in $d$ dimensions.\n",
    "\n",
    "For Monte Carlo intergation methods the error decreases as $n^{-1/2}$ *independently* of the dimension of the integral.\n",
    "\n",
    "Computational cost is proportional to $n$ for both classical numerical methods (e.g. Simpson's Rule) and Monte Carlo methods. When dimension is low, stick with standard integration techniques. For higher dimensional integrals, Monte Carlo methods are essential."
   ]
  },
  {
   "cell_type": "markdown",
   "metadata": {},
   "source": [
    "### 2-D Example"
   ]
  },
  {
   "cell_type": "markdown",
   "metadata": {},
   "source": [
    "$$F = \\int_R f(x,y) dx dy$$"
   ]
  },
  {
   "cell_type": "markdown",
   "metadata": {},
   "source": [
    "Suppose the region $R$ is \n",
    "\n",
    "$$x^2 + y^2 \\le 1$$"
   ]
  },
  {
   "cell_type": "code",
   "execution_count": 2,
   "metadata": {},
   "outputs": [
    {
     "data": {
      "image/png": "[encoded data removed]",
      "text/plain": [
       "<Figure size 432x432 with 1 Axes>"
      ]
     },
     "metadata": {
      "needs_background": "light"
     },
     "output_type": "display_data"
    }
   ],
   "source": [
    "R = plt.Circle((0,0), 1, alpha=0.5)\n",
    "fig, ax = plt.subplots(figsize=(6, 6))\n",
    "\n",
    "ax.add_patch(R)\n",
    "plt.xlim(-1, 1)\n",
    "plt.ylim(-1, 1)\n",
    "plt.xlabel('x')\n",
    "plt.ylabel('y')\n",
    "plt.show()"
   ]
  },
  {
   "cell_type": "markdown",
   "metadata": {},
   "source": [
    "We want to integrate\n",
    "\n",
    "$$ f(x) = x^2 + 6 x y + y^2 $$\n",
    "\n",
    "over this region."
   ]
  },
  {
   "cell_type": "markdown",
   "metadata": {},
   "source": [
    "#### Midpoint approximation"
   ]
  },
  {
   "cell_type": "markdown",
   "metadata": {},
   "source": [
    "A classical way would be to divide the rectangle that encloses $R$ into a number of squares of length $h$.\n",
    "\n",
    "If the bounding rectangle is $[x_a, x_b] \\times [y_a, y_b]$ then the total number of squares is given by\n",
    "\n",
    "$$ n_x = \\frac{(x_b - x_a)}{h}$$\n",
    "\n",
    "and\n",
    "\n",
    "$$ n_y = \\frac{(y_b - y_a)}{h}$$\n"
   ]
  },
  {
   "cell_type": "code",
   "execution_count": 87,
   "metadata": {},
   "outputs": [
    {
     "data": {
      "application/vnd.jupyter.widget-view+json": {
       "model_id": "95f0256bfe7146d7940f3607340617dd",
       "version_major": 2,
       "version_minor": 0
      },
      "text/plain": [
       "interactive(children=(IntSlider(value=8, description='n', max=400, min=4), Checkbox(value=True, description='G…"
      ]
     },
     "metadata": {},
     "output_type": "display_data"
    }
   ],
   "source": [
    "@ipywidgets.interact(n=(4, 400),\n",
    "                     show_points=ipywidgets.Checkbox(value=False,\n",
    "                                 description='Show $x_i, y_i$ (disabled for $n > 40$)', indent=True),\n",
    "                     show_grid=ipywidgets.Checkbox(value=True,\n",
    "                                 description='Grid (disabled for $n>100$)', indent=True)\n",
    ")\n",
    "def plot_midpointapprox(n=8, show_grid=True, show_points=False, show_integral=False):\n",
    "    xa = -1\n",
    "    xb = 1\n",
    "    ya = -1\n",
    "    yb = 1\n",
    "    h = (xb-xa)/n\n",
    "    h = (yb-ya)/n\n",
    "    \n",
    "    f = lambda x, y: x**2 + 6*x*y + y**2\n",
    "    \n",
    "    nx = int((xb-xa)/h)\n",
    "    ny = int((yb-ya)/h)\n",
    "\n",
    "    R = plt.Circle((0,0), 1, alpha=0.5)\n",
    "    fig, ax = plt.subplots(figsize=(6, 6))\n",
    "\n",
    "    ax.add_patch(R)\n",
    "\n",
    "    if show_grid and n <= 100:\n",
    "        plt.grid(color='gray', which='minor', linestyle='-')\n",
    "        plt.grid(color='gray', which='major', linestyle='-')\n",
    "\n",
    "        ax.xaxis.set_ticks(np.arange(xa, xb, h), minor=True)\n",
    "        ax.xaxis.set_ticks(np.arange(xa, xb+h, nx//4*h))\n",
    "        ax.yaxis.set_ticks(np.arange(ya, yb, h), minor=True)\n",
    "        ax.yaxis.set_ticks(np.arange(ya, yb+h, ny//4*h))\n",
    "\n",
    "    x = xa + (np.arange(1, nx+1) - 1/2)*h\n",
    "    y = ya + (np.arange(1, ny+1) - 1/2)*h\n",
    "\n",
    "    F = 0\n",
    "    for i in range(nx):\n",
    "        for j in range(ny):\n",
    "            if x[i]**2 + y[j]**2 <= 1:\n",
    "                F += f(x[i], y[j]) * h**2\n",
    "                color = 'k'\n",
    "            else:\n",
    "                color = 'w'\n",
    "\n",
    "            if show_points and n <= 40:\n",
    "                plt.plot(x[i], y[j], 'o', markersize=4, color=color, mec='k')\n",
    "\n",
    "    \n",
    "    \n",
    "    if show_integral:\n",
    "        plt.text(0, -0.5,\n",
    "\n",
    "                 '$\\\\int_R x^2 + 6 x y + y^2 \\\\approx {:.4f}$'.format(F), \n",
    "                 horizontalalignment='center',\n",
    "                 bbox=dict(facecolor='white'),\n",
    "                 fontsize=12)\n",
    "        \n",
    "    plt.title(f'$h = {h:.2f}$,  $n^2 = {nx*ny:.0f}$')\n",
    "    plt.xlim(xa, xb)\n",
    "    plt.ylim(ya, yb)\n",
    "    plt.xlabel('x')\n",
    "    plt.ylabel('y')\n",
    "    plt.show()"
   ]
  },
  {
   "cell_type": "markdown",
   "metadata": {},
   "source": [
    "The midpoint approximation estimates the integral by\n",
    "\n",
    "$$ F \\approx \\sum_{i=1}^{n_x} \\sum_{j=1}^{n_y} f(x_i, y_i) H(x_i, y_j) h^2 $$\n",
    "\n",
    "where $x_i = x_a + (i - \\frac{1}{2})h$,  $y_j = y_a + (j - \\frac{1}{2})h$ and the (Heaviside) function $H(x,y)=1$ if $(x,y)$ is in $R$ and equals $0$ otherwise."
   ]
  },
  {
   "cell_type": "code",
   "execution_count": 53,
   "metadata": {},
   "outputs": [],
   "source": [
    "import numba"
   ]
  },
  {
   "cell_type": "code",
   "execution_count": 54,
   "metadata": {},
   "outputs": [],
   "source": [
    "@numba.jit\n",
    "def midpointapprox(h):\n",
    "    xa = -1\n",
    "    xb = 1\n",
    "    ya = -1\n",
    "    yb = 1\n",
    "    \n",
    "    f = lambda x, y: x**2 + 6*x*y + y**2\n",
    "    \n",
    "    nx = int((xb-xa)/h)\n",
    "    ny = int((yb-ya)/h)\n",
    "\n",
    "    x = xa + (np.arange(1, nx+1) - 1/2)*h\n",
    "    y = ya + (np.arange(1, ny+1) - 1/2)*h\n",
    "\n",
    "    F = 0\n",
    "    for i in range(nx):\n",
    "        for j in range(ny):\n",
    "            if x[i]**2 + y[j]**2 <= 1:\n",
    "                F += f(x[i], y[j]) * h**2\n",
    "    \n",
    "    return F"
   ]
  },
  {
   "cell_type": "code",
   "execution_count": 79,
   "metadata": {},
   "outputs": [
    {
     "name": "stdout",
     "output_type": "stream",
     "text": [
      "CPU times: user 1.21 s, sys: 0 ns, total: 1.21 s\n",
      "Wall time: 1.21 s\n"
     ]
    },
    {
     "data": {
      "text/plain": [
       "1.5707785280468363"
      ]
     },
     "execution_count": 79,
     "metadata": {},
     "output_type": "execute_result"
    }
   ],
   "source": [
    "%%time\n",
    "midpointapprox.py_func(0.0025)"
   ]
  },
  {
   "cell_type": "code",
   "execution_count": 80,
   "metadata": {},
   "outputs": [
    {
     "name": "stdout",
     "output_type": "stream",
     "text": [
      "CPU times: user 563 µs, sys: 0 ns, total: 563 µs\n",
      "Wall time: 565 µs\n"
     ]
    },
    {
     "data": {
      "text/plain": [
       "1.5707785280468363"
      ]
     },
     "execution_count": 80,
     "metadata": {},
     "output_type": "execute_result"
    }
   ],
   "source": [
    "%%time\n",
    "midpointapprox(0.0025)"
   ]
  },
  {
   "cell_type": "markdown",
   "metadata": {},
   "source": [
    "### Monte Carlo method"
   ]
  },
  {
   "cell_type": "markdown",
   "metadata": {},
   "source": [
    "A simple Monte Carlo method would be chosen the $n$ points $(x_i, y_i)$ at random within the retangle.\n",
    "\n",
    "The estimate of the integral is then\n",
    "\n",
    "$$ F_n = \\frac{A}{n} \\sum_{i=1}^n f(x_i, y_i) H(x_i, y_i) $$\n",
    "\n",
    "where $ A$ is the area of the rectangle.  This represents the area of the region $R$ multiplied by the average value of $f(x,y)$ in $R$."
   ]
  },
  {
   "cell_type": "code",
   "execution_count": 161,
   "metadata": {},
   "outputs": [
    {
     "data": {
      "application/vnd.jupyter.widget-view+json": {
       "model_id": "b729bca9f024407d98a09c6ecb77f75f",
       "version_major": 2,
       "version_minor": 0
      },
      "text/plain": [
       "interactive(children=(IntSlider(value=500, description='n', max=200000, min=100), Checkbox(value=True, descrip…"
      ]
     },
     "metadata": {},
     "output_type": "display_data"
    }
   ],
   "source": [
    "@ipywidgets.interact(n=(100, 200000),\n",
    "                     show_points=ipywidgets.Checkbox(value=True,\n",
    "                                 description='Show points', indent=True),\n",
    ")\n",
    "def plot_montecarlo(n=500, show_points=False, show_integral=True):\n",
    "    xa = -1\n",
    "    xb = 1\n",
    "    ya = -1\n",
    "    yb = 1\n",
    "    h = (xb-xa)/n\n",
    "    h = (yb-ya)/n\n",
    "    \n",
    "    f = lambda x, y: x**2 + 6*x*y + y**2\n",
    "    \n",
    "    R = plt.Circle((0,0), 1, alpha=0.5)\n",
    "    fig, ax = plt.subplots(figsize=(6, 6))\n",
    "    ax.add_patch(R)\n",
    "\n",
    "    ## sample mean method\n",
    "    F = 0\n",
    "    xi = np.random.rand(n)*(xb-xa)+xa\n",
    "    yi = np.random.rand(n)*(yb-ya)+ya\n",
    "    hit = xi**2 + yi**2 <= 1\n",
    "    A = (xb - xa)*(yb-ya)\n",
    "    F = A/n * np.sum(f(xi[hit], yi[hit]))\n",
    "    \n",
    "    if show_points:\n",
    "        nothit = np.logical_not(hit)\n",
    "        \n",
    "        plt.plot(xi[hit], yi[hit], 'x', color='g')\n",
    "        plt.plot(xi[nothit], yi[nothit], 'x', color='r')\n",
    "            \n",
    "    if show_integral:\n",
    "        plt.text(0, -0.5,\n",
    "                 '$\\\\int_R x^2 + 6 x y + y^2 \\\\approx {:.4f}$'.format(F), \n",
    "                 horizontalalignment='center',\n",
    "                 bbox=dict(facecolor='white'),\n",
    "                 fontsize=12)\n",
    "        \n",
    "    plt.title(f'n = {n}')\n",
    "    plt.xlim(xa, xb)\n",
    "    plt.ylim(ya, yb)\n",
    "    plt.xlabel('x')\n",
    "    plt.ylabel('y')\n",
    "    plt.show()"
   ]
  },
  {
   "cell_type": "code",
   "execution_count": 154,
   "metadata": {},
   "outputs": [],
   "source": [
    "def montecarlo(n):\n",
    "    xa = -1\n",
    "    xb = 1\n",
    "    ya = -1\n",
    "    yb = 1\n",
    "    h = (xb-xa)/n\n",
    "    h = (yb-ya)/n\n",
    "    \n",
    "    f = lambda x, y: x**2 + 6*x*y + y**2\n",
    "    \n",
    "    ## sample mean method\n",
    "    F = 0\n",
    "    xi = np.random.rand(n)*(xb-xa)+xa\n",
    "    yi = np.random.rand(n)*(yb-ya)+ya\n",
    "    hit = xi**2 + yi**2 <= 1\n",
    "    A = (xb - xa)*(yb-ya)\n",
    "    F = A/n * np.sum(f(xi[hit], yi[hit]))\n",
    "    \n",
    "    return F"
   ]
  },
  {
   "cell_type": "code",
   "execution_count": 155,
   "metadata": {},
   "outputs": [],
   "source": [
    "#@numba.jit\n",
    "def montecarlo_explicit(n):\n",
    "    xa = -1\n",
    "    xb = 1\n",
    "    ya = -1\n",
    "    yb = 1\n",
    "    h = (xb-xa)/n\n",
    "    h = (yb-ya)/n\n",
    "    \n",
    "    f = lambda x, y: x**2 + 6*x*y + y**2\n",
    "    \n",
    "    ## sample mean method\n",
    "    F = 0\n",
    "    for i in range(n):\n",
    "        xi = np.random.rand()*(xb-xa)+xa\n",
    "        yi = np.random.rand()*(yb-ya)+ya\n",
    "        hit = xi**2 + yi**2 <= 1\n",
    "        if hit:\n",
    "            F += f(xi, yi)\n",
    "    \n",
    "    A = (xb - xa)*(yb-ya)\n",
    "    F = A/n * F\n",
    "    \n",
    "    return F"
   ]
  },
  {
   "cell_type": "code",
   "execution_count": 156,
   "metadata": {},
   "outputs": [
    {
     "name": "stdout",
     "output_type": "stream",
     "text": [
      "CPU times: user 6.97 ms, sys: 0 ns, total: 6.97 ms\n",
      "Wall time: 5.8 ms\n"
     ]
    },
    {
     "data": {
      "text/plain": [
       "1.5718499536251234"
      ]
     },
     "execution_count": 156,
     "metadata": {},
     "output_type": "execute_result"
    }
   ],
   "source": [
    "%%time\n",
    "montecarlo(200000)"
   ]
  },
  {
   "cell_type": "code",
   "execution_count": 157,
   "metadata": {},
   "outputs": [
    {
     "name": "stdout",
     "output_type": "stream",
     "text": [
      "CPU times: user 189 ms, sys: 0 ns, total: 189 ms\n",
      "Wall time: 188 ms\n"
     ]
    },
    {
     "data": {
      "text/plain": [
       "1.586432474571262"
      ]
     },
     "execution_count": 157,
     "metadata": {},
     "output_type": "execute_result"
    }
   ],
   "source": [
    "%%time\n",
    "montecarlo_explicit(200000)"
   ]
  },
  {
   "cell_type": "markdown",
   "metadata": {},
   "source": [
    "### Volume of a hypersphere"
   ]
  },
  {
   "cell_type": "markdown",
   "metadata": {},
   "source": [
    "> **Problem 11.9** Volume of a hypersphere\n",
    ">\n",
    "> a. The interior of a $d$-dimensional hypersphere of unit radius is defined by the condition $x_1^2+x_2^2+\\cdots+x_d^2 \\le 1$. Write a program that finds the volume of a hypersphere using the midpoint approximation. If you are clever, you can write a program that does any dimension using a recursive method. Test your program for $d=2$ and $d=3$, and then find the volume for $d=4$ and $d=5$. Begin with $h= 0.2$, and decrease $h$ until your results do not change by more than 1%.\n",
    "> \n",
    "> b. Repeat part (a) using a Monte Carlo method. For each value of $n$, repeat the calculation several times to obtain a rough estimate of the random error. Is your program applicable for any $d$ easier to write than in part (a)?"
   ]
  }
 ],
 "metadata": {
  "kernelspec": {
   "display_name": "Python 3",
   "language": "python",
   "name": "python3"
  },
  "language_info": {
   "codemirror_mode": {
    "name": "ipython",
    "version": 3
   },
   "file_extension": ".py",
   "mimetype": "text/x-python",
   "name": "python",
   "nbconvert_exporter": "python",
   "pygments_lexer": "ipython3",
   "version": "3.8.1"
  }
 },
 "nbformat": 4,
 "nbformat_minor": 4
}
