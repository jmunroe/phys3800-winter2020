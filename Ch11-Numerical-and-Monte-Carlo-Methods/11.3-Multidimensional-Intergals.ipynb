{
 "cells": [
  {
   "cell_type": "markdown",
   "metadata": {},
   "source": [
    "## 11.3 Multidimensional Integrals"
   ]
  },
  {
   "cell_type": "markdown",
   "metadata": {},
   "source": [
    "Many problems in physics involve average over many variables. For example:\n",
    "\n",
    "- compute total energy (kinetic and potential) for ten interacting particles\n",
    "- three velocity components and three position components\n",
    "- *calculate* the average energy per particle\n",
    "  - requires a $d=60$ dimensional integral\n",
    "  - dividing each coordinate into $p$ intervals gives $p^{60}$ points to sum\n",
    "  \n",
    "Standard numerical method such as Simpson's rule are impractical for this example."
   ]
  },
  {
   "cell_type": "markdown",
   "metadata": {},
   "source": [
    "In Appendix 11A, it is shown for standard numerical techniques that if the error decreases as $n^{-a}$ for $d=1$, then the error decreases  as $n^{-a/d}$ in $d$ dimensions.\n",
    "\n",
    "For Monte Carlo intergation methods the error decreases as $n^{1/2}$ *independently* of the dimension of the integral.\n",
    "\n",
    "Computational cost is proportional to $n$ for both classical numerical methods (e.g. Simpson's Rule) and Monte Carlo methods. When dimension is low, stick with standard integration techniques. For higher dimensional integrals, Monte Carlo methods are essential."
   ]
  },
  {
   "cell_type": "code",
   "execution_count": null,
   "metadata": {},
   "outputs": [],
   "source": []
  }
 ],
 "metadata": {
  "kernelspec": {
   "display_name": "Python 3",
   "language": "python",
   "name": "python3"
  },
  "language_info": {
   "codemirror_mode": {
    "name": "ipython",
    "version": 3
   },
   "file_extension": ".py",
   "mimetype": "text/x-python",
   "name": "python",
   "nbconvert_exporter": "python",
   "pygments_lexer": "ipython3",
   "version": "3.8.1"
  }
 },
 "nbformat": 4,
 "nbformat_minor": 4
}
