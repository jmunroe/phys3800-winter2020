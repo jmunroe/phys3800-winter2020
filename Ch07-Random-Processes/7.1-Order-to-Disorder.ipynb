{
 "cells": [
  {
   "cell_type": "markdown",
   "metadata": {},
   "source": [
    "# 7.1 Order to Disorder"
   ]
  },
  {
   "cell_type": "code",
   "execution_count": 2,
   "metadata": {},
   "outputs": [],
   "source": [
    "import numpy as np\n",
    "import matplotlib.pyplot as plt\n",
    "import pandas as pd\n",
    "%matplotlib inline"
   ]
  },
  {
   "cell_type": "code",
   "execution_count": 30,
   "metadata": {},
   "outputs": [
    {
     "data": {
      "text/plain": [
       "9"
      ]
     },
     "execution_count": 30,
     "metadata": {},
     "output_type": "execute_result"
    }
   ],
   "source": [
    "N = 10 # number of particles\n",
    "\n",
    "r = np.random.rand()\n",
    "\n",
    "i = int(N * r)\n",
    "i"
   ]
  },
  {
   "cell_type": "code",
   "execution_count": 35,
   "metadata": {},
   "outputs": [
    {
     "name": "stdout",
     "output_type": "stream",
     "text": [
      "9\n",
      "1\n",
      "3\n",
      "0\n",
      "8\n",
      "2\n",
      "1\n",
      "7\n"
     ]
    }
   ],
   "source": [
    "for n in range(8):\n",
    "    r = np.random.rand()\n",
    "    i = int(N*r)\n",
    "    print(i)"
   ]
  },
  {
   "cell_type": "markdown",
   "metadata": {},
   "source": [
    "Data structure: array"
   ]
  },
  {
   "cell_type": "code",
   "execution_count": 70,
   "metadata": {},
   "outputs": [],
   "source": [
    "x = np.empty(N)\n",
    "y = np.empty(N)\n",
    "\n",
    "nleft = N\n",
    "time = 0\n",
    "\n",
    "for i in range(N):\n",
    "    x[i] = 0.5 * np.random.rand()\n",
    "    y[i] = np.random.rand()"
   ]
  },
  {
   "cell_type": "code",
   "execution_count": 71,
   "metadata": {},
   "outputs": [],
   "source": [
    "def draw(x, y):\n",
    "    plt.plot(x, y, 'k.')\n",
    "    plt.plot([0.5, 0.5], [0, 0.45], 'k-')\n",
    "    plt.plot([0.5, 0.5], [0.55, 1], 'k-')\n",
    "    plt.xlim(0,1)\n",
    "    plt.ylim(0,1)\n",
    "    plt.xticks([])\n",
    "    plt.yticks([])"
   ]
  },
  {
   "cell_type": "code",
   "execution_count": 76,
   "metadata": {},
   "outputs": [
    {
     "data": {
      "image/png": "[encoded data removed]",
      "text/plain": [
       "<Figure size 432x288 with 1 Axes>"
      ]
     },
     "metadata": {},
     "output_type": "display_data"
    }
   ],
   "source": [
    "draw(x, y)"
   ]
  },
  {
   "cell_type": "code",
   "execution_count": 78,
   "metadata": {},
   "outputs": [],
   "source": [
    "nsteps = 15\n",
    "for n in range(nsteps):\n",
    "    # step\n",
    "    r = np.random.rand()\n",
    "\n",
    "    i = int(N * r)\n",
    "\n",
    "    if x[i] < 0.5:\n",
    "        nleft -= 1\n",
    "        x[i] = 0.5 * (1 + np.random.rand())\n",
    "        y[i] = np.random.rand()\n",
    "    else:\n",
    "        nleft += 1\n",
    "        x[i] = 0.5 * (np.random.rand())\n",
    "        y[i] = np.random.rand()\n",
    "\n",
    "    time += 1"
   ]
  },
  {
   "cell_type": "code",
   "execution_count": 79,
   "metadata": {},
   "outputs": [
    {
     "data": {
      "image/png": "[encoded data removed]",
      "text/plain": [
       "<Figure size 432x288 with 1 Axes>"
      ]
     },
     "metadata": {},
     "output_type": "display_data"
    }
   ],
   "source": [
    "draw(x,y)"
   ]
  },
  {
   "cell_type": "markdown",
   "metadata": {},
   "source": [
    "Appears to have the basic functionality."
   ]
  },
  {
   "cell_type": "code",
   "execution_count": 136,
   "metadata": {},
   "outputs": [],
   "source": [
    "def randombox(N=50, nsteps=100):\n",
    "    \n",
    "    x = np.empty(N)\n",
    "    y = np.empty(N)\n",
    "\n",
    "    np.random.seed(3800)\n",
    "\n",
    "    nleft = N\n",
    "    time = 0\n",
    "\n",
    "    for i in range(N):\n",
    "        x[i] = 0.5 * np.random.rand()\n",
    "        y[i] = np.random.rand()\n",
    "\n",
    "    rows = []\n",
    "    for n in range(nsteps):\n",
    "        row = {'time': time, 'nleft': nleft}\n",
    "        rows.append(row)\n",
    "\n",
    "        # step\n",
    "        r = np.random.rand()\n",
    "\n",
    "        i = int(N * r)\n",
    "\n",
    "        if x[i] < 0.5:\n",
    "            nleft -= 1\n",
    "            x[i] = 0.5 * (1 + np.random.rand())\n",
    "            y[i] = np.random.rand()\n",
    "        else:\n",
    "            nleft += 1\n",
    "            x[i] = 0.5 * (np.random.rand())\n",
    "            y[i] = np.random.rand()\n",
    "\n",
    "        time += 1\n",
    "    df = pd.DataFrame(rows)\n",
    "    \n",
    "    return df"
   ]
  },
  {
   "cell_type": "code",
   "execution_count": 153,
   "metadata": {},
   "outputs": [
    {
     "data": {
      "text/html": [
       "<div>\n",
       "<style scoped>\n",
       "    .dataframe tbody tr th:only-of-type {\n",
       "        vertical-align: middle;\n",
       "    }\n",
       "\n",
       "    .dataframe tbody tr th {\n",
       "        vertical-align: top;\n",
       "    }\n",
       "\n",
       "    .dataframe thead th {\n",
       "        text-align: right;\n",
       "    }\n",
       "</style>\n",
       "<table border=\"1\" class=\"dataframe\">\n",
       "  <thead>\n",
       "    <tr style=\"text-align: right;\">\n",
       "      <th></th>\n",
       "      <th>time</th>\n",
       "      <th>nleft</th>\n",
       "    </tr>\n",
       "  </thead>\n",
       "  <tbody>\n",
       "    <tr>\n",
       "      <th>7201</th>\n",
       "      <td>7201</td>\n",
       "      <td>1819</td>\n",
       "    </tr>\n",
       "    <tr>\n",
       "      <th>7202</th>\n",
       "      <td>7202</td>\n",
       "      <td>1820</td>\n",
       "    </tr>\n",
       "    <tr>\n",
       "      <th>7203</th>\n",
       "      <td>7203</td>\n",
       "      <td>1821</td>\n",
       "    </tr>\n",
       "    <tr>\n",
       "      <th>7204</th>\n",
       "      <td>7204</td>\n",
       "      <td>1820</td>\n",
       "    </tr>\n",
       "    <tr>\n",
       "      <th>7205</th>\n",
       "      <td>7205</td>\n",
       "      <td>1819</td>\n",
       "    </tr>\n",
       "    <tr>\n",
       "      <th>...</th>\n",
       "      <td>...</td>\n",
       "      <td>...</td>\n",
       "    </tr>\n",
       "    <tr>\n",
       "      <th>9995</th>\n",
       "      <td>9995</td>\n",
       "      <td>1821</td>\n",
       "    </tr>\n",
       "    <tr>\n",
       "      <th>9996</th>\n",
       "      <td>9996</td>\n",
       "      <td>1822</td>\n",
       "    </tr>\n",
       "    <tr>\n",
       "      <th>9997</th>\n",
       "      <td>9997</td>\n",
       "      <td>1821</td>\n",
       "    </tr>\n",
       "    <tr>\n",
       "      <th>9998</th>\n",
       "      <td>9998</td>\n",
       "      <td>1822</td>\n",
       "    </tr>\n",
       "    <tr>\n",
       "      <th>9999</th>\n",
       "      <td>9999</td>\n",
       "      <td>1821</td>\n",
       "    </tr>\n",
       "  </tbody>\n",
       "</table>\n",
       "<p>2799 rows × 2 columns</p>\n",
       "</div>"
      ],
      "text/plain": [
       "      time  nleft\n",
       "7201  7201   1819\n",
       "7202  7202   1820\n",
       "7203  7203   1821\n",
       "7204  7204   1820\n",
       "7205  7205   1819\n",
       "...    ...    ...\n",
       "9995  9995   1821\n",
       "9996  9996   1822\n",
       "9997  9997   1821\n",
       "9998  9998   1822\n",
       "9999  9999   1821\n",
       "\n",
       "[2799 rows x 2 columns]"
      ]
     },
     "execution_count": 153,
     "metadata": {},
     "output_type": "execute_result"
    }
   ],
   "source": []
  },
  {
   "cell_type": "code",
   "execution_count": 168,
   "metadata": {},
   "outputs": [],
   "source": [
    "def plot_nleft(df):\n",
    "    N = df.iloc[0].nleft\n",
    "    \n",
    "    plt.plot(df.time, df.nleft, label=N)\n",
    "    plt.xlabel('time')\n",
    "    plt.ylabel('nleft')\n",
    "    \n",
    "    # determine equlibrium\n",
    "    df = df[df.time > 2*N]\n",
    "    plt.plot(df.time, df.nleft, linestyle='-', linewidth=4, alpha=0.3, color='k')\n",
    "    \n",
    "    n_avg = df.nleft.mean()\n",
    "    print(n_avg)\n",
    "    \n",
    "    Neqm = N / 2\n",
    "    plt.axhline(Neqm, color='k', linestyle=':')\n",
    "    "
   ]
  },
  {
   "cell_type": "code",
   "execution_count": 169,
   "metadata": {},
   "outputs": [
    {
     "name": "stdout",
     "output_type": "stream",
     "text": [
      "4.026845637583893\n",
      "8.024079462225343\n",
      "31.868301083983386\n",
      "197.93390585933253\n",
      "399.4032622931301\n",
      "1831.662022150768\n"
     ]
    },
    {
     "data": {
      "text/plain": [
       "<matplotlib.legend.Legend at 0x124fbc6d0>"
      ]
     },
     "execution_count": 169,
     "metadata": {},
     "output_type": "execute_result"
    },
    {
     "data": {
      "image/png": "[encoded data removed]",
      "text/plain": [
       "<Figure size 864x720 with 1 Axes>"
      ]
     },
     "metadata": {
      "needs_background": "light"
     },
     "output_type": "display_data"
    }
   ],
   "source": [
    "plt.figure(figsize=(12,10))\n",
    "for N in [8, 16, 64, 400, 800, 3600]:\n",
    "    nsteps = 10000\n",
    "    df = randombox(N, nsteps)\n",
    "    plot_nleft(df)\n",
    "plt.legend()"
   ]
  },
  {
   "cell_type": "code",
   "execution_count": null,
   "metadata": {},
   "outputs": [],
   "source": []
  },
  {
   "cell_type": "code",
   "execution_count": null,
   "metadata": {},
   "outputs": [],
   "source": []
  },
  {
   "cell_type": "code",
   "execution_count": null,
   "metadata": {},
   "outputs": [],
   "source": []
  }
 ],
 "metadata": {
  "file_extension": ".py",
  "kernelspec": {
   "display_name": "Python 3",
   "language": "python",
   "name": "python3"
  },
  "language_info": {
   "codemirror_mode": {
    "name": "ipython",
    "version": 3
   },
   "file_extension": ".py",
   "mimetype": "text/x-python",
   "name": "python",
   "nbconvert_exporter": "python",
   "pygments_lexer": "ipython3",
   "version": "3.8.1"
  },
  "mimetype": "text/x-python",
  "name": "python",
  "npconvert_exporter": "python",
  "pygments_lexer": "ipython3",
  "version": 3
 },
 "nbformat": 4,
 "nbformat_minor": 4
}
