{
 "cells": [
  {
   "cell_type": "markdown",
   "metadata": {},
   "source": [
    "# Enumerating Self-Avoiding Walks"
   ]
  },
  {
   "cell_type": "markdown",
   "metadata": {},
   "source": [
    "## Depth-first Search Algorithm for SAW Enumeration"
   ]
  },
  {
   "cell_type": "markdown",
   "metadata": {},
   "source": [
    "**0**. Decide on a fixed local search order around a site. Initialize all variables.\n",
    "\n",
    "**1**. Occupy the starting point, set $n = 1$, and set search direction index at this site as\n",
    "$dir(1) = 1$.\n",
    "\n",
    "**2**. Test if all directions around site n have already been searched.\n",
    "  - If yes:\n",
    "    - *Unoccupy* site n.\n",
    "    - Decrement $n \\Rightarrow n − 1$.   \n",
    "    - If $n = 0$, you are done. Otherwise, repeat **2**.\n",
    "  - If not, test the target in $dir(n)$ from site $n$ is *available*:\n",
    "    - If it is:\n",
    "        - Extend SAW to this site and add this walk to statistics.\n",
    "        - Test if $n+1=n_{max}$.\n",
    "            - If it has, increment $dir(n)$ and repeat 2.\n",
    "            - If not:\n",
    "                - Increment $dir(n)$.\n",
    "                - Increment $n \\Rightarrow n + 1$. \n",
    "                - *Occupy* the target site.\n",
    "                - Set $dir(n) = 1$.\n",
    "                - Repeat **2**.\n",
    "        - If it is not, increment $dir(n)$ and repeat **2**."
   ]
  },
  {
   "cell_type": "code",
   "execution_count": 16,
   "metadata": {},
   "outputs": [],
   "source": [
    "import numpy as np\n",
    "import matplotlib.pyplot as plt"
   ]
  },
  {
   "cell_type": "code",
   "execution_count": 17,
   "metadata": {},
   "outputs": [],
   "source": [
    "nstep = 5"
   ]
  },
  {
   "cell_type": "code",
   "execution_count": 18,
   "metadata": {},
   "outputs": [],
   "source": [
    "wk = np.zeros(nstep)\n",
    "ce2 = np.zeros(nstep)\n",
    "ce4 = np.zeros(nstep)\n",
    "cr2 = np.zeros(nstep)\n",
    "cr4 = np.zeros(nstep)\n",
    "\n",
    "wk[0] = 1\n",
    "ce2[0] = 1\n",
    "ce4[0] = 1\n",
    "cr2[0] = 1\n",
    "cr4[0] = 1"
   ]
  },
  {
   "cell_type": "code",
   "execution_count": 21,
   "metadata": {},
   "outputs": [],
   "source": [
    "lat = np.zeros((2*nstep+1, 2*nstep+1), dtype=np.bool)\n",
    "lat[0,0] = True\n",
    "lat[1,0] = True"
   ]
  },
  {
   "cell_type": "code",
   "execution_count": 22,
   "metadata": {},
   "outputs": [
    {
     "data": {
      "text/plain": [
       "<matplotlib.image.AxesImage at 0x1021ceb50>"
      ]
     },
     "execution_count": 22,
     "metadata": {},
     "output_type": "execute_result"
    },
    {
     "data": {
      "image/png": "[encoded data removed]",
      "text/plain": [
       "<Figure size 432x288 with 1 Axes>"
      ]
     },
     "metadata": {
      "needs_background": "light"
     },
     "output_type": "display_data"
    }
   ],
   "source": [
    "plt.imshow(lat)"
   ]
  },
  {
   "cell_type": "code",
   "execution_count": 23,
   "metadata": {},
   "outputs": [],
   "source": [
    "lx = np.zeros(nstep)\n",
    "ly = np.zeros(nstep)\n",
    "ldir = np.zeros(nstep)"
   ]
  },
  {
   "cell_type": "code",
   "execution_count": 24,
   "metadata": {},
   "outputs": [],
   "source": [
    "lx[0] = 1\n",
    "ly[0] = 1\n",
    "ldir[0] = 1\n"
   ]
  },
  {
   "cell_type": "code",
   "execution_count": null,
   "metadata": {},
   "outputs": [],
   "source": [
    "n = 2\n",
    "k = ldir[n]\n",
    "i = lx[n-1]\n",
    "j = ly[n-1]"
   ]
  },
  {
   "cell_type": "code",
   "execution_count": null,
   "metadata": {},
   "outputs": [],
   "source": [
    "\n",
    "for l in range(k, maxz+1):\n",
    "    mx = i + ndr[0, l]\n",
    "    my = j + ndr[1, l]\n",
    "    if not lat[mx, my]:\n",
    "        e2[n] = mx**2 + my**2\n",
    "        r2[n] = r2[n-1] + e2[n]\n",
    "        \n",
    "        for k in range(1, n):\n",
    "            r2[n] = r2[n] +(mx-lx[k])**2+(my-ly[k])**2\n",
    "        \n",
    "        wk[n] += 1\n",
    "        ce2[n] += e2[n]\n",
    "        ce4[n] += e2[n]**2\n",
    "        cr2[n] += r2[n]\n",
    "        cr4[n] += r2[n]**2\n",
    "        \n",
    "        if n < nstep:\n",
    "            ldir[n] = l + 1\n",
    "            lat[mx, my] = True\n",
    "            lx[n] = mx\n",
    "            ly[n] = my\n",
    "            n = n + 1\n",
    "            ldir[n] = 1\n",
    "            \n",
    "            #repeat step 2\n",
    "            continue\n",
    "            \n",
    "lat[i,j] = False\n",
    "n = n-1\n",
    "if n < 1:\n",
    "    break\n",
    "            \n",
    "        "
   ]
  },
  {
   "cell_type": "code",
   "execution_count": null,
   "metadata": {},
   "outputs": [],
   "source": []
  }
 ],
 "metadata": {
  "kernelspec": {
   "display_name": "Python 3",
   "language": "python",
   "name": "python3"
  },
  "language_info": {
   "codemirror_mode": {
    "name": "ipython",
    "version": 3
   },
   "file_extension": ".py",
   "mimetype": "text/x-python",
   "name": "python",
   "nbconvert_exporter": "python",
   "pygments_lexer": "ipython3",
   "version": "3.8.1"
  }
 },
 "nbformat": 4,
 "nbformat_minor": 4
}
