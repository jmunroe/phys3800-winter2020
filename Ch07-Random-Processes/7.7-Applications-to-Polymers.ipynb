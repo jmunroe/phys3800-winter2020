{
 "cells": [
  {
   "cell_type": "markdown",
   "metadata": {},
   "source": [
    "# 7.7 Applications to Polymers\n"
   ]
  },
  {
   "cell_type": "code",
   "execution_count": 729,
   "metadata": {},
   "outputs": [],
   "source": [
    "import numpy as np\n",
    "import matplotlib.pyplot as plt\n",
    "import pandas as pd\n",
    "from ipywidgets import interactive"
   ]
  },
  {
   "cell_type": "markdown",
   "metadata": {},
   "source": [
    "Model a polymer of length $N$ as chain on a rectangular lattice."
   ]
  },
  {
   "cell_type": "code",
   "execution_count": 730,
   "metadata": {},
   "outputs": [],
   "source": [
    "def walker2D(N = 100, # number of steps\n",
    "             x0 = 0, # initial position\n",
    "             y0 = 0, \n",
    "             a = 1, # step size\n",
    "            ):\n",
    "    \n",
    "    xAccum = np.zeros(N+1)\n",
    "    yAccum = np.zeros(N+1)\n",
    "    \n",
    "    x = x0\n",
    "    y = y0\n",
    "    for n in range(N+1):\n",
    "        \n",
    "        xAccum[n] = x\n",
    "        yAccum[n] = y\n",
    "        \n",
    "        r = np.random.rand()\n",
    "        if r < 0.25:\n",
    "            x += a\n",
    "        elif r < 0.50:\n",
    "            x -= a\n",
    "        elif r < 0.75:\n",
    "            y += a\n",
    "        else:\n",
    "            y -= a\n",
    "        \n",
    "    return {'x': xAccum[-1],\n",
    "            'y': yAccum[-1],\n",
    "            'xAccum': xAccum,\n",
    "            'yAccum': yAccum}"
   ]
  },
  {
   "cell_type": "markdown",
   "metadata": {},
   "source": [
    "Each random walk is made up of $N$ steps."
   ]
  },
  {
   "cell_type": "code",
   "execution_count": 732,
   "metadata": {},
   "outputs": [
    {
     "data": {
      "text/plain": [
       "{'x': 0.0,\n",
       " 'y': 2.0,\n",
       " 'xAccum': array([0., 1., 2., 1., 1., 0., 0.]),\n",
       " 'yAccum': array([0., 0., 0., 0., 1., 1., 2.])}"
      ]
     },
     "execution_count": 732,
     "metadata": {},
     "output_type": "execute_result"
    }
   ],
   "source": [
    "walker2D(N=6)"
   ]
  },
  {
   "cell_type": "markdown",
   "metadata": {},
   "source": [
    "We want to consider the averages of $M$ such random walkers"
   ]
  },
  {
   "cell_type": "code",
   "execution_count": 733,
   "metadata": {},
   "outputs": [
    {
     "data": {
      "text/plain": [
       "(-5.5, 5.5, -9.75, 6.75)"
      ]
     },
     "execution_count": 733,
     "metadata": {},
     "output_type": "execute_result"
    },
    {
     "data": {
      "image/png": "[encoded data removed]",
      "text/plain": [
       "<Figure size 432x288 with 1 Axes>"
      ]
     },
     "metadata": {
      "needs_background": "light"
     },
     "output_type": "display_data"
    }
   ],
   "source": [
    "M = 10\n",
    "for m in range(M):\n",
    "    walk = walker2D(N=20)\n",
    "    plt.plot(walk['xAccum'], walk['yAccum'])\n",
    "    plt.plot(walk['x'], walk['y'], 'ko')\n",
    "\n",
    "plt.axis('equal')"
   ]
  },
  {
   "cell_type": "code",
   "execution_count": 734,
   "metadata": {},
   "outputs": [],
   "source": [
    "def generateWalkers(M=10, N=20):\n",
    "\n",
    "    rows = []\n",
    "    for t in range(M):\n",
    "        row = walker2D(N=N)\n",
    "        rows.append(row)\n",
    "        \n",
    "\n",
    "    df = pd.DataFrame(rows)\n",
    "    \n",
    "    return df"
   ]
  },
  {
   "cell_type": "code",
   "execution_count": 735,
   "metadata": {},
   "outputs": [],
   "source": [
    "df = generateWalkers(M=20)"
   ]
  },
  {
   "cell_type": "code",
   "execution_count": 736,
   "metadata": {},
   "outputs": [
    {
     "data": {
      "text/html": [
       "<div>\n",
       "<style scoped>\n",
       "    .dataframe tbody tr th:only-of-type {\n",
       "        vertical-align: middle;\n",
       "    }\n",
       "\n",
       "    .dataframe tbody tr th {\n",
       "        vertical-align: top;\n",
       "    }\n",
       "\n",
       "    .dataframe thead th {\n",
       "        text-align: right;\n",
       "    }\n",
       "</style>\n",
       "<table border=\"1\" class=\"dataframe\">\n",
       "  <thead>\n",
       "    <tr style=\"text-align: right;\">\n",
       "      <th></th>\n",
       "      <th>x</th>\n",
       "      <th>y</th>\n",
       "      <th>xAccum</th>\n",
       "      <th>yAccum</th>\n",
       "    </tr>\n",
       "  </thead>\n",
       "  <tbody>\n",
       "    <tr>\n",
       "      <th>0</th>\n",
       "      <td>1.0</td>\n",
       "      <td>5.0</td>\n",
       "      <td>[0.0, 0.0, 0.0, 1.0, 2.0, 2.0, 2.0, 2.0, 1.0, ...</td>\n",
       "      <td>[0.0, -1.0, 0.0, 0.0, 0.0, 1.0, 0.0, 1.0, 1.0,...</td>\n",
       "    </tr>\n",
       "    <tr>\n",
       "      <th>1</th>\n",
       "      <td>1.0</td>\n",
       "      <td>-1.0</td>\n",
       "      <td>[0.0, 0.0, 0.0, 0.0, -1.0, -1.0, -1.0, 0.0, 0....</td>\n",
       "      <td>[0.0, 1.0, 0.0, 1.0, 1.0, 2.0, 1.0, 1.0, 0.0, ...</td>\n",
       "    </tr>\n",
       "    <tr>\n",
       "      <th>2</th>\n",
       "      <td>-3.0</td>\n",
       "      <td>1.0</td>\n",
       "      <td>[0.0, 0.0, 0.0, 1.0, 1.0, 0.0, -1.0, -1.0, 0.0...</td>\n",
       "      <td>[0.0, 1.0, 0.0, 0.0, 1.0, 1.0, 1.0, 2.0, 2.0, ...</td>\n",
       "    </tr>\n",
       "    <tr>\n",
       "      <th>3</th>\n",
       "      <td>-2.0</td>\n",
       "      <td>-2.0</td>\n",
       "      <td>[0.0, 0.0, -1.0, -2.0, -3.0, -2.0, -1.0, 0.0, ...</td>\n",
       "      <td>[0.0, 1.0, 1.0, 1.0, 1.0, 1.0, 1.0, 1.0, 2.0, ...</td>\n",
       "    </tr>\n",
       "    <tr>\n",
       "      <th>4</th>\n",
       "      <td>0.0</td>\n",
       "      <td>2.0</td>\n",
       "      <td>[0.0, 0.0, 0.0, 0.0, -1.0, 0.0, 1.0, 0.0, 1.0,...</td>\n",
       "      <td>[0.0, -1.0, 0.0, 1.0, 1.0, 1.0, 1.0, 1.0, 1.0,...</td>\n",
       "    </tr>\n",
       "    <tr>\n",
       "      <th>5</th>\n",
       "      <td>-3.0</td>\n",
       "      <td>3.0</td>\n",
       "      <td>[0.0, -1.0, -1.0, -2.0, -1.0, 0.0, 1.0, 1.0, 1...</td>\n",
       "      <td>[0.0, 0.0, 1.0, 1.0, 1.0, 1.0, 1.0, 2.0, 1.0, ...</td>\n",
       "    </tr>\n",
       "    <tr>\n",
       "      <th>6</th>\n",
       "      <td>3.0</td>\n",
       "      <td>1.0</td>\n",
       "      <td>[0.0, 0.0, 1.0, 2.0, 2.0, 2.0, 2.0, 2.0, 2.0, ...</td>\n",
       "      <td>[0.0, 1.0, 1.0, 1.0, 0.0, -1.0, 0.0, -1.0, 0.0...</td>\n",
       "    </tr>\n",
       "    <tr>\n",
       "      <th>7</th>\n",
       "      <td>-6.0</td>\n",
       "      <td>2.0</td>\n",
       "      <td>[0.0, 0.0, 0.0, 0.0, 0.0, 0.0, 0.0, -1.0, -2.0...</td>\n",
       "      <td>[0.0, 1.0, 2.0, 3.0, 2.0, 3.0, 2.0, 2.0, 2.0, ...</td>\n",
       "    </tr>\n",
       "    <tr>\n",
       "      <th>8</th>\n",
       "      <td>-2.0</td>\n",
       "      <td>-2.0</td>\n",
       "      <td>[0.0, 1.0, 1.0, 1.0, 1.0, 2.0, 2.0, 2.0, 2.0, ...</td>\n",
       "      <td>[0.0, 0.0, -1.0, -2.0, -1.0, -1.0, -2.0, -3.0,...</td>\n",
       "    </tr>\n",
       "    <tr>\n",
       "      <th>9</th>\n",
       "      <td>3.0</td>\n",
       "      <td>7.0</td>\n",
       "      <td>[0.0, 1.0, 1.0, 2.0, 1.0, 2.0, 2.0, 1.0, 2.0, ...</td>\n",
       "      <td>[0.0, 0.0, 1.0, 1.0, 1.0, 1.0, 2.0, 2.0, 2.0, ...</td>\n",
       "    </tr>\n",
       "    <tr>\n",
       "      <th>10</th>\n",
       "      <td>0.0</td>\n",
       "      <td>2.0</td>\n",
       "      <td>[0.0, 0.0, 1.0, 1.0, 1.0, 1.0, 1.0, 0.0, -1.0,...</td>\n",
       "      <td>[0.0, -1.0, -1.0, 0.0, 1.0, 0.0, -1.0, -1.0, -...</td>\n",
       "    </tr>\n",
       "    <tr>\n",
       "      <th>11</th>\n",
       "      <td>3.0</td>\n",
       "      <td>1.0</td>\n",
       "      <td>[0.0, 0.0, 1.0, 0.0, 0.0, -1.0, 0.0, 1.0, 1.0,...</td>\n",
       "      <td>[0.0, -1.0, -1.0, -1.0, -2.0, -2.0, -2.0, -2.0...</td>\n",
       "    </tr>\n",
       "    <tr>\n",
       "      <th>12</th>\n",
       "      <td>4.0</td>\n",
       "      <td>-2.0</td>\n",
       "      <td>[0.0, 0.0, -1.0, 0.0, -1.0, -1.0, -2.0, -1.0, ...</td>\n",
       "      <td>[0.0, -1.0, -1.0, -1.0, -1.0, -2.0, -2.0, -2.0...</td>\n",
       "    </tr>\n",
       "    <tr>\n",
       "      <th>13</th>\n",
       "      <td>3.0</td>\n",
       "      <td>-3.0</td>\n",
       "      <td>[0.0, 1.0, 1.0, 2.0, 2.0, 2.0, 3.0, 3.0, 2.0, ...</td>\n",
       "      <td>[0.0, 0.0, 1.0, 1.0, 0.0, -1.0, -1.0, -2.0, -2...</td>\n",
       "    </tr>\n",
       "    <tr>\n",
       "      <th>14</th>\n",
       "      <td>0.0</td>\n",
       "      <td>-2.0</td>\n",
       "      <td>[0.0, 0.0, -1.0, -1.0, -1.0, -1.0, -2.0, -1.0,...</td>\n",
       "      <td>[0.0, -1.0, -1.0, 0.0, -1.0, 0.0, 0.0, 0.0, 0....</td>\n",
       "    </tr>\n",
       "    <tr>\n",
       "      <th>15</th>\n",
       "      <td>-10.0</td>\n",
       "      <td>-2.0</td>\n",
       "      <td>[0.0, 0.0, 0.0, -1.0, -2.0, -2.0, -3.0, -4.0, ...</td>\n",
       "      <td>[0.0, -1.0, 0.0, 0.0, 0.0, -1.0, -1.0, -1.0, -...</td>\n",
       "    </tr>\n",
       "    <tr>\n",
       "      <th>16</th>\n",
       "      <td>5.0</td>\n",
       "      <td>-1.0</td>\n",
       "      <td>[0.0, 1.0, 2.0, 1.0, 1.0, 1.0, 2.0, 3.0, 3.0, ...</td>\n",
       "      <td>[0.0, 0.0, 0.0, 0.0, 1.0, 0.0, 0.0, 0.0, -1.0,...</td>\n",
       "    </tr>\n",
       "    <tr>\n",
       "      <th>17</th>\n",
       "      <td>1.0</td>\n",
       "      <td>5.0</td>\n",
       "      <td>[0.0, 0.0, -1.0, -1.0, 0.0, -1.0, 0.0, 1.0, 0....</td>\n",
       "      <td>[0.0, -1.0, -1.0, 0.0, 0.0, 0.0, 0.0, 0.0, 0.0...</td>\n",
       "    </tr>\n",
       "    <tr>\n",
       "      <th>18</th>\n",
       "      <td>1.0</td>\n",
       "      <td>3.0</td>\n",
       "      <td>[0.0, 0.0, 1.0, 1.0, 1.0, 0.0, -1.0, -1.0, 0.0...</td>\n",
       "      <td>[0.0, -1.0, -1.0, 0.0, -1.0, -1.0, -1.0, 0.0, ...</td>\n",
       "    </tr>\n",
       "    <tr>\n",
       "      <th>19</th>\n",
       "      <td>3.0</td>\n",
       "      <td>1.0</td>\n",
       "      <td>[0.0, 1.0, 1.0, 1.0, 1.0, 2.0, 1.0, 1.0, 2.0, ...</td>\n",
       "      <td>[0.0, 0.0, 1.0, 2.0, 3.0, 3.0, 3.0, 4.0, 4.0, ...</td>\n",
       "    </tr>\n",
       "  </tbody>\n",
       "</table>\n",
       "</div>"
      ],
      "text/plain": [
       "       x    y                                             xAccum  \\\n",
       "0    1.0  5.0  [0.0, 0.0, 0.0, 1.0, 2.0, 2.0, 2.0, 2.0, 1.0, ...   \n",
       "1    1.0 -1.0  [0.0, 0.0, 0.0, 0.0, -1.0, -1.0, -1.0, 0.0, 0....   \n",
       "2   -3.0  1.0  [0.0, 0.0, 0.0, 1.0, 1.0, 0.0, -1.0, -1.0, 0.0...   \n",
       "3   -2.0 -2.0  [0.0, 0.0, -1.0, -2.0, -3.0, -2.0, -1.0, 0.0, ...   \n",
       "4    0.0  2.0  [0.0, 0.0, 0.0, 0.0, -1.0, 0.0, 1.0, 0.0, 1.0,...   \n",
       "5   -3.0  3.0  [0.0, -1.0, -1.0, -2.0, -1.0, 0.0, 1.0, 1.0, 1...   \n",
       "6    3.0  1.0  [0.0, 0.0, 1.0, 2.0, 2.0, 2.0, 2.0, 2.0, 2.0, ...   \n",
       "7   -6.0  2.0  [0.0, 0.0, 0.0, 0.0, 0.0, 0.0, 0.0, -1.0, -2.0...   \n",
       "8   -2.0 -2.0  [0.0, 1.0, 1.0, 1.0, 1.0, 2.0, 2.0, 2.0, 2.0, ...   \n",
       "9    3.0  7.0  [0.0, 1.0, 1.0, 2.0, 1.0, 2.0, 2.0, 1.0, 2.0, ...   \n",
       "10   0.0  2.0  [0.0, 0.0, 1.0, 1.0, 1.0, 1.0, 1.0, 0.0, -1.0,...   \n",
       "11   3.0  1.0  [0.0, 0.0, 1.0, 0.0, 0.0, -1.0, 0.0, 1.0, 1.0,...   \n",
       "12   4.0 -2.0  [0.0, 0.0, -1.0, 0.0, -1.0, -1.0, -2.0, -1.0, ...   \n",
       "13   3.0 -3.0  [0.0, 1.0, 1.0, 2.0, 2.0, 2.0, 3.0, 3.0, 2.0, ...   \n",
       "14   0.0 -2.0  [0.0, 0.0, -1.0, -1.0, -1.0, -1.0, -2.0, -1.0,...   \n",
       "15 -10.0 -2.0  [0.0, 0.0, 0.0, -1.0, -2.0, -2.0, -3.0, -4.0, ...   \n",
       "16   5.0 -1.0  [0.0, 1.0, 2.0, 1.0, 1.0, 1.0, 2.0, 3.0, 3.0, ...   \n",
       "17   1.0  5.0  [0.0, 0.0, -1.0, -1.0, 0.0, -1.0, 0.0, 1.0, 0....   \n",
       "18   1.0  3.0  [0.0, 0.0, 1.0, 1.0, 1.0, 0.0, -1.0, -1.0, 0.0...   \n",
       "19   3.0  1.0  [0.0, 1.0, 1.0, 1.0, 1.0, 2.0, 1.0, 1.0, 2.0, ...   \n",
       "\n",
       "                                               yAccum  \n",
       "0   [0.0, -1.0, 0.0, 0.0, 0.0, 1.0, 0.0, 1.0, 1.0,...  \n",
       "1   [0.0, 1.0, 0.0, 1.0, 1.0, 2.0, 1.0, 1.0, 0.0, ...  \n",
       "2   [0.0, 1.0, 0.0, 0.0, 1.0, 1.0, 1.0, 2.0, 2.0, ...  \n",
       "3   [0.0, 1.0, 1.0, 1.0, 1.0, 1.0, 1.0, 1.0, 2.0, ...  \n",
       "4   [0.0, -1.0, 0.0, 1.0, 1.0, 1.0, 1.0, 1.0, 1.0,...  \n",
       "5   [0.0, 0.0, 1.0, 1.0, 1.0, 1.0, 1.0, 2.0, 1.0, ...  \n",
       "6   [0.0, 1.0, 1.0, 1.0, 0.0, -1.0, 0.0, -1.0, 0.0...  \n",
       "7   [0.0, 1.0, 2.0, 3.0, 2.0, 3.0, 2.0, 2.0, 2.0, ...  \n",
       "8   [0.0, 0.0, -1.0, -2.0, -1.0, -1.0, -2.0, -3.0,...  \n",
       "9   [0.0, 0.0, 1.0, 1.0, 1.0, 1.0, 2.0, 2.0, 2.0, ...  \n",
       "10  [0.0, -1.0, -1.0, 0.0, 1.0, 0.0, -1.0, -1.0, -...  \n",
       "11  [0.0, -1.0, -1.0, -1.0, -2.0, -2.0, -2.0, -2.0...  \n",
       "12  [0.0, -1.0, -1.0, -1.0, -1.0, -2.0, -2.0, -2.0...  \n",
       "13  [0.0, 0.0, 1.0, 1.0, 0.0, -1.0, -1.0, -2.0, -2...  \n",
       "14  [0.0, -1.0, -1.0, 0.0, -1.0, 0.0, 0.0, 0.0, 0....  \n",
       "15  [0.0, -1.0, 0.0, 0.0, 0.0, -1.0, -1.0, -1.0, -...  \n",
       "16  [0.0, 0.0, 0.0, 0.0, 1.0, 0.0, 0.0, 0.0, -1.0,...  \n",
       "17  [0.0, -1.0, -1.0, 0.0, 0.0, 0.0, 0.0, 0.0, 0.0...  \n",
       "18  [0.0, -1.0, -1.0, 0.0, -1.0, -1.0, -1.0, 0.0, ...  \n",
       "19  [0.0, 0.0, 1.0, 2.0, 3.0, 3.0, 3.0, 4.0, 4.0, ...  "
      ]
     },
     "execution_count": 736,
     "metadata": {},
     "output_type": "execute_result"
    }
   ],
   "source": [
    "df"
   ]
  },
  {
   "cell_type": "code",
   "execution_count": 737,
   "metadata": {},
   "outputs": [],
   "source": [
    "def plot_xy(df):\n",
    "    for walk in df.itertuples():\n",
    "        plt.plot(walk.xAccum, walk.yAccum, 'k-', linewidth=0.1)\n",
    "        plt.plot(walk.x, walk.y, 'k.')\n",
    "        \n",
    "    plt.axis('equal')"
   ]
  },
  {
   "cell_type": "code",
   "execution_count": 483,
   "metadata": {},
   "outputs": [
    {
     "data": {
      "image/png": "[encoded data removed]",
      "text/plain": [
       "<Figure size 432x288 with 1 Axes>"
      ]
     },
     "metadata": {
      "needs_background": "light"
     },
     "output_type": "display_data"
    }
   ],
   "source": [
    "plot_xy(df)"
   ]
  },
  {
   "cell_type": "markdown",
   "metadata": {},
   "source": [
    "We are interested in calculate statistics over all of the walkers.\n",
    "\n",
    "$$ \\left<x\\right>, \\left<y\\right>, \\Delta x^2, \\Delta y^2 $$\n",
    "\n",
    "and\n",
    "\n",
    "$$R^2 = \\left<x^2\\right> - \\left<x\\right>^2 + \\left<y^2\\right> - \\left<y\\right>^2 = \\Delta x^2 + \\Delta y^2 $$"
   ]
  },
  {
   "cell_type": "code",
   "execution_count": 738,
   "metadata": {},
   "outputs": [
    {
     "data": {
      "text/plain": [
       "0.1"
      ]
     },
     "execution_count": 738,
     "metadata": {},
     "output_type": "execute_result"
    }
   ],
   "source": [
    "df.x.mean()"
   ]
  },
  {
   "cell_type": "code",
   "execution_count": 739,
   "metadata": {},
   "outputs": [
    {
     "data": {
      "text/plain": [
       "12.6"
      ]
     },
     "execution_count": 739,
     "metadata": {},
     "output_type": "execute_result"
    }
   ],
   "source": [
    "(df.x**2).mean()"
   ]
  },
  {
   "cell_type": "code",
   "execution_count": 740,
   "metadata": {},
   "outputs": [],
   "source": [
    "def compute_R(df):\n",
    "    Δx2 = (df.x**2).mean() -  df.x.mean()**2\n",
    "    Δy2 = (df.y**2).mean() - df.y.mean()**2\n",
    "    R2 = Δx2 + Δy2\n",
    "    R = np.sqrt(R2)\n",
    "    \n",
    "    return R"
   ]
  },
  {
   "cell_type": "code",
   "execution_count": 742,
   "metadata": {},
   "outputs": [
    {
     "data": {
      "text/plain": [
       "4.469899327725401"
      ]
     },
     "execution_count": 742,
     "metadata": {},
     "output_type": "execute_result"
    }
   ],
   "source": [
    "R = compute_R(df)\n",
    "R"
   ]
  },
  {
   "cell_type": "code",
   "execution_count": 743,
   "metadata": {},
   "outputs": [
    {
     "data": {
      "text/plain": [
       "(-10.75, 5.75, -3.5, 7.5)"
      ]
     },
     "execution_count": 743,
     "metadata": {},
     "output_type": "execute_result"
    },
    {
     "data": {
      "image/png": "[encoded data removed]",
      "text/plain": [
       "<Figure size 432x288 with 1 Axes>"
      ]
     },
     "metadata": {
      "needs_background": "light"
     },
     "output_type": "display_data"
    }
   ],
   "source": [
    "fig, ax = plt.subplots()\n",
    "\n",
    "plt.plot(df.x, df.y, 'k.')\n",
    "\n",
    "x_avg = df.x.mean()\n",
    "y_avg = df.y.mean()\n",
    "circle1 = plt.Circle((x_avg, y_avg), R, color='b', alpha=0.5)\n",
    "ax.add_artist(circle1)\n",
    "\n",
    "plt.axis('equal')"
   ]
  },
  {
   "cell_type": "code",
   "execution_count": 750,
   "metadata": {},
   "outputs": [
    {
     "data": {
      "text/plain": [
       "22.47719591052229"
      ]
     },
     "execution_count": 750,
     "metadata": {},
     "output_type": "execute_result"
    }
   ],
   "source": [
    "df = generateWalkers(N=500, M=1000)\n",
    "R = compute_R(df)\n",
    "R"
   ]
  },
  {
   "cell_type": "code",
   "execution_count": 751,
   "metadata": {},
   "outputs": [
    {
     "data": {
      "text/plain": [
       "(-50.7, 52.7, -52.75, 51.75)"
      ]
     },
     "execution_count": 751,
     "metadata": {},
     "output_type": "execute_result"
    },
    {
     "data": {
      "image/png": "[encoded data removed]",
      "text/plain": [
       "<Figure size 432x288 with 1 Axes>"
      ]
     },
     "metadata": {
      "needs_background": "light"
     },
     "output_type": "display_data"
    }
   ],
   "source": [
    "fig, ax = plt.subplots()\n",
    "\n",
    "plt.plot(df.x, df.y, 'k.', markersize=1)\n",
    "\n",
    "x_avg = df.x.mean()\n",
    "\n",
    "y_avg = df.y.mean()\n",
    "circle1 = plt.Circle((x_avg, y_avg), R, color='b', alpha=0.5)\n",
    "ax.add_artist(circle1)\n",
    "\n",
    "plt.axis('equal')"
   ]
  },
  {
   "cell_type": "markdown",
   "metadata": {},
   "source": [
    "We are interested in how $R$ depends on $N$"
   ]
  },
  {
   "cell_type": "code",
   "execution_count": 752,
   "metadata": {},
   "outputs": [
    {
     "data": {
      "text/html": [
       "<div>\n",
       "<style scoped>\n",
       "    .dataframe tbody tr th:only-of-type {\n",
       "        vertical-align: middle;\n",
       "    }\n",
       "\n",
       "    .dataframe tbody tr th {\n",
       "        vertical-align: top;\n",
       "    }\n",
       "\n",
       "    .dataframe thead th {\n",
       "        text-align: right;\n",
       "    }\n",
       "</style>\n",
       "<table border=\"1\" class=\"dataframe\">\n",
       "  <thead>\n",
       "    <tr style=\"text-align: right;\">\n",
       "      <th></th>\n",
       "      <th>N</th>\n",
       "      <th>R</th>\n",
       "    </tr>\n",
       "  </thead>\n",
       "  <tbody>\n",
       "    <tr>\n",
       "      <th>0</th>\n",
       "      <td>8</td>\n",
       "      <td>2.850220</td>\n",
       "    </tr>\n",
       "    <tr>\n",
       "      <th>1</th>\n",
       "      <td>16</td>\n",
       "      <td>3.962102</td>\n",
       "    </tr>\n",
       "    <tr>\n",
       "      <th>2</th>\n",
       "      <td>32</td>\n",
       "      <td>5.466035</td>\n",
       "    </tr>\n",
       "    <tr>\n",
       "      <th>3</th>\n",
       "      <td>64</td>\n",
       "      <td>7.920215</td>\n",
       "    </tr>\n",
       "    <tr>\n",
       "      <th>4</th>\n",
       "      <td>128</td>\n",
       "      <td>11.448234</td>\n",
       "    </tr>\n",
       "    <tr>\n",
       "      <th>5</th>\n",
       "      <td>256</td>\n",
       "      <td>15.956781</td>\n",
       "    </tr>\n",
       "  </tbody>\n",
       "</table>\n",
       "</div>"
      ],
      "text/plain": [
       "     N          R\n",
       "0    8   2.850220\n",
       "1   16   3.962102\n",
       "2   32   5.466035\n",
       "3   64   7.920215\n",
       "4  128  11.448234\n",
       "5  256  15.956781"
      ]
     },
     "execution_count": 752,
     "metadata": {},
     "output_type": "execute_result"
    }
   ],
   "source": [
    "rows = []\n",
    "for N in [8, 16, 32, 64, 128, 256]:\n",
    "    df = generateWalkers(N=N, M=2000)\n",
    "    \n",
    "    R = compute_R(df)\n",
    "    \n",
    "    row = {'N':N, 'R': R}\n",
    "    rows.append(row)\n",
    "df = pd.DataFrame(rows)\n",
    "\n",
    "df"
   ]
  },
  {
   "cell_type": "markdown",
   "metadata": {},
   "source": [
    "Assume that $R = \\sqrt{R^2}$ has the asymptotic $N$ dependence:\n",
    "\n",
    "$$R \\sim N^\\nu$$\n",
    "\n",
    "and we want to estimate $\\nu$"
   ]
  },
  {
   "cell_type": "code",
   "execution_count": 753,
   "metadata": {},
   "outputs": [
    {
     "data": {
      "image/png": "[encoded data removed]",
      "text/plain": [
       "<Figure size 432x288 with 1 Axes>"
      ]
     },
     "metadata": {
      "needs_background": "light"
     },
     "output_type": "display_data"
    }
   ],
   "source": [
    "def estimate_ν(df):\n",
    "    ν, C = np.polyfit(np.log(df.N), np.log(df.R), 1)\n",
    "\n",
    "    N = np.linspace(df.N.min(), df.N.max(), 50)\n",
    "    R_fit = N**ν*np.exp(C)\n",
    "\n",
    "    plt.plot(N, R_fit, '-')\n",
    "    plt.plot(df.N, df.R, 'o')\n",
    "\n",
    "    plt.xlabel('N')\n",
    "    plt.ylabel('R')\n",
    "    plt.title(f'ν = {ν:.4f}')\n",
    "\n",
    "estimate_ν(df)"
   ]
  },
  {
   "cell_type": "markdown",
   "metadata": {},
   "source": [
    "## Self-avoiding walk"
   ]
  },
  {
   "cell_type": "markdown",
   "metadata": {},
   "source": [
    "Problem 7.28"
   ]
  },
  {
   "cell_type": "code",
   "execution_count": 754,
   "metadata": {},
   "outputs": [],
   "source": [
    "def SAW(N = 100, # number of steps\n",
    "        x0 = 0, # initial position\n",
    "        y0 = 0, \n",
    "        a = 1, # step size\n",
    "        ):\n",
    "    \n",
    "    xAccum = np.zeros(N+1)*np.nan\n",
    "    yAccum = np.zeros(N+1)*np.nan\n",
    "    \n",
    "    x = x0\n",
    "    y = y0\n",
    "    xAccum[0] = x\n",
    "    yAccum[0] = y\n",
    "    \n",
    "    for n in range(N):\n",
    "\n",
    "        # pick a random direction\n",
    "        r = np.random.rand()\n",
    "        if r < 0.25:\n",
    "            x += a\n",
    "        elif r < 0.50:\n",
    "            x -= a\n",
    "        elif r < 0.75:\n",
    "            y += a\n",
    "        else:\n",
    "            y -= a\n",
    "\n",
    "        # check if that the move would be invalid\n",
    "        valid = True\n",
    "        for i in range(n):\n",
    "            if x==xAccum[i] and y==yAccum[i]:\n",
    "                valid = False\n",
    "\n",
    "        if not valid:\n",
    "            break\n",
    "        \n",
    "        xAccum[n+1] = x\n",
    "        yAccum[n+1] = y\n",
    "        \n",
    "    return {'valid': valid,\n",
    "            'x': xAccum[-1],\n",
    "            'y': yAccum[-1],\n",
    "            'xAccum': xAccum,\n",
    "            'yAccum': yAccum,\n",
    "            }"
   ]
  },
  {
   "cell_type": "code",
   "execution_count": 762,
   "metadata": {},
   "outputs": [
    {
     "data": {
      "text/plain": [
       "{'valid': False,\n",
       " 'x': nan,\n",
       " 'y': nan,\n",
       " 'xAccum': array([ 0.,  0.,  0.,  1., nan, nan]),\n",
       " 'yAccum': array([ 0.,  1.,  2.,  2., nan, nan])}"
      ]
     },
     "execution_count": 762,
     "metadata": {},
     "output_type": "execute_result"
    }
   ],
   "source": [
    "walk = SAW(N=5)\n",
    "walk"
   ]
  },
  {
   "cell_type": "code",
   "execution_count": 763,
   "metadata": {},
   "outputs": [
    {
     "data": {
      "image/png": "[encoded data removed]",
      "text/plain": [
       "<Figure size 432x288 with 1 Axes>"
      ]
     },
     "metadata": {
      "needs_background": "light"
     },
     "output_type": "display_data"
    }
   ],
   "source": [
    "M = 5\n",
    "for m in range(M):\n",
    "    walk = SAW(N=4)\n",
    "    plt.plot(walk['xAccum'], walk['yAccum'], '.-')\n",
    "    plt.plot(walk['x'], walk['y'], 'ko')\n",
    "\n",
    "plt.axis('equal')\n",
    "plt.show()"
   ]
  },
  {
   "cell_type": "code",
   "execution_count": 764,
   "metadata": {},
   "outputs": [],
   "source": [
    "def generateSAW(M=100, N=10):\n",
    "\n",
    "    rows = []\n",
    "    for t in range(M):\n",
    "        row = SAW(N=N)\n",
    "        rows.append(row)\n",
    "\n",
    "    df = pd.DataFrame(rows)\n",
    "    \n",
    "    return df"
   ]
  },
  {
   "cell_type": "code",
   "execution_count": 765,
   "metadata": {},
   "outputs": [
    {
     "data": {
      "text/html": [
       "<div>\n",
       "<style scoped>\n",
       "    .dataframe tbody tr th:only-of-type {\n",
       "        vertical-align: middle;\n",
       "    }\n",
       "\n",
       "    .dataframe tbody tr th {\n",
       "        vertical-align: top;\n",
       "    }\n",
       "\n",
       "    .dataframe thead th {\n",
       "        text-align: right;\n",
       "    }\n",
       "</style>\n",
       "<table border=\"1\" class=\"dataframe\">\n",
       "  <thead>\n",
       "    <tr style=\"text-align: right;\">\n",
       "      <th></th>\n",
       "      <th>valid</th>\n",
       "      <th>x</th>\n",
       "      <th>y</th>\n",
       "      <th>xAccum</th>\n",
       "      <th>yAccum</th>\n",
       "    </tr>\n",
       "  </thead>\n",
       "  <tbody>\n",
       "    <tr>\n",
       "      <th>0</th>\n",
       "      <td>False</td>\n",
       "      <td>NaN</td>\n",
       "      <td>NaN</td>\n",
       "      <td>[0.0, 0.0, 0.0, 0.0, nan, nan]</td>\n",
       "      <td>[0.0, 1.0, 2.0, 3.0, nan, nan]</td>\n",
       "    </tr>\n",
       "    <tr>\n",
       "      <th>1</th>\n",
       "      <td>False</td>\n",
       "      <td>NaN</td>\n",
       "      <td>NaN</td>\n",
       "      <td>[0.0, 0.0, -1.0, -2.0, nan, nan]</td>\n",
       "      <td>[0.0, 1.0, 1.0, 1.0, nan, nan]</td>\n",
       "    </tr>\n",
       "    <tr>\n",
       "      <th>2</th>\n",
       "      <td>True</td>\n",
       "      <td>-2.0</td>\n",
       "      <td>-3.0</td>\n",
       "      <td>[0.0, -1.0, -2.0, -2.0, -2.0, -2.0]</td>\n",
       "      <td>[0.0, 0.0, 0.0, -1.0, -2.0, -3.0]</td>\n",
       "    </tr>\n",
       "    <tr>\n",
       "      <th>3</th>\n",
       "      <td>False</td>\n",
       "      <td>NaN</td>\n",
       "      <td>NaN</td>\n",
       "      <td>[0.0, 0.0, nan, nan, nan, nan]</td>\n",
       "      <td>[0.0, 1.0, nan, nan, nan, nan]</td>\n",
       "    </tr>\n",
       "    <tr>\n",
       "      <th>4</th>\n",
       "      <td>False</td>\n",
       "      <td>NaN</td>\n",
       "      <td>NaN</td>\n",
       "      <td>[0.0, 1.0, 1.0, nan, nan, nan]</td>\n",
       "      <td>[0.0, 0.0, 1.0, nan, nan, nan]</td>\n",
       "    </tr>\n",
       "    <tr>\n",
       "      <th>5</th>\n",
       "      <td>False</td>\n",
       "      <td>NaN</td>\n",
       "      <td>NaN</td>\n",
       "      <td>[0.0, 0.0, 1.0, nan, nan, nan]</td>\n",
       "      <td>[0.0, 1.0, 1.0, nan, nan, nan]</td>\n",
       "    </tr>\n",
       "    <tr>\n",
       "      <th>6</th>\n",
       "      <td>False</td>\n",
       "      <td>NaN</td>\n",
       "      <td>NaN</td>\n",
       "      <td>[0.0, 1.0, nan, nan, nan, nan]</td>\n",
       "      <td>[0.0, 0.0, nan, nan, nan, nan]</td>\n",
       "    </tr>\n",
       "    <tr>\n",
       "      <th>7</th>\n",
       "      <td>True</td>\n",
       "      <td>1.0</td>\n",
       "      <td>-2.0</td>\n",
       "      <td>[0.0, 1.0, 2.0, 2.0, 1.0, 1.0]</td>\n",
       "      <td>[0.0, 0.0, 0.0, -1.0, -1.0, -2.0]</td>\n",
       "    </tr>\n",
       "    <tr>\n",
       "      <th>8</th>\n",
       "      <td>True</td>\n",
       "      <td>-2.0</td>\n",
       "      <td>-1.0</td>\n",
       "      <td>[0.0, 0.0, 0.0, -1.0, -2.0, -2.0]</td>\n",
       "      <td>[0.0, -1.0, -2.0, -2.0, -2.0, -1.0]</td>\n",
       "    </tr>\n",
       "    <tr>\n",
       "      <th>9</th>\n",
       "      <td>False</td>\n",
       "      <td>NaN</td>\n",
       "      <td>NaN</td>\n",
       "      <td>[0.0, 1.0, 1.0, 2.0, nan, nan]</td>\n",
       "      <td>[0.0, 0.0, -1.0, -1.0, nan, nan]</td>\n",
       "    </tr>\n",
       "  </tbody>\n",
       "</table>\n",
       "</div>"
      ],
      "text/plain": [
       "   valid    x    y                               xAccum  \\\n",
       "0  False  NaN  NaN       [0.0, 0.0, 0.0, 0.0, nan, nan]   \n",
       "1  False  NaN  NaN     [0.0, 0.0, -1.0, -2.0, nan, nan]   \n",
       "2   True -2.0 -3.0  [0.0, -1.0, -2.0, -2.0, -2.0, -2.0]   \n",
       "3  False  NaN  NaN       [0.0, 0.0, nan, nan, nan, nan]   \n",
       "4  False  NaN  NaN       [0.0, 1.0, 1.0, nan, nan, nan]   \n",
       "5  False  NaN  NaN       [0.0, 0.0, 1.0, nan, nan, nan]   \n",
       "6  False  NaN  NaN       [0.0, 1.0, nan, nan, nan, nan]   \n",
       "7   True  1.0 -2.0       [0.0, 1.0, 2.0, 2.0, 1.0, 1.0]   \n",
       "8   True -2.0 -1.0    [0.0, 0.0, 0.0, -1.0, -2.0, -2.0]   \n",
       "9  False  NaN  NaN       [0.0, 1.0, 1.0, 2.0, nan, nan]   \n",
       "\n",
       "                                yAccum  \n",
       "0       [0.0, 1.0, 2.0, 3.0, nan, nan]  \n",
       "1       [0.0, 1.0, 1.0, 1.0, nan, nan]  \n",
       "2    [0.0, 0.0, 0.0, -1.0, -2.0, -3.0]  \n",
       "3       [0.0, 1.0, nan, nan, nan, nan]  \n",
       "4       [0.0, 0.0, 1.0, nan, nan, nan]  \n",
       "5       [0.0, 1.0, 1.0, nan, nan, nan]  \n",
       "6       [0.0, 0.0, nan, nan, nan, nan]  \n",
       "7    [0.0, 0.0, 0.0, -1.0, -1.0, -2.0]  \n",
       "8  [0.0, -1.0, -2.0, -2.0, -2.0, -1.0]  \n",
       "9     [0.0, 0.0, -1.0, -1.0, nan, nan]  "
      ]
     },
     "execution_count": 765,
     "metadata": {},
     "output_type": "execute_result"
    }
   ],
   "source": [
    "df = generateSAW(M=10, N=5)\n",
    "df"
   ]
  },
  {
   "cell_type": "code",
   "execution_count": 768,
   "metadata": {},
   "outputs": [
    {
     "data": {
      "text/html": [
       "<div>\n",
       "<style scoped>\n",
       "    .dataframe tbody tr th:only-of-type {\n",
       "        vertical-align: middle;\n",
       "    }\n",
       "\n",
       "    .dataframe tbody tr th {\n",
       "        vertical-align: top;\n",
       "    }\n",
       "\n",
       "    .dataframe thead th {\n",
       "        text-align: right;\n",
       "    }\n",
       "</style>\n",
       "<table border=\"1\" class=\"dataframe\">\n",
       "  <thead>\n",
       "    <tr style=\"text-align: right;\">\n",
       "      <th></th>\n",
       "      <th>valid</th>\n",
       "      <th>x</th>\n",
       "      <th>y</th>\n",
       "      <th>xAccum</th>\n",
       "      <th>yAccum</th>\n",
       "    </tr>\n",
       "  </thead>\n",
       "  <tbody>\n",
       "    <tr>\n",
       "      <th>2</th>\n",
       "      <td>True</td>\n",
       "      <td>-2.0</td>\n",
       "      <td>-3.0</td>\n",
       "      <td>[0.0, -1.0, -2.0, -2.0, -2.0, -2.0]</td>\n",
       "      <td>[0.0, 0.0, 0.0, -1.0, -2.0, -3.0]</td>\n",
       "    </tr>\n",
       "    <tr>\n",
       "      <th>7</th>\n",
       "      <td>True</td>\n",
       "      <td>1.0</td>\n",
       "      <td>-2.0</td>\n",
       "      <td>[0.0, 1.0, 2.0, 2.0, 1.0, 1.0]</td>\n",
       "      <td>[0.0, 0.0, 0.0, -1.0, -1.0, -2.0]</td>\n",
       "    </tr>\n",
       "    <tr>\n",
       "      <th>8</th>\n",
       "      <td>True</td>\n",
       "      <td>-2.0</td>\n",
       "      <td>-1.0</td>\n",
       "      <td>[0.0, 0.0, 0.0, -1.0, -2.0, -2.0]</td>\n",
       "      <td>[0.0, -1.0, -2.0, -2.0, -2.0, -1.0]</td>\n",
       "    </tr>\n",
       "  </tbody>\n",
       "</table>\n",
       "</div>"
      ],
      "text/plain": [
       "   valid    x    y                               xAccum  \\\n",
       "2   True -2.0 -3.0  [0.0, -1.0, -2.0, -2.0, -2.0, -2.0]   \n",
       "7   True  1.0 -2.0       [0.0, 1.0, 2.0, 2.0, 1.0, 1.0]   \n",
       "8   True -2.0 -1.0    [0.0, 0.0, 0.0, -1.0, -2.0, -2.0]   \n",
       "\n",
       "                                yAccum  \n",
       "2    [0.0, 0.0, 0.0, -1.0, -2.0, -3.0]  \n",
       "7    [0.0, 0.0, 0.0, -1.0, -1.0, -2.0]  \n",
       "8  [0.0, -1.0, -2.0, -2.0, -2.0, -1.0]  "
      ]
     },
     "execution_count": 768,
     "metadata": {},
     "output_type": "execute_result"
    }
   ],
   "source": [
    "df[df.valid]"
   ]
  },
  {
   "cell_type": "markdown",
   "metadata": {},
   "source": [
    "What is fraction $f(N)$ of successful attempts at constructing a chain of length $N$?"
   ]
  },
  {
   "cell_type": "code",
   "execution_count": 770,
   "metadata": {},
   "outputs": [
    {
     "data": {
      "text/html": [
       "<div>\n",
       "<style scoped>\n",
       "    .dataframe tbody tr th:only-of-type {\n",
       "        vertical-align: middle;\n",
       "    }\n",
       "\n",
       "    .dataframe tbody tr th {\n",
       "        vertical-align: top;\n",
       "    }\n",
       "\n",
       "    .dataframe thead th {\n",
       "        text-align: right;\n",
       "    }\n",
       "</style>\n",
       "<table border=\"1\" class=\"dataframe\">\n",
       "  <thead>\n",
       "    <tr style=\"text-align: right;\">\n",
       "      <th></th>\n",
       "      <th>N</th>\n",
       "      <th>N_valid</th>\n",
       "      <th>f</th>\n",
       "    </tr>\n",
       "  </thead>\n",
       "  <tbody>\n",
       "    <tr>\n",
       "      <th>0</th>\n",
       "      <td>1</td>\n",
       "      <td>10000</td>\n",
       "      <td>1.0000</td>\n",
       "    </tr>\n",
       "    <tr>\n",
       "      <th>1</th>\n",
       "      <td>2</td>\n",
       "      <td>7451</td>\n",
       "      <td>0.7451</td>\n",
       "    </tr>\n",
       "    <tr>\n",
       "      <th>2</th>\n",
       "      <td>3</td>\n",
       "      <td>5607</td>\n",
       "      <td>0.5607</td>\n",
       "    </tr>\n",
       "    <tr>\n",
       "      <th>3</th>\n",
       "      <td>4</td>\n",
       "      <td>3837</td>\n",
       "      <td>0.3837</td>\n",
       "    </tr>\n",
       "    <tr>\n",
       "      <th>4</th>\n",
       "      <td>5</td>\n",
       "      <td>2804</td>\n",
       "      <td>0.2804</td>\n",
       "    </tr>\n",
       "    <tr>\n",
       "      <th>5</th>\n",
       "      <td>6</td>\n",
       "      <td>1870</td>\n",
       "      <td>0.1870</td>\n",
       "    </tr>\n",
       "    <tr>\n",
       "      <th>6</th>\n",
       "      <td>7</td>\n",
       "      <td>1279</td>\n",
       "      <td>0.1279</td>\n",
       "    </tr>\n",
       "    <tr>\n",
       "      <th>7</th>\n",
       "      <td>8</td>\n",
       "      <td>918</td>\n",
       "      <td>0.0918</td>\n",
       "    </tr>\n",
       "    <tr>\n",
       "      <th>8</th>\n",
       "      <td>9</td>\n",
       "      <td>581</td>\n",
       "      <td>0.0581</td>\n",
       "    </tr>\n",
       "    <tr>\n",
       "      <th>9</th>\n",
       "      <td>10</td>\n",
       "      <td>432</td>\n",
       "      <td>0.0432</td>\n",
       "    </tr>\n",
       "    <tr>\n",
       "      <th>10</th>\n",
       "      <td>11</td>\n",
       "      <td>291</td>\n",
       "      <td>0.0291</td>\n",
       "    </tr>\n",
       "    <tr>\n",
       "      <th>11</th>\n",
       "      <td>12</td>\n",
       "      <td>203</td>\n",
       "      <td>0.0203</td>\n",
       "    </tr>\n",
       "    <tr>\n",
       "      <th>12</th>\n",
       "      <td>13</td>\n",
       "      <td>136</td>\n",
       "      <td>0.0136</td>\n",
       "    </tr>\n",
       "    <tr>\n",
       "      <th>13</th>\n",
       "      <td>14</td>\n",
       "      <td>100</td>\n",
       "      <td>0.0100</td>\n",
       "    </tr>\n",
       "    <tr>\n",
       "      <th>14</th>\n",
       "      <td>15</td>\n",
       "      <td>44</td>\n",
       "      <td>0.0044</td>\n",
       "    </tr>\n",
       "    <tr>\n",
       "      <th>15</th>\n",
       "      <td>16</td>\n",
       "      <td>44</td>\n",
       "      <td>0.0044</td>\n",
       "    </tr>\n",
       "    <tr>\n",
       "      <th>16</th>\n",
       "      <td>17</td>\n",
       "      <td>24</td>\n",
       "      <td>0.0024</td>\n",
       "    </tr>\n",
       "    <tr>\n",
       "      <th>17</th>\n",
       "      <td>18</td>\n",
       "      <td>18</td>\n",
       "      <td>0.0018</td>\n",
       "    </tr>\n",
       "    <tr>\n",
       "      <th>18</th>\n",
       "      <td>19</td>\n",
       "      <td>9</td>\n",
       "      <td>0.0009</td>\n",
       "    </tr>\n",
       "  </tbody>\n",
       "</table>\n",
       "</div>"
      ],
      "text/plain": [
       "     N  N_valid       f\n",
       "0    1    10000  1.0000\n",
       "1    2     7451  0.7451\n",
       "2    3     5607  0.5607\n",
       "3    4     3837  0.3837\n",
       "4    5     2804  0.2804\n",
       "5    6     1870  0.1870\n",
       "6    7     1279  0.1279\n",
       "7    8      918  0.0918\n",
       "8    9      581  0.0581\n",
       "9   10      432  0.0432\n",
       "10  11      291  0.0291\n",
       "11  12      203  0.0203\n",
       "12  13      136  0.0136\n",
       "13  14      100  0.0100\n",
       "14  15       44  0.0044\n",
       "15  16       44  0.0044\n",
       "16  17       24  0.0024\n",
       "17  18       18  0.0018\n",
       "18  19        9  0.0009"
      ]
     },
     "execution_count": 770,
     "metadata": {},
     "output_type": "execute_result"
    }
   ],
   "source": [
    "M = 10000\n",
    "rows = []\n",
    "for N in range(1, 20):\n",
    "\n",
    "    df = generateSAW(M=M, N=N)\n",
    "    \n",
    "    N_valid = len(df[df.valid])\n",
    "    row = {'N': N,\n",
    "           'N_valid' : N_valid,\n",
    "           'f': N_valid / M}\n",
    "    \n",
    "    rows.append(row)\n",
    "df = pd.DataFrame(rows)\n",
    "df"
   ]
  },
  {
   "cell_type": "code",
   "execution_count": 771,
   "metadata": {},
   "outputs": [
    {
     "data": {
      "image/png": "[encoded data removed]",
      "text/plain": [
       "<Figure size 432x288 with 1 Axes>"
      ]
     },
     "metadata": {
      "needs_background": "light"
     },
     "output_type": "display_data"
    }
   ],
   "source": [
    "plt.plot(df.N, df.f)\n",
    "plt.xlabel('N')\n",
    "plt.ylabel('f(N)')\n",
    "plt.show()"
   ]
  },
  {
   "cell_type": "code",
   "execution_count": 772,
   "metadata": {},
   "outputs": [
    {
     "data": {
      "text/html": [
       "<div>\n",
       "<style scoped>\n",
       "    .dataframe tbody tr th:only-of-type {\n",
       "        vertical-align: middle;\n",
       "    }\n",
       "\n",
       "    .dataframe tbody tr th {\n",
       "        vertical-align: top;\n",
       "    }\n",
       "\n",
       "    .dataframe thead th {\n",
       "        text-align: right;\n",
       "    }\n",
       "</style>\n",
       "<table border=\"1\" class=\"dataframe\">\n",
       "  <thead>\n",
       "    <tr style=\"text-align: right;\">\n",
       "      <th></th>\n",
       "      <th>N</th>\n",
       "      <th>R</th>\n",
       "    </tr>\n",
       "  </thead>\n",
       "  <tbody>\n",
       "    <tr>\n",
       "      <th>0</th>\n",
       "      <td>2</td>\n",
       "      <td>1.626659</td>\n",
       "    </tr>\n",
       "    <tr>\n",
       "      <th>1</th>\n",
       "      <td>4</td>\n",
       "      <td>2.648340</td>\n",
       "    </tr>\n",
       "    <tr>\n",
       "      <th>2</th>\n",
       "      <td>8</td>\n",
       "      <td>4.318395</td>\n",
       "    </tr>\n",
       "    <tr>\n",
       "      <th>3</th>\n",
       "      <td>16</td>\n",
       "      <td>6.824697</td>\n",
       "    </tr>\n",
       "  </tbody>\n",
       "</table>\n",
       "</div>"
      ],
      "text/plain": [
       "    N         R\n",
       "0   2  1.626659\n",
       "1   4  2.648340\n",
       "2   8  4.318395\n",
       "3  16  6.824697"
      ]
     },
     "execution_count": 772,
     "metadata": {},
     "output_type": "execute_result"
    }
   ],
   "source": [
    "M = 10000\n",
    "rows = []\n",
    "for N in [2, 4, 8, 16]:\n",
    "\n",
    "    df = generateSAW(M=M, N=N)\n",
    "    R = compute_R(df)\n",
    "\n",
    "    row = {'N': N,\n",
    "           'R': R}\n",
    "    \n",
    "    rows.append(row)\n",
    "df = pd.DataFrame(rows)\n",
    "df"
   ]
  },
  {
   "cell_type": "code",
   "execution_count": 727,
   "metadata": {},
   "outputs": [
    {
     "data": {
      "image/png": "[encoded data removed]",
      "text/plain": [
       "<Figure size 432x288 with 1 Axes>"
      ]
     },
     "metadata": {
      "needs_background": "light"
     },
     "output_type": "display_data"
    }
   ],
   "source": [
    "estimate_ν(df)"
   ]
  },
  {
   "cell_type": "markdown",
   "metadata": {},
   "source": [
    "## Enrichment"
   ]
  },
  {
   "cell_type": "code",
   "execution_count": 773,
   "metadata": {},
   "outputs": [],
   "source": [
    "def SAW(N = 100, # number of steps\n",
    "        x0 = 0, # initial position\n",
    "        y0 = 0, \n",
    "        ):\n",
    "    \n",
    "    L = np.zeros((2*N+1, 2*N+1), np.bool)\n",
    "    \n",
    "    x = x0\n",
    "    y = y0\n",
    "    \n",
    "    L[x, y] = True\n",
    "    w = 1\n",
    "    # assume first move is \"North\"\n",
    "    y += 1\n",
    "    L[x, y] = True\n",
    "    \n",
    "    valid = True\n",
    "    for n in range(1, N):\n",
    "\n",
    "        allMoves = [ (1,0), (-1, 0), (0, 1), (0, -1)]\n",
    "        validMoves = []\n",
    "        for move in allMoves:\n",
    "            dx, dy = move\n",
    "            if not L[x+dx, y+dy]:\n",
    "                validMoves.append(move)\n",
    "        \n",
    "        m = len(validMoves)\n",
    "        \n",
    "        if m == 0:\n",
    "            # there are no possible valid moves\n",
    "            valid = False\n",
    "            w = 0\n",
    "            break\n",
    "        elif m == 1:\n",
    "            # only one possible choice\n",
    "            w = 1/3 * w\n",
    "            move = validMoves[0]\n",
    "        elif m == 2:\n",
    "            # two possible choices\n",
    "            w = 2/3 * w\n",
    "            r = np.random.rand()\n",
    "            if r < 1/2:\n",
    "                move = validMoves[0]\n",
    "            else:\n",
    "                move = validMoves[1]\n",
    "        else: # m==3\n",
    "            # three possible choices\n",
    "            w = w\n",
    "            r = np.random.rand()\n",
    "            if r < 1/3:\n",
    "                move = validMoves[0]\n",
    "            elif r < 2/3:\n",
    "                move = validMoves[1]\n",
    "            else:\n",
    "                move = validMoves[2]         \n",
    "\n",
    "        dx, dy = move\n",
    "        x += dx\n",
    "        y += dy\n",
    "        \n",
    "        L[x, y] = True\n",
    "        \n",
    "    return {'valid': valid,\n",
    "            'w': w,\n",
    "            'x': x,\n",
    "            'y': y\n",
    "            }"
   ]
  },
  {
   "cell_type": "code",
   "execution_count": 774,
   "metadata": {},
   "outputs": [
    {
     "data": {
      "image/png": "[encoded data removed]",
      "text/plain": [
       "<Figure size 432x288 with 1 Axes>"
      ]
     },
     "metadata": {
      "needs_background": "light"
     },
     "output_type": "display_data"
    }
   ],
   "source": [
    "M = 1000\n",
    "for m in range(M):\n",
    "    walk = SAW(N=32)\n",
    "    plt.plot(walk['x'], walk['y'], 'k.', markersize=1)\n",
    "\n",
    "plt.axis('equal')\n",
    "plt.show()"
   ]
  },
  {
   "cell_type": "code",
   "execution_count": 775,
   "metadata": {},
   "outputs": [
    {
     "data": {
      "text/plain": [
       "7.1843971631205665"
      ]
     },
     "execution_count": 775,
     "metadata": {},
     "output_type": "execute_result"
    }
   ],
   "source": [
    "df = generateSAW(M=100, N=4)\n",
    "df['R2'] = df.x**2 + df.y**2\n",
    "\n",
    "#df[df.valid]\n",
    "(df.w*df.R2).sum() / df.w.sum()"
   ]
  },
  {
   "cell_type": "code",
   "execution_count": 776,
   "metadata": {},
   "outputs": [
    {
     "data": {
      "text/plain": [
       "94.0"
      ]
     },
     "execution_count": 776,
     "metadata": {},
     "output_type": "execute_result"
    }
   ],
   "source": [
    "df.w.sum()"
   ]
  },
  {
   "cell_type": "code",
   "execution_count": 779,
   "metadata": {},
   "outputs": [
    {
     "data": {
      "text/html": [
       "<div>\n",
       "<style scoped>\n",
       "    .dataframe tbody tr th:only-of-type {\n",
       "        vertical-align: middle;\n",
       "    }\n",
       "\n",
       "    .dataframe tbody tr th {\n",
       "        vertical-align: top;\n",
       "    }\n",
       "\n",
       "    .dataframe thead th {\n",
       "        text-align: right;\n",
       "    }\n",
       "</style>\n",
       "<table border=\"1\" class=\"dataframe\">\n",
       "  <thead>\n",
       "    <tr style=\"text-align: right;\">\n",
       "      <th></th>\n",
       "      <th>N</th>\n",
       "      <th>N_valid</th>\n",
       "      <th>f</th>\n",
       "      <th>R</th>\n",
       "    </tr>\n",
       "  </thead>\n",
       "  <tbody>\n",
       "    <tr>\n",
       "      <th>0</th>\n",
       "      <td>8</td>\n",
       "      <td>9968</td>\n",
       "      <td>0.9968</td>\n",
       "      <td>4.362571</td>\n",
       "    </tr>\n",
       "    <tr>\n",
       "      <th>1</th>\n",
       "      <td>16</td>\n",
       "      <td>9480</td>\n",
       "      <td>0.9480</td>\n",
       "      <td>7.151708</td>\n",
       "    </tr>\n",
       "    <tr>\n",
       "      <th>2</th>\n",
       "      <td>32</td>\n",
       "      <td>7844</td>\n",
       "      <td>0.7844</td>\n",
       "      <td>12.028782</td>\n",
       "    </tr>\n",
       "    <tr>\n",
       "      <th>3</th>\n",
       "      <td>64</td>\n",
       "      <td>4528</td>\n",
       "      <td>0.4528</td>\n",
       "      <td>19.460352</td>\n",
       "    </tr>\n",
       "    <tr>\n",
       "      <th>4</th>\n",
       "      <td>128</td>\n",
       "      <td>1267</td>\n",
       "      <td>0.1267</td>\n",
       "      <td>33.901589</td>\n",
       "    </tr>\n",
       "  </tbody>\n",
       "</table>\n",
       "</div>"
      ],
      "text/plain": [
       "     N  N_valid       f          R\n",
       "0    8     9968  0.9968   4.362571\n",
       "1   16     9480  0.9480   7.151708\n",
       "2   32     7844  0.7844  12.028782\n",
       "3   64     4528  0.4528  19.460352\n",
       "4  128     1267  0.1267  33.901589"
      ]
     },
     "execution_count": 779,
     "metadata": {},
     "output_type": "execute_result"
    }
   ],
   "source": [
    "M = 10000\n",
    "rows = []\n",
    "for N in [8, 16, 32, 64, 128]:\n",
    "\n",
    "    df = generateSAW(M=M, N=N)\n",
    "    df = df[df.valid]\n",
    "    df['R2'] = df.x**2 + df.y**2\n",
    "    R2 = (df.w*df.R2).sum() / df.w.sum()\n",
    "    R = np.sqrt(R2)\n",
    "    \n",
    "    N_valid = len(df[df.valid])\n",
    "    row = {'N': N,\n",
    "           'N_valid' : N_valid,\n",
    "           'f': N_valid / M,\n",
    "           'R': R\n",
    "            }\n",
    "    \n",
    "    rows.append(row)\n",
    "df = pd.DataFrame(rows)\n",
    "df"
   ]
  },
  {
   "cell_type": "code",
   "execution_count": 780,
   "metadata": {},
   "outputs": [
    {
     "data": {
      "image/png": "[encoded data removed]",
      "text/plain": [
       "<Figure size 432x288 with 1 Axes>"
      ]
     },
     "metadata": {
      "needs_background": "light"
     },
     "output_type": "display_data"
    }
   ],
   "source": [
    "estimate_ν(df)"
   ]
  },
  {
   "cell_type": "code",
   "execution_count": null,
   "metadata": {},
   "outputs": [],
   "source": []
  }
 ],
 "metadata": {
  "kernelspec": {
   "display_name": "Python 3",
   "language": "python",
   "name": "python3"
  },
  "language_info": {
   "codemirror_mode": {
    "name": "ipython",
    "version": 3
   },
   "file_extension": ".py",
   "mimetype": "text/x-python",
   "name": "python",
   "nbconvert_exporter": "python",
   "pygments_lexer": "ipython3",
   "version": "3.8.1"
  }
 },
 "nbformat": 4,
 "nbformat_minor": 4
}
