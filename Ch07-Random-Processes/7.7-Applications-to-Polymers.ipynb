{
 "cells": [
  {
   "cell_type": "markdown",
   "metadata": {},
   "source": [
    "# 7.7 Applications to Polymers\n"
   ]
  },
  {
   "cell_type": "code",
   "execution_count": 1,
   "metadata": {},
   "outputs": [],
   "source": [
    "import numpy as np\n",
    "import matplotlib.pyplot as plt\n",
    "import pandas as pd\n",
    "from ipywidgets import interactive"
   ]
  },
  {
   "cell_type": "markdown",
   "metadata": {},
   "source": [
    "Model a polymer of length $N$ as chain on a rectangular lattice."
   ]
  },
  {
   "cell_type": "code",
   "execution_count": 477,
   "metadata": {},
   "outputs": [],
   "source": [
    "def walker2D(N = 100, # number of steps\n",
    "             x0 = 0, # initial position\n",
    "             y0 = 0, \n",
    "             a = 1, # step size\n",
    "            ):\n",
    "    \n",
    "    xAccum = np.zeros(N+1)\n",
    "    yAccum = np.zeros(N+1)\n",
    "    \n",
    "    x = x0\n",
    "    y = y0\n",
    "    for n in range(N+1):\n",
    "        \n",
    "        xAccum[n] = x\n",
    "        yAccum[n] = y\n",
    "        \n",
    "        r = np.random.rand()\n",
    "        if r < 0.25:\n",
    "            x += a\n",
    "        elif r < 0.50:\n",
    "            x -= a\n",
    "        elif r < 0.75:\n",
    "            y += a\n",
    "        else:\n",
    "            y -= a\n",
    "        \n",
    "    return {'x': xAccum[-1],\n",
    "            'y': yAccum[-1],\n",
    "            'xAccum': xAccum,\n",
    "            'yAccum': yAccum}"
   ]
  },
  {
   "cell_type": "markdown",
   "metadata": {},
   "source": [
    "Each random walk is made up of $N$ steps."
   ]
  },
  {
   "cell_type": "code",
   "execution_count": 478,
   "metadata": {},
   "outputs": [
    {
     "data": {
      "text/plain": [
       "{'x': 1.0,\n",
       " 'y': 0.0,\n",
       " 'xAccum': array([0., 0., 0., 1.]),\n",
       " 'yAccum': array([0., 1., 0., 0.])}"
      ]
     },
     "execution_count": 478,
     "metadata": {},
     "output_type": "execute_result"
    }
   ],
   "source": [
    "walker2D(N=3)"
   ]
  },
  {
   "cell_type": "markdown",
   "metadata": {},
   "source": [
    "We want to consider the averages of $M$ such random walkers"
   ]
  },
  {
   "cell_type": "code",
   "execution_count": 479,
   "metadata": {},
   "outputs": [
    {
     "data": {
      "text/plain": [
       "(-9.65, 4.65, -7.55, 4.55)"
      ]
     },
     "execution_count": 479,
     "metadata": {},
     "output_type": "execute_result"
    },
    {
     "data": {
      "image/png": "[encoded data removed]",
      "text/plain": [
       "<Figure size 432x288 with 1 Axes>"
      ]
     },
     "metadata": {
      "needs_background": "light"
     },
     "output_type": "display_data"
    }
   ],
   "source": [
    "M = 10\n",
    "for m in range(M):\n",
    "    walk = walker2D(N=20)\n",
    "    plt.plot(walk['xAccum'], walk['yAccum'])\n",
    "    plt.plot(walk['x'], walk['y'], 'ko')\n",
    "\n",
    "plt.axis('equal')"
   ]
  },
  {
   "cell_type": "code",
   "execution_count": 480,
   "metadata": {},
   "outputs": [],
   "source": [
    "def generateWalkers(M=10, N=20):\n",
    "\n",
    "    rows = []\n",
    "    for t in range(M):\n",
    "        row = walker2D(N=N)\n",
    "        rows.append(row)\n",
    "        \n",
    "\n",
    "    df = pd.DataFrame(rows)\n",
    "    \n",
    "    return df"
   ]
  },
  {
   "cell_type": "code",
   "execution_count": 481,
   "metadata": {},
   "outputs": [],
   "source": [
    "df = generateWalkers(M=20)"
   ]
  },
  {
   "cell_type": "code",
   "execution_count": 482,
   "metadata": {},
   "outputs": [],
   "source": [
    "def plot_xy(df):\n",
    "    for walk in df.itertuples():\n",
    "        plt.plot(walk.xAccum, walk.yAccum, 'k-', linewidth=0.1)\n",
    "        plt.plot(walk.x, walk.y, 'k.')\n",
    "        \n",
    "    plt.axis('equal')"
   ]
  },
  {
   "cell_type": "code",
   "execution_count": 483,
   "metadata": {},
   "outputs": [
    {
     "data": {
      "image/png": "[encoded data removed]",
      "text/plain": [
       "<Figure size 432x288 with 1 Axes>"
      ]
     },
     "metadata": {
      "needs_background": "light"
     },
     "output_type": "display_data"
    }
   ],
   "source": [
    "plot_xy(df)"
   ]
  },
  {
   "cell_type": "markdown",
   "metadata": {},
   "source": [
    "We are interested in calculate statistics over all of the walkers.\n",
    "\n",
    "$$ \\left<x\\right>, \\left<y\\right>, \\Delta x^2, \\Delta y^2 $$\n",
    "\n",
    "and\n",
    "\n",
    "$$R^2 = \\left<x^2\\right> - \\left<x\\right>^2 + \\left<y^2\\right> - \\left<y\\right>^2 = \\Delta x^2 + \\Delta y^2 $$"
   ]
  },
  {
   "cell_type": "code",
   "execution_count": 484,
   "metadata": {},
   "outputs": [
    {
     "data": {
      "text/plain": [
       "0.4"
      ]
     },
     "execution_count": 484,
     "metadata": {},
     "output_type": "execute_result"
    }
   ],
   "source": [
    "df.x.mean()"
   ]
  },
  {
   "cell_type": "code",
   "execution_count": 485,
   "metadata": {},
   "outputs": [
    {
     "data": {
      "text/plain": [
       "11.3"
      ]
     },
     "execution_count": 485,
     "metadata": {},
     "output_type": "execute_result"
    }
   ],
   "source": [
    "(df.x**2).mean()"
   ]
  },
  {
   "cell_type": "code",
   "execution_count": 486,
   "metadata": {},
   "outputs": [],
   "source": [
    "def compute_R(df):\n",
    "    Δx2 = (df.x**2).mean() -  df.x.mean()**2\n",
    "    Δy2 = (df.y**2).mean() - df.y.mean()**2\n",
    "    R2 = Δx2 + Δy2\n",
    "    R = np.sqrt(R2)\n",
    "    \n",
    "    return R"
   ]
  },
  {
   "cell_type": "code",
   "execution_count": 487,
   "metadata": {},
   "outputs": [],
   "source": [
    "R = compute_R(df)"
   ]
  },
  {
   "cell_type": "code",
   "execution_count": 488,
   "metadata": {},
   "outputs": [
    {
     "data": {
      "text/plain": [
       "(-8.65, 5.65, -5.6, 7.6)"
      ]
     },
     "execution_count": 488,
     "metadata": {},
     "output_type": "execute_result"
    },
    {
     "data": {
      "image/png": "[encoded data removed]",
      "text/plain": [
       "<Figure size 432x288 with 1 Axes>"
      ]
     },
     "metadata": {
      "needs_background": "light"
     },
     "output_type": "display_data"
    }
   ],
   "source": [
    "fig, ax = plt.subplots()\n",
    "\n",
    "plt.plot(df.x, df.y, 'k.')\n",
    "\n",
    "x_avg = df.x.mean()\n",
    "y_avg = df.y.mean()\n",
    "circle1 = plt.Circle((x_avg, y_avg), R, color='b', alpha=0.5)\n",
    "ax.add_artist(circle1)\n",
    "\n",
    "plt.axis('equal')"
   ]
  },
  {
   "cell_type": "code",
   "execution_count": 490,
   "metadata": {},
   "outputs": [
    {
     "data": {
      "text/plain": [
       "22.194953615630737"
      ]
     },
     "execution_count": 490,
     "metadata": {},
     "output_type": "execute_result"
    }
   ],
   "source": [
    "df = generateWalkers(N=500, M=1000)\n",
    "R = compute_R(df)\n",
    "R"
   ]
  },
  {
   "cell_type": "code",
   "execution_count": 491,
   "metadata": {},
   "outputs": [
    {
     "data": {
      "text/plain": [
       "(-53.9, 53.9, -59.6, 63.6)"
      ]
     },
     "execution_count": 491,
     "metadata": {},
     "output_type": "execute_result"
    },
    {
     "data": {
      "image/png": "[encoded data removed]",
      "text/plain": [
       "<Figure size 432x288 with 1 Axes>"
      ]
     },
     "metadata": {
      "needs_background": "light"
     },
     "output_type": "display_data"
    }
   ],
   "source": [
    "fig, ax = plt.subplots()\n",
    "\n",
    "plt.plot(df.x, df.y, 'k.', markersize=1)\n",
    "\n",
    "x_avg = df.x.mean()\n",
    "y_avg = df.y.mean()\n",
    "circle1 = plt.Circle((x_avg, y_avg), R, color='b', alpha=0.5)\n",
    "ax.add_artist(circle1)\n",
    "\n",
    "plt.axis('equal')"
   ]
  },
  {
   "cell_type": "markdown",
   "metadata": {},
   "source": [
    "We are interested in how $R$ depends on $N$"
   ]
  },
  {
   "cell_type": "code",
   "execution_count": 492,
   "metadata": {},
   "outputs": [
    {
     "data": {
      "text/html": [
       "<div>\n",
       "<style scoped>\n",
       "    .dataframe tbody tr th:only-of-type {\n",
       "        vertical-align: middle;\n",
       "    }\n",
       "\n",
       "    .dataframe tbody tr th {\n",
       "        vertical-align: top;\n",
       "    }\n",
       "\n",
       "    .dataframe thead th {\n",
       "        text-align: right;\n",
       "    }\n",
       "</style>\n",
       "<table border=\"1\" class=\"dataframe\">\n",
       "  <thead>\n",
       "    <tr style=\"text-align: right;\">\n",
       "      <th></th>\n",
       "      <th>N</th>\n",
       "      <th>R</th>\n",
       "    </tr>\n",
       "  </thead>\n",
       "  <tbody>\n",
       "    <tr>\n",
       "      <th>0</th>\n",
       "      <td>8</td>\n",
       "      <td>2.875254</td>\n",
       "    </tr>\n",
       "    <tr>\n",
       "      <th>1</th>\n",
       "      <td>16</td>\n",
       "      <td>4.006512</td>\n",
       "    </tr>\n",
       "    <tr>\n",
       "      <th>2</th>\n",
       "      <td>32</td>\n",
       "      <td>5.583329</td>\n",
       "    </tr>\n",
       "    <tr>\n",
       "      <th>3</th>\n",
       "      <td>64</td>\n",
       "      <td>7.996745</td>\n",
       "    </tr>\n",
       "    <tr>\n",
       "      <th>4</th>\n",
       "      <td>128</td>\n",
       "      <td>11.574736</td>\n",
       "    </tr>\n",
       "    <tr>\n",
       "      <th>5</th>\n",
       "      <td>256</td>\n",
       "      <td>15.827119</td>\n",
       "    </tr>\n",
       "  </tbody>\n",
       "</table>\n",
       "</div>"
      ],
      "text/plain": [
       "     N          R\n",
       "0    8   2.875254\n",
       "1   16   4.006512\n",
       "2   32   5.583329\n",
       "3   64   7.996745\n",
       "4  128  11.574736\n",
       "5  256  15.827119"
      ]
     },
     "execution_count": 492,
     "metadata": {},
     "output_type": "execute_result"
    }
   ],
   "source": [
    "rows = []\n",
    "for N in [8, 16, 32, 64, 128, 256]:\n",
    "    df = generateWalkers(N=N, M=2000)\n",
    "    \n",
    "    R = compute_R(df)\n",
    "    \n",
    "    row = {'N':N, 'R': R}\n",
    "    rows.append(row)\n",
    "df = pd.DataFrame(rows)\n",
    "\n",
    "df"
   ]
  },
  {
   "cell_type": "markdown",
   "metadata": {},
   "source": [
    "Assume that $R = \\sqrt{R^2}$ has the asymptotic $N$ dependence:\n",
    "\n",
    "$$R \\sim N^\\nu$$\n",
    "\n",
    "and we want to estimate $\\nu$"
   ]
  },
  {
   "cell_type": "code",
   "execution_count": 493,
   "metadata": {},
   "outputs": [
    {
     "data": {
      "image/png": "[encoded data removed]",
      "text/plain": [
       "<Figure size 432x288 with 1 Axes>"
      ]
     },
     "metadata": {
      "needs_background": "light"
     },
     "output_type": "display_data"
    }
   ],
   "source": [
    "def estimate_ν(df):\n",
    "    ν, C = np.polyfit(np.log(df.N), np.log(df.R), 1)\n",
    "\n",
    "    N = np.linspace(df.N.min(), df.N.max(), 50)\n",
    "    R_fit = N**ν*np.exp(C)\n",
    "\n",
    "    plt.plot(N, R_fit, '-')\n",
    "    plt.plot(df.N, df.R, 'o')\n",
    "\n",
    "    plt.xlabel('N')\n",
    "    plt.ylabel('R')\n",
    "    plt.title(f'ν = {ν:.4f}')\n",
    "\n",
    "estimate_ν(df)"
   ]
  },
  {
   "cell_type": "markdown",
   "metadata": {},
   "source": [
    "## Self-avoiding walk"
   ]
  },
  {
   "cell_type": "markdown",
   "metadata": {},
   "source": [
    "Problem 7.28"
   ]
  },
  {
   "cell_type": "code",
   "execution_count": 494,
   "metadata": {},
   "outputs": [],
   "source": [
    "def SAW(N = 100, # number of steps\n",
    "        x0 = 0, # initial position\n",
    "        y0 = 0, \n",
    "        a = 1, # step size\n",
    "        ):\n",
    "    \n",
    "    xAccum = np.zeros(N+1)*np.nan\n",
    "    yAccum = np.zeros(N+1)*np.nan\n",
    "    \n",
    "    x = x0\n",
    "    y = y0\n",
    "    xAccum[0] = x\n",
    "    yAccum[0] = y\n",
    "    \n",
    "    for n in range(N):\n",
    "\n",
    "        # pick a random direction\n",
    "        r = np.random.rand()\n",
    "        if r < 0.25:\n",
    "            x += a\n",
    "        elif r < 0.50:\n",
    "            x -= a\n",
    "        elif r < 0.75:\n",
    "            y += a\n",
    "        else:\n",
    "            y -= a\n",
    "\n",
    "        # check if that the move would be invalid\n",
    "        valid = True\n",
    "        for i in range(n):\n",
    "            if x==xAccum[i] and y==yAccum[i]:\n",
    "                valid = False\n",
    "\n",
    "        if not valid:\n",
    "            break\n",
    "        \n",
    "        xAccum[n+1] = x\n",
    "        yAccum[n+1] = y\n",
    "        \n",
    "    return {'valid': valid,\n",
    "            'x': xAccum[-1],\n",
    "            'y': yAccum[-1],\n",
    "            'xAccum': xAccum,\n",
    "            'yAccum': yAccum,\n",
    "            }"
   ]
  },
  {
   "cell_type": "code",
   "execution_count": 495,
   "metadata": {},
   "outputs": [
    {
     "data": {
      "text/plain": [
       "{'valid': True,\n",
       " 'x': 0.0,\n",
       " 'y': 1.0,\n",
       " 'xAccum': array([0., 1., 1., 0.]),\n",
       " 'yAccum': array([0., 0., 1., 1.])}"
      ]
     },
     "execution_count": 495,
     "metadata": {},
     "output_type": "execute_result"
    }
   ],
   "source": [
    "walk = SAW(N=3)\n",
    "walk"
   ]
  },
  {
   "cell_type": "code",
   "execution_count": 496,
   "metadata": {},
   "outputs": [
    {
     "data": {
      "image/png": "[encoded data removed]",
      "text/plain": [
       "<Figure size 432x288 with 1 Axes>"
      ]
     },
     "metadata": {
      "needs_background": "light"
     },
     "output_type": "display_data"
    }
   ],
   "source": [
    "M = 5\n",
    "for m in range(M):\n",
    "    walk = SAW(N=4)\n",
    "    plt.plot(walk['xAccum'], walk['yAccum'], '.-')\n",
    "    plt.plot(walk['x'], walk['y'], 'ko')\n",
    "\n",
    "plt.axis('equal')\n",
    "plt.show()"
   ]
  },
  {
   "cell_type": "code",
   "execution_count": 558,
   "metadata": {},
   "outputs": [],
   "source": [
    "def generateSAW(M=100, N=10):\n",
    "\n",
    "    rows = []\n",
    "    for t in range(M):\n",
    "        row = SAW(N=N)\n",
    "        rows.append(row)\n",
    "\n",
    "    df = pd.DataFrame(rows)\n",
    "    \n",
    "    return df"
   ]
  },
  {
   "cell_type": "code",
   "execution_count": 559,
   "metadata": {},
   "outputs": [
    {
     "data": {
      "text/html": [
       "<div>\n",
       "<style scoped>\n",
       "    .dataframe tbody tr th:only-of-type {\n",
       "        vertical-align: middle;\n",
       "    }\n",
       "\n",
       "    .dataframe tbody tr th {\n",
       "        vertical-align: top;\n",
       "    }\n",
       "\n",
       "    .dataframe thead th {\n",
       "        text-align: right;\n",
       "    }\n",
       "</style>\n",
       "<table border=\"1\" class=\"dataframe\">\n",
       "  <thead>\n",
       "    <tr style=\"text-align: right;\">\n",
       "      <th></th>\n",
       "      <th>valid</th>\n",
       "      <th>x</th>\n",
       "      <th>y</th>\n",
       "      <th>xAccum</th>\n",
       "      <th>yAccum</th>\n",
       "    </tr>\n",
       "  </thead>\n",
       "  <tbody>\n",
       "    <tr>\n",
       "      <th>0</th>\n",
       "      <td>False</td>\n",
       "      <td>NaN</td>\n",
       "      <td>NaN</td>\n",
       "      <td>[0.0, -1.0, -2.0, -2.0, -1.0, nan]</td>\n",
       "      <td>[0.0, 0.0, 0.0, -1.0, -1.0, nan]</td>\n",
       "    </tr>\n",
       "    <tr>\n",
       "      <th>1</th>\n",
       "      <td>False</td>\n",
       "      <td>NaN</td>\n",
       "      <td>NaN</td>\n",
       "      <td>[0.0, 1.0, nan, nan, nan, nan]</td>\n",
       "      <td>[0.0, 0.0, nan, nan, nan, nan]</td>\n",
       "    </tr>\n",
       "    <tr>\n",
       "      <th>2</th>\n",
       "      <td>True</td>\n",
       "      <td>2.0</td>\n",
       "      <td>3.0</td>\n",
       "      <td>[0.0, 1.0, 1.0, 1.0, 1.0, 2.0]</td>\n",
       "      <td>[0.0, 0.0, 1.0, 2.0, 3.0, 3.0]</td>\n",
       "    </tr>\n",
       "    <tr>\n",
       "      <th>3</th>\n",
       "      <td>False</td>\n",
       "      <td>NaN</td>\n",
       "      <td>NaN</td>\n",
       "      <td>[0.0, 0.0, -1.0, -1.0, nan, nan]</td>\n",
       "      <td>[0.0, 1.0, 1.0, 2.0, nan, nan]</td>\n",
       "    </tr>\n",
       "    <tr>\n",
       "      <th>4</th>\n",
       "      <td>False</td>\n",
       "      <td>NaN</td>\n",
       "      <td>NaN</td>\n",
       "      <td>[0.0, 0.0, -1.0, nan, nan, nan]</td>\n",
       "      <td>[0.0, 1.0, 1.0, nan, nan, nan]</td>\n",
       "    </tr>\n",
       "    <tr>\n",
       "      <th>5</th>\n",
       "      <td>False</td>\n",
       "      <td>NaN</td>\n",
       "      <td>NaN</td>\n",
       "      <td>[0.0, 0.0, 0.0, -1.0, -1.0, nan]</td>\n",
       "      <td>[0.0, 1.0, 2.0, 2.0, 3.0, nan]</td>\n",
       "    </tr>\n",
       "    <tr>\n",
       "      <th>6</th>\n",
       "      <td>False</td>\n",
       "      <td>NaN</td>\n",
       "      <td>NaN</td>\n",
       "      <td>[0.0, -1.0, -1.0, 0.0, nan, nan]</td>\n",
       "      <td>[0.0, 0.0, 1.0, 1.0, nan, nan]</td>\n",
       "    </tr>\n",
       "    <tr>\n",
       "      <th>7</th>\n",
       "      <td>False</td>\n",
       "      <td>NaN</td>\n",
       "      <td>NaN</td>\n",
       "      <td>[0.0, 1.0, 1.0, 0.0, nan, nan]</td>\n",
       "      <td>[0.0, 0.0, -1.0, -1.0, nan, nan]</td>\n",
       "    </tr>\n",
       "    <tr>\n",
       "      <th>8</th>\n",
       "      <td>False</td>\n",
       "      <td>NaN</td>\n",
       "      <td>NaN</td>\n",
       "      <td>[0.0, 0.0, nan, nan, nan, nan]</td>\n",
       "      <td>[0.0, 1.0, nan, nan, nan, nan]</td>\n",
       "    </tr>\n",
       "    <tr>\n",
       "      <th>9</th>\n",
       "      <td>False</td>\n",
       "      <td>NaN</td>\n",
       "      <td>NaN</td>\n",
       "      <td>[0.0, 0.0, nan, nan, nan, nan]</td>\n",
       "      <td>[0.0, -1.0, nan, nan, nan, nan]</td>\n",
       "    </tr>\n",
       "  </tbody>\n",
       "</table>\n",
       "</div>"
      ],
      "text/plain": [
       "   valid    x    y                              xAccum  \\\n",
       "0  False  NaN  NaN  [0.0, -1.0, -2.0, -2.0, -1.0, nan]   \n",
       "1  False  NaN  NaN      [0.0, 1.0, nan, nan, nan, nan]   \n",
       "2   True  2.0  3.0      [0.0, 1.0, 1.0, 1.0, 1.0, 2.0]   \n",
       "3  False  NaN  NaN    [0.0, 0.0, -1.0, -1.0, nan, nan]   \n",
       "4  False  NaN  NaN     [0.0, 0.0, -1.0, nan, nan, nan]   \n",
       "5  False  NaN  NaN    [0.0, 0.0, 0.0, -1.0, -1.0, nan]   \n",
       "6  False  NaN  NaN    [0.0, -1.0, -1.0, 0.0, nan, nan]   \n",
       "7  False  NaN  NaN      [0.0, 1.0, 1.0, 0.0, nan, nan]   \n",
       "8  False  NaN  NaN      [0.0, 0.0, nan, nan, nan, nan]   \n",
       "9  False  NaN  NaN      [0.0, 0.0, nan, nan, nan, nan]   \n",
       "\n",
       "                             yAccum  \n",
       "0  [0.0, 0.0, 0.0, -1.0, -1.0, nan]  \n",
       "1    [0.0, 0.0, nan, nan, nan, nan]  \n",
       "2    [0.0, 0.0, 1.0, 2.0, 3.0, 3.0]  \n",
       "3    [0.0, 1.0, 1.0, 2.0, nan, nan]  \n",
       "4    [0.0, 1.0, 1.0, nan, nan, nan]  \n",
       "5    [0.0, 1.0, 2.0, 2.0, 3.0, nan]  \n",
       "6    [0.0, 0.0, 1.0, 1.0, nan, nan]  \n",
       "7  [0.0, 0.0, -1.0, -1.0, nan, nan]  \n",
       "8    [0.0, 1.0, nan, nan, nan, nan]  \n",
       "9   [0.0, -1.0, nan, nan, nan, nan]  "
      ]
     },
     "execution_count": 559,
     "metadata": {},
     "output_type": "execute_result"
    }
   ],
   "source": [
    "df = generateSAW(M=10, N=5)\n",
    "df"
   ]
  },
  {
   "cell_type": "code",
   "execution_count": 560,
   "metadata": {},
   "outputs": [
    {
     "data": {
      "text/html": [
       "<div>\n",
       "<style scoped>\n",
       "    .dataframe tbody tr th:only-of-type {\n",
       "        vertical-align: middle;\n",
       "    }\n",
       "\n",
       "    .dataframe tbody tr th {\n",
       "        vertical-align: top;\n",
       "    }\n",
       "\n",
       "    .dataframe thead th {\n",
       "        text-align: right;\n",
       "    }\n",
       "</style>\n",
       "<table border=\"1\" class=\"dataframe\">\n",
       "  <thead>\n",
       "    <tr style=\"text-align: right;\">\n",
       "      <th></th>\n",
       "      <th>valid</th>\n",
       "      <th>x</th>\n",
       "      <th>y</th>\n",
       "      <th>xAccum</th>\n",
       "      <th>yAccum</th>\n",
       "    </tr>\n",
       "  </thead>\n",
       "  <tbody>\n",
       "    <tr>\n",
       "      <th>2</th>\n",
       "      <td>True</td>\n",
       "      <td>2.0</td>\n",
       "      <td>3.0</td>\n",
       "      <td>[0.0, 1.0, 1.0, 1.0, 1.0, 2.0]</td>\n",
       "      <td>[0.0, 0.0, 1.0, 2.0, 3.0, 3.0]</td>\n",
       "    </tr>\n",
       "  </tbody>\n",
       "</table>\n",
       "</div>"
      ],
      "text/plain": [
       "   valid    x    y                          xAccum  \\\n",
       "2   True  2.0  3.0  [0.0, 1.0, 1.0, 1.0, 1.0, 2.0]   \n",
       "\n",
       "                           yAccum  \n",
       "2  [0.0, 0.0, 1.0, 2.0, 3.0, 3.0]  "
      ]
     },
     "execution_count": 560,
     "metadata": {},
     "output_type": "execute_result"
    }
   ],
   "source": [
    "df[df.valid]"
   ]
  },
  {
   "cell_type": "markdown",
   "metadata": {},
   "source": [
    "What is fraction $f(N)$ of successful attempts at constructing a chain of length $N$?"
   ]
  },
  {
   "cell_type": "code",
   "execution_count": 561,
   "metadata": {},
   "outputs": [
    {
     "data": {
      "text/html": [
       "<div>\n",
       "<style scoped>\n",
       "    .dataframe tbody tr th:only-of-type {\n",
       "        vertical-align: middle;\n",
       "    }\n",
       "\n",
       "    .dataframe tbody tr th {\n",
       "        vertical-align: top;\n",
       "    }\n",
       "\n",
       "    .dataframe thead th {\n",
       "        text-align: right;\n",
       "    }\n",
       "</style>\n",
       "<table border=\"1\" class=\"dataframe\">\n",
       "  <thead>\n",
       "    <tr style=\"text-align: right;\">\n",
       "      <th></th>\n",
       "      <th>N</th>\n",
       "      <th>N_valid</th>\n",
       "      <th>f</th>\n",
       "    </tr>\n",
       "  </thead>\n",
       "  <tbody>\n",
       "    <tr>\n",
       "      <th>0</th>\n",
       "      <td>1</td>\n",
       "      <td>10000</td>\n",
       "      <td>1.0000</td>\n",
       "    </tr>\n",
       "    <tr>\n",
       "      <th>1</th>\n",
       "      <td>2</td>\n",
       "      <td>7492</td>\n",
       "      <td>0.7492</td>\n",
       "    </tr>\n",
       "    <tr>\n",
       "      <th>2</th>\n",
       "      <td>3</td>\n",
       "      <td>5585</td>\n",
       "      <td>0.5585</td>\n",
       "    </tr>\n",
       "    <tr>\n",
       "      <th>3</th>\n",
       "      <td>4</td>\n",
       "      <td>3899</td>\n",
       "      <td>0.3899</td>\n",
       "    </tr>\n",
       "    <tr>\n",
       "      <th>4</th>\n",
       "      <td>5</td>\n",
       "      <td>2724</td>\n",
       "      <td>0.2724</td>\n",
       "    </tr>\n",
       "    <tr>\n",
       "      <th>5</th>\n",
       "      <td>6</td>\n",
       "      <td>1816</td>\n",
       "      <td>0.1816</td>\n",
       "    </tr>\n",
       "    <tr>\n",
       "      <th>6</th>\n",
       "      <td>7</td>\n",
       "      <td>1259</td>\n",
       "      <td>0.1259</td>\n",
       "    </tr>\n",
       "    <tr>\n",
       "      <th>7</th>\n",
       "      <td>8</td>\n",
       "      <td>877</td>\n",
       "      <td>0.0877</td>\n",
       "    </tr>\n",
       "    <tr>\n",
       "      <th>8</th>\n",
       "      <td>9</td>\n",
       "      <td>656</td>\n",
       "      <td>0.0656</td>\n",
       "    </tr>\n",
       "    <tr>\n",
       "      <th>9</th>\n",
       "      <td>10</td>\n",
       "      <td>435</td>\n",
       "      <td>0.0435</td>\n",
       "    </tr>\n",
       "    <tr>\n",
       "      <th>10</th>\n",
       "      <td>11</td>\n",
       "      <td>330</td>\n",
       "      <td>0.0330</td>\n",
       "    </tr>\n",
       "    <tr>\n",
       "      <th>11</th>\n",
       "      <td>12</td>\n",
       "      <td>167</td>\n",
       "      <td>0.0167</td>\n",
       "    </tr>\n",
       "    <tr>\n",
       "      <th>12</th>\n",
       "      <td>13</td>\n",
       "      <td>138</td>\n",
       "      <td>0.0138</td>\n",
       "    </tr>\n",
       "    <tr>\n",
       "      <th>13</th>\n",
       "      <td>14</td>\n",
       "      <td>86</td>\n",
       "      <td>0.0086</td>\n",
       "    </tr>\n",
       "    <tr>\n",
       "      <th>14</th>\n",
       "      <td>15</td>\n",
       "      <td>60</td>\n",
       "      <td>0.0060</td>\n",
       "    </tr>\n",
       "    <tr>\n",
       "      <th>15</th>\n",
       "      <td>16</td>\n",
       "      <td>34</td>\n",
       "      <td>0.0034</td>\n",
       "    </tr>\n",
       "    <tr>\n",
       "      <th>16</th>\n",
       "      <td>17</td>\n",
       "      <td>28</td>\n",
       "      <td>0.0028</td>\n",
       "    </tr>\n",
       "    <tr>\n",
       "      <th>17</th>\n",
       "      <td>18</td>\n",
       "      <td>19</td>\n",
       "      <td>0.0019</td>\n",
       "    </tr>\n",
       "    <tr>\n",
       "      <th>18</th>\n",
       "      <td>19</td>\n",
       "      <td>11</td>\n",
       "      <td>0.0011</td>\n",
       "    </tr>\n",
       "  </tbody>\n",
       "</table>\n",
       "</div>"
      ],
      "text/plain": [
       "     N  N_valid       f\n",
       "0    1    10000  1.0000\n",
       "1    2     7492  0.7492\n",
       "2    3     5585  0.5585\n",
       "3    4     3899  0.3899\n",
       "4    5     2724  0.2724\n",
       "5    6     1816  0.1816\n",
       "6    7     1259  0.1259\n",
       "7    8      877  0.0877\n",
       "8    9      656  0.0656\n",
       "9   10      435  0.0435\n",
       "10  11      330  0.0330\n",
       "11  12      167  0.0167\n",
       "12  13      138  0.0138\n",
       "13  14       86  0.0086\n",
       "14  15       60  0.0060\n",
       "15  16       34  0.0034\n",
       "16  17       28  0.0028\n",
       "17  18       19  0.0019\n",
       "18  19       11  0.0011"
      ]
     },
     "execution_count": 561,
     "metadata": {},
     "output_type": "execute_result"
    }
   ],
   "source": [
    "M = 10000\n",
    "rows = []\n",
    "for N in range(1, 20):\n",
    "\n",
    "    df = generateSAW(M=M, N=N)\n",
    "    \n",
    "    N_valid = len(df[df.valid])\n",
    "    row = {'N': N,\n",
    "           'N_valid' : N_valid,\n",
    "           'f': N_valid / M}\n",
    "    \n",
    "    rows.append(row)\n",
    "df = pd.DataFrame(rows)\n",
    "df"
   ]
  },
  {
   "cell_type": "code",
   "execution_count": 562,
   "metadata": {},
   "outputs": [
    {
     "data": {
      "image/png": "[encoded data removed]",
      "text/plain": [
       "<Figure size 432x288 with 1 Axes>"
      ]
     },
     "metadata": {
      "needs_background": "light"
     },
     "output_type": "display_data"
    }
   ],
   "source": [
    "plt.plot(df.N, df.f)\n",
    "plt.xlabel('N')\n",
    "plt.ylabel('f(N)')\n",
    "plt.show()"
   ]
  },
  {
   "cell_type": "code",
   "execution_count": 728,
   "metadata": {},
   "outputs": [
    {
     "data": {
      "text/html": [
       "<div>\n",
       "<style scoped>\n",
       "    .dataframe tbody tr th:only-of-type {\n",
       "        vertical-align: middle;\n",
       "    }\n",
       "\n",
       "    .dataframe tbody tr th {\n",
       "        vertical-align: top;\n",
       "    }\n",
       "\n",
       "    .dataframe thead th {\n",
       "        text-align: right;\n",
       "    }\n",
       "</style>\n",
       "<table border=\"1\" class=\"dataframe\">\n",
       "  <thead>\n",
       "    <tr style=\"text-align: right;\">\n",
       "      <th></th>\n",
       "      <th>N</th>\n",
       "      <th>R</th>\n",
       "    </tr>\n",
       "  </thead>\n",
       "  <tbody>\n",
       "    <tr>\n",
       "      <th>0</th>\n",
       "      <td>2</td>\n",
       "      <td>0.945453</td>\n",
       "    </tr>\n",
       "    <tr>\n",
       "      <th>1</th>\n",
       "      <td>4</td>\n",
       "      <td>2.157524</td>\n",
       "    </tr>\n",
       "    <tr>\n",
       "      <th>2</th>\n",
       "      <td>8</td>\n",
       "      <td>3.783889</td>\n",
       "    </tr>\n",
       "    <tr>\n",
       "      <th>3</th>\n",
       "      <td>16</td>\n",
       "      <td>6.029792</td>\n",
       "    </tr>\n",
       "  </tbody>\n",
       "</table>\n",
       "</div>"
      ],
      "text/plain": [
       "    N         R\n",
       "0   2  0.945453\n",
       "1   4  2.157524\n",
       "2   8  3.783889\n",
       "3  16  6.029792"
      ]
     },
     "execution_count": 728,
     "metadata": {},
     "output_type": "execute_result"
    }
   ],
   "source": [
    "M = 10000\n",
    "rows = []\n",
    "for N in [2, 4, 8, 16]:\n",
    "\n",
    "    df = generateSAW(M=M, N=N)\n",
    "    R = compute_R(df)\n",
    "\n",
    "    row = {'N': N,\n",
    "           'R': R}\n",
    "    \n",
    "    rows.append(row)\n",
    "df = pd.DataFrame(rows)\n",
    "df"
   ]
  },
  {
   "cell_type": "code",
   "execution_count": 727,
   "metadata": {},
   "outputs": [
    {
     "data": {
      "image/png": "[encoded data removed]",
      "text/plain": [
       "<Figure size 432x288 with 1 Axes>"
      ]
     },
     "metadata": {
      "needs_background": "light"
     },
     "output_type": "display_data"
    }
   ],
   "source": [
    "estimate_ν(df)"
   ]
  },
  {
   "cell_type": "markdown",
   "metadata": {},
   "source": [
    "## Enrichment"
   ]
  },
  {
   "cell_type": "code",
   "execution_count": 705,
   "metadata": {},
   "outputs": [],
   "source": [
    "def SAW(N = 100, # number of steps\n",
    "        x0 = 0, # initial position\n",
    "        y0 = 0, \n",
    "        ):\n",
    "    \n",
    "    L = np.zeros((2*N+1, 2*N+1), np.bool)\n",
    "    \n",
    "    x = x0\n",
    "    y = y0\n",
    "    \n",
    "    L[x, y] = True\n",
    "    w = 1\n",
    "    # assume first move is \"North\"\n",
    "    y += 1\n",
    "    L[x, y] = True\n",
    "    \n",
    "    valid = True\n",
    "    for n in range(1, N):\n",
    "\n",
    "        allMoves = [ (1,0), (-1, 0), (0, 1), (0, -1)]\n",
    "        validMoves = []\n",
    "        for move in allMoves:\n",
    "            dx, dy = move\n",
    "            if not L[x+dx, y+dy]:\n",
    "                validMoves.append(move)\n",
    "        \n",
    "        m = len(validMoves)\n",
    "        \n",
    "        if m == 0:\n",
    "            # there are no possible valid moves\n",
    "            valid = False\n",
    "            w = 0\n",
    "            break\n",
    "        elif m == 1:\n",
    "            # only one possible choice\n",
    "            w = 1/3 * w\n",
    "            move = validMoves[0]\n",
    "        elif m == 2:\n",
    "            # two possible choices\n",
    "            w = 2/3 * w\n",
    "            r = np.random.rand()\n",
    "            if r < 1/2:\n",
    "                move = validMoves[0]\n",
    "            else:\n",
    "                move = validMoves[1]\n",
    "        else: # m==3\n",
    "            # three possible choices\n",
    "            w = w\n",
    "            r = np.random.rand()\n",
    "            if r < 1/3:\n",
    "                move = validMoves[0]\n",
    "            elif r < 2/3:\n",
    "                move = validMoves[1]\n",
    "            else:\n",
    "                move = validMoves[2]         \n",
    "\n",
    "        dx, dy = move\n",
    "        x += dx\n",
    "        y += dy\n",
    "        \n",
    "        L[x, y] = True\n",
    "        \n",
    "    return {'valid': valid,\n",
    "            'w': w,\n",
    "            'x': x,\n",
    "            'y': y\n",
    "            }"
   ]
  },
  {
   "cell_type": "code",
   "execution_count": 706,
   "metadata": {},
   "outputs": [
    {
     "data": {
      "image/png": "[encoded data removed]",
      "text/plain": [
       "<Figure size 432x288 with 1 Axes>"
      ]
     },
     "metadata": {
      "needs_background": "light"
     },
     "output_type": "display_data"
    }
   ],
   "source": [
    "M = 1000\n",
    "for m in range(M):\n",
    "    walk = SAW(N=32)\n",
    "    plt.plot(walk['x'], walk['y'], 'k.', markersize=1)\n",
    "\n",
    "plt.axis('equal')\n",
    "plt.show()"
   ]
  },
  {
   "cell_type": "code",
   "execution_count": 722,
   "metadata": {},
   "outputs": [
    {
     "data": {
      "text/plain": [
       "7.338078291814947"
      ]
     },
     "execution_count": 722,
     "metadata": {},
     "output_type": "execute_result"
    }
   ],
   "source": [
    "df = generateSAW(M=100, N=4)\n",
    "df['R2'] = df.x**2 + df.y**2\n",
    "\n",
    "#df[df.valid]\n",
    "(df.w*df.R2).sum() / df.w.sum()"
   ]
  },
  {
   "cell_type": "code",
   "execution_count": 718,
   "metadata": {},
   "outputs": [
    {
     "data": {
      "text/plain": [
       "0.0009851724273134519"
      ]
     },
     "execution_count": 718,
     "metadata": {},
     "output_type": "execute_result"
    }
   ],
   "source": [
    "df.w.sum()"
   ]
  },
  {
   "cell_type": "code",
   "execution_count": 725,
   "metadata": {},
   "outputs": [
    {
     "data": {
      "text/html": [
       "<div>\n",
       "<style scoped>\n",
       "    .dataframe tbody tr th:only-of-type {\n",
       "        vertical-align: middle;\n",
       "    }\n",
       "\n",
       "    .dataframe tbody tr th {\n",
       "        vertical-align: top;\n",
       "    }\n",
       "\n",
       "    .dataframe thead th {\n",
       "        text-align: right;\n",
       "    }\n",
       "</style>\n",
       "<table border=\"1\" class=\"dataframe\">\n",
       "  <thead>\n",
       "    <tr style=\"text-align: right;\">\n",
       "      <th></th>\n",
       "      <th>N</th>\n",
       "      <th>N_valid</th>\n",
       "      <th>f</th>\n",
       "      <th>R</th>\n",
       "    </tr>\n",
       "  </thead>\n",
       "  <tbody>\n",
       "    <tr>\n",
       "      <th>0</th>\n",
       "      <td>8</td>\n",
       "      <td>9973</td>\n",
       "      <td>0.9973</td>\n",
       "      <td>4.373777</td>\n",
       "    </tr>\n",
       "    <tr>\n",
       "      <th>1</th>\n",
       "      <td>16</td>\n",
       "      <td>9507</td>\n",
       "      <td>0.9507</td>\n",
       "      <td>7.247658</td>\n",
       "    </tr>\n",
       "    <tr>\n",
       "      <th>2</th>\n",
       "      <td>32</td>\n",
       "      <td>7837</td>\n",
       "      <td>0.7837</td>\n",
       "      <td>12.076682</td>\n",
       "    </tr>\n",
       "    <tr>\n",
       "      <th>3</th>\n",
       "      <td>64</td>\n",
       "      <td>4477</td>\n",
       "      <td>0.4477</td>\n",
       "      <td>19.608335</td>\n",
       "    </tr>\n",
       "    <tr>\n",
       "      <th>4</th>\n",
       "      <td>128</td>\n",
       "      <td>1217</td>\n",
       "      <td>0.1217</td>\n",
       "      <td>33.107941</td>\n",
       "    </tr>\n",
       "    <tr>\n",
       "      <th>5</th>\n",
       "      <td>256</td>\n",
       "      <td>72</td>\n",
       "      <td>0.0072</td>\n",
       "      <td>39.308067</td>\n",
       "    </tr>\n",
       "  </tbody>\n",
       "</table>\n",
       "</div>"
      ],
      "text/plain": [
       "     N  N_valid       f          R\n",
       "0    8     9973  0.9973   4.373777\n",
       "1   16     9507  0.9507   7.247658\n",
       "2   32     7837  0.7837  12.076682\n",
       "3   64     4477  0.4477  19.608335\n",
       "4  128     1217  0.1217  33.107941\n",
       "5  256       72  0.0072  39.308067"
      ]
     },
     "execution_count": 725,
     "metadata": {},
     "output_type": "execute_result"
    }
   ],
   "source": [
    "M = 10000\n",
    "rows = []\n",
    "for N in [8, 16, 32, 64, 128, 256]:\n",
    "\n",
    "    df = generateSAW(M=M, N=N)\n",
    "    df = df[df.valid]\n",
    "    df['R2'] = df.x**2 + df.y**2\n",
    "    R2 = (df.w*df.R2).sum() / df.w.sum()\n",
    "    R = np.sqrt(R2)\n",
    "    \n",
    "    N_valid = len(df[df.valid])\n",
    "    row = {'N': N,\n",
    "           'N_valid' : N_valid,\n",
    "           'f': N_valid / M,\n",
    "           'R': R\n",
    "            }\n",
    "    \n",
    "    rows.append(row)\n",
    "df = pd.DataFrame(rows)\n",
    "df"
   ]
  },
  {
   "cell_type": "code",
   "execution_count": 724,
   "metadata": {},
   "outputs": [
    {
     "data": {
      "image/png": "[encoded data removed]",
      "text/plain": [
       "<Figure size 432x288 with 1 Axes>"
      ]
     },
     "metadata": {
      "needs_background": "light"
     },
     "output_type": "display_data"
    }
   ],
   "source": [
    "estimate_ν(df)"
   ]
  },
  {
   "cell_type": "code",
   "execution_count": null,
   "metadata": {},
   "outputs": [],
   "source": []
  }
 ],
 "metadata": {
  "kernelspec": {
   "display_name": "Python 3",
   "language": "python",
   "name": "python3"
  },
  "language_info": {
   "codemirror_mode": {
    "name": "ipython",
    "version": 3
   },
   "file_extension": ".py",
   "mimetype": "text/x-python",
   "name": "python",
   "nbconvert_exporter": "python",
   "pygments_lexer": "ipython3",
   "version": "3.8.1"
  }
 },
 "nbformat": 4,
 "nbformat_minor": 4
}
