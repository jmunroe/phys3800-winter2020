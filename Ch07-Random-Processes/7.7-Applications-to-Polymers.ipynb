{
 "cells": [
  {
   "cell_type": "markdown",
   "metadata": {},
   "source": [
    "# 7.7 Applications to Polymers\n"
   ]
  },
  {
   "cell_type": "code",
   "execution_count": 1,
   "metadata": {},
   "outputs": [],
   "source": [
    "import numpy as np\n",
    "import matplotlib.pyplot as plt\n",
    "import pandas as pd\n",
    "from ipywidgets import interactive"
   ]
  },
  {
   "cell_type": "markdown",
   "metadata": {},
   "source": [
    "Model a polymer of length $N$ as chain on a rectangular lattice."
   ]
  },
  {
   "cell_type": "code",
   "execution_count": 211,
   "metadata": {},
   "outputs": [],
   "source": [
    "def walker2D(N = 100, # number of steps\n",
    "           x0 = 0, # initial position\n",
    "           y0 = 0, \n",
    "           a = 1, # step size\n",
    "          ):\n",
    "    \n",
    "    xAccum = np.zeros(N)\n",
    "    xSquaredAccum = np.zeros(N)\n",
    "    yAccum = np.zeros(N)\n",
    "    ySquaredAccum = np.zeros(N)\n",
    "    \n",
    "    x = x0\n",
    "    y = y0\n",
    "    for n in range(1,N):\n",
    "\n",
    "        \n",
    "        r = np.random.rand()\n",
    "        if r < 0.25:\n",
    "            x += a\n",
    "        elif r < 0.50:\n",
    "            x -= a\n",
    "        elif r < 0.75:\n",
    "            y += a\n",
    "        else:\n",
    "            y -= a\n",
    "        \n",
    "        xAccum[n] = x\n",
    "        xSquaredAccum[n] = x*x\n",
    "        \n",
    "        yAccum[n] = y\n",
    "        ySquaredAccum[n] = y*y\n",
    "        \n",
    "    return {'xAccum': xAccum,\n",
    "            'xSquaredAccum': xSquaredAccum,\n",
    "            'yAccum': yAccum,\n",
    "            'ySquaredAccum': ySquaredAccum,\n",
    "            }"
   ]
  },
  {
   "cell_type": "code",
   "execution_count": 216,
   "metadata": {},
   "outputs": [],
   "source": [
    "def run_trials(trials=10, N=20):\n",
    "\n",
    "    rows = []\n",
    "    for t in range(trials):\n",
    "        row = walker2D(N=N)\n",
    "        rows.append(row)\n",
    "\n",
    "    df = pd.DataFrame(rows)\n",
    "    df.trials = trials\n",
    "    df.N = N\n",
    "    \n",
    "    return df"
   ]
  },
  {
   "cell_type": "code",
   "execution_count": 217,
   "metadata": {},
   "outputs": [],
   "source": [
    "def plot_xy(df):\n",
    "    trials = len(df)\n",
    "    for t in range(trials):\n",
    "        walk = df.iloc[t]\n",
    "        plt.plot(walk.xAccum, walk.yAccum,'k-', linewidth=0.1)\n",
    "\n",
    "    plt.xlabel('step')\n",
    "    plt.ylabel('<x>')"
   ]
  },
  {
   "cell_type": "code",
   "execution_count": 247,
   "metadata": {},
   "outputs": [],
   "source": [
    "def compute_R(df):\n",
    "    Δx2 = df.xSquaredAccum.mean()[-1] - df.xAccum.mean()[-1]**2\n",
    "    Δy2 = df.ySquaredAccum.mean()[-1] - df.yAccum.mean()[-1]**2\n",
    "    R2 = Δx2 + Δy2\n",
    "    R = np.sqrt(R2)\n",
    "    \n",
    "    return R"
   ]
  },
  {
   "cell_type": "code",
   "execution_count": 251,
   "metadata": {},
   "outputs": [
    {
     "data": {
      "text/plain": [
       "2.6356687955811138"
      ]
     },
     "execution_count": 251,
     "metadata": {},
     "output_type": "execute_result"
    }
   ],
   "source": [
    "df = run_trials(N=8, trials=1000)\n",
    "compute_R(df)"
   ]
  },
  {
   "cell_type": "code",
   "execution_count": 228,
   "metadata": {},
   "outputs": [],
   "source": [
    "df = run_trials(N=8, trials=1000)"
   ]
  },
  {
   "cell_type": "code",
   "execution_count": 252,
   "metadata": {},
   "outputs": [
    {
     "data": {
      "text/plain": [
       "(-6.55, 5.55, -5.55, 6.55)"
      ]
     },
     "execution_count": 252,
     "metadata": {},
     "output_type": "execute_result"
    },
    {
     "data": {
      "image/png": "[encoded data removed]",
      "text/plain": [
       "<Figure size 576x576 with 1 Axes>"
      ]
     },
     "metadata": {
      "needs_background": "light"
     },
     "output_type": "display_data"
    }
   ],
   "source": [
    "plt.figure(figsize=(8,8))\n",
    "\n",
    "plot_xy(df)\n",
    "plt.axis('equal')"
   ]
  },
  {
   "cell_type": "code",
   "execution_count": 260,
   "metadata": {},
   "outputs": [],
   "source": [
    "rows = []\n",
    "for N in [8, 16, 32, 64, 128]:\n",
    "    df = run_trials(N=N, trials=1000)\n",
    "    \n",
    "    R = compute_R(df)\n",
    "    \n",
    "    row = {'N':N, 'R': R}\n",
    "    rows.append(row)\n",
    "df = pd.DataFrame(rows)"
   ]
  },
  {
   "cell_type": "code",
   "execution_count": 261,
   "metadata": {},
   "outputs": [
    {
     "data": {
      "text/html": [
       "<div>\n",
       "<style scoped>\n",
       "    .dataframe tbody tr th:only-of-type {\n",
       "        vertical-align: middle;\n",
       "    }\n",
       "\n",
       "    .dataframe tbody tr th {\n",
       "        vertical-align: top;\n",
       "    }\n",
       "\n",
       "    .dataframe thead th {\n",
       "        text-align: right;\n",
       "    }\n",
       "</style>\n",
       "<table border=\"1\" class=\"dataframe\">\n",
       "  <thead>\n",
       "    <tr style=\"text-align: right;\">\n",
       "      <th></th>\n",
       "      <th>N</th>\n",
       "      <th>R</th>\n",
       "    </tr>\n",
       "  </thead>\n",
       "  <tbody>\n",
       "    <tr>\n",
       "      <td>0</td>\n",
       "      <td>8</td>\n",
       "      <td>2.609558</td>\n",
       "    </tr>\n",
       "    <tr>\n",
       "      <td>1</td>\n",
       "      <td>16</td>\n",
       "      <td>3.884689</td>\n",
       "    </tr>\n",
       "    <tr>\n",
       "      <td>2</td>\n",
       "      <td>32</td>\n",
       "      <td>5.429722</td>\n",
       "    </tr>\n",
       "    <tr>\n",
       "      <td>3</td>\n",
       "      <td>64</td>\n",
       "      <td>7.926663</td>\n",
       "    </tr>\n",
       "    <tr>\n",
       "      <td>4</td>\n",
       "      <td>128</td>\n",
       "      <td>10.955859</td>\n",
       "    </tr>\n",
       "  </tbody>\n",
       "</table>\n",
       "</div>"
      ],
      "text/plain": [
       "     N          R\n",
       "0    8   2.609558\n",
       "1   16   3.884689\n",
       "2   32   5.429722\n",
       "3   64   7.926663\n",
       "4  128  10.955859"
      ]
     },
     "execution_count": 261,
     "metadata": {},
     "output_type": "execute_result"
    }
   ],
   "source": [
    "df"
   ]
  },
  {
   "cell_type": "code",
   "execution_count": 269,
   "metadata": {},
   "outputs": [
    {
     "data": {
      "text/plain": [
       "Text(0.5, 1.0, 'ν = 0.5168565177462473')"
      ]
     },
     "execution_count": 269,
     "metadata": {},
     "output_type": "execute_result"
    },
    {
     "data": {
      "image/png": "[encoded data removed]",
      "text/plain": [
       "<Figure size 432x288 with 1 Axes>"
      ]
     },
     "metadata": {
      "needs_background": "light"
     },
     "output_type": "display_data"
    }
   ],
   "source": [
    "ν, C = np.polyfit(np.log(df.N), np.log(df.R), 1)\n",
    "R_fit = df.N**ν*np.exp(C)\n",
    "\n",
    "plt.plot(df.N, df.R, '.')\n",
    "plt.plot(df.N, R_fit, '-')\n",
    "\n",
    "plt.xlabel('N')\n",
    "plt.ylabel('R')\n",
    "plt.title(f'ν = {ν}')"
   ]
  },
  {
   "cell_type": "markdown",
   "metadata": {},
   "source": [
    "## Self-avoiding walk"
   ]
  },
  {
   "cell_type": "markdown",
   "metadata": {},
   "source": [
    "Problem 7.28"
   ]
  },
  {
   "cell_type": "code",
   "execution_count": 270,
   "metadata": {},
   "outputs": [],
   "source": [
    "def SAW_2D(N = 100, # number of steps\n",
    "           x0 = 0, # initial position\n",
    "           y0 = 0, \n",
    "           a = 1, # step size\n",
    "          ):\n",
    "    \n",
    "    xAccum = np.zeros(N)*np.nan\n",
    "    xSquaredAccum = np.zeros(N)*np.nan\n",
    "    yAccum = np.zeros(N)*np.nan\n",
    "    ySquaredAccum = np.zeros(N)*np.nan\n",
    "    \n",
    "    x = x0\n",
    "    y = y0\n",
    "    \n",
    "    previous_direction = ''\n",
    "    direction = 'U'\n",
    "    \n",
    "    for n in range(N):\n",
    "    \n",
    "        # record the previous move\n",
    "        xAccum[n] = x\n",
    "        xSquaredAccum[n] = x*x\n",
    "        \n",
    "        yAccum[n] = y\n",
    "        ySquaredAccum[n] = y*y\n",
    "        \n",
    "        # randomly choose a direction that is not the previous direction\n",
    "        while direction==previous_direction:\n",
    "            r = np.random.rand()\n",
    "\n",
    "            if r < 0.25:\n",
    "                direction = 'U'\n",
    "            elif r < 0.50:\n",
    "                direction = 'D'\n",
    "            elif r < 0.75:\n",
    "                direction = 'R'\n",
    "            else:\n",
    "                direction = 'L'\n",
    "\n",
    "        # now that we have chosen a 'new' direction, make the move\n",
    "        if direction=='U':\n",
    "            y += a\n",
    "        elif direction=='D':\n",
    "            y -= a\n",
    "        elif direction=='R':\n",
    "            x += a\n",
    "        elif direction=='L':\n",
    "            x -= a\n",
    "\n",
    "        # check if that move would be invalid\n",
    "        valid = True\n",
    "        for i in range(n):\n",
    "            if x==xAccum[i] and y==yAccum[i]:\n",
    "                valid = False\n",
    "                break\n",
    "        if not valid:\n",
    "            break\n",
    "\n",
    "        previous_direction=direction\n",
    "        \n",
    "    return {'valid': valid,\n",
    "            'xAccum': xAccum,\n",
    "            'yAccum': yAccum,\n",
    "            'xSquaredAccum': xSquaredAccum,\n",
    "            'ySquaredAccum': ySquaredAccum,\n",
    "            }"
   ]
  },
  {
   "cell_type": "code",
   "execution_count": 271,
   "metadata": {},
   "outputs": [],
   "source": [
    "def run_trials(trials=10, N=20):\n",
    "\n",
    "    rows = []\n",
    "    for t in range(trials):\n",
    "        row = SAW_2D(N=N)\n",
    "        # only keep completed chains\n",
    "        if row['valid']:\n",
    "            rows.append(row)\n",
    "\n",
    "    df = pd.DataFrame(rows)\n",
    "    df.trials = trials\n",
    "    df.N = N\n",
    "    \n",
    "    return df"
   ]
  },
  {
   "cell_type": "code",
   "execution_count": 280,
   "metadata": {},
   "outputs": [
    {
     "ename": "AttributeError",
     "evalue": "'DataFrame' object has no attribute 'xSquaredAccum'",
     "output_type": "error",
     "traceback": [
      "\u001b[1;31m---------------------------------------------------------------------------\u001b[0m",
      "\u001b[1;31mAttributeError\u001b[0m                            Traceback (most recent call last)",
      "\u001b[1;32m<ipython-input-280-a835d2d4ec19>\u001b[0m in \u001b[0;36m<module>\u001b[1;34m\u001b[0m\n\u001b[0;32m      3\u001b[0m     \u001b[0mtrials\u001b[0m \u001b[1;33m=\u001b[0m \u001b[1;36m100000\u001b[0m\u001b[1;33m\u001b[0m\u001b[1;33m\u001b[0m\u001b[0m\n\u001b[0;32m      4\u001b[0m     \u001b[0mdf\u001b[0m \u001b[1;33m=\u001b[0m \u001b[0mrun_trials\u001b[0m\u001b[1;33m(\u001b[0m\u001b[0mtrials\u001b[0m\u001b[1;33m=\u001b[0m\u001b[0mtrials\u001b[0m\u001b[1;33m,\u001b[0m \u001b[0mN\u001b[0m\u001b[1;33m=\u001b[0m\u001b[0mN\u001b[0m\u001b[1;33m)\u001b[0m\u001b[1;33m\u001b[0m\u001b[1;33m\u001b[0m\u001b[0m\n\u001b[1;32m----> 5\u001b[1;33m     \u001b[0mR\u001b[0m \u001b[1;33m=\u001b[0m \u001b[0mcompute_R\u001b[0m\u001b[1;33m(\u001b[0m\u001b[0mdf\u001b[0m\u001b[1;33m)\u001b[0m\u001b[1;33m\u001b[0m\u001b[1;33m\u001b[0m\u001b[0m\n\u001b[0m\u001b[0;32m      6\u001b[0m     \u001b[0mN_valid\u001b[0m \u001b[1;33m=\u001b[0m \u001b[0mlen\u001b[0m\u001b[1;33m(\u001b[0m\u001b[0mdf\u001b[0m\u001b[1;33m)\u001b[0m\u001b[1;33m\u001b[0m\u001b[1;33m\u001b[0m\u001b[0m\n\u001b[0;32m      7\u001b[0m     row = {'N': N,\n",
      "\u001b[1;32m<ipython-input-247-a1c4032f79ba>\u001b[0m in \u001b[0;36mcompute_R\u001b[1;34m(df)\u001b[0m\n\u001b[0;32m      1\u001b[0m \u001b[1;32mdef\u001b[0m \u001b[0mcompute_R\u001b[0m\u001b[1;33m(\u001b[0m\u001b[0mdf\u001b[0m\u001b[1;33m)\u001b[0m\u001b[1;33m:\u001b[0m\u001b[1;33m\u001b[0m\u001b[1;33m\u001b[0m\u001b[0m\n\u001b[1;32m----> 2\u001b[1;33m     \u001b[0mΔx2\u001b[0m \u001b[1;33m=\u001b[0m \u001b[0mdf\u001b[0m\u001b[1;33m.\u001b[0m\u001b[0mxSquaredAccum\u001b[0m\u001b[1;33m.\u001b[0m\u001b[0mmean\u001b[0m\u001b[1;33m(\u001b[0m\u001b[1;33m)\u001b[0m\u001b[1;33m[\u001b[0m\u001b[1;33m-\u001b[0m\u001b[1;36m1\u001b[0m\u001b[1;33m]\u001b[0m \u001b[1;33m-\u001b[0m \u001b[0mdf\u001b[0m\u001b[1;33m.\u001b[0m\u001b[0mxAccum\u001b[0m\u001b[1;33m.\u001b[0m\u001b[0mmean\u001b[0m\u001b[1;33m(\u001b[0m\u001b[1;33m)\u001b[0m\u001b[1;33m[\u001b[0m\u001b[1;33m-\u001b[0m\u001b[1;36m1\u001b[0m\u001b[1;33m]\u001b[0m\u001b[1;33m**\u001b[0m\u001b[1;36m2\u001b[0m\u001b[1;33m\u001b[0m\u001b[1;33m\u001b[0m\u001b[0m\n\u001b[0m\u001b[0;32m      3\u001b[0m     \u001b[0mΔy2\u001b[0m \u001b[1;33m=\u001b[0m \u001b[0mdf\u001b[0m\u001b[1;33m.\u001b[0m\u001b[0mySquaredAccum\u001b[0m\u001b[1;33m.\u001b[0m\u001b[0mmean\u001b[0m\u001b[1;33m(\u001b[0m\u001b[1;33m)\u001b[0m\u001b[1;33m[\u001b[0m\u001b[1;33m-\u001b[0m\u001b[1;36m1\u001b[0m\u001b[1;33m]\u001b[0m \u001b[1;33m-\u001b[0m \u001b[0mdf\u001b[0m\u001b[1;33m.\u001b[0m\u001b[0myAccum\u001b[0m\u001b[1;33m.\u001b[0m\u001b[0mmean\u001b[0m\u001b[1;33m(\u001b[0m\u001b[1;33m)\u001b[0m\u001b[1;33m[\u001b[0m\u001b[1;33m-\u001b[0m\u001b[1;36m1\u001b[0m\u001b[1;33m]\u001b[0m\u001b[1;33m**\u001b[0m\u001b[1;36m2\u001b[0m\u001b[1;33m\u001b[0m\u001b[1;33m\u001b[0m\u001b[0m\n\u001b[0;32m      4\u001b[0m     \u001b[0mR2\u001b[0m \u001b[1;33m=\u001b[0m \u001b[0mΔx2\u001b[0m \u001b[1;33m+\u001b[0m \u001b[0mΔy2\u001b[0m\u001b[1;33m\u001b[0m\u001b[1;33m\u001b[0m\u001b[0m\n\u001b[0;32m      5\u001b[0m     \u001b[0mR\u001b[0m \u001b[1;33m=\u001b[0m \u001b[0mnp\u001b[0m\u001b[1;33m.\u001b[0m\u001b[0msqrt\u001b[0m\u001b[1;33m(\u001b[0m\u001b[0mR2\u001b[0m\u001b[1;33m)\u001b[0m\u001b[1;33m\u001b[0m\u001b[1;33m\u001b[0m\u001b[0m\n",
      "\u001b[1;32m~\\Anaconda3\\lib\\site-packages\\pandas\\core\\generic.py\u001b[0m in \u001b[0;36m__getattr__\u001b[1;34m(self, name)\u001b[0m\n\u001b[0;32m   5177\u001b[0m             \u001b[1;32mif\u001b[0m \u001b[0mself\u001b[0m\u001b[1;33m.\u001b[0m\u001b[0m_info_axis\u001b[0m\u001b[1;33m.\u001b[0m\u001b[0m_can_hold_identifiers_and_holds_name\u001b[0m\u001b[1;33m(\u001b[0m\u001b[0mname\u001b[0m\u001b[1;33m)\u001b[0m\u001b[1;33m:\u001b[0m\u001b[1;33m\u001b[0m\u001b[1;33m\u001b[0m\u001b[0m\n\u001b[0;32m   5178\u001b[0m                 \u001b[1;32mreturn\u001b[0m \u001b[0mself\u001b[0m\u001b[1;33m[\u001b[0m\u001b[0mname\u001b[0m\u001b[1;33m]\u001b[0m\u001b[1;33m\u001b[0m\u001b[1;33m\u001b[0m\u001b[0m\n\u001b[1;32m-> 5179\u001b[1;33m             \u001b[1;32mreturn\u001b[0m \u001b[0mobject\u001b[0m\u001b[1;33m.\u001b[0m\u001b[0m__getattribute__\u001b[0m\u001b[1;33m(\u001b[0m\u001b[0mself\u001b[0m\u001b[1;33m,\u001b[0m \u001b[0mname\u001b[0m\u001b[1;33m)\u001b[0m\u001b[1;33m\u001b[0m\u001b[1;33m\u001b[0m\u001b[0m\n\u001b[0m\u001b[0;32m   5180\u001b[0m \u001b[1;33m\u001b[0m\u001b[0m\n\u001b[0;32m   5181\u001b[0m     \u001b[1;32mdef\u001b[0m \u001b[0m__setattr__\u001b[0m\u001b[1;33m(\u001b[0m\u001b[0mself\u001b[0m\u001b[1;33m,\u001b[0m \u001b[0mname\u001b[0m\u001b[1;33m,\u001b[0m \u001b[0mvalue\u001b[0m\u001b[1;33m)\u001b[0m\u001b[1;33m:\u001b[0m\u001b[1;33m\u001b[0m\u001b[1;33m\u001b[0m\u001b[0m\n",
      "\u001b[1;31mAttributeError\u001b[0m: 'DataFrame' object has no attribute 'xSquaredAccum'"
     ]
    }
   ],
   "source": [
    "rows = []\n",
    "for N in range(1,20):\n",
    "    trials = 100000\n",
    "    df = run_trials(trials=trials, N=N)\n",
    "    R = compute_R(df)\n",
    "    N_valid = len(df)\n",
    "    row = {'N': N,\n",
    "           'N_valid' : N_valid,\n",
    "           'f': N_valid / trials,\n",
    "           'R': R}\n",
    "    rows.append(row)\n",
    "df = pd.DataFrame(rows)\n",
    "           \n",
    "df\n",
    "    "
   ]
  },
  {
   "cell_type": "code",
   "execution_count": 276,
   "metadata": {},
   "outputs": [],
   "source": [
    "rows = []\n",
    "for N in [4,5,6,7,8]:\n",
    "    df = run_trials(N=N, trials=1000)\n",
    "    \n",
    "    R = compute_R(df)\n",
    "    \n",
    "    row = {'N':N, \n",
    "           'R': R}\n",
    "    rows.append(row)\n",
    "df = pd.DataFrame(rows)"
   ]
  },
  {
   "cell_type": "code",
   "execution_count": 277,
   "metadata": {},
   "outputs": [
    {
     "data": {
      "text/html": [
       "<div>\n",
       "<style scoped>\n",
       "    .dataframe tbody tr th:only-of-type {\n",
       "        vertical-align: middle;\n",
       "    }\n",
       "\n",
       "    .dataframe tbody tr th {\n",
       "        vertical-align: top;\n",
       "    }\n",
       "\n",
       "    .dataframe thead th {\n",
       "        text-align: right;\n",
       "    }\n",
       "</style>\n",
       "<table border=\"1\" class=\"dataframe\">\n",
       "  <thead>\n",
       "    <tr style=\"text-align: right;\">\n",
       "      <th></th>\n",
       "      <th>N</th>\n",
       "      <th>R</th>\n",
       "    </tr>\n",
       "  </thead>\n",
       "  <tbody>\n",
       "    <tr>\n",
       "      <td>0</td>\n",
       "      <td>4</td>\n",
       "      <td>1.369599</td>\n",
       "    </tr>\n",
       "    <tr>\n",
       "      <td>1</td>\n",
       "      <td>5</td>\n",
       "      <td>2.012177</td>\n",
       "    </tr>\n",
       "    <tr>\n",
       "      <td>2</td>\n",
       "      <td>6</td>\n",
       "      <td>2.396998</td>\n",
       "    </tr>\n",
       "    <tr>\n",
       "      <td>3</td>\n",
       "      <td>7</td>\n",
       "      <td>2.965196</td>\n",
       "    </tr>\n",
       "    <tr>\n",
       "      <td>4</td>\n",
       "      <td>8</td>\n",
       "      <td>3.209155</td>\n",
       "    </tr>\n",
       "  </tbody>\n",
       "</table>\n",
       "</div>"
      ],
      "text/plain": [
       "   N         R\n",
       "0  4  1.369599\n",
       "1  5  2.012177\n",
       "2  6  2.396998\n",
       "3  7  2.965196\n",
       "4  8  3.209155"
      ]
     },
     "execution_count": 277,
     "metadata": {},
     "output_type": "execute_result"
    }
   ],
   "source": [
    "df"
   ]
  },
  {
   "cell_type": "code",
   "execution_count": null,
   "metadata": {},
   "outputs": [],
   "source": []
  },
  {
   "cell_type": "code",
   "execution_count": null,
   "metadata": {},
   "outputs": [],
   "source": []
  }
 ],
 "metadata": {
  "kernelspec": {
   "display_name": "Python 3",
   "language": "python",
   "name": "python3"
  },
  "language_info": {
   "codemirror_mode": {
    "name": "ipython",
    "version": 3
   },
   "file_extension": ".py",
   "mimetype": "text/x-python",
   "name": "python",
   "nbconvert_exporter": "python",
   "pygments_lexer": "ipython3",
   "version": "3.7.4"
  }
 },
 "nbformat": 4,
 "nbformat_minor": 2
}
