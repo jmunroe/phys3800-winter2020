{
 "cells": [
  {
   "cell_type": "markdown",
   "metadata": {},
   "source": [
    "# Project 1: Competition between diffusion and fragmentation"
   ]
  },
  {
   "cell_type": "markdown",
   "metadata": {},
   "source": [
    "> The expectation for a project is that is reads like a paper or report.  See \"Appendix 1A: Laboratory reports\" of the textbook for some guidance of the sections that are expected.  In particular, it is not necessary to answer questions as 'part a), part b), etc.' like you would do for an assignment."
   ]
  },
  {
   "cell_type": "code",
   "execution_count": 1,
   "metadata": {},
   "outputs": [],
   "source": [
    "import numpy as np\n",
    "import matplotlib.pyplot as plt\n",
    "import pandas as pd"
   ]
  },
  {
   "cell_type": "markdown",
   "metadata": {},
   "source": [
    "As we have discussed, random walks are useful for understanding diffusion in contexts more general than the movement of a particle. Consider a particle in solution whose mass can grow either by the absorption of particles or shrink by the loss of small particles, including fragmentation. We can model this process as a random walk by replacing the position of the particle by its mass. One difference between this case and the random walks we have studied so far is that the random variable, the mass, must be positive. The model of Ferkinghoff-Berg et al. can be summarized as follows:\n",
    "\n",
    "(i) Begin with $N$ objects with some distribution of lengths. Let the integer $L_i$ represent the length of the $i$th object.\n",
    "\n",
    "(ii) All the objects change their length by ±1.  This step is analogous to a random walk.  If the length of an object becomes equal to 0, it is removed from the system. An easy way toeliminate the $i$th object is to set its length equal to the length of the last object and reduce $N$ by unity.\n",
    "\n",
    "(iii) Choose one object at random with a probability that is proportional to the length of the object. Fragment this object into two objects, where the fraction of the mass going to each object is random.\n",
    "\n",
    "(iv) Repeat steps (ii) and (iii)."
   ]
  },
  {
   "cell_type": "markdown",
   "metadata": {},
   "source": [
    "## a. \n",
    "\n",
    "Write a program to implement this algorithm in one dimension."
   ]
  },
  {
   "cell_type": "markdown",
   "metadata": {},
   "source": [
    "> We need a data structure to hold the object lengths.  You could use either python lists or NumPy array. One tricky bit to figure out is how to add to the total number of objects."
   ]
  },
  {
   "cell_type": "code",
   "execution_count": 390,
   "metadata": {},
   "outputs": [
    {
     "data": {
      "text/plain": [
       "[1, 2, 3, 4, 5]"
      ]
     },
     "execution_count": 390,
     "metadata": {},
     "output_type": "execute_result"
    }
   ],
   "source": [
    "# If you are using lists then\n",
    "L = [1,2,3,4,5]\n",
    "L"
   ]
  },
  {
   "cell_type": "code",
   "execution_count": 391,
   "metadata": {},
   "outputs": [
    {
     "data": {
      "text/plain": [
       "[1, 2, 3, 4, 5, 99]"
      ]
     },
     "execution_count": 391,
     "metadata": {},
     "output_type": "execute_result"
    }
   ],
   "source": [
    "# add new objects to end\n",
    "L.append(99)\n",
    "L"
   ]
  },
  {
   "cell_type": "code",
   "execution_count": 392,
   "metadata": {},
   "outputs": [
    {
     "data": {
      "text/plain": [
       "array([1, 2, 3, 4, 5])"
      ]
     },
     "execution_count": 392,
     "metadata": {},
     "output_type": "execute_result"
    }
   ],
   "source": [
    "# for NumPy arrays\n",
    "L = np.array([1,2,3,4,5])\n",
    "L"
   ]
  },
  {
   "cell_type": "code",
   "execution_count": 393,
   "metadata": {},
   "outputs": [
    {
     "data": {
      "text/plain": [
       "array([ 1,  2,  3,  4,  5, 99])"
      ]
     },
     "execution_count": 393,
     "metadata": {},
     "output_type": "execute_result"
    }
   ],
   "source": [
    "# add a new element to the end\n",
    "L = np.hstack( [L, 99])\n",
    "L"
   ]
  },
  {
   "cell_type": "markdown",
   "metadata": {},
   "source": [
    "> I'd recommend figuring out how to grow your data structure dynamically as is needed. Don't just create an initially 'very large' array and assume it will be big enough."
   ]
  },
  {
   "cell_type": "markdown",
   "metadata": {},
   "source": [
    " "
   ]
  },
  {
   "cell_type": "markdown",
   "metadata": {},
   "source": [
    "The main quantity of interest is the distribution of lengths $P(L)$. Explore a variety of initial length distributions with a total mass of 5000 for which the distribution is peaked at about 20 mass units. Is the long time behavior of $P(L)$ similar in shape for any initial distribution? Compute the total mass (sum of the lengths) and output this value periodically. Although the total mass will fluctuate, it should remain approximately constant. Why?"
   ]
  },
  {
   "cell_type": "markdown",
   "metadata": {},
   "source": [
    "> To visualize $P(L)$ I think creating a histogram is easiest."
   ]
  },
  {
   "cell_type": "code",
   "execution_count": 419,
   "metadata": {},
   "outputs": [
    {
     "data": {
      "image/png": "[encoded data removed]",
      "text/plain": [
       "<Figure size 432x288 with 1 Axes>"
      ]
     },
     "metadata": {
      "needs_background": "light"
     },
     "output_type": "display_data"
    }
   ],
   "source": [
    "L = np.random.randint(0, 100, size=100)\n",
    "plt.hist(L, bins=5, width=18)\n",
    "plt.show()"
   ]
  },
  {
   "cell_type": "markdown",
   "metadata": {},
   "source": [
    "> When needed, `np.histogram` will give you the raw data in terms of bins and counts"
   ]
  },
  {
   "cell_type": "code",
   "execution_count": 420,
   "metadata": {},
   "outputs": [
    {
     "data": {
      "text/plain": [
       "(array([24, 28, 16, 13, 19]), array([ 0. , 19.2, 38.4, 57.6, 76.8, 96. ]))"
      ]
     },
     "execution_count": 420,
     "metadata": {},
     "output_type": "execute_result"
    }
   ],
   "source": [
    "np.histogram(L, bins=5)"
   ]
  },
  {
   "cell_type": "markdown",
   "metadata": {},
   "source": [
    "## b.\n",
    "\n",
    "Collect data for three different initial distributions with the same number of objects $N$, and scale $P(L)$ and $L$ so that the three distributions roughly fall on the same curve. For example,you can scale $P(L)$ so that the maximum of the three distributions has the same value. Then multiply each value of $L$ by a factor so that the distributions overlap\n"
   ]
  },
  {
   "cell_type": "markdown",
   "metadata": {},
   "source": [
    "> To create an initial distribution, check out `np.random` which has many standard distributions. Convert the array of floats into an array of integers."
   ]
  },
  {
   "cell_type": "code",
   "execution_count": 456,
   "metadata": {},
   "outputs": [
    {
     "data": {
      "image/png": "[encoded data removed]",
      "text/plain": [
       "<Figure size 432x288 with 1 Axes>"
      ]
     },
     "metadata": {
      "needs_background": "light"
     },
     "output_type": "display_data"
    }
   ],
   "source": [
    "N = 100\n",
    "M = 5000\n",
    "\n",
    "L = np.random.uniform(2*M/N, size=N)\n",
    "\n",
    "L = np.array(L, dtype=np.int)\n",
    "\n",
    "totalMass = L.sum()\n",
    "\n",
    "plt.hist(L)\n",
    "plt.title(f'N={N} totalMass={totalMass}')\n",
    "plt.show()\n"
   ]
  },
  {
   "cell_type": "code",
   "execution_count": 482,
   "metadata": {},
   "outputs": [
    {
     "data": {
      "image/png": "[encoded data removed]",
      "text/plain": [
       "<Figure size 432x288 with 1 Axes>"
      ]
     },
     "metadata": {
      "needs_background": "light"
     },
     "output_type": "display_data"
    }
   ],
   "source": [
    "N = 100\n",
    "M = 5000\n",
    "\n",
    "L = np.random.normal(M/N, 15, size=N)\n",
    "\n",
    "L = np.array(L, dtype=np.int)\n",
    "\n",
    "totalMass = L.sum()\n",
    "\n",
    "plt.hist(L)\n",
    "plt.title(f'N={N} totalMass={totalMass}')\n",
    "plt.show()"
   ]
  },
  {
   "cell_type": "markdown",
   "metadata": {},
   "source": [
    "> Or create initial distributions explicitly according to analytic distribution."
   ]
  },
  {
   "cell_type": "code",
   "execution_count": 483,
   "metadata": {},
   "outputs": [
    {
     "data": {
      "image/png": "[encoded data removed]",
      "text/plain": [
       "<Figure size 432x288 with 1 Axes>"
      ]
     },
     "metadata": {
      "needs_background": "light"
     },
     "output_type": "display_data"
    }
   ],
   "source": [
    "N = 100\n",
    "M = 5000\n",
    "\n",
    "L = np.ones(N) * M/N\n",
    "\n",
    "L = np.array(L, dtype=np.int)\n",
    "\n",
    "totalMass = L.sum()\n",
    "\n",
    "plt.hist(L)\n",
    "plt.title(f'N={N} totalMass={totalMass}')\n",
    "plt.show()"
   ]
  },
  {
   "cell_type": "markdown",
   "metadata": {},
   "source": [
    "## c.\n",
    "\n",
    "The analytical results suggest that the universal behavior can be obtained by scaling $L$ by the total mass raised to the 1/3 power. Is this prediction consistent with your results? Test this hypothesis by adjusting the initial distributions so that they all have the same total mass. Your results for the long time behavior of $P(L)$ should fall on a universal curve. Why is this universality interesting? How can this result be used to analyze different systems? Would you need to do a new simulation for each value of L?"
   ]
  },
  {
   "cell_type": "markdown",
   "metadata": {},
   "source": [
    "> Looking up the reference given for this project might be useful: Jesper Ferkinghoff-Borg, Mogens H. Jensen, Joachim Mathiesen, Poul Olesen, and Kim Sneppen, “Competition between diffusion and fragmentation: An important evolutionary process of nature,” Phys. Rev. Lett.91, 266103 (2003). The results of the model were compared withexperimental data on ice crystal sizes and the length distribution of α helices in proteins."
   ]
  },
  {
   "cell_type": "markdown",
   "metadata": {},
   "source": [
    "## d. \n",
    "\n",
    "What happens if step (iii) is done more or less often than each random change of length. Does the scaling change?"
   ]
  },
  {
   "cell_type": "code",
   "execution_count": null,
   "metadata": {},
   "outputs": [],
   "source": []
  }
 ],
 "metadata": {
  "kernelspec": {
   "display_name": "Python 3",
   "language": "python",
   "name": "python3"
  },
  "language_info": {
   "codemirror_mode": {
    "name": "ipython",
    "version": 3
   },
   "file_extension": ".py",
   "mimetype": "text/x-python",
   "name": "python",
   "nbconvert_exporter": "python",
   "pygments_lexer": "ipython3",
   "version": "3.8.1"
  }
 },
 "nbformat": 4,
 "nbformat_minor": 4
}
