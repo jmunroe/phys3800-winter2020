{
 "cells": [
  {
   "cell_type": "markdown",
   "metadata": {},
   "source": [
    "# 7.2 Random Walks"
   ]
  },
  {
   "cell_type": "code",
   "execution_count": 181,
   "metadata": {},
   "outputs": [],
   "source": [
    "import numpy as np\n",
    "import matplotlib.pyplot as plt\n",
    "import pandas as pd\n",
    "from ipywidgets import interactive"
   ]
  },
  {
   "cell_type": "markdown",
   "metadata": {},
   "source": [
    "## Random walk along a straight line"
   ]
  },
  {
   "cell_type": "markdown",
   "metadata": {},
   "source": [
    "Define variables"
   ]
  },
  {
   "cell_type": "code",
   "execution_count": 182,
   "metadata": {},
   "outputs": [],
   "source": [
    "N = 20 # number of steps\n",
    "x0 = 0 # initial position\n",
    "a = 1 # step size\n",
    "p = 0.5 # probability of step to the right\n",
    "q = 0.5 # probability of step to the left"
   ]
  },
  {
   "cell_type": "code",
   "execution_count": 183,
   "metadata": {},
   "outputs": [
    {
     "name": "stdout",
     "output_type": "stream",
     "text": [
      "-4\n"
     ]
    }
   ],
   "source": [
    "x = x0\n",
    "for n in range(N):       \n",
    "    if p < np.random.rand():\n",
    "        x += a\n",
    "    else:\n",
    "        x -= a\n",
    "print(x)"
   ]
  },
  {
   "cell_type": "code",
   "execution_count": 184,
   "metadata": {},
   "outputs": [],
   "source": [
    "def walker(N = 100, # number of steps\n",
    "           x0 = 0, # initial position\n",
    "           a = 1, # step size\n",
    "           p = 0.5, # probability of step to the right\n",
    "          ):\n",
    "    \n",
    "    xAccum = np.zeros(N)\n",
    "    xSquaredAccum = np.zeros(N)\n",
    "    \n",
    "    x = x0\n",
    "    for n in range(N):\n",
    "        xAccum[n] += x\n",
    "        xSquaredAccum[n] += x*x\n",
    "        \n",
    "        if p < np.random.rand():\n",
    "            x += a\n",
    "        else:\n",
    "            x -= a\n",
    "        \n",
    "    return {'xAccum': xAccum,\n",
    "            'xSquaredAccum': xSquaredAccum,\n",
    "            }"
   ]
  },
  {
   "cell_type": "code",
   "execution_count": 185,
   "metadata": {},
   "outputs": [],
   "source": [
    "rows = []\n",
    "trials = 10\n",
    "for t in range(trials):\n",
    "    row = walker(N=20)\n",
    "    rows.append(row)\n",
    "\n",
    "df = pd.DataFrame(rows)"
   ]
  },
  {
   "cell_type": "code",
   "execution_count": 186,
   "metadata": {},
   "outputs": [
    {
     "data": {
      "text/html": [
       "<div>\n",
       "<style scoped>\n",
       "    .dataframe tbody tr th:only-of-type {\n",
       "        vertical-align: middle;\n",
       "    }\n",
       "\n",
       "    .dataframe tbody tr th {\n",
       "        vertical-align: top;\n",
       "    }\n",
       "\n",
       "    .dataframe thead th {\n",
       "        text-align: right;\n",
       "    }\n",
       "</style>\n",
       "<table border=\"1\" class=\"dataframe\">\n",
       "  <thead>\n",
       "    <tr style=\"text-align: right;\">\n",
       "      <th></th>\n",
       "      <th>xAccum</th>\n",
       "      <th>xSquaredAccum</th>\n",
       "    </tr>\n",
       "  </thead>\n",
       "  <tbody>\n",
       "    <tr>\n",
       "      <th>0</th>\n",
       "      <td>[0.0, -1.0, -2.0, -1.0, 0.0, 1.0, 0.0, 1.0, 2....</td>\n",
       "      <td>[0.0, 1.0, 4.0, 1.0, 0.0, 1.0, 0.0, 1.0, 4.0, ...</td>\n",
       "    </tr>\n",
       "    <tr>\n",
       "      <th>1</th>\n",
       "      <td>[0.0, 1.0, 2.0, 3.0, 4.0, 3.0, 2.0, 1.0, 2.0, ...</td>\n",
       "      <td>[0.0, 1.0, 4.0, 9.0, 16.0, 9.0, 4.0, 1.0, 4.0,...</td>\n",
       "    </tr>\n",
       "    <tr>\n",
       "      <th>2</th>\n",
       "      <td>[0.0, 1.0, 2.0, 1.0, 2.0, 3.0, 2.0, 1.0, 2.0, ...</td>\n",
       "      <td>[0.0, 1.0, 4.0, 1.0, 4.0, 9.0, 4.0, 1.0, 4.0, ...</td>\n",
       "    </tr>\n",
       "    <tr>\n",
       "      <th>3</th>\n",
       "      <td>[0.0, 1.0, 2.0, 1.0, 0.0, -1.0, 0.0, -1.0, -2....</td>\n",
       "      <td>[0.0, 1.0, 4.0, 1.0, 0.0, 1.0, 0.0, 1.0, 4.0, ...</td>\n",
       "    </tr>\n",
       "    <tr>\n",
       "      <th>4</th>\n",
       "      <td>[0.0, -1.0, -2.0, -3.0, -4.0, -3.0, -2.0, -3.0...</td>\n",
       "      <td>[0.0, 1.0, 4.0, 9.0, 16.0, 9.0, 4.0, 9.0, 4.0,...</td>\n",
       "    </tr>\n",
       "    <tr>\n",
       "      <th>5</th>\n",
       "      <td>[0.0, -1.0, 0.0, -1.0, -2.0, -1.0, -2.0, -3.0,...</td>\n",
       "      <td>[0.0, 1.0, 0.0, 1.0, 4.0, 1.0, 4.0, 9.0, 4.0, ...</td>\n",
       "    </tr>\n",
       "    <tr>\n",
       "      <th>6</th>\n",
       "      <td>[0.0, -1.0, 0.0, -1.0, -2.0, -3.0, -2.0, -1.0,...</td>\n",
       "      <td>[0.0, 1.0, 0.0, 1.0, 4.0, 9.0, 4.0, 1.0, 4.0, ...</td>\n",
       "    </tr>\n",
       "    <tr>\n",
       "      <th>7</th>\n",
       "      <td>[0.0, 1.0, 0.0, -1.0, 0.0, 1.0, 2.0, 3.0, 2.0,...</td>\n",
       "      <td>[0.0, 1.0, 0.0, 1.0, 0.0, 1.0, 4.0, 9.0, 4.0, ...</td>\n",
       "    </tr>\n",
       "    <tr>\n",
       "      <th>8</th>\n",
       "      <td>[0.0, 1.0, 0.0, -1.0, -2.0, -3.0, -4.0, -5.0, ...</td>\n",
       "      <td>[0.0, 1.0, 0.0, 1.0, 4.0, 9.0, 16.0, 25.0, 16....</td>\n",
       "    </tr>\n",
       "    <tr>\n",
       "      <th>9</th>\n",
       "      <td>[0.0, -1.0, 0.0, 1.0, 0.0, -1.0, 0.0, 1.0, 0.0...</td>\n",
       "      <td>[0.0, 1.0, 0.0, 1.0, 0.0, 1.0, 0.0, 1.0, 0.0, ...</td>\n",
       "    </tr>\n",
       "  </tbody>\n",
       "</table>\n",
       "</div>"
      ],
      "text/plain": [
       "                                              xAccum  \\\n",
       "0  [0.0, -1.0, -2.0, -1.0, 0.0, 1.0, 0.0, 1.0, 2....   \n",
       "1  [0.0, 1.0, 2.0, 3.0, 4.0, 3.0, 2.0, 1.0, 2.0, ...   \n",
       "2  [0.0, 1.0, 2.0, 1.0, 2.0, 3.0, 2.0, 1.0, 2.0, ...   \n",
       "3  [0.0, 1.0, 2.0, 1.0, 0.0, -1.0, 0.0, -1.0, -2....   \n",
       "4  [0.0, -1.0, -2.0, -3.0, -4.0, -3.0, -2.0, -3.0...   \n",
       "5  [0.0, -1.0, 0.0, -1.0, -2.0, -1.0, -2.0, -3.0,...   \n",
       "6  [0.0, -1.0, 0.0, -1.0, -2.0, -3.0, -2.0, -1.0,...   \n",
       "7  [0.0, 1.0, 0.0, -1.0, 0.0, 1.0, 2.0, 3.0, 2.0,...   \n",
       "8  [0.0, 1.0, 0.0, -1.0, -2.0, -3.0, -4.0, -5.0, ...   \n",
       "9  [0.0, -1.0, 0.0, 1.0, 0.0, -1.0, 0.0, 1.0, 0.0...   \n",
       "\n",
       "                                       xSquaredAccum  \n",
       "0  [0.0, 1.0, 4.0, 1.0, 0.0, 1.0, 0.0, 1.0, 4.0, ...  \n",
       "1  [0.0, 1.0, 4.0, 9.0, 16.0, 9.0, 4.0, 1.0, 4.0,...  \n",
       "2  [0.0, 1.0, 4.0, 1.0, 4.0, 9.0, 4.0, 1.0, 4.0, ...  \n",
       "3  [0.0, 1.0, 4.0, 1.0, 0.0, 1.0, 0.0, 1.0, 4.0, ...  \n",
       "4  [0.0, 1.0, 4.0, 9.0, 16.0, 9.0, 4.0, 9.0, 4.0,...  \n",
       "5  [0.0, 1.0, 0.0, 1.0, 4.0, 1.0, 4.0, 9.0, 4.0, ...  \n",
       "6  [0.0, 1.0, 0.0, 1.0, 4.0, 9.0, 4.0, 1.0, 4.0, ...  \n",
       "7  [0.0, 1.0, 0.0, 1.0, 0.0, 1.0, 4.0, 9.0, 4.0, ...  \n",
       "8  [0.0, 1.0, 0.0, 1.0, 4.0, 9.0, 16.0, 25.0, 16....  \n",
       "9  [0.0, 1.0, 0.0, 1.0, 0.0, 1.0, 0.0, 1.0, 0.0, ...  "
      ]
     },
     "execution_count": 186,
     "metadata": {},
     "output_type": "execute_result"
    }
   ],
   "source": [
    "df"
   ]
  },
  {
   "cell_type": "code",
   "execution_count": 187,
   "metadata": {},
   "outputs": [
    {
     "data": {
      "image/png": "[encoded data removed]",
      "text/plain": [
       "<Figure size 432x288 with 1 Axes>"
      ]
     },
     "metadata": {
      "needs_background": "light"
     },
     "output_type": "display_data"
    }
   ],
   "source": [
    "def plot_x(df):\n",
    "    trials = len(df)\n",
    "    for t in range(trials):\n",
    "        walk = df.iloc[t]\n",
    "        plt.plot(walk.xAccum, 'k-', linewidth=0.1)\n",
    "\n",
    "    plt.plot(df.xAccum.mean()) \n",
    "    plt.axhline(0, color='k')\n",
    "    plt.xlabel('step')\n",
    "    plt.ylabel('<x>')\n",
    "\n",
    "plot_x(df)"
   ]
  },
  {
   "cell_type": "code",
   "execution_count": 188,
   "metadata": {},
   "outputs": [
    {
     "data": {
      "text/plain": [
       "Text(0, 0.5, 'x')"
      ]
     },
     "execution_count": 188,
     "metadata": {},
     "output_type": "execute_result"
    },
    {
     "data": {
      "image/png": "[encoded data removed]",
      "text/plain": [
       "<Figure size 432x288 with 1 Axes>"
      ]
     },
     "metadata": {
      "needs_background": "light"
     },
     "output_type": "display_data"
    }
   ],
   "source": [
    "for t in range(trials):\n",
    "    walk = df.iloc[t]\n",
    "    plt.plot(walk.xSquaredAccum, 'k-', linewidth=0.1)\n",
    "\n",
    "plt.plot(df.xSquaredAccum.mean())\n",
    "plt.xlabel('step')\n",
    "plt.ylabel('x')"
   ]
  },
  {
   "cell_type": "code",
   "execution_count": 192,
   "metadata": {},
   "outputs": [
    {
     "data": {
      "image/png": "[encoded data removed]",
      "text/plain": [
       "<Figure size 432x288 with 1 Axes>"
      ]
     },
     "metadata": {
      "needs_background": "light"
     },
     "output_type": "display_data"
    }
   ],
   "source": [
    "def plot_Δx2(df):\n",
    "    \n",
    "    plt.plot(df.xSquaredAccum.mean() - df.xAccum.mean()**2)\n",
    "    plt.xlabel('step')\n",
    "    plt.ylabel('$\\Delta x^2$')\n",
    "\n",
    "    q = 1 - p\n",
    "    Δx2_theory = 4 * p * q * np.arange(N) * a**2\n",
    "    plt.plot(Δx2_theory)\n",
    "    \n",
    "plot_Δx2(df)"
   ]
  },
  {
   "cell_type": "code",
   "execution_count": null,
   "metadata": {},
   "outputs": [],
   "source": []
  },
  {
   "cell_type": "code",
   "execution_count": 190,
   "metadata": {},
   "outputs": [],
   "source": [
    "def run_trials(trials=10, N=20, p=0.5):\n",
    "\n",
    "    rows = []\n",
    "    for t in range(trials):\n",
    "        row = walker(N=N, p=p)\n",
    "        rows.append(row)\n",
    "\n",
    "    df = pd.DataFrame(rows)\n",
    "    df.trials = trials\n",
    "    df.N = N\n",
    "    df.p = p\n",
    "    \n",
    "    return df"
   ]
  },
  {
   "cell_type": "code",
   "execution_count": 193,
   "metadata": {},
   "outputs": [
    {
     "data": {
      "application/vnd.jupyter.widget-view+json": {
       "model_id": "61840344f9a14b1b90fd274d11a5c069",
       "version_major": 2,
       "version_minor": 0
      },
      "text/plain": [
       "interactive(children=(IntSlider(value=10, description='trials', max=1000, min=10, step=10), IntSlider(value=20…"
      ]
     },
     "metadata": {},
     "output_type": "display_data"
    }
   ],
   "source": [
    "def simulate(trials = 10,\n",
    "             N = 20):\n",
    "    print('Started...')\n",
    "    p = 0.5\n",
    "    df = run_trials(trials=trials, N=N, p=p)\n",
    "\n",
    "    fig, axs = plt.subplots(1,2, figsize=(12, 3))\n",
    "    plt.sca(axs[0])\n",
    "    plot_x(df)\n",
    "    plt.sca(axs[1])\n",
    "    plot_Δx2(df)\n",
    "\n",
    "    plt.figtext(0.5, 1, f'N={N} trials={trials}')\n",
    "    print('done.')\n",
    "    \n",
    "interactive(simulate, N = (10, 500, 10), trials=(10, 1000, 10))"
   ]
  },
  {
   "cell_type": "code",
   "execution_count": null,
   "metadata": {},
   "outputs": [],
   "source": [
    "df.xAccum"
   ]
  },
  {
   "cell_type": "code",
   "execution_count": null,
   "metadata": {},
   "outputs": [],
   "source": [
    "df = run_trials(N=31, trials=400)\n",
    "plt.hist(np.hstack(df.xAccum), 40);"
   ]
  },
  {
   "cell_type": "code",
   "execution_count": null,
   "metadata": {},
   "outputs": [],
   "source": [
    "df = run_trials(N=40, trials=100000)\n",
    "final_x = [x[-1] for x in df.xAccum]\n",
    "plt.hist(final_x, np.arange(-20,20,2));"
   ]
  },
  {
   "cell_type": "code",
   "execution_count": null,
   "metadata": {},
   "outputs": [],
   "source": [
    "plt.hist(np.hstack(df.xAccum), np.arange(-20,20,2));"
   ]
  },
  {
   "cell_type": "markdown",
   "metadata": {},
   "source": [
    "## Problem 7.8 A random walk in two dimensions"
   ]
  },
  {
   "cell_type": "code",
   "execution_count": null,
   "metadata": {},
   "outputs": [],
   "source": [
    "def walker2D(N = 100, # number of steps\n",
    "           x0 = 0, # initial position\n",
    "           y0 = 0, \n",
    "           a = 1, # step size\n",
    "           p = 0.5, # probability of step to the right/up\n",
    "          ):\n",
    "    \n",
    "    xAccum = np.zeros(N)\n",
    "    xSquaredAccum = np.zeros(N)\n",
    "    yAccum = np.zeros(N)\n",
    "    ySquaredAccum = np.zeros(N)\n",
    "    \n",
    "    x = x0\n",
    "    y = y0\n",
    "    for n in range(N):\n",
    "        xAccum[n] += x\n",
    "        xSquaredAccum[n] += x*x\n",
    "        \n",
    "        yAccum[n] += y\n",
    "        ySquaredAccum[n] += y*y\n",
    "        \n",
    "        r = np.random.rand()\n",
    "        if r < 0.25:\n",
    "            x += a\n",
    "        elif r < 0.50:\n",
    "            x -= a\n",
    "        elif r < 0.75:\n",
    "            y += a\n",
    "        else:\n",
    "            y -= a\n",
    "        \n",
    "    return {'xAccum': xAccum,\n",
    "            'xSquaredAccum': xSquaredAccum,\n",
    "            'yAccum': yAccum,\n",
    "            'ySquaredAccum': ySquaredAccum,\n",
    "            }"
   ]
  },
  {
   "cell_type": "code",
   "execution_count": 173,
   "metadata": {},
   "outputs": [],
   "source": [
    "def run_trials(trials=10, N=20, p=0.5):\n",
    "\n",
    "    rows = []\n",
    "    for t in range(trials):\n",
    "        row = walker2D(N=N, p=p)\n",
    "        rows.append(row)\n",
    "\n",
    "    df = pd.DataFrame(rows)\n",
    "    df.trials = trials\n",
    "    df.N = N\n",
    "    df.p = p\n",
    "    \n",
    "    return df"
   ]
  },
  {
   "cell_type": "code",
   "execution_count": 174,
   "metadata": {},
   "outputs": [],
   "source": [
    "df = run_trials(trials=1000, N=500)"
   ]
  },
  {
   "cell_type": "code",
   "execution_count": 175,
   "metadata": {},
   "outputs": [
    {
     "data": {
      "text/html": [
       "<div>\n",
       "<style scoped>\n",
       "    .dataframe tbody tr th:only-of-type {\n",
       "        vertical-align: middle;\n",
       "    }\n",
       "\n",
       "    .dataframe tbody tr th {\n",
       "        vertical-align: top;\n",
       "    }\n",
       "\n",
       "    .dataframe thead th {\n",
       "        text-align: right;\n",
       "    }\n",
       "</style>\n",
       "<table border=\"1\" class=\"dataframe\">\n",
       "  <thead>\n",
       "    <tr style=\"text-align: right;\">\n",
       "      <th></th>\n",
       "      <th>xAccum</th>\n",
       "      <th>xSquaredAccum</th>\n",
       "      <th>yAccum</th>\n",
       "      <th>ySquaredAccum</th>\n",
       "    </tr>\n",
       "  </thead>\n",
       "  <tbody>\n",
       "    <tr>\n",
       "      <th>0</th>\n",
       "      <td>[0.0, 0.0, 0.0, 0.0, 1.0, 1.0, 0.0, 0.0, -1.0,...</td>\n",
       "      <td>[0.0, 0.0, 0.0, 0.0, 1.0, 1.0, 0.0, 0.0, 1.0, ...</td>\n",
       "      <td>[0.0, 1.0, 0.0, -1.0, -1.0, 0.0, 0.0, 1.0, 1.0...</td>\n",
       "      <td>[0.0, 1.0, 0.0, 1.0, 1.0, 0.0, 0.0, 1.0, 1.0, ...</td>\n",
       "    </tr>\n",
       "    <tr>\n",
       "      <th>1</th>\n",
       "      <td>[0.0, -1.0, 0.0, 0.0, 0.0, 0.0, 0.0, 0.0, 0.0,...</td>\n",
       "      <td>[0.0, 1.0, 0.0, 0.0, 0.0, 0.0, 0.0, 0.0, 0.0, ...</td>\n",
       "      <td>[0.0, 0.0, 0.0, 1.0, 2.0, 3.0, 4.0, 5.0, 4.0, ...</td>\n",
       "      <td>[0.0, 0.0, 0.0, 1.0, 4.0, 9.0, 16.0, 25.0, 16....</td>\n",
       "    </tr>\n",
       "    <tr>\n",
       "      <th>2</th>\n",
       "      <td>[0.0, 1.0, 0.0, 0.0, 1.0, 0.0, 0.0, 0.0, 1.0, ...</td>\n",
       "      <td>[0.0, 1.0, 0.0, 0.0, 1.0, 0.0, 0.0, 0.0, 1.0, ...</td>\n",
       "      <td>[0.0, 0.0, 0.0, -1.0, -1.0, -1.0, 0.0, 1.0, 1....</td>\n",
       "      <td>[0.0, 0.0, 0.0, 1.0, 1.0, 1.0, 0.0, 1.0, 1.0, ...</td>\n",
       "    </tr>\n",
       "    <tr>\n",
       "      <th>3</th>\n",
       "      <td>[0.0, -1.0, 0.0, 0.0, 0.0, 0.0, -1.0, 0.0, 1.0...</td>\n",
       "      <td>[0.0, 1.0, 0.0, 0.0, 0.0, 0.0, 1.0, 0.0, 1.0, ...</td>\n",
       "      <td>[0.0, 0.0, 0.0, -1.0, -2.0, -1.0, -1.0, -1.0, ...</td>\n",
       "      <td>[0.0, 0.0, 0.0, 1.0, 4.0, 1.0, 1.0, 1.0, 1.0, ...</td>\n",
       "    </tr>\n",
       "    <tr>\n",
       "      <th>4</th>\n",
       "      <td>[0.0, 0.0, 1.0, 0.0, 0.0, 1.0, 1.0, 0.0, 0.0, ...</td>\n",
       "      <td>[0.0, 0.0, 1.0, 0.0, 0.0, 1.0, 1.0, 0.0, 0.0, ...</td>\n",
       "      <td>[0.0, 1.0, 1.0, 1.0, 0.0, 0.0, 1.0, 1.0, 0.0, ...</td>\n",
       "      <td>[0.0, 1.0, 1.0, 1.0, 0.0, 0.0, 1.0, 1.0, 0.0, ...</td>\n",
       "    </tr>\n",
       "    <tr>\n",
       "      <th>...</th>\n",
       "      <td>...</td>\n",
       "      <td>...</td>\n",
       "      <td>...</td>\n",
       "      <td>...</td>\n",
       "    </tr>\n",
       "    <tr>\n",
       "      <th>995</th>\n",
       "      <td>[0.0, 0.0, -1.0, -1.0, -2.0, -2.0, -3.0, -3.0,...</td>\n",
       "      <td>[0.0, 0.0, 1.0, 1.0, 4.0, 4.0, 9.0, 9.0, 9.0, ...</td>\n",
       "      <td>[0.0, 1.0, 1.0, 0.0, 0.0, -1.0, -1.0, 0.0, -1....</td>\n",
       "      <td>[0.0, 1.0, 1.0, 0.0, 0.0, 1.0, 1.0, 0.0, 1.0, ...</td>\n",
       "    </tr>\n",
       "    <tr>\n",
       "      <th>996</th>\n",
       "      <td>[0.0, 0.0, 0.0, 1.0, 2.0, 2.0, 1.0, 1.0, 1.0, ...</td>\n",
       "      <td>[0.0, 0.0, 0.0, 1.0, 4.0, 4.0, 1.0, 1.0, 1.0, ...</td>\n",
       "      <td>[0.0, -1.0, 0.0, 0.0, 0.0, 1.0, 1.0, 2.0, 1.0,...</td>\n",
       "      <td>[0.0, 1.0, 0.0, 0.0, 0.0, 1.0, 1.0, 4.0, 1.0, ...</td>\n",
       "    </tr>\n",
       "    <tr>\n",
       "      <th>997</th>\n",
       "      <td>[0.0, 0.0, 0.0, 0.0, 0.0, 1.0, 1.0, 1.0, 1.0, ...</td>\n",
       "      <td>[0.0, 0.0, 0.0, 0.0, 0.0, 1.0, 1.0, 1.0, 1.0, ...</td>\n",
       "      <td>[0.0, 1.0, 2.0, 1.0, 2.0, 2.0, 1.0, 2.0, 1.0, ...</td>\n",
       "      <td>[0.0, 1.0, 4.0, 1.0, 4.0, 4.0, 1.0, 4.0, 1.0, ...</td>\n",
       "    </tr>\n",
       "    <tr>\n",
       "      <th>998</th>\n",
       "      <td>[0.0, -1.0, 0.0, -1.0, -1.0, 0.0, 1.0, 2.0, 2....</td>\n",
       "      <td>[0.0, 1.0, 0.0, 1.0, 1.0, 0.0, 1.0, 4.0, 4.0, ...</td>\n",
       "      <td>[0.0, 0.0, 0.0, 0.0, -1.0, -1.0, -1.0, -1.0, -...</td>\n",
       "      <td>[0.0, 0.0, 0.0, 0.0, 1.0, 1.0, 1.0, 1.0, 4.0, ...</td>\n",
       "    </tr>\n",
       "    <tr>\n",
       "      <th>999</th>\n",
       "      <td>[0.0, 1.0, 0.0, 1.0, 0.0, 0.0, 1.0, 1.0, 1.0, ...</td>\n",
       "      <td>[0.0, 1.0, 0.0, 1.0, 0.0, 0.0, 1.0, 1.0, 1.0, ...</td>\n",
       "      <td>[0.0, 0.0, 0.0, 0.0, 0.0, 1.0, 1.0, 0.0, 1.0, ...</td>\n",
       "      <td>[0.0, 0.0, 0.0, 0.0, 0.0, 1.0, 1.0, 0.0, 1.0, ...</td>\n",
       "    </tr>\n",
       "  </tbody>\n",
       "</table>\n",
       "<p>1000 rows × 4 columns</p>\n",
       "</div>"
      ],
      "text/plain": [
       "                                                xAccum  \\\n",
       "0    [0.0, 0.0, 0.0, 0.0, 1.0, 1.0, 0.0, 0.0, -1.0,...   \n",
       "1    [0.0, -1.0, 0.0, 0.0, 0.0, 0.0, 0.0, 0.0, 0.0,...   \n",
       "2    [0.0, 1.0, 0.0, 0.0, 1.0, 0.0, 0.0, 0.0, 1.0, ...   \n",
       "3    [0.0, -1.0, 0.0, 0.0, 0.0, 0.0, -1.0, 0.0, 1.0...   \n",
       "4    [0.0, 0.0, 1.0, 0.0, 0.0, 1.0, 1.0, 0.0, 0.0, ...   \n",
       "..                                                 ...   \n",
       "995  [0.0, 0.0, -1.0, -1.0, -2.0, -2.0, -3.0, -3.0,...   \n",
       "996  [0.0, 0.0, 0.0, 1.0, 2.0, 2.0, 1.0, 1.0, 1.0, ...   \n",
       "997  [0.0, 0.0, 0.0, 0.0, 0.0, 1.0, 1.0, 1.0, 1.0, ...   \n",
       "998  [0.0, -1.0, 0.0, -1.0, -1.0, 0.0, 1.0, 2.0, 2....   \n",
       "999  [0.0, 1.0, 0.0, 1.0, 0.0, 0.0, 1.0, 1.0, 1.0, ...   \n",
       "\n",
       "                                         xSquaredAccum  \\\n",
       "0    [0.0, 0.0, 0.0, 0.0, 1.0, 1.0, 0.0, 0.0, 1.0, ...   \n",
       "1    [0.0, 1.0, 0.0, 0.0, 0.0, 0.0, 0.0, 0.0, 0.0, ...   \n",
       "2    [0.0, 1.0, 0.0, 0.0, 1.0, 0.0, 0.0, 0.0, 1.0, ...   \n",
       "3    [0.0, 1.0, 0.0, 0.0, 0.0, 0.0, 1.0, 0.0, 1.0, ...   \n",
       "4    [0.0, 0.0, 1.0, 0.0, 0.0, 1.0, 1.0, 0.0, 0.0, ...   \n",
       "..                                                 ...   \n",
       "995  [0.0, 0.0, 1.0, 1.0, 4.0, 4.0, 9.0, 9.0, 9.0, ...   \n",
       "996  [0.0, 0.0, 0.0, 1.0, 4.0, 4.0, 1.0, 1.0, 1.0, ...   \n",
       "997  [0.0, 0.0, 0.0, 0.0, 0.0, 1.0, 1.0, 1.0, 1.0, ...   \n",
       "998  [0.0, 1.0, 0.0, 1.0, 1.0, 0.0, 1.0, 4.0, 4.0, ...   \n",
       "999  [0.0, 1.0, 0.0, 1.0, 0.0, 0.0, 1.0, 1.0, 1.0, ...   \n",
       "\n",
       "                                                yAccum  \\\n",
       "0    [0.0, 1.0, 0.0, -1.0, -1.0, 0.0, 0.0, 1.0, 1.0...   \n",
       "1    [0.0, 0.0, 0.0, 1.0, 2.0, 3.0, 4.0, 5.0, 4.0, ...   \n",
       "2    [0.0, 0.0, 0.0, -1.0, -1.0, -1.0, 0.0, 1.0, 1....   \n",
       "3    [0.0, 0.0, 0.0, -1.0, -2.0, -1.0, -1.0, -1.0, ...   \n",
       "4    [0.0, 1.0, 1.0, 1.0, 0.0, 0.0, 1.0, 1.0, 0.0, ...   \n",
       "..                                                 ...   \n",
       "995  [0.0, 1.0, 1.0, 0.0, 0.0, -1.0, -1.0, 0.0, -1....   \n",
       "996  [0.0, -1.0, 0.0, 0.0, 0.0, 1.0, 1.0, 2.0, 1.0,...   \n",
       "997  [0.0, 1.0, 2.0, 1.0, 2.0, 2.0, 1.0, 2.0, 1.0, ...   \n",
       "998  [0.0, 0.0, 0.0, 0.0, -1.0, -1.0, -1.0, -1.0, -...   \n",
       "999  [0.0, 0.0, 0.0, 0.0, 0.0, 1.0, 1.0, 0.0, 1.0, ...   \n",
       "\n",
       "                                         ySquaredAccum  \n",
       "0    [0.0, 1.0, 0.0, 1.0, 1.0, 0.0, 0.0, 1.0, 1.0, ...  \n",
       "1    [0.0, 0.0, 0.0, 1.0, 4.0, 9.0, 16.0, 25.0, 16....  \n",
       "2    [0.0, 0.0, 0.0, 1.0, 1.0, 1.0, 0.0, 1.0, 1.0, ...  \n",
       "3    [0.0, 0.0, 0.0, 1.0, 4.0, 1.0, 1.0, 1.0, 1.0, ...  \n",
       "4    [0.0, 1.0, 1.0, 1.0, 0.0, 0.0, 1.0, 1.0, 0.0, ...  \n",
       "..                                                 ...  \n",
       "995  [0.0, 1.0, 1.0, 0.0, 0.0, 1.0, 1.0, 0.0, 1.0, ...  \n",
       "996  [0.0, 1.0, 0.0, 0.0, 0.0, 1.0, 1.0, 4.0, 1.0, ...  \n",
       "997  [0.0, 1.0, 4.0, 1.0, 4.0, 4.0, 1.0, 4.0, 1.0, ...  \n",
       "998  [0.0, 0.0, 0.0, 0.0, 1.0, 1.0, 1.0, 1.0, 4.0, ...  \n",
       "999  [0.0, 0.0, 0.0, 0.0, 0.0, 1.0, 1.0, 0.0, 1.0, ...  \n",
       "\n",
       "[1000 rows x 4 columns]"
      ]
     },
     "execution_count": 175,
     "metadata": {},
     "output_type": "execute_result"
    }
   ],
   "source": [
    "df"
   ]
  },
  {
   "cell_type": "code",
   "execution_count": 176,
   "metadata": {},
   "outputs": [
    {
     "data": {
      "text/plain": [
       "(-56.05, 55.05, -51.65, 50.65)"
      ]
     },
     "execution_count": 176,
     "metadata": {},
     "output_type": "execute_result"
    },
    {
     "data": {
      "image/png": "[encoded data removed]",
      "text/plain": [
       "<Figure size 432x288 with 1 Axes>"
      ]
     },
     "metadata": {
      "needs_background": "light"
     },
     "output_type": "display_data"
    }
   ],
   "source": [
    "def plot_xy(df):\n",
    "    trials = len(df)\n",
    "    for t in range(trials):\n",
    "        walk = df.iloc[t]\n",
    "        plt.plot(walk.xAccum, walk.yAccum,'k-', linewidth=0.1)\n",
    "\n",
    "    plt.xlabel('step')\n",
    "    plt.ylabel('<x>')\n",
    "\n",
    "plot_xy(df)\n",
    "plt.axis('equal')"
   ]
  },
  {
   "cell_type": "code",
   "execution_count": 177,
   "metadata": {},
   "outputs": [
    {
     "data": {
      "application/vnd.jupyter.widget-view+json": {
       "model_id": "29993f1614de47d4886334ae5be41e40",
       "version_major": 2,
       "version_minor": 0
      },
      "text/plain": [
       "interactive(children=(IntSlider(value=10, description='trials', max=1000, min=10, step=10), IntSlider(value=20…"
      ]
     },
     "metadata": {},
     "output_type": "display_data"
    }
   ],
   "source": [
    "def simulate(trials = 10,\n",
    "             N = 20):\n",
    "    print('Started...')\n",
    "    p = 0.5\n",
    "    df = run_trials(trials=trials, N=N, p=p)\n",
    "\n",
    "    fig, axs = plt.subplots(1,1, figsize=(8, 8))\n",
    "    plot_xy(df)\n",
    "    plt.axis('equal')\n",
    "\n",
    "    plt.figtext(0.5, 1, f'N={N} trials={trials}')\n",
    "    print('done.')\n",
    "    \n",
    "interactive(simulate, N = (10, 500, 10), trials=(10, 1000, 10))"
   ]
  },
  {
   "cell_type": "code",
   "execution_count": 179,
   "metadata": {},
   "outputs": [
    {
     "data": {
      "text/plain": [
       "[<matplotlib.lines.Line2D at 0x11a02a4f0>]"
      ]
     },
     "execution_count": 179,
     "metadata": {},
     "output_type": "execute_result"
    },
    {
     "data": {
      "image/png": "[encoded data removed]",
      "text/plain": [
       "<Figure size 432x288 with 1 Axes>"
      ]
     },
     "metadata": {
      "needs_background": "light"
     },
     "output_type": "display_data"
    }
   ],
   "source": [
    "plt.plot(df.ySquaredAccum.mean() - df.yAccum.mean()**2)\n",
    "plt.plot(df.xSquaredAccum.mean() - df.xAccum.mean()**2)"
   ]
  },
  {
   "cell_type": "code",
   "execution_count": null,
   "metadata": {},
   "outputs": [],
   "source": []
  },
  {
   "cell_type": "code",
   "execution_count": null,
   "metadata": {},
   "outputs": [],
   "source": []
  },
  {
   "cell_type": "code",
   "execution_count": null,
   "metadata": {},
   "outputs": [],
   "source": []
  },
  {
   "cell_type": "code",
   "execution_count": null,
   "metadata": {},
   "outputs": [],
   "source": []
  }
 ],
 "metadata": {
  "kernelspec": {
   "display_name": "Python 3",
   "language": "python",
   "name": "python3"
  },
  "language_info": {
   "codemirror_mode": {
    "name": "ipython",
    "version": 3
   },
   "file_extension": ".py",
   "mimetype": "text/x-python",
   "name": "python",
   "nbconvert_exporter": "python",
   "pygments_lexer": "ipython3",
   "version": "3.8.1"
  }
 },
 "nbformat": 4,
 "nbformat_minor": 4
}
