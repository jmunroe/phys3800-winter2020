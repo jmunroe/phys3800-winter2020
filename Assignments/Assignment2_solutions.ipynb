{
 "cells": [
  {
   "cell_type": "markdown",
   "metadata": {},
   "source": [
    "# PHYS 3800: Assignment 2"
   ]
  },
  {
   "cell_type": "markdown",
   "metadata": {},
   "source": [
    "**Dr. James Munroe**\n",
    "\n",
    "February 2020\n",
    "\n",
    "*Solutions*"
   ]
  },
  {
   "cell_type": "code",
   "execution_count": 1,
   "metadata": {},
   "outputs": [],
   "source": [
    "import numpy as np\n",
    "import matplotlib.pyplot as plt\n",
    "import pandas as pd"
   ]
  },
  {
   "cell_type": "markdown",
   "metadata": {},
   "source": [
    "- Assignment 2:  9.4, 9.5, 9.28, 9.30\n",
    "- Due: Friday, February 28, 2020"
   ]
  },
  {
   "cell_type": "markdown",
   "metadata": {},
   "source": [
    "- - -"
   ]
  },
  {
   "cell_type": "markdown",
   "metadata": {},
   "source": [
    "## **Problem 9.4.** Different boundary conditions"
   ]
  },
  {
   "cell_type": "markdown",
   "metadata": {},
   "source": [
    "### a. Modify your program from Problem9.3so that periodic boundary conditions are used, that is,u0=uNandu1=uN+1. ChooseN= 10, and the initial condition corresponding to the normalmode (9.10) withn= 2. Does this initial condition yield a normal mode solution for periodicboundary conditions? (It might be easier to answer this question by plottinguiversus time fortwo or more particles.) For fixed boundary conditions there areN+ 1 springs, but for periodicboundary conditions there areNsprings. Why? Choose the initial condition corresponding tothen= 2 normal mode, but replaceN+1 byNin (9.7). Does this initial condition correspondto a normal mode? Now tryn= 3, and other values ofn. Which values ofngive normalmodes? Only sine functions can be normal modes for fixed boundary conditions (see (9.4)).Can there be normal modes with cosine functions if we use periodic boundary conditions?"
   ]
  },
  {
   "cell_type": "markdown",
   "metadata": {},
   "source": [
    "### b. Modify your program so that free boundary conditions are used, which means that the massesat the end points are connected to only one nearest neighbor. A simple way to implement thisboundary condition is to setu0=u1anduN=uN+1. ChooseN= 10, and use the initialcondition corresponding to then= 3 normal mode found using fixed boundary conditions. Doesthis condition correspond to a normal mode for free boundary conditions? Isn= 2 a normalmode for free boundary conditions? Are the normal modes purely sinusoidal?"
   ]
  },
  {
   "cell_type": "markdown",
   "metadata": {},
   "source": [
    "### c. Choose free boundary conditions andN≥10. Let the initial condition be a pulse of the form,u1= 0.2,u2= 0.6,u3= 1.0,u4= 0.6,u5= 0.2, and all otheruj= 0. After the pulse reachesthe right end, what is the phase of the reflected pulse, that is, are the displacements in thereflected pulse in the same direction as the incoming pulse (a phase shift of zero degrees) or in the opposite direction (a phase shift of 180 degrees)?  What happens for fixed boundaryconditions? ChooseNto be as large as possible so that it is easy to distinguish the incidentand reflected waves."
   ]
  },
  {
   "cell_type": "markdown",
   "metadata": {},
   "source": [
    "### d. ChooseN≥20 and let the spring constants on the right half of the system be four times greaterthan the spring constants on the left half. Use fixed boundary conditions. Set up a pulse onthe left side. Is there a reflected pulse at the boundary between the two types of springs? Ifso, what is its relative phase? Compare the amplitude of the reflected and transmitted pulses.Consider the same questions with a pulse that is initially on the right side."
   ]
  },
  {
   "cell_type": "markdown",
   "metadata": {},
   "source": [
    "- - -"
   ]
  },
  {
   "cell_type": "markdown",
   "metadata": {},
   "source": [
    "## **Problem 9.5.** Motion of coupled oscillators with external forces"
   ]
  },
  {
   "cell_type": "markdown",
   "metadata": {},
   "source": [
    "### a.Modify your program from Problem9.4so that an external forceFextis exerted on the firstparticle,Fext/m= 0.5 cosωt,(9.20)whereωis the angular frequency of the external force. Let the initial displacements and velocitiesof allNparticles be zero. ChooseN= 3 and consider the response of the system to an externalforce forω= 0.5 to 4.0 in steps of 0.5. RecordA(ω), the maximum amplitude of any particle,for each value ofω. Repeat the simulation forN= 10."
   ]
  },
  {
   "cell_type": "markdown",
   "metadata": {},
   "source": [
    "### b.Chooseωto be one of the normal mode frequencies. Does the maximum amplitude remainconstant or does it increase with time?  How can you use the response of the system to anexternal force to determine the normal mode frequencies? Discuss your results in terms of thepower input,Fextv1?"
   ]
  },
  {
   "cell_type": "markdown",
   "metadata": {},
   "source": [
    "### c.In addition to the external force exerted on the first particle, add a damping force equal to−γvito all the oscillators. Choose the damping constantγ= 0.05. How do you expect the systemto behave? How does the maximum amplitude depend onω? Are the normal mode frequencieschanged whenγ̸= 0?"
   ]
  },
  {
   "cell_type": "markdown",
   "metadata": {},
   "source": [
    "- - -"
   ]
  },
  {
   "cell_type": "markdown",
   "metadata": {},
   "source": [
    "## **Problem 9.28.** Superposition of waves"
   ]
  },
  {
   "cell_type": "markdown",
   "metadata": {},
   "source": [
    "### a.Consider the propagation of the wave determined byu(x,t= 0) = sin(4πx/N). What mustu(x,−∆t) be so that the wave moves in the positivexdirection? Test your answer by doinga simulation. Use periodic boundary conditions. Repeat for a wave moving in the negativexdirection."
   ]
  },
  {
   "cell_type": "markdown",
   "metadata": {},
   "source": [
    "### b.Simulate two waves moving in opposite directions each with the same spatial dependence givenbyu(x,0) = sin(4πx/N).  Describe the resultant wave pattern.  Repeat the simulation foru(x,0) = sin(8πx/N)."
   ]
  },
  {
   "cell_type": "markdown",
   "metadata": {},
   "source": [
    "### c.Assume thatu(x,0) = sinq1x+ sinq2x, withq1= 10π/Nandq2= 12π/N. Describe the quali-tative form ofu(x,t) for fixedt. What is the distance between modulations of the amplitude?Estimate the wavelength associated with the fine ripples of the amplitude. Estimate the wave-length of the envelope of the wave. Find a simple relation for these two wavelengths in termsof the wavelengths of the two sinusoidal terms. This phenomena is known asbeats."
   ]
  },
  {
   "cell_type": "markdown",
   "metadata": {},
   "source": [
    "### d.Consider the motion of the two Gaussian pulses moving in opposite directions,u1(x,0) =e"
   ]
  },
  {
   "cell_type": "markdown",
   "metadata": {},
   "source": [
    "- - -"
   ]
  },
  {
   "cell_type": "markdown",
   "metadata": {},
   "source": [
    "## **Problem 9.30.** Solitons"
   ]
  },
  {
   "cell_type": "markdown",
   "metadata": {},
   "source": [
    "### a.Modify the program developed in Problem9.2so that the force on particlejis given by (9.59).Use periodic boundary conditions. ChooseN≥60 and an initial pulse of the form $u(x,t) =0.5e^{-(x-10)^2}.$ You should find that the initial pulse splits into two pulses plus some noise.Describe the motion of the pulses (solitons). Do they maintain their shape, or is this shapemodified as they move?  Describe the motion of the particles far from the pulse.  Are theystationary?"
   ]
  },
  {
   "cell_type": "markdown",
   "metadata": {},
   "source": [
    "### b.Save the displacements of the particles when the peak of one of the solitons is located near thecenter of your display. Is it possible to fit the shape of the soliton to a Gaussian? Continue thesimulation, and after one of the solitons is relatively isolated, setu(j)= 0 for alljfar fromthis soliton. Does the soliton maintain its shape?"
   ]
  },
  {
   "cell_type": "markdown",
   "metadata": {},
   "source": [
    "### c.Repeat part (b) with a pulse given byu(x,0) = 0 everywhere except foru(20,0) =u(21,0) = 1.Do the resulting solitons have the same shape as in part (b)?"
   ]
  },
  {
   "cell_type": "markdown",
   "metadata": {},
   "source": [
    "### d.Begin with the same Gaussian pulse as in part (a), and run until the two solitons are wellseparated.  Then change at random the values ofu(j)for particles in the larger soliton byabout 5%, and continue the simulation. Is the soliton destroyed? Increase the perturbationuntil the soliton is no longer discernible."
   ]
  },
  {
   "cell_type": "markdown",
   "metadata": {},
   "source": [
    "### e.Begin with a single Gaussian pulse as in part (a). The two resultant solitons will eventually“collide.” Do the solitons maintain their shape after the collision? The principle of superpositionimplies that the displacement of the particles is given by the sum of the displacements due toeach pulse. Does the principle of superposition hold for solitons?"
   ]
  },
  {
   "cell_type": "markdown",
   "metadata": {},
   "source": [
    "### f.Compute the speeds, amplitudes, and width of the solitons produced from a single Gaussian pulse. Take the amplitude of a soliton to be the largest value of its displacement and the half-width to correspond to the value of x at which the displacement is half its maximum value. Repeat these calculations for solitons of different amplitudes by choosing the initial amplitudeof the Gaussian pulse to be 0.1, 0.3, 0.5, 0.7, and 0.9. Plot the soliton speed and width versus the corresponding soliton amplitude."
   ]
  },
  {
   "cell_type": "markdown",
   "metadata": {},
   "source": [
    "### g.Change the boundary conditions to free boundary conditions and describe the behavior of the soliton as it reaches a boundary. Compare this behavior with that of a pulse in a system oflinear oscillators."
   ]
  },
  {
   "cell_type": "markdown",
   "metadata": {},
   "source": [
    "### h.Begin with an initial sinusoidal disturbance that would be a normal mode for a linear system.Does the sinusoidal mode maintain its shape? Compare the behavior of the nonlinear and linearsystems."
   ]
  }
 ],
 "metadata": {
  "kernelspec": {
   "display_name": "Python 3",
   "language": "python",
   "name": "python3"
  },
  "language_info": {
   "codemirror_mode": {
    "name": "ipython",
    "version": 3
   },
   "file_extension": ".py",
   "mimetype": "text/x-python",
   "name": "python",
   "nbconvert_exporter": "python",
   "pygments_lexer": "ipython3",
   "version": "3.8.1"
  }
 },
 "nbformat": 4,
 "nbformat_minor": 4
}
