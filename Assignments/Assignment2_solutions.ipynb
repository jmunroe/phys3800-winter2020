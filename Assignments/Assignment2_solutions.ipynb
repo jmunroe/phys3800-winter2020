{
 "cells": [
  {
   "cell_type": "markdown",
   "metadata": {},
   "source": [
    "# PHYS 3800: Assignment 2"
   ]
  },
  {
   "cell_type": "markdown",
   "metadata": {},
   "source": [
    "**Dr. James Munroe**\n",
    "\n",
    "February 2020\n",
    "\n",
    "*Solutions*"
   ]
  },
  {
   "cell_type": "code",
   "execution_count": 1,
   "metadata": {},
   "outputs": [],
   "source": [
    "import numpy as np\n",
    "import matplotlib.pyplot as plt\n",
    "from scipy.integrate import solve_ivp\n",
    "import pandas as pd"
   ]
  },
  {
   "cell_type": "markdown",
   "metadata": {},
   "source": [
    "- Assignment 2:  9.4, 9.5, 9.28, 9.30\n",
    "- Due: Friday, February 28, 2020"
   ]
  },
  {
   "cell_type": "markdown",
   "metadata": {},
   "source": [
    "- - -"
   ]
  },
  {
   "cell_type": "markdown",
   "metadata": {},
   "source": [
    "## **Problem 9.4.** Different boundary conditions"
   ]
  },
  {
   "cell_type": "markdown",
   "metadata": {},
   "source": [
    "### a. Modify your program from Problem 9.3 so that periodic boundary conditions are used, that is, $u_0 = u_N$ and $u_1=u_{N+1}$. Choose $N= 10$, and the initial condition corresponding to the normal mode (9.10) with $n= 2$. Does this initial condition yield a normal mode solution for periodic boundary conditions? (It might be easier to answer this question by plotting $u_i$ versus time for two or more particles.) For fixed boundary conditions there are $N+ 1$ springs, but for periodic boundary conditions there are $N$ springs. Why? Choose the initial condition corresponding to the $n= 2$ normal mode, but replace $N+1$ by $N$ in (9.7). Does this initial condition correspond to a normal mode? Now try $n=3$, and other values of $n$. Which values of $n$ give normal modes? Only sine functions can be normal modes for fixed boundary conditions (see (9.4)). Can there be normal modes with cosine functions if we use periodic boundary conditions?"
   ]
  },
  {
   "cell_type": "markdown",
   "metadata": {},
   "source": [
    "### b. Modify your program so that free boundary conditions are used, which means that the masses at the end points are connected to only one nearest neighbor. A simple way to implement this boundary condition is to set $u_0=u_1$ and $u_N=u_{N+1}$. Choose $N=10$, and use the initial condition corresponding to the $n=3$ normal mode found using fixed boundary conditions. Does this condition correspond to a normal mode for free boundary conditions? Is $n=2$ a normal mode for free boundary conditions? Are the normal modes purely sinusoidal?"
   ]
  },
  {
   "cell_type": "markdown",
   "metadata": {},
   "source": [
    "### c. Choose free boundary conditions and $N \\ge 10$. Let the initial condition be a pulse of the form, $u_1= 0.2, u_2= 0.6,u_3= 1.0,u_4= 0.6,u_5= 0.2$, and all other $u_j= 0$. After the pulse reaches the right end, what is the phase of the reflected pulse, that is, are the displacements in the reflected pulse in the same direction as the incoming pulse (a phase shift of zero degrees) or in the opposite direction (a phase shift of 180 degrees)?  What happens for fixed boundary conditions? Choose $N$ to be as large as possible so that it is easy to distinguish the incident and reflected waves."
   ]
  },
  {
   "cell_type": "markdown",
   "metadata": {},
   "source": [
    "### d. Choose $N \\ge 20$ and let the spring constants on the right half of the system be four times greater than the spring constants on the left half. Use fixed boundary conditions. Set up a pulse on the left side. Is there a reflected pulse at the boundary between the two types of springs? If so, what is its relative phase? Compare the amplitude of the reflected and transmitted pulses. Consider the same questions with a pulse that is initially on the right side."
   ]
  },
  {
   "cell_type": "markdown",
   "metadata": {},
   "source": [
    "- - -"
   ]
  },
  {
   "cell_type": "markdown",
   "metadata": {},
   "source": [
    "## **Problem 9.5.** Motion of coupled oscillators with external forces"
   ]
  },
  {
   "cell_type": "markdown",
   "metadata": {},
   "source": [
    "### a. Modify your program from Problem 9.4 so that an external force $F_{\\text{ext}}$ is exerted on the first particle, $$\\left. F_{\\text{ext}} \\middle/ m\\right. = 0.5 \\cos \\omega t$$ where $\\omega$ is the angular frequency of the external force. Let the initial displacements and velocities of all $N$ particles be zero. Choose $N=3$ and consider the response of the system to an external force for $ω= 0.5$ to $4.0$ in steps of $0.5$. Record $A(\\omega)$, the maximum amplitude of any particle,for each value of $\\omega$. Repeat the simulation for $N= 10$."
   ]
  },
  {
   "cell_type": "markdown",
   "metadata": {},
   "source": [
    "### b. Choose $\\omega$ to be one of the normal mode frequencies. Does the maximum amplitude remain constant or does it increase with time?  How can you use the response of the system to an external force to determine the normal mode frequencies? Discuss your results in terms of the power input, $F_{\\text{ext}} v_1$?"
   ]
  },
  {
   "cell_type": "markdown",
   "metadata": {},
   "source": [
    "### c. In addition to the external force exerted on the first particle, add a damping force equal to $-\\gamma v_i$ to all the oscillators. Choose the damping constant $\\gamma= 0.05$. How do you expect the system to behave? How does the maximum amplitude depend on $\\omega$? Are the normal mode frequencies changed when $\\gamma \\neq 0$?"
   ]
  },
  {
   "cell_type": "markdown",
   "metadata": {},
   "source": [
    "- - -"
   ]
  },
  {
   "cell_type": "markdown",
   "metadata": {},
   "source": [
    "## **Problem 9.28.** Superposition of waves"
   ]
  },
  {
   "cell_type": "markdown",
   "metadata": {},
   "source": [
    "### a. Consider the propagation of the wave determined by $u(x,t= 0) = \\sin(4\\pi x/N)$. What must $u(x,−\\Delta t)$ be so that the wave moves in the positive $x$ direction? Test your answer by doing a simulation. Use periodic boundary conditions. Repeat for a wave moving in the negative $x$ direction."
   ]
  },
  {
   "cell_type": "markdown",
   "metadata": {},
   "source": [
    "### b. Simulate two waves moving in opposite directions each with the same spatial dependence given by $u(x,0) = \\sin(4\\pi x/N)$.  Describe the resultant wave pattern.  Repeat the simulation for $u(x,0) = \\sin(8\\pi x/N)$."
   ]
  },
  {
   "cell_type": "markdown",
   "metadata": {},
   "source": [
    "### c. Assume that $u(x,0) = \\sin q_1 x+ \\sin q_2 x$, with $q_1= 10 \\pi /N $ and $q_2= 12\\pi/N$. Describe the qualitative form of $u(x,t)$ for fixed $t$. What is the distance between modulations of the amplitude? Estimate the wavelength associated with the fine ripples of the amplitude. Estimate the wavelength of the envelope of the wave. Find a simple relation for these two wavelengths in terms of the wavelengths of the two sinusoidal terms. This phenomena is known as beats."
   ]
  },
  {
   "cell_type": "markdown",
   "metadata": {},
   "source": [
    "### d. Consider the motion of the two Gaussian pulses moving in opposite directions, $u_1(x,0) = e^{(-x-10)^2}$ and $u_2(x,0) = e^{(-x-90)^2}$. Choose the array at $t=-\\Delta t$ as in Problem 9.25. What happens to the two pulses when they overlap or partially overlap?  Do they maintain their shape? While they are going through each other, is the displacement $u(x,t)$ given by the sum of the displacements of the individual pulses?"
   ]
  },
  {
   "cell_type": "markdown",
   "metadata": {},
   "source": [
    "- - -"
   ]
  },
  {
   "cell_type": "markdown",
   "metadata": {},
   "source": [
    "## **Problem 9.30.** Solitons"
   ]
  },
  {
   "cell_type": "markdown",
   "metadata": {},
   "source": [
    "### a. Modify the program developed in Problem 9.2so that the force on particle $j$ is given by (9.59). Use periodic boundary conditions. Choose $N \\ge 60$ and an initial pulse of the form $u(x,t) =0.5e^{-(x-10)^2}$. You should find that the initial pulse splits into two pulses plus some noise. Describe the motion of the pulses (solitons). Do they maintain their shape, or is this shape modified as they move?  Describe the motion of the particles far from the pulse.  Are they stationary?"
   ]
  },
  {
   "cell_type": "markdown",
   "metadata": {},
   "source": [
    "### b. Save the displacements of the particles when the peak of one of the solitons is located near the center of your display. Is it possible to fit the shape of the soliton to a Gaussian? Continue the simulation, and after one of the solitons is relatively isolated, set $u(j)= 0$ for all $j$ far from this soliton. Does the soliton maintain its shape?"
   ]
  },
  {
   "cell_type": "markdown",
   "metadata": {},
   "source": [
    "### c. Repeat part (b) with a pulse given by $u(x,0) = 0$ everywhere except for $u(20,0) =u(21,0) = 1$. Do the resulting solitons have the same shape as in part (b)?"
   ]
  },
  {
   "cell_type": "markdown",
   "metadata": {},
   "source": [
    "### d. Begin with the same Gaussian pulse as in part (a), and run until the two solitons are well separated.  Then change at random the values of $u(j)$ for particles in the larger soliton by about 5%, and continue the simulation. Is the soliton destroyed? Increase the perturbation until the soliton is no longer discernible."
   ]
  },
  {
   "cell_type": "markdown",
   "metadata": {},
   "source": [
    "### e. Begin with a single Gaussian pulse as in part (a). The two resultant solitons will eventually \"collide.\" Do the solitons maintain their shape after the collision? The principle of superposition implies that the displacement of the particles is given by the sum of the displacements due to each pulse. Does the principle of superposition hold for solitons?"
   ]
  },
  {
   "cell_type": "markdown",
   "metadata": {},
   "source": [
    "### f. Compute the speeds, amplitudes, and width of the solitons produced from a single Gaussian pulse. Take the amplitude of a soliton to be the largest value of its displacement and the half-width to correspond to the value of x at which the displacement is half its maximum value. Repeat these calculations for solitons of different amplitudes by choosing the initial amplitude of the Gaussian pulse to be $0.1, 0.3, 0.5, 0.7,$ and $0.9$. Plot the soliton speed and width versus the corresponding soliton amplitude."
   ]
  },
  {
   "cell_type": "markdown",
   "metadata": {},
   "source": [
    "### g. Change the boundary conditions to free boundary conditions and describe the behavior of the soliton as it reaches a boundary. Compare this behavior with that of a pulse in a system of linear oscillators."
   ]
  },
  {
   "cell_type": "markdown",
   "metadata": {},
   "source": [
    "### h. Begin with an initial sinusoidal disturbance that would be a normal mode for a linear system. Does the sinusoidal mode maintain its shape? Compare the behavior of the nonlinear and linear systems."
   ]
  },
  {
   "cell_type": "code",
   "execution_count": null,
   "metadata": {},
   "outputs": [],
   "source": []
  }
 ],
 "metadata": {
  "kernelspec": {
   "display_name": "Python 3",
   "language": "python",
   "name": "python3"
  },
  "language_info": {
   "codemirror_mode": {
    "name": "ipython",
    "version": 3
   },
   "file_extension": ".py",
   "mimetype": "text/x-python",
   "name": "python",
   "nbconvert_exporter": "python",
   "pygments_lexer": "ipython3",
   "version": "3.8.1"
  }
 },
 "nbformat": 4,
 "nbformat_minor": 4
}
