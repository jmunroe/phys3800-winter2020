{
 "cells": [
  {
   "cell_type": "markdown",
   "metadata": {},
   "source": [
    "# PHYS 3800: Assignment 3"
   ]
  },
  {
   "cell_type": "markdown",
   "metadata": {},
   "source": [
    "**Dr. James Munroe**\n",
    "\n",
    "March 2020\n",
    "\n",
    "*Solutions*"
   ]
  },
  {
   "cell_type": "code",
   "execution_count": 1,
   "metadata": {},
   "outputs": [],
   "source": [
    "import numpy as np\n",
    "import matplotlib.pyplot as plt\n",
    "import pandas as pd"
   ]
  },
  {
   "cell_type": "markdown",
   "metadata": {},
   "source": [
    "- Assignment 3:  11.9, 11.10 a, b, d, 11.15\n",
    "- Due: Monday, March 30, 2020"
   ]
  },
  {
   "cell_type": "markdown",
   "metadata": {},
   "source": [
    "- - -"
   ]
  },
  {
   "cell_type": "markdown",
   "metadata": {},
   "source": [
    "## **Problem 11.9** Volume of a hypersphere"
   ]
  },
  {
   "cell_type": "markdown",
   "metadata": {},
   "source": [
    "### a.The interior of ad-dimensional hypersphere of unit radius is defined by the conditionx21+x22+···+x2d≤1. Write a program that finds the volume of a hypersphere using the midpointapproximation. If you are clever, you can write a program that does any dimension using arecursive method. Test your program ford= 2 andd= 3, and then find the volume ford= 4andd= 5. Begin with h= 0.2, and decreasehuntil your results do not change by more than1%.\n",
    "\n",
    "### b.Repeat part (a) using a Monte Carlo method. For each value ofn, repeat the calculation severaltimes to obtain a rough estimate of the random error. Is your program applicable for anydeasier to write than in part (a)?"
   ]
  },
  {
   "cell_type": "markdown",
   "metadata": {},
   "source": [
    "## **Problem 11.10 a,b,d** Estimate of the Monte Carlo error"
   ]
  },
  {
   "cell_type": "markdown",
   "metadata": {},
   "source": [
    "### a. Estimate the integral off(x) =e−xin the interval 0≤x≤1 using the sample mean MonteCarlo method withn= 104,n= 106, andn= 108. Determine the exact integral analyticallyand estimate thendependence of the actual error. How does your estimated error comparewith the error estimate obtained from the relation (11.23)?"
   ]
  },
  {
   "cell_type": "markdown",
   "metadata": {},
   "source": [
    "### b.Generate 19 additional measurements of the integral each withn= 106samples.  Computethe standard deviation of the 20 measurements. Is the magnitude of this standard deviationof the means consistent with your estimates of the error obtained in part (a)? Compute thehistogram of the additional measurements and confirm that the distribution of the measurementsis consistent with a Gaussian distribution"
   ]
  },
  {
   "cell_type": "markdown",
   "metadata": {},
   "source": [
    "### d. Estimate the integral∫10e−x2dx(11.24)to two decimal places usingσ/√nas an estimate of the probable error."
   ]
  },
  {
   "cell_type": "markdown",
   "metadata": {},
   "source": [
    "## **Problem 11.15** Importance sampling"
   ]
  },
  {
   "cell_type": "markdown",
   "metadata": {},
   "source": [
    "### a .Choosef(x) =√1−x2and considerp(x) =A(1−x) forx≥0.  What is the value ofAthat normalizesp(x) in the unit interval [0,1]? What is the relation for the random variablexin terms ofrfor this form ofp(x)? What is the variance off(x)/p(x) in the unit interval?Evaluate the integral∫10f(x)dxusingn= 106and estimate the probable error of your result."
   ]
  },
  {
   "cell_type": "markdown",
   "metadata": {},
   "source": [
    "### b.Choosep(x) =Ae−λxand evaluate the integral∫π01x2+ cos2xdx.(11.47)Determine the value ofλthat minimizes the variance of the integrand."
   ]
  }
 ],
 "metadata": {
  "kernelspec": {
   "display_name": "Python 3",
   "language": "python",
   "name": "python3"
  },
  "language_info": {
   "codemirror_mode": {
    "name": "ipython",
    "version": 3
   },
   "file_extension": ".py",
   "mimetype": "text/x-python",
   "name": "python",
   "nbconvert_exporter": "python",
   "pygments_lexer": "ipython3",
   "version": "3.8.1"
  }
 },
 "nbformat": 4,
 "nbformat_minor": 4
}
