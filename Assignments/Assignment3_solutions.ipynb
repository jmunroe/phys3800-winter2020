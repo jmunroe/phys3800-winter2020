{
 "cells": [
  {
   "cell_type": "markdown",
   "metadata": {},
   "source": [
    "# PHYS 3800: Assignment 3"
   ]
  },
  {
   "cell_type": "markdown",
   "metadata": {},
   "source": [
    "**Dr. James Munroe**\n",
    "\n",
    "March 2020\n",
    "\n",
    "*Solutions*"
   ]
  },
  {
   "cell_type": "code",
   "execution_count": 1,
   "metadata": {},
   "outputs": [],
   "source": [
    "import numpy as np\n",
    "import matplotlib.pyplot as plt\n",
    "import pandas as pd"
   ]
  },
  {
   "cell_type": "markdown",
   "metadata": {},
   "source": [
    "- Assignment 3:  11.9, 11.10 a, b, d, 11.15\n",
    "- Due: Monday, March 30, 2020"
   ]
  },
  {
   "cell_type": "markdown",
   "metadata": {},
   "source": [
    "- - -"
   ]
  },
  {
   "cell_type": "markdown",
   "metadata": {},
   "source": [
    "## **Problem 11.9** Volume of a hypersphere"
   ]
  },
  {
   "cell_type": "markdown",
   "metadata": {},
   "source": [
    "### a. The interior of a $d$-dimensional hypersphere of unit radius is defined by the condition $x^2_1+x^2_2+\\cdots+x^2_d \\le $. Write a program that finds the volume of a hypersphere using the midpoint approximation. If you are clever, you can write a program that does any dimension using a recursive method. Test your program for $d= 2$ and $d= 3$, and then find the volume for$d= 4$ and $d= 5$. Begin with $h= 0.2$, and decrease $h$ until your results do not change by more than 1%."
   ]
  },
  {
   "cell_type": "markdown",
   "metadata": {},
   "source": [
    "### b. Repeat part (a) using a Monte Carlo method. For each value of $n$, repeat the calculation several times to obtain a rough estimate of the random error. Is your program applicable for any $d$ easier to write than in part (a)?"
   ]
  },
  {
   "cell_type": "markdown",
   "metadata": {},
   "source": [
    "## **Problem 11.10 a,b,d** Estimate of the Monte Carlo error"
   ]
  },
  {
   "cell_type": "markdown",
   "metadata": {},
   "source": [
    "### a. Estimate the integral of $f(x) =e^{-x}$ in the interval $0\\le x \\le 1$ using the sample mean Monte Carlo method with $n= 10^4$, $n= 10^6$, and $n= 10^8$. Determine the exact integral analytically and estimate the $n$ dependence of the actual error. How does your estimated error compare with the error estimate obtained from the relation (11.23)?"
   ]
  },
  {
   "cell_type": "markdown",
   "metadata": {},
   "source": [
    "### b.Generate 19 additional measurements of the integral each with $n= 10^6$ samples.  Compute the standard deviation of the 20 measurements. Is the magnitude of this standard deviation of the means consistent with your estimates of the error obtained in part (a)? Compute the histogram of the additional measurements and confirm that the distribution of the measurements is consistent with a Gaussian distribution"
   ]
  },
  {
   "cell_type": "markdown",
   "metadata": {},
   "source": [
    "### d. Estimate the integral $$\\int_0^1 e^{-x^2}dx$$ to two decimal places using $\\sigma / \\sqrt{n}$ as an estimate of the probable error."
   ]
  },
  {
   "cell_type": "markdown",
   "metadata": {},
   "source": [
    "## **Problem 11.15** Importance sampling"
   ]
  },
  {
   "cell_type": "markdown",
   "metadata": {},
   "source": [
    "### a. Choose $f(x)=\\sqrt{1-x^2}$ and consider $p(x) =A(1-x)$ for $x \\ge 0$.  What is the value of $A$ that normalizes $p(x)$ in the unit interval $[0,1]$? What is the relation for the random variable $x$ in terms of $r$ for this form of $p(x)$? What is the variance of $f(x)/p(x)$ in the unit interval? Evaluate the integral $\\int_0^1 f(x)dx$ using $n= 10^6$ and estimate the probable error of your result."
   ]
  },
  {
   "cell_type": "markdown",
   "metadata": {},
   "source": [
    "### b. Choose $p(x) =A e^{-\\lambda x}$ and evaluate the integral $$\\int_0^{\\pi} \\frac{1}{x^2+ \\cos^2 x dx}.$$ Determine the value of $\\lambda$ that minimizes the variance of the integrand."
   ]
  },
  {
   "cell_type": "code",
   "execution_count": null,
   "metadata": {},
   "outputs": [],
   "source": []
  }
 ],
 "metadata": {
  "kernelspec": {
   "display_name": "Python 3",
   "language": "python",
   "name": "python3"
  },
  "language_info": {
   "codemirror_mode": {
    "name": "ipython",
    "version": 3
   },
   "file_extension": ".py",
   "mimetype": "text/x-python",
   "name": "python",
   "nbconvert_exporter": "python",
   "pygments_lexer": "ipython3",
   "version": "3.8.1"
  }
 },
 "nbformat": 4,
 "nbformat_minor": 4
}
