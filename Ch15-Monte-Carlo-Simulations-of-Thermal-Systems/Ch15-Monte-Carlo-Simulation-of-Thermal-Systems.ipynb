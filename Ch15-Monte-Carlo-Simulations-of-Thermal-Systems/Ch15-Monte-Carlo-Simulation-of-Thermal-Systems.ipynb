{
 "cells": [
  {
   "cell_type": "markdown",
   "metadata": {},
   "source": [
    "# Chapter 15: Monte Carlo Simulations of Thermal Systems"
   ]
  },
  {
   "cell_type": "code",
   "execution_count": 38,
   "metadata": {},
   "outputs": [],
   "source": [
    "import matplotlib.pyplot as plt\n",
    "import numpy as np\n",
    "import pandas as pd\n",
    "from IPython.display import display\n",
    "import ipywidgets as widgets"
   ]
  },
  {
   "cell_type": "markdown",
   "metadata": {},
   "source": [
    "## 15.1 Introduction"
   ]
  },
  {
   "cell_type": "markdown",
   "metadata": {},
   "source": [
    "Apply Monte Carlo simulations to thermal physics and statistical mechanics."
   ]
  },
  {
   "cell_type": "markdown",
   "metadata": {},
   "source": [
    "## 15.2 The Microcanonical Ensemble"
   ]
  },
  {
   "cell_type": "markdown",
   "metadata": {},
   "source": [
    "Consider a isolated system of\n",
    "\n",
    "- number of particles $N$\n",
    "- volume $V$\n",
    "- total energy $E$\n",
    "\n",
    "The values $N$, $V$, and $E$ specify the *macrostate* of the system."
   ]
  },
  {
   "cell_type": "markdown",
   "metadata": {},
   "source": [
    "There are many ways or *configurations* in which the macrostate $(E, V, N)$ can be realized.  \n",
    "\n",
    "Any particular configuration or *microstate* is accessible if its properties are the same as the given macrostate."
   ]
  },
  {
   "cell_type": "markdown",
   "metadata": {},
   "source": [
    "- - -\n",
    "### Example: spin 1/2 paramagnet system"
   ]
  },
  {
   "cell_type": "markdown",
   "metadata": {},
   "source": [
    "- one-dimesional system of $N$ non-interacing spins on a lattice\n",
    "- each spin can be either **up** or **down**, $\\pm \\mu_i = \\mu s_i$ where $s_i = \\pm 1$\n",
    "- external magnetic field $\\bf B$\n",
    "- total energy for the system is $E = -\\mu B \\sum_i s_i$"
   ]
  },
  {
   "cell_type": "markdown",
   "metadata": {},
   "source": [
    "A particular microstate is specified by the set of spins $\\{ s_1, s_2, \\ldots, s_N \\}$\n",
    "\n",
    "The macrostate is specified by $E$ and $N$\n",
    "\n",
    "See Table 15.1\n",
    "- - -"
   ]
  },
  {
   "cell_type": "markdown",
   "metadata": {},
   "source": [
    "At equilibrium, there is no reason to prefer one microstate over another.  Each microstate is *equally probable*.\n",
    "\n",
    "Suppose there are $\\Omega$ accesible microstates. The probability $P_s$ of finding the system in a particular microstate is\n",
    "\n",
    "$$ P_s = \\begin{cases}\n",
    "1/\\Omega, &\\mbox{if $s$ is accessible} \\\\\n",
    "0, &\\mbox{otherwise.}\n",
    "\\end{cases} $$\n"
   ]
  },
  {
   "cell_type": "markdown",
   "metadata": {},
   "source": [
    "#### Averages of physical quantities\n",
    "\n",
    "To compute an average of physical quantity $A$ in a lab experiment, the quantity of interest if measured over a time interval sufficiently long to sample a large number of its accessible microstates.  $P_s$ can be interpreted as the fraction of times that a system is in a given microstate."
   ]
  },
  {
   "cell_type": "markdown",
   "metadata": {},
   "source": [
    "Alternatively, we can imagine an *ensemble* of systmes that have the same macrostate but different microstates.  Now $P_s$ is the probability that a system in the ensemble is in microstate $s$.  If $A$ has the value $A_s$ in microstate $s$ then the ensemble averae of $A$ is\n",
    "\n",
    "$$ \\langle A \\rangle = \\sum_{s=1}^{\\Omega} A_s P_s$$"
   ]
  },
  {
   "cell_type": "markdown",
   "metadata": {},
   "source": [
    "The ensemble of systems for a given $E$, $N$, $V$ is called a *microcanoncial* ensemble.  \n",
    "\n",
    "The big idea of Monte Carlo methods is that we don't see to model the actual dynamics of going between microstates."
   ]
  },
  {
   "cell_type": "markdown",
   "metadata": {},
   "source": [
    "## 15.3 The Demon Algorithm"
   ]
  },
  {
   "cell_type": "markdown",
   "metadata": {},
   "source": [
    "In a dynamical simulation, we can compute the time-averaged valued of physical quanties of interest.  But this requires integrating the equations of motion for the system. *e.g.* particles bouncing around in a closed box.\n",
    "- requires equations of motion\n",
    "- lots of computation to simulate the dynamics"
   ]
  },
  {
   "cell_type": "markdown",
   "metadata": {},
   "source": [
    "What if no equation of motion is available? We may imagine explicitly listing all of the accessible microstates and calculating the ensemble average directly (see Table 15.1).\n",
    "- for real systems, $\\Omega$ can be incredibly large"
   ]
  },
  {
   "cell_type": "markdown",
   "metadata": {},
   "source": [
    "A Monte Carlo approach would be to make a random sample of all possible microstates and estimate the ensemble average.\n",
    "- Naive approach for spin 1/2 paramagnetic example: fix $N$ and random flip each each spin up or down\n",
    "- Retain microstate only if it has the desired total energy, otherwise, discard\n",
    "- Very inefficient: most configurations would have to be discarded."
   ]
  },
  {
   "cell_type": "markdown",
   "metadata": {},
   "source": [
    "An efficient Monte Carlo procedure for simulating systems at a given energy:\n",
    "- add an extra degree of freedom to the original macroscopic system of interest (just one more variable)\n",
    "- historicaly, this extra degrgee of freedom is called a *demon*\n",
    "- the demon transfers energy as it attempts to change the dynamical variables of the system\n",
    "- if the change lowers the energy of the system, the excess energy goes to the demon\n",
    "- if the change increases the energy of the system, the demon gives the extra energy required\n",
    "- the demon cannot have negative energy\n"
   ]
  },
  {
   "cell_type": "markdown",
   "metadata": {},
   "source": [
    "- - -\n",
    "#### Example: Ideal gas\n",
    "- $N$ noninteracting particles of mass $m$ (an ideal gas).\n",
    "- total energy is $E = \\sum_i m v_i^2/2$ where $v_i$ is the velocity of particle $i$\n",
    "- - -"
   ]
  },
  {
   "cell_type": "markdown",
   "metadata": {},
   "source": [
    "### Demon Algorithm"
   ]
  },
  {
   "cell_type": "markdown",
   "metadata": {},
   "source": [
    "1. Choose a particle at random and make a trial change its coordinates.\n",
    "2. Compute $\\Delta E$, the change in the energgy of the system due to the change.\n",
    "3. If $\\Delta E \\le 0$, the system gives the amount $| \\Delta E|$ to the demon, that is, $E_d = E_d - \\Delta E$, and the trial configuration is accepted.\n",
    "4. If $\\Delta E \\gt 0$ and the demon has sufficient energgy for this change ($E_d \\ge \\Delta E)$, then the demoon gives the necessary energy to the system, that is, $E_d = E_d - \\Delta E$, and the trial configguration is accepted. Otherwise, the trial confiuration is rejected and the configuration is not changed.\n",
    "\n",
    "Repeat these steps until a representative sample of states is obtained.  Eventually the demon and the system will a agree on average energy for each.\n",
    "\n",
    "The total energy of the system plus the demon remains constant.\n",
    "\n",
    "Since the demon in only one degree of freedome, the energy fluctuations of the system will be of order $1/N$, (which is very small for $N \\gg 1$)."
   ]
  },
  {
   "cell_type": "markdown",
   "metadata": {},
   "source": [
    "- - -\n",
    "#### Example: One-dimensional Ideal gas\n",
    "- $N$ noninteracting particles of mass $m$ (an ideal gas).\n",
    "- total energy is $E = \\sum_i m v_i^2/2$ where $v_i$ is the velocity of particle $i$\n",
    "- positions do change but are not needed for calculating energy since particles to not interact\n",
    "- - -"
   ]
  },
  {
   "cell_type": "markdown",
   "metadata": {},
   "source": [
    "Define the number of particles"
   ]
  },
  {
   "cell_type": "code",
   "execution_count": 240,
   "metadata": {},
   "outputs": [],
   "source": [
    "N = 1000"
   ]
  },
  {
   "cell_type": "markdown",
   "metadata": {},
   "source": [
    "Select a system energy"
   ]
  },
  {
   "cell_type": "code",
   "execution_count": 241,
   "metadata": {},
   "outputs": [],
   "source": [
    "systemEnergy = 40"
   ]
  },
  {
   "cell_type": "markdown",
   "metadata": {},
   "source": [
    "We can start the system in any configuration which is consistent with the total desired energy; assume initial that all particles have the same velocity."
   ]
  },
  {
   "cell_type": "markdown",
   "metadata": {},
   "source": [
    "Initial velocity of particles"
   ]
  },
  {
   "cell_type": "code",
   "execution_count": 242,
   "metadata": {},
   "outputs": [],
   "source": [
    "v0 = np.sqrt(2 * systemEnergy / N)"
   ]
  },
  {
   "cell_type": "markdown",
   "metadata": {},
   "source": [
    "Array to hold the particle velocities initialized to the same initial velocity."
   ]
  },
  {
   "cell_type": "code",
   "execution_count": 243,
   "metadata": {},
   "outputs": [],
   "source": [
    "v = np.ones(N) * v0"
   ]
  },
  {
   "cell_type": "markdown",
   "metadata": {},
   "source": [
    "Maximum velocity change by the demon in any one potential change of microstate"
   ]
  },
  {
   "cell_type": "code",
   "execution_count": 244,
   "metadata": {},
   "outputs": [],
   "source": [
    "delta = 4"
   ]
  },
  {
   "cell_type": "markdown",
   "metadata": {},
   "source": [
    "The demon starts out with zero energy."
   ]
  },
  {
   "cell_type": "code",
   "execution_count": 245,
   "metadata": {},
   "outputs": [],
   "source": [
    "demonEnergy = 0"
   ]
  },
  {
   "cell_type": "markdown",
   "metadata": {},
   "source": [
    "The parameter `mcs` controls the number of Monte Carlo steps per particle. On average, the demon will attempt to changge the velocity of each particle once per Monte Carlo step per particle.  We refer the number of Monte Carlo steps per particle as the \"time\" even thought this is not a physical time."
   ]
  },
  {
   "cell_type": "code",
   "execution_count": 246,
   "metadata": {},
   "outputs": [],
   "source": [
    "mcs = 0"
   ]
  },
  {
   "cell_type": "markdown",
   "metadata": {},
   "source": [
    "Variables to track progress of simulation"
   ]
  },
  {
   "cell_type": "code",
   "execution_count": 247,
   "metadata": {},
   "outputs": [],
   "source": [
    "systemEnergyAccumulator = 0\n",
    "systemEnergyHistory = []\n",
    "demonEnergyAccumulator = 0\n",
    "demonEnergyHistory = []\n",
    "acceptedMoves = 0"
   ]
  },
  {
   "cell_type": "code",
   "execution_count": 252,
   "metadata": {},
   "outputs": [],
   "source": [
    "def showSimulationInfo():\n",
    "    global delta, N, v\n",
    "    global systemEnergy, systemEnergyAccumulator\n",
    "    global systemEnergyHistory\n",
    "    global demonEnergy, demonEnergyAccumulator\n",
    "    global demonEnergyHistory\n",
    "    global mcs, acceptedMoves\n",
    "    \n",
    "    print(f'mcs = {mcs}')\n",
    "    print(f'acceptedMoves = {acceptedMoves}')\n",
    "    print(f'N = {N}')\n",
    "    print(f'delta = {delta}')\n",
    "    print(f'systemEnergy = {systemEnergy:.2f}')\n",
    "    print(f'systemEnergyAccumulator = {systemEnergyAccumulator:.2f}')\n",
    "    print(f'demonEnergy = {demonEnergy:.3f}')\n",
    "    print(f'demonEnergyAccumulator = {demonEnergyAccumulator:.2f}')\n",
    "    print(f'delta = {delta}')\n",
    "    \n",
    "    plt.figure()\n",
    "    plt.subplot(2,1,1)\n",
    "    plt.hist(v, bins=20)\n",
    "    plt.xlabel('v')\n",
    "    plt.ylabel('number of particles')\n",
    "    \n",
    "    plt.subplot(2,1,2)\n",
    "    plt.plot(systemEnergyHistory, label='$E$')\n",
    "    plt.plot(demonEnergyHistory, label='$E_d$')\n",
    "    plt.legend()\n",
    "    plt.xlabel('mcs')"
   ]
  },
  {
   "cell_type": "code",
   "execution_count": 253,
   "metadata": {},
   "outputs": [
    {
     "name": "stdout",
     "output_type": "stream",
     "text": [
      "mcs = 0\n",
      "acceptedMoves = 0\n",
      "N = 1000\n",
      "delta = 4\n",
      "systemEnergy = 40.00\n",
      "systemEnergyAccumulator = 0.00\n",
      "demonEnergy = 0.000\n",
      "demonEnergyAccumulator = 0.00\n",
      "delta = 4\n"
     ]
    },
    {
     "data": {
      "image/png": "[encoded data removed]",
      "text/plain": [
       "<Figure size 432x288 with 2 Axes>"
      ]
     },
     "metadata": {
      "needs_background": "light"
     },
     "output_type": "display_data"
    }
   ],
   "source": [
    "showSimulationInfo()"
   ]
  },
  {
   "cell_type": "code",
   "execution_count": 272,
   "metadata": {},
   "outputs": [],
   "source": [
    "def doOneMCStep():\n",
    "    global delta, N, v\n",
    "    global demonEnergy, demonEnergyAccumulator\n",
    "    global demonEnergyHistory\n",
    "    global systemEnergy, systemEnergyAccumulator\n",
    "    global systemEnergyHistory\n",
    "    global mcs, acceptedMoves\n",
    "    \n",
    "    for j in range(N):\n",
    "        # choose a particle at random\n",
    "        particleIndex = np.random.randint(N)\n",
    "        \n",
    "        # random change in velocity\n",
    "        dv = (2*np.random.rand() - 1)*delta\n",
    "        \n",
    "        trialVelocity = v[j] + dv\n",
    "        dE = 0.5*(trialVelocity**2 - v[particleIndex]**2)\n",
    "        \n",
    "        if dE < demonEnergy:\n",
    "            v[particleIndex] = trialVelocity\n",
    "            acceptedMoves += 1\n",
    "            systemEnergy += dE\n",
    "            demonEnergy -= dE\n",
    "        \n",
    "        systemEnergyAccumulator += systemEnergy\n",
    "        demonEnergyAccumulator += demonEnergy\n",
    "        \n",
    "    systemEnergyHistory.append(systemEnergy)\n",
    "    demonEnergyHistory.append(demonEnergy)\n",
    "        \n",
    "    #increment Monte Carlo steps per particle (\"time\")\n",
    "    mcs += 1"
   ]
  },
  {
   "cell_type": "code",
   "execution_count": 276,
   "metadata": {},
   "outputs": [
    {
     "name": "stdout",
     "output_type": "stream",
     "text": [
      "mcs = 2\n",
      "acceptedMoves = 213\n",
      "N = 1000\n",
      "delta = 4\n",
      "systemEnergy = 39.99\n",
      "systemEnergyAccumulator = 79853.58\n",
      "demonEnergy = 0.008\n",
      "demonEnergyAccumulator = 146.42\n",
      "delta = 4\n"
     ]
    },
    {
     "data": {
      "image/png": "[encoded data removed]",
      "text/plain": [
       "<Figure size 432x288 with 2 Axes>"
      ]
     },
     "metadata": {
      "needs_background": "light"
     },
     "output_type": "display_data"
    }
   ],
   "source": [
    "doOneMCStep()\n",
    "showSimulationInfo()"
   ]
  },
  {
   "cell_type": "code",
   "execution_count": 299,
   "metadata": {},
   "outputs": [],
   "source": [
    "def initSimulation(N0 = 100, E=40):\n",
    "    global delta, N, v\n",
    "    global systemEnergy\n",
    "    global demonEnergy\n",
    "    \n",
    "    N = N0\n",
    "    systemEnergy = E\n",
    "    demonEnergy = 0\n",
    "    \n",
    "    v0 = np.sqrt(2 * systemEnergy / N)\n",
    "    v = np.ones(N) * v0\n",
    "    delta = 4\n",
    "    \n",
    "    resetSimulation()\n",
    "    \n",
    "def resetSimulation():\n",
    "    global systemEnergyAccumulator\n",
    "    global systemEnergyHistory\n",
    "    global demonEnergyAccumulator\n",
    "    global demonEnergyHistory\n",
    "    global mcs, acceptedMoves\n",
    "    \n",
    "    mcs = 0\n",
    "    systemEnergyAccumulator = 0\n",
    "    systemEnergyHistory = []\n",
    "    demonEnergyAccumulator = 0\n",
    "    demonEnergyHistory = []\n",
    "    acceptedMoves = 0"
   ]
  },
  {
   "cell_type": "code",
   "execution_count": 300,
   "metadata": {},
   "outputs": [],
   "source": [
    "initSimulation()"
   ]
  },
  {
   "cell_type": "code",
   "execution_count": 301,
   "metadata": {},
   "outputs": [
    {
     "name": "stdout",
     "output_type": "stream",
     "text": [
      "mcs = 0\n",
      "acceptedMoves = 0\n",
      "N = 100\n",
      "delta = 4\n",
      "systemEnergy = 40.00\n",
      "systemEnergyAccumulator = 0.00\n",
      "demonEnergy = 0.000\n",
      "demonEnergyAccumulator = 0.00\n",
      "delta = 4\n"
     ]
    },
    {
     "data": {
      "image/png": "[encoded data removed]",
      "text/plain": [
       "<Figure size 432x288 with 2 Axes>"
      ]
     },
     "metadata": {
      "needs_background": "light"
     },
     "output_type": "display_data"
    }
   ],
   "source": [
    "showSimulationInfo()"
   ]
  },
  {
   "cell_type": "code",
   "execution_count": 302,
   "metadata": {},
   "outputs": [
    {
     "name": "stdout",
     "output_type": "stream",
     "text": [
      "mcs = 100\n",
      "acceptedMoves = 3485\n",
      "N = 100\n",
      "delta = 4\n",
      "systemEnergy = 39.49\n",
      "systemEnergyAccumulator = 392220.36\n",
      "demonEnergy = 0.514\n",
      "demonEnergyAccumulator = 7779.64\n",
      "delta = 4\n"
     ]
    },
    {
     "data": {
      "image/png": "[encoded data removed]",
      "text/plain": [
       "<Figure size 432x288 with 2 Axes>"
      ]
     },
     "metadata": {
      "needs_background": "light"
     },
     "output_type": "display_data"
    }
   ],
   "source": [
    "for i in range(100):\n",
    "    doOneMCStep()\n",
    "showSimulationInfo()\n"
   ]
  },
  {
   "cell_type": "markdown",
   "metadata": {},
   "source": [
    "What is the mean value of particle velocities?"
   ]
  },
  {
   "cell_type": "code",
   "execution_count": 228,
   "metadata": {},
   "outputs": [
    {
     "data": {
      "text/plain": [
       "-0.004974083963698273"
      ]
     },
     "execution_count": 228,
     "metadata": {},
     "output_type": "execute_result"
    }
   ],
   "source": [
    "np.mean(v)"
   ]
  },
  {
   "cell_type": "markdown",
   "metadata": {},
   "source": [
    "It is unlikely we would ever have all of the particles with the same initial velocity.  We need to let the system evolve until it is equilibrium (average are not changing with time) "
   ]
  },
  {
   "cell_type": "code",
   "execution_count": 267,
   "metadata": {},
   "outputs": [],
   "source": [
    "# reset statistics without initializing particles\n",
    "resetSimulation() "
   ]
  },
  {
   "cell_type": "code",
   "execution_count": 268,
   "metadata": {},
   "outputs": [
    {
     "name": "stdout",
     "output_type": "stream",
     "text": [
      "mcs = 0\n",
      "acceptedMoves = 0\n",
      "N = 1000\n",
      "delta = 4\n",
      "systemEnergy = 39.92\n",
      "systemEnergyAccumulator = 0.00\n",
      "demonEnergy = 0.082\n",
      "demonEnergyAccumulator = 0.00\n",
      "delta = 4\n"
     ]
    },
    {
     "data": {
      "image/png": "[encoded data removed]",
      "text/plain": [
       "<Figure size 432x288 with 2 Axes>"
      ]
     },
     "metadata": {
      "needs_background": "light"
     },
     "output_type": "display_data"
    }
   ],
   "source": [
    "showSimulationInfo()"
   ]
  },
  {
   "cell_type": "code",
   "execution_count": 281,
   "metadata": {},
   "outputs": [
    {
     "name": "stdout",
     "output_type": "stream",
     "text": [
      "mcs = 202\n",
      "acceptedMoves = 22740\n",
      "N = 1000\n",
      "delta = 4\n",
      "systemEnergy = 39.97\n",
      "systemEnergyAccumulator = 8063828.95\n",
      "demonEnergy = 0.031\n",
      "demonEnergyAccumulator = 16171.05\n",
      "delta = 4\n"
     ]
    },
    {
     "data": {
      "image/png": "[encoded data removed]",
      "text/plain": [
       "<Figure size 432x288 with 2 Axes>"
      ]
     },
     "metadata": {
      "needs_background": "light"
     },
     "output_type": "display_data"
    }
   ],
   "source": [
    "for i in range(100):\n",
    "    doOneMCStep()\n",
    "showSimulationInfo()"
   ]
  },
  {
   "cell_type": "markdown",
   "metadata": {},
   "source": [
    "The time required to reach this equilibrium is called the relaxation time."
   ]
  },
  {
   "cell_type": "markdown",
   "metadata": {},
   "source": [
    "What is the mean demon energy, $\\langle E_d \\rangle $?"
   ]
  },
  {
   "cell_type": "code",
   "execution_count": 284,
   "metadata": {},
   "outputs": [
    {
     "data": {
      "text/plain": [
       "0.07917272902393746"
      ]
     },
     "execution_count": 284,
     "metadata": {},
     "output_type": "execute_result"
    }
   ],
   "source": [
    "np.mean(demonEnergyHistory)"
   ]
  },
  {
   "cell_type": "code",
   "execution_count": 285,
   "metadata": {},
   "outputs": [
    {
     "data": {
      "text/plain": [
       "0.0800546973558006"
      ]
     },
     "execution_count": 285,
     "metadata": {},
     "output_type": "execute_result"
    }
   ],
   "source": [
    "demonEnergyAccumulator / (mcs*N)"
   ]
  },
  {
   "cell_type": "markdown",
   "metadata": {},
   "source": [
    "What is the mean system energy per particle?"
   ]
  },
  {
   "cell_type": "code",
   "execution_count": 289,
   "metadata": {},
   "outputs": [
    {
     "data": {
      "text/plain": [
       "0.03991994530264498"
      ]
     },
     "execution_count": 289,
     "metadata": {},
     "output_type": "execute_result"
    }
   ],
   "source": [
    "systemEnergyAccumulator / (mcs*N) / N"
   ]
  },
  {
   "cell_type": "code",
   "execution_count": 291,
   "metadata": {},
   "outputs": [
    {
     "data": {
      "text/plain": [
       "0.03992082727097584"
      ]
     },
     "execution_count": 291,
     "metadata": {},
     "output_type": "execute_result"
    }
   ],
   "source": [
    "np.mean(systemEnergyHistory) / N"
   ]
  },
  {
   "cell_type": "markdown",
   "metadata": {},
   "source": [
    "Compute the mean energy of th demon and the mean system energy per particle for $N=100$ and $E=10$ and $E=20$. How does the mean demon energy relate to the mean system energy per particle?"
   ]
  },
  {
   "cell_type": "code",
   "execution_count": 339,
   "metadata": {},
   "outputs": [],
   "source": [
    "def computeMeanE(N0=100, E=10):\n",
    "    initSimulation(N0=N0, E=E)\n",
    "\n",
    "    # let system come to equilibrium\n",
    "    for i in range(1000):\n",
    "        doOneMCStep()\n",
    "\n",
    "    # compute statistics\n",
    "    resetSimulation()\n",
    "    for i in range(100):\n",
    "        doOneMCStep()\n",
    "\n",
    "    showSimulationInfo()\n",
    "    plt.show()\n",
    "\n",
    "    meanEd = demonEnergyAccumulator / (mcs*N)\n",
    "    meanE = systemEnergyAccumulator / (mcs*N) / N\n",
    "\n",
    "    print(f'<Ed> = {meanEd:.4f}')\n",
    "    print(f'<E> = {meanE:.4f}')\n",
    "    print()\n",
    "\n",
    "    row = {'N': N,\n",
    "           'E': E, \n",
    "           '$\\langle E_d \\rangle$' : meanEd,\n",
    "           '$\\langle E \\rangle$' : meanE,}\n",
    "    return row"
   ]
  },
  {
   "cell_type": "code",
   "execution_count": 340,
   "metadata": {},
   "outputs": [
    {
     "name": "stdout",
     "output_type": "stream",
     "text": [
      "mcs = 100\n",
      "acceptedMoves = 1760\n",
      "N = 100\n",
      "delta = 4\n",
      "systemEnergy = 9.92\n",
      "systemEnergyAccumulator = 98104.91\n",
      "demonEnergy = 0.077\n",
      "demonEnergyAccumulator = 1895.09\n",
      "delta = 4\n"
     ]
    },
    {
     "data": {
      "image/png": "[encoded data removed]",
      "text/plain": [
       "<Figure size 432x288 with 2 Axes>"
      ]
     },
     "metadata": {
      "needs_background": "light"
     },
     "output_type": "display_data"
    },
    {
     "name": "stdout",
     "output_type": "stream",
     "text": [
      "<Ed> = 0.1895\n",
      "<E> = 0.0981\n",
      "\n",
      "mcs = 100\n",
      "acceptedMoves = 2525\n",
      "N = 100\n",
      "delta = 4\n",
      "systemEnergy = 19.78\n",
      "systemEnergyAccumulator = 195938.18\n",
      "demonEnergy = 0.219\n",
      "demonEnergyAccumulator = 4061.82\n",
      "delta = 4\n"
     ]
    },
    {
     "data": {
      "image/png": "[encoded data removed]",
      "text/plain": [
       "<Figure size 432x288 with 2 Axes>"
      ]
     },
     "metadata": {
      "needs_background": "light"
     },
     "output_type": "display_data"
    },
    {
     "name": "stdout",
     "output_type": "stream",
     "text": [
      "<Ed> = 0.4062\n",
      "<E> = 0.1959\n",
      "\n"
     ]
    }
   ],
   "source": [
    "row1 = computeMeanE(N0 = 100, E=10)\n",
    "row2 = computeMeanE(N0 = 100, E=20)"
   ]
  },
  {
   "cell_type": "code",
   "execution_count": 341,
   "metadata": {},
   "outputs": [
    {
     "data": {
      "text/html": [
       "<div>\n",
       "<style scoped>\n",
       "    .dataframe tbody tr th:only-of-type {\n",
       "        vertical-align: middle;\n",
       "    }\n",
       "\n",
       "    .dataframe tbody tr th {\n",
       "        vertical-align: top;\n",
       "    }\n",
       "\n",
       "    .dataframe thead th {\n",
       "        text-align: right;\n",
       "    }\n",
       "</style>\n",
       "<table border=\"1\" class=\"dataframe\">\n",
       "  <thead>\n",
       "    <tr style=\"text-align: right;\">\n",
       "      <th></th>\n",
       "      <th>N</th>\n",
       "      <th>E</th>\n",
       "      <th>$\\langle E_d \\rangle$</th>\n",
       "      <th>$\\langle E \\rangle$</th>\n",
       "    </tr>\n",
       "  </thead>\n",
       "  <tbody>\n",
       "    <tr>\n",
       "      <th>0</th>\n",
       "      <td>100</td>\n",
       "      <td>10</td>\n",
       "      <td>0.189509</td>\n",
       "      <td>0.098105</td>\n",
       "    </tr>\n",
       "    <tr>\n",
       "      <th>1</th>\n",
       "      <td>100</td>\n",
       "      <td>20</td>\n",
       "      <td>0.406182</td>\n",
       "      <td>0.195938</td>\n",
       "    </tr>\n",
       "  </tbody>\n",
       "</table>\n",
       "</div>"
      ],
      "text/plain": [
       "     N   E  $\\langle E_d \\rangle$  $\\langle E \\rangle$\n",
       "0  100  10               0.189509             0.098105\n",
       "1  100  20               0.406182             0.195938"
      ]
     },
     "execution_count": 341,
     "metadata": {},
     "output_type": "execute_result"
    }
   ],
   "source": [
    "pd.DataFrame([row1, row2])"
   ]
  },
  {
   "cell_type": "markdown",
   "metadata": {},
   "source": [
    "It shows that $\\langle E_d \\rangle$ is approximately twice the mean energy per particle."
   ]
  },
  {
   "cell_type": "markdown",
   "metadata": {},
   "source": [
    "In our microcanoncial ensemble, the total energy is fixed with no reference to temperature.  Define the kinetic temperature by the relation \n",
    "\n",
    "$$ \\frac{1}{2} m \\langle v^2 \\rangle = \\frac{1}{2} k T_{\\mbox{kinetic}}$$\n",
    "\n",
    "where $ \\frac{1}{2} m \\langle v^2 \\rangle$ is the mean kinetic energy per particle of the system.\n",
    "\n",
    "Choose units such that $m$ and the Boltzmann's constant $k$ are unity."
   ]
  },
  {
   "cell_type": "code",
   "execution_count": 374,
   "metadata": {},
   "outputs": [
    {
     "name": "stdout",
     "output_type": "stream",
     "text": [
      "mcs = 100\n",
      "acceptedMoves = 2462\n",
      "N = 100\n",
      "delta = 4\n",
      "systemEnergy = 19.70\n",
      "systemEnergyAccumulator = 196178.94\n",
      "demonEnergy = 0.297\n",
      "demonEnergyAccumulator = 3821.06\n",
      "delta = 4\n"
     ]
    },
    {
     "data": {
      "image/png": "[encoded data removed]",
      "text/plain": [
       "<Figure size 432x288 with 2 Axes>"
      ]
     },
     "metadata": {
      "needs_background": "light"
     },
     "output_type": "display_data"
    },
    {
     "name": "stdout",
     "output_type": "stream",
     "text": [
      "<Ed> = 0.3821\n",
      "<E> = 0.1962\n",
      "\n"
     ]
    }
   ],
   "source": [
    "row = computeMeanE(N0=100, E=20)"
   ]
  },
  {
   "cell_type": "code",
   "execution_count": 375,
   "metadata": {},
   "outputs": [
    {
     "data": {
      "text/plain": [
       "0.19703158641157184"
      ]
     },
     "execution_count": 375,
     "metadata": {},
     "output_type": "execute_result"
    }
   ],
   "source": [
    "m = 1\n",
    "KE = 0.5 * m * np.mean(v**2)\n",
    "KE"
   ]
  },
  {
   "cell_type": "code",
   "execution_count": 376,
   "metadata": {},
   "outputs": [
    {
     "data": {
      "text/plain": [
       "0.3940631728231437"
      ]
     },
     "execution_count": 376,
     "metadata": {},
     "output_type": "execute_result"
    }
   ],
   "source": [
    "k = 1\n",
    "T = 2 / k * KE\n",
    "T"
   ]
  },
  {
   "cell_type": "markdown",
   "metadata": {},
   "source": [
    "Compare $T_{\\mbox{kinetic}}$ with $\\langle E_d \\rangle$"
   ]
  },
  {
   "cell_type": "code",
   "execution_count": 377,
   "metadata": {},
   "outputs": [
    {
     "data": {
      "text/plain": [
       "0.3821060581245152"
      ]
     },
     "execution_count": 377,
     "metadata": {},
     "output_type": "execute_result"
    }
   ],
   "source": [
    "meanEd = demonEnergyAccumulator / (mcs*N)\n",
    "meanEd"
   ]
  },
  {
   "cell_type": "markdown",
   "metadata": {},
   "source": [
    "How does this result compare to the introductory physics textbook result that the total energy of an ideal gas of $N$ particles in three dimensions is $E = \\frac{3}{2} N k T$? (In one dimension, the analgous relation is $E = \\frac{1}{2} N k T$)"
   ]
  },
  {
   "cell_type": "code",
   "execution_count": 378,
   "metadata": {},
   "outputs": [
    {
     "data": {
      "text/plain": [
       "19.10530290622576"
      ]
     },
     "execution_count": 378,
     "metadata": {},
     "output_type": "execute_result"
    }
   ],
   "source": [
    "0.5 * N * k * meanEd"
   ]
  },
  {
   "cell_type": "markdown",
   "metadata": {},
   "source": [
    "## Refactor code to use a class"
   ]
  },
  {
   "cell_type": "markdown",
   "metadata": {},
   "source": [
    "While `global` variables were useful for initial exploratory programming, they quickly get unwieldy for even moderately size programs."
   ]
  },
  {
   "cell_type": "markdown",
   "metadata": {},
   "source": [
    "One approach would be to encapsulate the data and the functions in a single `class`."
   ]
  },
  {
   "cell_type": "code",
   "execution_count": 476,
   "metadata": {},
   "outputs": [],
   "source": [
    "class IdealGasSimulation():\n",
    "    def __init__(self, N, E):\n",
    "        \n",
    "        self.N = N\n",
    "        self.systemEnergy = E\n",
    "        self.demonEnergy = 0\n",
    "        \n",
    "        v0 = np.sqrt(2 * systemEnergy / N)\n",
    "        self.v =  np.ones(N) * v0\n",
    "        \n",
    "        self.delta = 4\n",
    "        \n",
    "        self.reset()\n",
    "\n",
    "    def reset(self):\n",
    "        \n",
    "        self.mcs = 0\n",
    "        self.systemEnergyAccumulator = 0\n",
    "        self.systemEnergyHistory = []\n",
    "        self.demonEnergyAccumulator = 0\n",
    "        self.demonEnergyHistory = []\n",
    "        self.acceptedMoves = 0\n",
    "    \n",
    "    def __str__(self):\n",
    "        return f'''mcs = {self.mcs}\n",
    "acceptedMoves = {self.acceptedMoves}\n",
    "N = {self.N}\n",
    "delta = {self.delta}\n",
    "systemEnergy = {self.systemEnergy:.2f}\n",
    "systemEnergyAccumulator = {self.systemEnergyAccumulator:.2f}\n",
    "demonEnergy = {self.demonEnergy:.3f}\n",
    "demonEnergyAccumulator = {self.demonEnergyAccumulator:.2f}\n",
    "delta = {self.delta}'''\n",
    "    \n",
    "    def __repr__(self):\n",
    "        return self.__str__()\n",
    "        \n",
    "    def show(self):\n",
    "        print(f'mcs = {self.mcs}')\n",
    "        print(f'acceptedMoves = {self.acceptedMoves}')\n",
    "        print(f'N = {self.N}')\n",
    "        print(f'delta = {self.delta}')\n",
    "        print(f'systemEnergy = {self.systemEnergy:.2f}')\n",
    "        print(f'systemEnergyAccumulator = {self.systemEnergyAccumulator:.2f}')\n",
    "        print(f'demonEnergy = {self.demonEnergy:.3f}')\n",
    "        print(f'demonEnergyAccumulator = {self.demonEnergyAccumulator:.2f}')\n",
    "        print(f'delta = {self.delta}')\n",
    "\n",
    "        plt.figure()\n",
    "        plt.subplot(2,1,1)\n",
    "        plt.hist(self.v, bins=20)\n",
    "        plt.xlabel('v')\n",
    "        plt.ylabel('number of particles')\n",
    "\n",
    "        plt.subplot(2,1,2)\n",
    "        plt.plot(self.systemEnergyHistory, label='$E$')\n",
    "        plt.plot(self.demonEnergyHistory, label='$E_d$')\n",
    "        plt.legend()\n",
    "        plt.xlabel('mcs')\n",
    "    \n",
    "    def doStep(self):\n",
    "        \n",
    "        for j in range(self.N):\n",
    "            # choose a particle at random\n",
    "            particleIndex = np.random.randint(self.N)\n",
    "\n",
    "            # random change in velocity\n",
    "            dv = (2*np.random.rand() - 1)*self.delta\n",
    "\n",
    "            trialVelocity = self.v[j] + dv\n",
    "            dE = 0.5*(trialVelocity**2 - self.v[particleIndex]**2)\n",
    "\n",
    "            if dE < self.demonEnergy:\n",
    "                self.v[particleIndex] = trialVelocity\n",
    "                self.acceptedMoves += 1\n",
    "                self.systemEnergy += dE\n",
    "                self.demonEnergy -= dE\n",
    "\n",
    "            self.systemEnergyAccumulator += self.systemEnergy\n",
    "            self.demonEnergyAccumulator += self.demonEnergy\n",
    "\n",
    "        self.systemEnergyHistory.append(self.systemEnergy)\n",
    "        self.demonEnergyHistory.append(self.demonEnergy)\n",
    "        \n",
    "        #increment Monte Carlo steps per particle (\"time\")\n",
    "        self.mcs += 1\n",
    "    \n",
    "    def doSteps(self, m=1):\n",
    "        for i in range(m):\n",
    "            self.doStep()\n",
    "            "
   ]
  },
  {
   "cell_type": "code",
   "execution_count": 477,
   "metadata": {},
   "outputs": [],
   "source": [
    "sim = IdealGasSimulation(N=100, E=40)"
   ]
  },
  {
   "cell_type": "code",
   "execution_count": 478,
   "metadata": {},
   "outputs": [],
   "source": [
    "sim.doSteps(100)"
   ]
  },
  {
   "cell_type": "code",
   "execution_count": 486,
   "metadata": {},
   "outputs": [],
   "source": [
    "sim.reset()\n",
    "sim.doSteps(1000)"
   ]
  },
  {
   "cell_type": "code",
   "execution_count": 487,
   "metadata": {},
   "outputs": [
    {
     "name": "stdout",
     "output_type": "stream",
     "text": [
      "mcs = 1000\n",
      "acceptedMoves = 25325\n",
      "N = 100\n",
      "delta = 4\n",
      "systemEnergy = 39.64\n",
      "systemEnergyAccumulator = 3960281.49\n",
      "demonEnergy = 0.365\n",
      "demonEnergyAccumulator = 39718.51\n",
      "delta = 4\n"
     ]
    },
    {
     "data": {
      "image/png": "[encoded data removed]",
      "text/plain": [
       "<Figure size 432x288 with 2 Axes>"
      ]
     },
     "metadata": {
      "needs_background": "light"
     },
     "output_type": "display_data"
    }
   ],
   "source": [
    "sim.show()"
   ]
  },
  {
   "cell_type": "markdown",
   "metadata": {},
   "source": [
    "**Problem 15.3** Demon energy distribution"
   ]
  },
  {
   "cell_type": "code",
   "execution_count": 490,
   "metadata": {},
   "outputs": [],
   "source": [
    "sim.reset()\n",
    "sim.doSteps(1000)"
   ]
  },
  {
   "cell_type": "code",
   "execution_count": 492,
   "metadata": {},
   "outputs": [
    {
     "data": {
      "image/png": "[encoded data removed]",
      "text/plain": [
       "<Figure size 432x288 with 1 Axes>"
      ]
     },
     "metadata": {
      "needs_background": "light"
     },
     "output_type": "display_data"
    }
   ],
   "source": [
    "plt.hist(sim.demonEnergyHistory, density=True, bins=20)\n",
    "plt.xlabel('$E_d$')\n",
    "plt.show()"
   ]
  },
  {
   "cell_type": "code",
   "execution_count": 499,
   "metadata": {},
   "outputs": [],
   "source": [
    "hist, bin_edes = np.histogram(sim.demonEnergyHistory, bins=20)"
   ]
  },
  {
   "cell_type": "code",
   "execution_count": null,
   "metadata": {},
   "outputs": [],
   "source": []
  }
 ],
 "metadata": {
  "kernelspec": {
   "display_name": "Python 3",
   "language": "python",
   "name": "python3"
  },
  "language_info": {
   "codemirror_mode": {
    "name": "ipython",
    "version": 3
   },
   "file_extension": ".py",
   "mimetype": "text/x-python",
   "name": "python",
   "nbconvert_exporter": "python",
   "pygments_lexer": "ipython3",
   "version": "3.8.1"
  }
 },
 "nbformat": 4,
 "nbformat_minor": 4
}
