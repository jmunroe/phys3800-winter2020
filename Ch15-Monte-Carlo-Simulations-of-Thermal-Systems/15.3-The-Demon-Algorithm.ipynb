{
 "cells": [
  {
   "cell_type": "markdown",
   "metadata": {},
   "source": [
    "## 15.3 The Demon Algorithm"
   ]
  },
  {
   "cell_type": "code",
   "execution_count": 4,
   "metadata": {},
   "outputs": [],
   "source": [
    "import matplotlib.pyplot as plt\n",
    "import numpy as np\n",
    "import pandas as pd\n",
    "import numba"
   ]
  },
  {
   "cell_type": "markdown",
   "metadata": {},
   "source": [
    "- - -\n",
    "#### Example: Ideal gas\n",
    "- $N$ noninteracting particles of mass $m$ (an ideal gas).\n",
    "- Total energy is $E = \\sum_i m v_i^2/2$ where $v_i$ is the velocity of particle $i$\n",
    "- - -"
   ]
  },
  {
   "cell_type": "markdown",
   "metadata": {},
   "source": [
    "### Algorithm \n",
    "\n",
    "1. Choose a particle at random and make a trial change in its coordinates.\n",
    "2. Compute $\\Delta E$, the change in the energy of the system due to the change.\n",
    "3. If $\\Delta E \\le 0$, the system gives the amount $| \\Delta E|$ to the demon, that is, $E_d = E_d - \\Delta E$, and the trial configuration is accepted.\n",
    "4. If $\\Delta E \\gt 0$ and the demon has sufficient energy for this change ($E_d \\ge \\Delta E)$, then the demon gives the necessary energy to the system, that is, $E_d = E_d - \\Delta E$, and the trial configuration is accepted. Otherwise, the trial configuration is rejected and the configuration is not changed.\n",
    "\n",
    "Repeat."
   ]
  },
  {
   "cell_type": "code",
   "execution_count": 5,
   "metadata": {},
   "outputs": [],
   "source": [
    "class IdealDemon():\n",
    "    def __init__(self, N, E):\n",
    "        \n",
    "        self.N = N\n",
    "        self.systemEnergy = E\n",
    "        self.demonEnergy = 0\n",
    "        \n",
    "        v0 = np.sqrt(2 * self.systemEnergy / N)\n",
    "        self.vx =  np.ones(self.N) * v0\n",
    "        self.vy =  np.zeros(self.N)\n",
    "        self.vz =  np.zeros(self.N) \n",
    "        \n",
    "        \n",
    "        self.delta = 4\n",
    "        \n",
    "        self.reset()\n",
    "\n",
    "    def reset(self):\n",
    "        \n",
    "        self.mcs = 0\n",
    "        self.acceptedMoves = 0\n",
    "\n",
    "        self.systemEnergyHistory = []        \n",
    "        self.demonEnergyHistory = []\n",
    "\n",
    "    def __str__(self):\n",
    "        return f'''mcs = {self.mcs}\n",
    "acceptedMoves = {self.acceptedMoves}\n",
    "N = {self.N}\n",
    "delta = {self.delta}\n",
    "systemEnergy = {self.systemEnergy:.2f}\n",
    "demonEnergy = {self.demonEnergy:.3f}\n",
    "delta = {self.delta}'''\n",
    "    \n",
    "    def __repr__(self):\n",
    "        return self.__str__()\n",
    "        \n",
    "    def show(self, bins=20):\n",
    "        print(self)\n",
    "\n",
    "        plt.figure()\n",
    "        plt.subplot(2,1,1)\n",
    "        plt.hist(self.v, bins=bins)\n",
    "        plt.xlabel('v')\n",
    "        plt.ylabel('number of particles')\n",
    "\n",
    "        plt.subplot(2,1,2)\n",
    "        plt.plot(self.systemEnergyHistory, label='$E$')\n",
    "        plt.plot(self.demonEnergyHistory, label='$E_d$')\n",
    "        plt.legend()\n",
    "        plt.xlabel('mcs')\n",
    "    \n",
    "    def doStep(self):\n",
    "        \n",
    "        for j in range(self.N):\n",
    "            # choose a particle at random\n",
    "            particleIndex = np.random.randint(self.N)\n",
    "\n",
    "            # random change in velocity\n",
    "            dvx = (2*np.random.rand() - 1)*self.delta\n",
    "            dvy = (2*np.random.rand() - 1)*self.delta\n",
    "            ..\n",
    "            \n",
    "            trialVelocity = self.v[j] + dv\n",
    "            dE = 0.5*(trialVelocity**2 - self.v[particleIndex]**2)  ## <<< think about this...\n",
    "            \n",
    "            if dE < self.demonEnergy:\n",
    "                self.v[particleIndex] = trialVelocity\n",
    "                self.acceptedMoves += 1\n",
    "                self.systemEnergy += dE\n",
    "                self.demonEnergy -= dE\n",
    "        \n",
    "        self.systemEnergyHistory.append(self.systemEnergy)\n",
    "        self.demonEnergyHistory.append(self.demonEnergy)\n",
    "        \n",
    "        #increment Monte Carlo steps per particle (\"time\")\n",
    "        self.mcs += 1\n",
    "        \n",
    "    def doSteps(self, m=1):\n",
    "        for i in range(m):\n",
    "            self.doStep()\n",
    "            \n",
    "    def doFastSteps(self, m=1):\n",
    "        R = doSteps(m, self.N, self.v, self.delta, \n",
    "            self.mcs, self.acceptedMoves,\n",
    "            self.systemEnergy, self.demonEnergy)\n",
    "\n",
    "        (self.mcs, self.acceptedMoves, \n",
    "         self.systemEnergy, self.systemEnergyHistory,\n",
    "         self.demonEnergy, self.demonEnergyHistory) = R"
   ]
  },
  {
   "cell_type": "code",
   "execution_count": 6,
   "metadata": {},
   "outputs": [],
   "source": [
    "sim = IdealDemon(N=200, E=40)"
   ]
  },
  {
   "cell_type": "code",
   "execution_count": 10,
   "metadata": {},
   "outputs": [
    {
     "name": "stdout",
     "output_type": "stream",
     "text": [
      "CPU times: user 1.97 s, sys: 20.7 ms, total: 1.99 s\n",
      "Wall time: 2.2 s\n"
     ]
    }
   ],
   "source": [
    "%%time\n",
    "sim.doSteps(1000)"
   ]
  },
  {
   "cell_type": "code",
   "execution_count": 11,
   "metadata": {},
   "outputs": [
    {
     "name": "stdout",
     "output_type": "stream",
     "text": [
      "mcs = 2000\n",
      "acceptedMoves = 100243\n",
      "N = 200\n",
      "delta = 4\n",
      "systemEnergy = 39.68\n",
      "demonEnergy = 0.316\n",
      "delta = 4\n"
     ]
    },
    {
     "data": {
      "image/png": "[encoded data removed]",
      "text/plain": [
       "<Figure size 432x288 with 2 Axes>"
      ]
     },
     "metadata": {
      "needs_background": "light"
     },
     "output_type": "display_data"
    }
   ],
   "source": [
    "sim.show()"
   ]
  },
  {
   "cell_type": "code",
   "execution_count": 12,
   "metadata": {},
   "outputs": [],
   "source": [
    "@numba.jit\n",
    "def doSteps(m, N, v, delta, acceptedMov mcs,es,\n",
    "            systemEnergy, demonEnergy):\n",
    "    \n",
    "    systemEnergyHistory = []\n",
    "    demonEnergyHistory = []\n",
    "    for i in range(m):\n",
    "        for j in range(N):\n",
    "            # choose a particle at random\n",
    "            particleIndex = np.random.randint(N)\n",
    "\n",
    "            # random change in velocity\n",
    "            dv = (2*np.random.rand() - 1)*delta\n",
    "\n",
    "            trialVelocity = v[j] + dv\n",
    "            dE = 0.5*(trialVelocity**2 - v[particleIndex]**2)\n",
    "            \n",
    "            if dE < demonEnergy:\n",
    "                v[particleIndex] = trialVelocity\n",
    "                acceptedMoves += 1\n",
    "                systemEnergy += dE\n",
    "                demonEnergy -= dE\n",
    "\n",
    "        systemEnergyHistory.append(systemEnergy)\n",
    "        demonEnergyHistory.append(demonEnergy)\n",
    "        mcs += 1\n",
    "            \n",
    "    return (mcs, acceptedMoves,\n",
    "            systemEnergy, systemEnergyHistory,\n",
    "            demonEnergy, demonEnergyHistory)"
   ]
  },
  {
   "cell_type": "markdown",
   "metadata": {},
   "source": [
    "Explain *pass-by-value* vs *pass-by-reference*"
   ]
  },
  {
   "cell_type": "code",
   "execution_count": 19,
   "metadata": {},
   "outputs": [
    {
     "name": "stdout",
     "output_type": "stream",
     "text": [
      "CPU times: user 6.94 ms, sys: 249 µs, total: 7.19 ms\n",
      "Wall time: 8.02 ms\n"
     ]
    }
   ],
   "source": [
    "%%time\n",
    "\n",
    "R = doSteps(1000, sim.N, sim.v, sim.delta, \n",
    "            sim.mcs, sim.acceptedMoves,\n",
    "            sim.systemEnergy, sim.demonEnergy)\n",
    "\n",
    "(sim.mcs, sim.acceptedMoves, \n",
    " sim.systemEnergy, sim.systemEnergyHistory,\n",
    " sim.demonEnergy, sim.demonEnergyHistory) = R"
   ]
  },
  {
   "cell_type": "code",
   "execution_count": 17,
   "metadata": {},
   "outputs": [],
   "source": [
    "sim.reset()"
   ]
  },
  {
   "cell_type": "code",
   "execution_count": 20,
   "metadata": {},
   "outputs": [
    {
     "name": "stdout",
     "output_type": "stream",
     "text": [
      "mcs = 1000\n",
      "acceptedMoves = 50548\n",
      "N = 200\n",
      "delta = 4\n",
      "systemEnergy = 39.81\n",
      "demonEnergy = 0.194\n",
      "delta = 4\n"
     ]
    },
    {
     "data": {
      "image/png": "[encoded data removed]",
      "text/plain": [
       "<Figure size 432x288 with 2 Axes>"
      ]
     },
     "metadata": {
      "needs_background": "light"
     },
     "output_type": "display_data"
    }
   ],
   "source": [
    "sim.show(bins=20)"
   ]
  },
  {
   "cell_type": "code",
   "execution_count": 21,
   "metadata": {},
   "outputs": [],
   "source": [
    "sim = IdealDemon(N=1000, E=20)"
   ]
  },
  {
   "cell_type": "code",
   "execution_count": 22,
   "metadata": {},
   "outputs": [],
   "source": [
    "sim.doFastSteps(10000)"
   ]
  },
  {
   "cell_type": "code",
   "execution_count": 23,
   "metadata": {},
   "outputs": [],
   "source": [
    "sim.reset()"
   ]
  },
  {
   "cell_type": "code",
   "execution_count": 24,
   "metadata": {},
   "outputs": [],
   "source": [
    "sim.doFastSteps(10000)"
   ]
  },
  {
   "cell_type": "code",
   "execution_count": 26,
   "metadata": {},
   "outputs": [
    {
     "name": "stdout",
     "output_type": "stream",
     "text": [
      "mcs = 10000\n",
      "acceptedMoves = 796753\n",
      "N = 1000\n",
      "delta = 4\n",
      "systemEnergy = 19.99\n",
      "demonEnergy = 0.008\n",
      "delta = 4\n"
     ]
    },
    {
     "data": {
      "image/png": "[encoded data removed]",
      "text/plain": [
       "<Figure size 432x288 with 2 Axes>"
      ]
     },
     "metadata": {
      "needs_background": "light"
     },
     "output_type": "display_data"
    }
   ],
   "source": [
    "sim.show(bins=100)"
   ]
  },
  {
   "cell_type": "markdown",
   "metadata": {},
   "source": [
    "**Probelm 15.3** Demon energy distribution"
   ]
  },
  {
   "cell_type": "code",
   "execution_count": 27,
   "metadata": {},
   "outputs": [],
   "source": [
    "sim.doFastSteps(10000)"
   ]
  },
  {
   "cell_type": "code",
   "execution_count": 30,
   "metadata": {},
   "outputs": [
    {
     "data": {
      "image/png": "[encoded data removed]",
      "text/plain": [
       "<Figure size 432x288 with 1 Axes>"
      ]
     },
     "metadata": {
      "needs_background": "light"
     },
     "output_type": "display_data"
    }
   ],
   "source": [
    "plt.hist(sim.demonEnergyHistory, bins=20)\n",
    "plt.title('$E_d$')\n",
    "plt.show()"
   ]
  },
  {
   "cell_type": "markdown",
   "metadata": {},
   "source": [
    "Compute probability $P(E_d) \\Delta E_d$ that the demon has energy between $E_d$ and $E_d + \\Delta E_d$."
   ]
  },
  {
   "cell_type": "code",
   "execution_count": 31,
   "metadata": {},
   "outputs": [],
   "source": [
    "ΔEd = 0.01\n",
    "hist, bins = np.histogram(sim.demonEnergyHistory, bins=np.arange(0, 0.25, ΔEd))"
   ]
  },
  {
   "cell_type": "code",
   "execution_count": 35,
   "metadata": {},
   "outputs": [
    {
     "data": {
      "text/plain": [
       "array([0.  , 0.01, 0.02, 0.03, 0.04, 0.05, 0.06, 0.07, 0.08, 0.09, 0.1 ,\n",
       "       0.11, 0.12, 0.13, 0.14, 0.15, 0.16, 0.17, 0.18, 0.19, 0.2 , 0.21,\n",
       "       0.22, 0.23, 0.24])"
      ]
     },
     "execution_count": 35,
     "metadata": {},
     "output_type": "execute_result"
    }
   ],
   "source": [
    "bins"
   ]
  },
  {
   "cell_type": "code",
   "execution_count": 36,
   "metadata": {},
   "outputs": [
    {
     "data": {
      "image/png": "[encoded data removed]",
      "text/plain": [
       "<Figure size 432x288 with 1 Axes>"
      ]
     },
     "metadata": {
      "needs_background": "light"
     },
     "output_type": "display_data"
    }
   ],
   "source": [
    "P = hist/np.sum(hist)/ΔEd\n",
    "Ed = bins[:-1]\n",
    "plt.plot( Ed, P, '-')\n",
    "plt.xlabel('$E_d$')\n",
    "plt.ylabel('$P(E_d)$')\n",
    "plt.show()"
   ]
  },
  {
   "cell_type": "code",
   "execution_count": 37,
   "metadata": {},
   "outputs": [
    {
     "name": "stdout",
     "output_type": "stream",
     "text": [
      "slope = -24.087672109692996\n"
     ]
    },
    {
     "data": {
      "image/png": "[encoded data removed]",
      "text/plain": [
       "<Figure size 432x288 with 1 Axes>"
      ]
     },
     "metadata": {
      "needs_background": "light"
     },
     "output_type": "display_data"
    }
   ],
   "source": [
    "plt.plot(Ed, np.log(P), '.')\n",
    "plt.xlabel('$E_d$')\n",
    "plt.ylabel('$\\ln P(E_d)$')\n",
    "\n",
    "m, b = np.polyfit(Ed, np.log(P), 1)\n",
    "print(f'slope = {m}')"
   ]
  },
  {
   "cell_type": "markdown",
   "metadata": {},
   "source": [
    "inverse of absolute value of slope"
   ]
  },
  {
   "cell_type": "code",
   "execution_count": 667,
   "metadata": {},
   "outputs": [
    {
     "data": {
      "text/plain": [
       "0.04090637813790194"
      ]
     },
     "execution_count": 667,
     "metadata": {},
     "output_type": "execute_result"
    }
   ],
   "source": [
    "1/abs(m)"
   ]
  },
  {
   "cell_type": "markdown",
   "metadata": {},
   "source": [
    "mean energy of the demon $\\langle E_d \\rangle$"
   ]
  },
  {
   "cell_type": "code",
   "execution_count": 668,
   "metadata": {},
   "outputs": [
    {
     "data": {
      "text/plain": [
       "0.04131405214204149"
      ]
     },
     "execution_count": 668,
     "metadata": {},
     "output_type": "execute_result"
    }
   ],
   "source": [
    "np.mean(sim.demonEnergyHistory)"
   ]
  },
  {
   "cell_type": "markdown",
   "metadata": {},
   "source": [
    "$\\frac{1}{2} m \\langle v^2 \\rangle = \\frac{1}{2} k T_\\mbox{kinetic}$\n",
    "\n",
    "$T_\\mbox{kinetic}$"
   ]
  },
  {
   "cell_type": "code",
   "execution_count": 669,
   "metadata": {},
   "outputs": [
    {
     "data": {
      "text/plain": [
       "0.03997803073176965"
      ]
     },
     "execution_count": 669,
     "metadata": {},
     "output_type": "execute_result"
    }
   ],
   "source": [
    "T = np.mean(sim.v**2)\n",
    "T"
   ]
  },
  {
   "cell_type": "markdown",
   "metadata": {},
   "source": [
    "mean energy per particle of the system $\\langle E \\rangle / N $"
   ]
  },
  {
   "cell_type": "code",
   "execution_count": 670,
   "metadata": {},
   "outputs": [
    {
     "data": {
      "text/plain": [
       "0.0199586859478576"
      ]
     },
     "execution_count": 670,
     "metadata": {},
     "output_type": "execute_result"
    }
   ],
   "source": [
    "np.mean(sim.systemEnergyHistory) / sim.N"
   ]
  },
  {
   "cell_type": "markdown",
   "metadata": {},
   "source": [
    "> **Problem 15.3c** Demon energy distribution\n",
    "> \n",
    "> c. Generalize the `IdealDemon` class and determine the relation between the mean demon energy, the mean energy per particle of the system, and the inverse of the slope of $\\ln P(E_d)$ for an ideal gas in two and three dimensions. It is straightforward to write the class so that it is valid for any spatial dimension."
   ]
  },
  {
   "cell_type": "markdown",
   "metadata": {},
   "source": [
    "$E = \\frac{1}{2} kNT$"
   ]
  },
  {
   "cell_type": "markdown",
   "metadata": {},
   "source": [
    "## 15.4 The Demon as Thermometer"
   ]
  },
  {
   "cell_type": "markdown",
   "metadata": {},
   "source": [
    "We showed in Problem 15.3 that the form of $P(E_d)$ is given by\n",
    "\n",
    "$$ P(E_d) \\propto e^{-E_d/kT}$$"
   ]
  },
  {
   "cell_type": "markdown",
   "metadata": {},
   "source": [
    "since\n",
    "\n",
    "$$ \\ln P(E_d) = -\\frac{1}{kT} E_d + const.$$"
   ]
  },
  {
   "cell_type": "markdown",
   "metadata": {},
   "source": [
    "Microcanonical ensemble is conceptually simple but is not a realistic situation since most systems are not isolated but in thermal contact with their environment.\n",
    "\n",
    "Thermal contact allows energy to be exchanges between a laboratory system and its environment. The lab system is usually small compared to the environment and is commonly referred to as a *heat reservoir* or *heat bath*.\n",
    "\n",
    "Heat refers to energy transfer due to difference in temperature. A heat bath is system for which energy transfer causes a negligible change in its temperature."
   ]
  },
  {
   "cell_type": "markdown",
   "metadata": {},
   "source": [
    "...see textbook..."
   ]
  }
 ],
 "metadata": {
  "kernelspec": {
   "display_name": "Python 3",
   "language": "python",
   "name": "python3"
  },
  "language_info": {
   "codemirror_mode": {
    "name": "ipython",
    "version": 3
   },
   "file_extension": ".py",
   "mimetype": "text/x-python",
   "name": "python",
   "nbconvert_exporter": "python",
   "pygments_lexer": "ipython3",
   "version": "3.8.1"
  }
 },
 "nbformat": 4,
 "nbformat_minor": 4
}
