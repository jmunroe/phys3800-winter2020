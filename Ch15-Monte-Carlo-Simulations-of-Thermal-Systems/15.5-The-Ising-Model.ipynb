{
 "cells": [
  {
   "cell_type": "markdown",
   "metadata": {},
   "source": [
    "## 15.5 The Ising Model"
   ]
  },
  {
   "cell_type": "code",
   "execution_count": 1,
   "metadata": {},
   "outputs": [],
   "source": [
    "import matplotlib.pyplot as plt\n",
    "import numpy as np\n",
    "import pandas as pd\n",
    "import numba"
   ]
  },
  {
   "cell_type": "markdown",
   "metadata": {},
   "source": [
    "The *Ising* model was developed to study phase transistion from a paramagnent to a ferromagnet."
   ]
  },
  {
   "cell_type": "markdown",
   "metadata": {},
   "source": [
    "- Consider a lattice of $N$ sites. \n",
    "- At each site is a number $s_i = \\pm 1$ (spins)."
   ]
  },
  {
   "cell_type": "markdown",
   "metadata": {},
   "source": [
    "The total energy $E$ for the Ising model is\n",
    "\n",
    "$$E = -J \\sum_{i, j = {\\text n \\text n}(i)}^N s_i s_j - B \\sum_{i=1}^N s_i$$\n",
    "\n",
    "- $B$ is proportional to the uniform external magnetic field\n",
    "- $J$ is *exchange constant* and measures the strength between nearest neighbour spins.\n",
    "\n",
    "The energy is given by the 1) interaction between the magnetic moments of the spins and 2) the external magnetic field.\n",
    "\n",
    "See figure 15.1\n",
    "\n",
    "We want the properties of an infinite system so choose periodic boundary conditions. A one-dimension lattice becomes a ring with spins at sites 1 and $N$ interacting as nearest neighbours."
   ]
  },
  {
   "cell_type": "markdown",
   "metadata": {},
   "source": [
    "Physical quantities to measure\n",
    "\n",
    "1.  *magnetization* M given by\n",
    "\n",
    "$$ M = \\sum_{i=1}^N s_i$$\n",
    "\n",
    "2. magnetization per spin\n",
    "\n",
    "$$ m = M/N $$\n",
    "\n",
    "We usually want the average values $\\langle M \\rangle$ and the fluctuations $\\langle M^2 \\rangle - \\langle M \\rangle^2$."
   ]
  },
  {
   "cell_type": "markdown",
   "metadata": {},
   "source": [
    "The dynamics of this system are not given by time-dependent laws (as would be the case of an ideal gas with Newton's Laws).  Here, the dynamics will take the form of various Monte Carlo algorithms."
   ]
  },
  {
   "cell_type": "markdown",
   "metadata": {},
   "source": [
    "### Demon algorithm\n",
    "\n",
    "1. Choose a spin at random.\n",
    "2. Trial changes flips spin from $\\uparrow$ to $\\downarrow$ or  $\\downarrow$ to $\\uparrow$.\n",
    "2. Compute $\\Delta E$, the change in the energy of the system due to the change.\n",
    "3. If $\\Delta E \\le 0$, the system gives the amount $| \\Delta E|$ to the demon, that is, $E_d = E_d - \\Delta E$, and the trial configuration is accepted.\n",
    "4. If $\\Delta E \\gt 0$ and the demon has sufficient energy for this change ($E_d \\ge \\Delta E)$, then the demon gives the necessary energy to the system, that is, $E_d = E_d - \\Delta E$, and the trial configuration is accepted. Otherwise, the trial configuration is rejected and the configuration is not changed."
   ]
  },
  {
   "cell_type": "markdown",
   "metadata": {},
   "source": [
    "### Temperature\n",
    "\n",
    "Two ways to measure temperature\n",
    "\n",
    "1. Since $P(E_d) \\propto e^{-E_d/kT}$, determine $T$ from the slope of the logarithm of the probabilty as function of $E_d$.\n",
    "\n",
    "or\n",
    "\n",
    "2. Measure mean demon energy. If $B=0$, it can be shown (see Appendix 15A) that\n",
    "\n",
    "$$ kT/J = \\frac{4}{\\ln (1+4J/\\langle E_d \\rangle)}$$"
   ]
  },
  {
   "cell_type": "markdown",
   "metadata": {},
   "source": [
    "### Implementation\n",
    "\n",
    "Start first with the case $B=0$ (no external magnetic field) and $J=1$ (lowest energy state will be *ferromagnetic*)."
   ]
  },
  {
   "cell_type": "markdown",
   "metadata": {},
   "source": [
    "We need a lattice of spins `s` with `N` elements."
   ]
  },
  {
   "cell_type": "code",
   "execution_count": 213,
   "metadata": {},
   "outputs": [],
   "source": [
    "N = 5\n",
    "\n",
    "# start with all spins up\n",
    "s = np.ones(N)"
   ]
  },
  {
   "cell_type": "code",
   "execution_count": 214,
   "metadata": {},
   "outputs": [
    {
     "data": {
      "text/plain": [
       "array([1., 1., 1., 1., 1.])"
      ]
     },
     "execution_count": 214,
     "metadata": {},
     "output_type": "execute_result"
    }
   ],
   "source": [
    "s"
   ]
  },
  {
   "cell_type": "code",
   "execution_count": 215,
   "metadata": {},
   "outputs": [
    {
     "data": {
      "image/png": "[encoded data removed]",
      "text/plain": [
       "<Figure size 720x72 with 1 Axes>"
      ]
     },
     "metadata": {
      "needs_background": "light"
     },
     "output_type": "display_data"
    }
   ],
   "source": [
    "def plotSpins(s):\n",
    "    plt.figure(figsize=(10,1))\n",
    "    x = np.arange(N)\n",
    "    y = np.zeros(N)\n",
    "    width = 0.005\n",
    "    scale = 30\n",
    "   # plt.quiver(x, y, y, s, pivot='mid', width=width, scale=scale)\n",
    "    plt.quiver(x[s>0], y[s>0], y[s>0], s[s>0], pivot='mid',\n",
    "               width=width, scale=scale, color='red')\n",
    "    plt.quiver(x[s<0], y[s<0], y[s<0], s[s<0], pivot='mid',\n",
    "               width=width, scale=scale, color='green')\n",
    "    plt.axis('off')\n",
    "\n",
    "plotSpins(s)"
   ]
  },
  {
   "cell_type": "markdown",
   "metadata": {},
   "source": [
    "Compute energy\n",
    "\n",
    "$$E = -J \\sum_{i, j = {\\text n \\text n}(i)}^N s_i s_j - B \\sum_{i=1}^N s_i$$"
   ]
  },
  {
   "cell_type": "code",
   "execution_count": 216,
   "metadata": {},
   "outputs": [
    {
     "data": {
      "text/plain": [
       "-5.0"
      ]
     },
     "execution_count": 216,
     "metadata": {},
     "output_type": "execute_result"
    }
   ],
   "source": [
    "def computeE(s):\n",
    "    J = 1\n",
    "    B = 0\n",
    "    \n",
    "    E = 0\n",
    "    for i in range(N):\n",
    "        E += - J * s[i] * s[(i+1)%N]  - B * s[i]\n",
    "    return E\n",
    "\n",
    "E = computeE(s)\n",
    "E"
   ]
  },
  {
   "cell_type": "markdown",
   "metadata": {},
   "source": [
    "Compute magnetization\n",
    "$$ M = \\sum_{i=1}^N s_i$$"
   ]
  },
  {
   "cell_type": "code",
   "execution_count": 217,
   "metadata": {},
   "outputs": [
    {
     "data": {
      "text/plain": [
       "5.0"
      ]
     },
     "execution_count": 217,
     "metadata": {},
     "output_type": "execute_result"
    }
   ],
   "source": [
    "def computeM(s):\n",
    "    M = np.sum(s)\n",
    "    return M\n",
    "\n",
    "M = computeM(s)\n",
    "M"
   ]
  },
  {
   "cell_type": "code",
   "execution_count": 218,
   "metadata": {},
   "outputs": [],
   "source": [
    "# system starts in ground state \n",
    "E = -N\n",
    "\n",
    "# all spins are up initially\n",
    "magnetization = N "
   ]
  },
  {
   "cell_type": "markdown",
   "metadata": {},
   "source": [
    "Pick a random spin"
   ]
  },
  {
   "cell_type": "code",
   "execution_count": 219,
   "metadata": {},
   "outputs": [
    {
     "data": {
      "text/plain": [
       "2"
      ]
     },
     "execution_count": 219,
     "metadata": {},
     "output_type": "execute_result"
    }
   ],
   "source": [
    "k = np.random.randint(N)\n",
    "k"
   ]
  },
  {
   "cell_type": "markdown",
   "metadata": {},
   "source": [
    "Compute energy change"
   ]
  },
  {
   "cell_type": "code",
   "execution_count": 220,
   "metadata": {},
   "outputs": [
    {
     "data": {
      "text/plain": [
       "4.0"
      ]
     },
     "execution_count": 220,
     "metadata": {},
     "output_type": "execute_result"
    }
   ],
   "source": [
    "dE = 2*s[k]*(s[(k+1) % N] + s[(k-1) % N])\n",
    "dE"
   ]
  },
  {
   "cell_type": "markdown",
   "metadata": {},
   "source": [
    "Since `dE > 0`, flip it"
   ]
  },
  {
   "cell_type": "code",
   "execution_count": 221,
   "metadata": {},
   "outputs": [],
   "source": [
    "s[k] *= -1"
   ]
  },
  {
   "cell_type": "code",
   "execution_count": 222,
   "metadata": {},
   "outputs": [
    {
     "data": {
      "image/png": "[encoded data removed]",
      "text/plain": [
       "<Figure size 720x72 with 1 Axes>"
      ]
     },
     "metadata": {
      "needs_background": "light"
     },
     "output_type": "display_data"
    }
   ],
   "source": [
    "plotSpins(s)"
   ]
  },
  {
   "cell_type": "markdown",
   "metadata": {},
   "source": [
    "Compute new energy"
   ]
  },
  {
   "cell_type": "code",
   "execution_count": 223,
   "metadata": {},
   "outputs": [
    {
     "data": {
      "text/plain": [
       "-1.0"
      ]
     },
     "execution_count": 223,
     "metadata": {},
     "output_type": "execute_result"
    }
   ],
   "source": [
    "E += dE\n",
    "E"
   ]
  },
  {
   "cell_type": "markdown",
   "metadata": {},
   "source": [
    "(checking we've calculated the systemEnergy correctly)"
   ]
  },
  {
   "cell_type": "code",
   "execution_count": 224,
   "metadata": {},
   "outputs": [
    {
     "data": {
      "text/plain": [
       "-1.0"
      ]
     },
     "execution_count": 224,
     "metadata": {},
     "output_type": "execute_result"
    }
   ],
   "source": [
    "computeE(s)"
   ]
  },
  {
   "cell_type": "markdown",
   "metadata": {},
   "source": [
    "Compute new magneitization"
   ]
  },
  {
   "cell_type": "code",
   "execution_count": 225,
   "metadata": {},
   "outputs": [
    {
     "data": {
      "text/plain": [
       "3.0"
      ]
     },
     "execution_count": 225,
     "metadata": {},
     "output_type": "execute_result"
    }
   ],
   "source": [
    "M += 2*s[k]\n",
    "M"
   ]
  },
  {
   "cell_type": "markdown",
   "metadata": {},
   "source": [
    "(checking we've calculate the magneization correctly)"
   ]
  },
  {
   "cell_type": "code",
   "execution_count": 226,
   "metadata": {},
   "outputs": [
    {
     "data": {
      "text/plain": [
       "3.0"
      ]
     },
     "execution_count": 226,
     "metadata": {},
     "output_type": "execute_result"
    }
   ],
   "source": [
    "computeM(s)"
   ]
  },
  {
   "cell_type": "markdown",
   "metadata": {},
   "source": [
    "Note that the system energy is not continous, but is in discrete units of $\\pm 4 J$."
   ]
  },
  {
   "cell_type": "markdown",
   "metadata": {},
   "source": [
    "To initialize the system with a desired system energy, we need to try several different initial configuration."
   ]
  },
  {
   "cell_type": "code",
   "execution_count": null,
   "metadata": {},
   "outputs": [],
   "source": []
  },
  {
   "cell_type": "code",
   "execution_count": null,
   "metadata": {},
   "outputs": [],
   "source": [
    "## code from previous section\n",
    "\n",
    "class IdealDemon():\n",
    "    def __init__(self, N):\n",
    "        \n",
    "        self.N = N\n",
    "        \n",
    "        # initialize to all spins being up\n",
    "        self.s = np.ones(N)\n",
    "        \n",
    "        self.systemEnergy = E\n",
    "        self.demonEnergy = 0\n",
    "        \n",
    "        self.v =  np.ones(self.N) * v0\n",
    "        \n",
    "        self.delta = 4\n",
    "        \n",
    "        self.reset()\n",
    "\n",
    "    def reset(self):\n",
    "        \n",
    "        self.mcs = 0\n",
    "        self.acceptedMoves = 0\n",
    "\n",
    "        self.systemEnergyHistory = []        \n",
    "        self.demonEnergyHistory = []\n",
    "\n",
    "    def __str__(self):\n",
    "        return f'''mcs = {self.mcs}\n",
    "acceptedMoves = {self.acceptedMoves}\n",
    "N = {self.N}\n",
    "delta = {self.delta}\n",
    "systemEnergy = {self.systemEnergy:.2f}\n",
    "demonEnergy = {self.demonEnergy:.3f}\n",
    "delta = {self.delta}'''\n",
    "    \n",
    "    def __repr__(self):\n",
    "        return self.__str__()\n",
    "        \n",
    "    def show(self, bins=20):\n",
    "        print(self)\n",
    "\n",
    "        plt.figure()\n",
    "        plt.subplot(2,1,1)\n",
    "        plt.hist(self.v, bins=bins)\n",
    "        plt.xlabel('v')\n",
    "        plt.ylabel('number of particles')\n",
    "\n",
    "        plt.subplot(2,1,2)\n",
    "        plt.plot(self.systemEnergyHistory, label='$E$')\n",
    "        plt.plot(self.demonEnergyHistory, label='$E_d$')\n",
    "        plt.legend()\n",
    "        plt.xlabel('mcs')\n",
    "    \n",
    "    def doStep(self):\n",
    "        \n",
    "        for j in range(self.N):\n",
    "            # choose a particle at random\n",
    "            particleIndex = np.random.randint(self.N)\n",
    "\n",
    "            # random change in velocity\n",
    "            dv = (2*np.random.rand() - 1)*self.delta\n",
    "\n",
    "            trialVelocity = self.v[j] + dv\n",
    "            dE = 0.5*(trialVelocity**2 - self.v[particleIndex]**2)\n",
    "            \n",
    "            if dE < self.demonEnergy:\n",
    "                self.v[particleIndex] = trialVelocity\n",
    "                self.acceptedMoves += 1\n",
    "                self.systemEnergy += dE\n",
    "                self.demonEnergy -= dE\n",
    "        \n",
    "        self.systemEnergyHistory.append(self.systemEnergy)\n",
    "        self.demonEnergyHistory.append(self.demonEnergy)\n",
    "        \n",
    "        #increment Monte Carlo steps per particle (\"time\")\n",
    "        self.mcs += 1\n",
    "        \n",
    "    def doSteps(self, m=1):\n",
    "        for i in range(m):\n",
    "            self.doStep()"
   ]
  }
 ],
 "metadata": {
  "kernelspec": {
   "display_name": "Python 3",
   "language": "python",
   "name": "python3"
  },
  "language_info": {
   "codemirror_mode": {
    "name": "ipython",
    "version": 3
   },
   "file_extension": ".py",
   "mimetype": "text/x-python",
   "name": "python",
   "nbconvert_exporter": "python",
   "pygments_lexer": "ipython3",
   "version": "3.8.1"
  }
 },
 "nbformat": 4,
 "nbformat_minor": 4
}
