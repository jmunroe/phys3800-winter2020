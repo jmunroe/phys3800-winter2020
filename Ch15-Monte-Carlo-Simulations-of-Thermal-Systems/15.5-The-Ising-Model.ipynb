{
 "cells": [
  {
   "cell_type": "markdown",
   "metadata": {},
   "source": [
    "## 15.5 The Ising Model"
   ]
  },
  {
   "cell_type": "code",
   "execution_count": 1,
   "metadata": {},
   "outputs": [],
   "source": [
    "import matplotlib.pyplot as plt\n",
    "import numpy as np\n",
    "import pandas as pd\n",
    "import numba"
   ]
  },
  {
   "cell_type": "markdown",
   "metadata": {},
   "source": [
    "The *Ising* model was developed to study phase transistion from a paramagnent to a ferromagnet."
   ]
  },
  {
   "cell_type": "markdown",
   "metadata": {},
   "source": [
    "- Consider a lattice of $N$ sites. \n",
    "- At each site is a number $s_i = \\pm 1$ (spins)."
   ]
  },
  {
   "cell_type": "markdown",
   "metadata": {},
   "source": [
    "The total energy $E$ for the Ising model is\n",
    "\n",
    "$$E = -J \\sum_{i, j = {\\text n \\text n}(i)}^N s_i s_j - B \\sum_{i=1}^N s_i$$\n",
    "\n",
    "- $B$ is proportional to the uniform external magnetic field\n",
    "- $J$ is *exchange constant* and measures the strength between nearest neighbour spins.\n",
    "\n",
    "The energy is given by the 1) interaction between the magnetic moments of the spins and 2) the external magnetic field.\n",
    "\n",
    "See figure 15.1\n",
    "\n",
    "We want the properties of an infinite system so choose periodic boundary conditions. A one-dimension lattice becomes a ring with spins at sites 1 and $N$ interacting as nearest neighbours."
   ]
  },
  {
   "cell_type": "markdown",
   "metadata": {},
   "source": [
    "Physical quantities to measure\n",
    "\n",
    "1.  *magnetization* M given by\n",
    "\n",
    "$$ M = \\sum_{i=1}^N s_i$$\n",
    "\n",
    "2. magnetization per spin\n",
    "\n",
    "$$ m = M/N $$\n",
    "\n",
    "We usually want the average values $\\langle M \\rangle$ and the fluctuations $\\langle M^2 \\rangle - \\langle M \\rangle^2$."
   ]
  },
  {
   "cell_type": "markdown",
   "metadata": {},
   "source": [
    "The dynamics of this system are not given by time-dependent laws (as would be the case of an ideal gas with Newton's Laws).  Here, the dynamics will take the form of various Monte Carlo algorithms."
   ]
  },
  {
   "cell_type": "markdown",
   "metadata": {},
   "source": [
    "### Demon algorithm\n",
    "\n",
    "1. Choose a spin at random.\n",
    "2. Trial changes flips spin from $\\uparrow$ to $\\downarrow$ or  $\\downarrow$ to $\\uparrow$.\n",
    "2. Compute $\\Delta E$, the change in the energy of the system due to the change.\n",
    "3. If $\\Delta E \\le 0$, the system gives the amount $| \\Delta E|$ to the demon, that is, $E_d = E_d - \\Delta E$, and the trial configuration is accepted.\n",
    "4. If $\\Delta E \\gt 0$ and the demon has sufficient energy for this change ($E_d \\ge \\Delta E)$, then the demon gives the necessary energy to the system, that is, $E_d = E_d - \\Delta E$, and the trial configuration is accepted. Otherwise, the trial configuration is rejected and the configuration is not changed."
   ]
  },
  {
   "cell_type": "markdown",
   "metadata": {},
   "source": [
    "### Temperature\n",
    "\n",
    "Two ways to measure temperature\n",
    "\n",
    "1. Since $P(E_d) \\propto e^{-E_d/kT}$, determine $T$ from the slope of the logarithm of the probabilty as function of $E_d$.\n",
    "\n",
    "or\n",
    "\n",
    "2. Measure mean demon energy. If $B=0$, it can be shown (see Appendix 15A) that\n",
    "\n",
    "$$ kT/J = \\frac{4}{\\ln (1+4J/\\langle E_d \\rangle)}$$"
   ]
  },
  {
   "cell_type": "markdown",
   "metadata": {},
   "source": [
    "### Implementation\n",
    "\n",
    "Start first with the case $B=0$ (no external magnetic field) and $J=1$ (lowest energy state will be *ferromagnetic*)."
   ]
  },
  {
   "cell_type": "markdown",
   "metadata": {},
   "source": [
    "We need a lattice of spins `s` with `N` elements."
   ]
  },
  {
   "cell_type": "code",
   "execution_count": 381,
   "metadata": {},
   "outputs": [],
   "source": [
    "N = 20\n",
    "\n",
    "# start with all spins up\n",
    "s = np.ones(N)"
   ]
  },
  {
   "cell_type": "code",
   "execution_count": 382,
   "metadata": {},
   "outputs": [
    {
     "data": {
      "text/plain": [
       "array([1., 1., 1., 1., 1., 1., 1., 1., 1., 1., 1., 1., 1., 1., 1., 1., 1.,\n",
       "       1., 1., 1.])"
      ]
     },
     "execution_count": 382,
     "metadata": {},
     "output_type": "execute_result"
    }
   ],
   "source": [
    "s"
   ]
  },
  {
   "cell_type": "code",
   "execution_count": 383,
   "metadata": {},
   "outputs": [
    {
     "data": {
      "image/png": "[encoded data removed]",
      "text/plain": [
       "<Figure size 720x72 with 1 Axes>"
      ]
     },
     "metadata": {
      "needs_background": "light"
     },
     "output_type": "display_data"
    }
   ],
   "source": [
    "def plotSpins(s):\n",
    "    plt.figure(figsize=(10,1))\n",
    "    x = np.arange(N)\n",
    "    y = np.zeros(N)\n",
    "    width = 0.005\n",
    "    scale = 30\n",
    "   # plt.quiver(x, y, y, s, pivot='mid', width=width, scale=scale)\n",
    "    plt.quiver(x[s>0], y[s>0], y[s>0], s[s>0], pivot='mid',\n",
    "               width=width, scale=scale, color='red')\n",
    "    plt.quiver(x[s<0], y[s<0], y[s<0], s[s<0], pivot='mid',\n",
    "               width=width, scale=scale, color='green')\n",
    "    plt.axis('off')\n",
    "\n",
    "plotSpins(s)"
   ]
  },
  {
   "cell_type": "markdown",
   "metadata": {},
   "source": [
    "Compute energy\n",
    "\n",
    "$$E = -J \\sum_{i, j = {\\text n \\text n}(i)}^N s_i s_j - B \\sum_{i=1}^N s_i$$"
   ]
  },
  {
   "cell_type": "code",
   "execution_count": 384,
   "metadata": {},
   "outputs": [
    {
     "data": {
      "text/plain": [
       "-20.0"
      ]
     },
     "execution_count": 384,
     "metadata": {},
     "output_type": "execute_result"
    }
   ],
   "source": [
    "def computeE(s):\n",
    "    J = 1\n",
    "    B = 0\n",
    "    \n",
    "    E = 0\n",
    "    for i in range(N):\n",
    "        E += - J * s[i] * s[(i+1)%N]  - B * s[i]\n",
    "    return E\n",
    "\n",
    "E = computeE(s)\n",
    "E"
   ]
  },
  {
   "cell_type": "markdown",
   "metadata": {},
   "source": [
    "Compute magnetization\n",
    "$$ M = \\sum_{i=1}^N s_i$$"
   ]
  },
  {
   "cell_type": "code",
   "execution_count": 385,
   "metadata": {},
   "outputs": [
    {
     "data": {
      "text/plain": [
       "20.0"
      ]
     },
     "execution_count": 385,
     "metadata": {},
     "output_type": "execute_result"
    }
   ],
   "source": [
    "def computeM(s):\n",
    "    M = np.sum(s)\n",
    "    return M\n",
    "\n",
    "M = computeM(s)\n",
    "M"
   ]
  },
  {
   "cell_type": "code",
   "execution_count": 386,
   "metadata": {},
   "outputs": [],
   "source": [
    "# system starts in ground state \n",
    "E = -N\n",
    "\n",
    "# all spins are up initially\n",
    "M = N "
   ]
  },
  {
   "cell_type": "markdown",
   "metadata": {},
   "source": [
    "Pick a random spin"
   ]
  },
  {
   "cell_type": "code",
   "execution_count": 387,
   "metadata": {},
   "outputs": [
    {
     "data": {
      "text/plain": [
       "1"
      ]
     },
     "execution_count": 387,
     "metadata": {},
     "output_type": "execute_result"
    }
   ],
   "source": [
    "k = np.random.randint(N)\n",
    "k"
   ]
  },
  {
   "cell_type": "markdown",
   "metadata": {},
   "source": [
    "Compute energy change"
   ]
  },
  {
   "cell_type": "code",
   "execution_count": 388,
   "metadata": {},
   "outputs": [
    {
     "data": {
      "text/plain": [
       "4.0"
      ]
     },
     "execution_count": 388,
     "metadata": {},
     "output_type": "execute_result"
    }
   ],
   "source": [
    "dE = 2*s[k]*(s[(k+1) % N] + s[(k-1) % N])\n",
    "dE"
   ]
  },
  {
   "cell_type": "markdown",
   "metadata": {},
   "source": [
    "Since `dE > 0`, flip it"
   ]
  },
  {
   "cell_type": "code",
   "execution_count": 389,
   "metadata": {},
   "outputs": [],
   "source": [
    "s[k] *= -1"
   ]
  },
  {
   "cell_type": "code",
   "execution_count": 390,
   "metadata": {},
   "outputs": [
    {
     "data": {
      "image/png": "[encoded data removed]",
      "text/plain": [
       "<Figure size 720x72 with 1 Axes>"
      ]
     },
     "metadata": {
      "needs_background": "light"
     },
     "output_type": "display_data"
    }
   ],
   "source": [
    "plotSpins(s)"
   ]
  },
  {
   "cell_type": "markdown",
   "metadata": {},
   "source": [
    "Compute new energy"
   ]
  },
  {
   "cell_type": "code",
   "execution_count": 391,
   "metadata": {},
   "outputs": [
    {
     "data": {
      "text/plain": [
       "-16.0"
      ]
     },
     "execution_count": 391,
     "metadata": {},
     "output_type": "execute_result"
    }
   ],
   "source": [
    "E += dE\n",
    "E"
   ]
  },
  {
   "cell_type": "markdown",
   "metadata": {},
   "source": [
    "(checking we've calculated the systemEnergy correctly)"
   ]
  },
  {
   "cell_type": "code",
   "execution_count": 392,
   "metadata": {},
   "outputs": [
    {
     "data": {
      "text/plain": [
       "-16.0"
      ]
     },
     "execution_count": 392,
     "metadata": {},
     "output_type": "execute_result"
    }
   ],
   "source": [
    "computeE(s)"
   ]
  },
  {
   "cell_type": "markdown",
   "metadata": {},
   "source": [
    "Compute new magneitization"
   ]
  },
  {
   "cell_type": "code",
   "execution_count": 393,
   "metadata": {},
   "outputs": [
    {
     "data": {
      "text/plain": [
       "18.0"
      ]
     },
     "execution_count": 393,
     "metadata": {},
     "output_type": "execute_result"
    }
   ],
   "source": [
    "M += 2*s[k]\n",
    "M"
   ]
  },
  {
   "cell_type": "markdown",
   "metadata": {},
   "source": [
    "(checking we've calculate the magnetization correctly)"
   ]
  },
  {
   "cell_type": "code",
   "execution_count": 394,
   "metadata": {},
   "outputs": [
    {
     "data": {
      "text/plain": [
       "18.0"
      ]
     },
     "execution_count": 394,
     "metadata": {},
     "output_type": "execute_result"
    }
   ],
   "source": [
    "computeM(s)"
   ]
  },
  {
   "cell_type": "markdown",
   "metadata": {},
   "source": [
    "Note that the system energy is not continous, but is in discrete units of $\\pm 4 J$."
   ]
  },
  {
   "cell_type": "markdown",
   "metadata": {},
   "source": [
    "To initialize the system with a desired system energy, we need to try several different initial configurations to find one that is close to the desired system energy."
   ]
  },
  {
   "cell_type": "code",
   "execution_count": 395,
   "metadata": {},
   "outputs": [],
   "source": [
    "## desired system energy\n",
    "systemEnergy = -10\n",
    "\n",
    "tries = 0\n",
    "while (E < systemEnergy) and (tries < 10*N):\n",
    "    k = np.random.randint(N)\n",
    "    dE = 2*s[k]*(s[(k+1) % N] + s[(k-1) % N])\n",
    "    \n",
    "    if (dE > 0):\n",
    "        s[k] *= -1\n",
    "        E += dE\n",
    "        M += 2*s[k]\n",
    "        \n",
    "    tries += 1"
   ]
  },
  {
   "cell_type": "code",
   "execution_count": 396,
   "metadata": {},
   "outputs": [
    {
     "data": {
      "image/png": "[encoded data removed]",
      "text/plain": [
       "<Figure size 720x72 with 1 Axes>"
      ]
     },
     "metadata": {
      "needs_background": "light"
     },
     "output_type": "display_data"
    }
   ],
   "source": [
    "plotSpins(s)"
   ]
  },
  {
   "cell_type": "code",
   "execution_count": 397,
   "metadata": {},
   "outputs": [
    {
     "data": {
      "text/plain": [
       "2"
      ]
     },
     "execution_count": 397,
     "metadata": {},
     "output_type": "execute_result"
    }
   ],
   "source": [
    "tries"
   ]
  },
  {
   "cell_type": "code",
   "execution_count": 398,
   "metadata": {},
   "outputs": [
    {
     "data": {
      "text/plain": [
       "-8.0"
      ]
     },
     "execution_count": 398,
     "metadata": {},
     "output_type": "execute_result"
    }
   ],
   "source": [
    "E"
   ]
  },
  {
   "cell_type": "code",
   "execution_count": 399,
   "metadata": {},
   "outputs": [],
   "source": [
    "# set the actual system energy\n",
    "systemEnergy = E\n",
    "demonEnergy = 0"
   ]
  },
  {
   "cell_type": "markdown",
   "metadata": {},
   "source": [
    "Variables to track the history of the simulation"
   ]
  },
  {
   "cell_type": "code",
   "execution_count": 411,
   "metadata": {},
   "outputs": [],
   "source": [
    "# reset()\n",
    "mcs = 0\n",
    "acceptedMoves = 0\n",
    "systemEnergyHistory = []\n",
    "demonEnergyHistory = []\n",
    "magnetizationHistory = []"
   ]
  },
  {
   "cell_type": "markdown",
   "metadata": {},
   "source": [
    "Monte Carlo steps"
   ]
  },
  {
   "cell_type": "code",
   "execution_count": 412,
   "metadata": {},
   "outputs": [],
   "source": [
    "steps = 10\n",
    "for i in range(steps):\n",
    "    # do one MC step\n",
    "    for j in range(N):\n",
    "        k = np.random.randint(N)\n",
    "        dE = 2*s[k]*(s[(k+1) % N] + s[(k-1) % N])\n",
    "\n",
    "        if dE < demonEnergy:\n",
    "            s[k] *= -1\n",
    "            acceptedMoves += 1\n",
    "            systemEnergy += dE\n",
    "            demonEnergy -= dE\n",
    "            M += 2*s[k]\n",
    "\n",
    "    systemEnergyHistory.append(systemEnergy)\n",
    "    demonEnergyHistory.append(demonEnergy)\n",
    "    magnetizationHistory.append(M)\n",
    "    mcs += 1"
   ]
  },
  {
   "cell_type": "code",
   "execution_count": 413,
   "metadata": {},
   "outputs": [
    {
     "name": "stdout",
     "output_type": "stream",
     "text": [
      "N = 20\n",
      "mcs = 10\n",
      "acceptedMoves = 70\n",
      "systemEnergy = -12.0\n",
      "demonEnergy = 4.0\n",
      "magnetization = -10.0\n"
     ]
    },
    {
     "data": {
      "image/png": "[encoded data removed]",
      "text/plain": [
       "<Figure size 720x72 with 1 Axes>"
      ]
     },
     "metadata": {
      "needs_background": "light"
     },
     "output_type": "display_data"
    }
   ],
   "source": [
    "print(f'N = {N}')\n",
    "print(f'mcs = {mcs}')\n",
    "print(f'acceptedMoves = {acceptedMoves}')\n",
    "print(f'systemEnergy = {systemEnergy}')\n",
    "print(f'demonEnergy = {demonEnergy}')\n",
    "print(f'magnetization = {M}')\n",
    "plotSpins(s)"
   ]
  },
  {
   "cell_type": "markdown",
   "metadata": {},
   "source": [
    "Now that we have the pieces of the algorithm worked out, combine them into a single class:"
   ]
  },
  {
   "cell_type": "code",
   "execution_count": 296,
   "metadata": {},
   "outputs": [],
   "source": [
    "class IsingDemon():\n",
    "    def __init__(self, N, systemEnergy):\n",
    "        \n",
    "        self.N = N\n",
    "        \n",
    "        # initialize to all spins being up\n",
    "        self.s = np.ones(self.N)\n",
    "        \n",
    "        # system starts in ground state \n",
    "        E = -self.N\n",
    "\n",
    "        # all spins are up initially\n",
    "        M = self.N \n",
    "        \n",
    "        # try to 10*N times to flip spins to that system has desired energy\n",
    "        tries = 0\n",
    "        while (E < systemEnergy) and (tries < 10*self.N):\n",
    "            k = np.random.randint(self.N)\n",
    "            dE = 2*self.s[k]*(self.s[(k+1) % self.N] +\n",
    "                              self.s[(k-1) % self.N])\n",
    "\n",
    "            if (dE > 0):\n",
    "                self.s[k] *= -1\n",
    "                E += dE\n",
    "                M += 2*self.s[k]\n",
    "\n",
    "            tries += 1\n",
    "            \n",
    "        self.systemEnergy = E\n",
    "        self.demonEnergy = 0\n",
    "        self.M = M\n",
    "        \n",
    "        self.reset()\n",
    "\n",
    "    def reset(self):\n",
    "        \n",
    "        self.mcs = 0\n",
    "        self.acceptedMoves = 0\n",
    "\n",
    "        self.systemEnergyHistory = []        \n",
    "        self.demonEnergyHistory = []\n",
    "        self.magnetizationHistory = []\n",
    "\n",
    "    def __str__(self):\n",
    "        return f'''mcs = {self.mcs}\n",
    "acceptedMoves = {self.acceptedMoves}\n",
    "N = {self.N}\n",
    "systemEnergy = {self.systemEnergy}\n",
    "demonEnergy = {self.demonEnergy}\n",
    "magnetization = {self.M}'''\n",
    "    \n",
    "    def __repr__(self):\n",
    "        return self.__str__()\n",
    "        \n",
    "    def plotSpins(self):\n",
    "        plt.figure(figsize=(10,1))\n",
    "        x = np.arange(self.N)\n",
    "        y = np.zeros(self.N)\n",
    "        width = 0.005\n",
    "        scale = 30\n",
    "        \n",
    "        up = self.s > 0\n",
    "        dn = self.s < 0\n",
    "        plt.quiver(x[up], y[up], y[up], self.s[up], pivot='mid',\n",
    "                   width=width, scale=scale, color='red')\n",
    "        plt.quiver(x[dn], y[dn], y[dn], self.s[dn], pivot='mid',\n",
    "                   width=width, scale=scale, color='green')\n",
    "        plt.axis('off')\n",
    "        \n",
    "    def show(self, bins=20):\n",
    "        print(self)\n",
    "\n",
    "        self.plotSpins()\n",
    "        \n",
    "        plt.figure(figsize=(8,6))\n",
    "        \n",
    "        plt.subplot(2,1,1)\n",
    "        plt.plot(self.demonEnergyHistory)\n",
    "        plt.ylim(ymin=0)\n",
    "        plt.ylabel('$E_d$')\n",
    "        \n",
    "        plt.subplot(2,1,2)\n",
    "        plt.plot(self.magnetizationHistory)\n",
    "\n",
    "        plt.ylabel('$M$')\n",
    "        plt.xlabel('mcs')\n",
    "        \n",
    "    def histogram(self):\n",
    "        plt.figure(figsize=(8,8))\n",
    "        plt.subplot(2,1,1)\n",
    "        ΔEd = 4\n",
    "        hist, bins = np.histogram(self.demonEnergyHistory, \n",
    "                                  bins=np.arange(0, 40, ΔEd)\n",
    "                                 )\n",
    "        P = hist/np.sum(hist)/ΔEd\n",
    "        Ed = bins[:-1]\n",
    "        plt.plot( Ed, P, 'o-')\n",
    "        plt.xlabel('$E_d$')\n",
    "        plt.ylabel('$P(E_d)$')\n",
    "\n",
    "        \n",
    "        plt.subplot(2,1,2)\n",
    "        plt.hist(self.magnetizationHistory, bins=20)\n",
    "        \n",
    "        plt.xlabel('$M$')\n",
    "        \n",
    "        meanEd = np.mean(self.demonEnergyHistory)\n",
    "        plt.figtext(0.75, 0.8, f'$\\\\langle E_d \\\\rangle$ = {meanEd:.2f}')\n",
    "        meanM = np.mean(self.magnetizationHistory)\n",
    "        plt.figtext(0.75, 0.4, f'$\\\\langle M \\\\rangle$ = {meanM:.2f}')\n",
    "        meanM2 = np.mean(np.asarray(self.magnetizationHistory)**2)\n",
    "        plt.figtext(0.75, 0.35, f'$\\\\langle M^2 \\\\rangle$ = {meanM2:.2f}')\n",
    "        \n",
    "        \n",
    "    def doStep(self):\n",
    "    # do one MC step\n",
    "        for j in range(self.N):\n",
    "            k = np.random.randint(self.N)\n",
    "            dE = 2*self.s[k]*(self.s[(k+1) % self.N] +\n",
    "                              self.s[(k-1) % self.N])\n",
    "\n",
    "            if dE < self.demonEnergy:\n",
    "                self.s[k] *= -1\n",
    "                self.acceptedMoves += 1\n",
    "                self.systemEnergy += dE\n",
    "                self.demonEnergy -= dE\n",
    "                self.M += 2*self.s[k]\n",
    "\n",
    "        self.systemEnergyHistory.append(self.systemEnergy)\n",
    "        self.demonEnergyHistory.append(self.demonEnergy)\n",
    "        self.magnetizationHistory.append(self.M)\n",
    "        self.mcs += 1\n",
    "        \n",
    "    def doSteps(self, steps=1):\n",
    "        for i in range(steps):\n",
    "            self.doStep()\n",
    "            "
   ]
  },
  {
   "cell_type": "markdown",
   "metadata": {},
   "source": [
    "Explore behaviour for $E=-20$. Then explore with $E=-100$."
   ]
  },
  {
   "cell_type": "code",
   "execution_count": 297,
   "metadata": {},
   "outputs": [],
   "source": [
    "sim = IsingDemon(N=100, systemEnergy=-20)"
   ]
  },
  {
   "cell_type": "code",
   "execution_count": 298,
   "metadata": {},
   "outputs": [
    {
     "name": "stdout",
     "output_type": "stream",
     "text": [
      "mcs = 1\n",
      "acceptedMoves = 61\n",
      "N = 100\n",
      "systemEnergy = -28.0\n",
      "demonEnergy = 8.0\n",
      "magnetization = 6.0\n"
     ]
    },
    {
     "data": {
      "image/png": "[encoded data removed]",
      "text/plain": [
       "<Figure size 720x72 with 1 Axes>"
      ]
     },
     "metadata": {
      "needs_background": "light"
     },
     "output_type": "display_data"
    }
   ],
   "source": [
    "sim.doStep()\n",
    "sim.plotSpins()\n",
    "print(sim)"
   ]
  },
  {
   "cell_type": "code",
   "execution_count": 303,
   "metadata": {},
   "outputs": [],
   "source": [
    "sim = IsingDemon(N=100, systemEnergy=-20)"
   ]
  },
  {
   "cell_type": "markdown",
   "metadata": {},
   "source": [
    "Time series for $E_d$ and $M$.  Note time required to reach equilibrium."
   ]
  },
  {
   "cell_type": "code",
   "execution_count": 304,
   "metadata": {},
   "outputs": [],
   "source": [
    "sim.doSteps(1000)"
   ]
  },
  {
   "cell_type": "code",
   "execution_count": 305,
   "metadata": {},
   "outputs": [
    {
     "name": "stdout",
     "output_type": "stream",
     "text": [
      "mcs = 1000\n",
      "acceptedMoves = 74209\n",
      "N = 100\n",
      "systemEnergy = -24.0\n",
      "demonEnergy = 4.0\n",
      "magnetization = 2.0\n"
     ]
    },
    {
     "data": {
      "image/png": "[encoded data removed]",
      "text/plain": [
       "<Figure size 720x72 with 1 Axes>"
      ]
     },
     "metadata": {
      "needs_background": "light"
     },
     "output_type": "display_data"
    },
    {
     "data": {
      "image/png": "[encoded data removed]",
      "text/plain": [
       "<Figure size 576x432 with 2 Axes>"
      ]
     },
     "metadata": {
      "needs_background": "light"
     },
     "output_type": "display_data"
    }
   ],
   "source": [
    "sim.show()"
   ]
  },
  {
   "cell_type": "code",
   "execution_count": 306,
   "metadata": {},
   "outputs": [
    {
     "data": {
      "image/png": "[encoded data removed]",
      "text/plain": [
       "<Figure size 576x576 with 2 Axes>"
      ]
     },
     "metadata": {
      "needs_background": "light"
     },
     "output_type": "display_data"
    }
   ],
   "source": [
    "sim.histogram()"
   ]
  },
  {
   "cell_type": "code",
   "execution_count": null,
   "metadata": {},
   "outputs": [],
   "source": []
  },
  {
   "cell_type": "code",
   "execution_count": null,
   "metadata": {},
   "outputs": [],
   "source": []
  },
  {
   "cell_type": "code",
   "execution_count": null,
   "metadata": {},
   "outputs": [],
   "source": []
  }
 ],
 "metadata": {
  "kernelspec": {
   "display_name": "Python 3",
   "language": "python",
   "name": "python3"
  },
  "language_info": {
   "codemirror_mode": {
    "name": "ipython",
    "version": 3
   },
   "file_extension": ".py",
   "mimetype": "text/x-python",
   "name": "python",
   "nbconvert_exporter": "python",
   "pygments_lexer": "ipython3",
   "version": "3.8.1"
  }
 },
 "nbformat": 4,
 "nbformat_minor": 4
}
